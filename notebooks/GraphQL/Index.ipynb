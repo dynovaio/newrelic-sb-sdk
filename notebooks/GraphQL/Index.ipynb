{
 "cells": [
  {
   "cell_type": "markdown",
   "id": "e6e2457c-ea0c-42b6-978a-8ea892b94ccd",
   "metadata": {
    "tags": []
   },
   "source": [
    "# GraphQL"
   ]
  },
  {
   "cell_type": "markdown",
   "id": "c5e763c8-2482-46d2-8d49-8b676478ca03",
   "metadata": {},
   "source": [
    "> GraphQL interface instrospected from Nerdgraph specs"
   ]
  },
  {
   "cell_type": "markdown",
   "id": "339ba16d-3d72-48fb-a91c-b84b4a467e88",
   "metadata": {},
   "source": [
    "* [NerdGraph Schema to Notebooks](./NerdGraph%20Schema%20to%20Notebooks.ipynb)\n",
    "* [GraphQL](./GraphQL.ipynb)\n",
    "* [Scalars](./Scalars.ipynb)\n",
    "* [Enums](./Enums.ipynb)\n",
    "* [Input Objects](./Input%20Objects.ipynb)\n",
    "* [Objects](./Objects.ipynb)"
   ]
  },
  {
   "cell_type": "code",
   "execution_count": null,
   "id": "62e23d17-7ece-40da-9a6b-3c3b0825bd72",
   "metadata": {},
   "outputs": [],
   "source": []
  }
 ],
 "metadata": {
  "kernelspec": {
   "display_name": "Python 3 (ipykernel)",
   "language": "python",
   "name": "python3"
  },
  "language_info": {
   "codemirror_mode": {
    "name": "ipython",
    "version": 3
   },
   "file_extension": ".py",
   "mimetype": "text/x-python",
   "name": "python",
   "nbconvert_exporter": "python",
   "pygments_lexer": "ipython3",
   "version": "3.11.2"
  }
 },
 "nbformat": 4,
 "nbformat_minor": 5
}
