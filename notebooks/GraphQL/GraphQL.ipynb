{
 "cells": [
  {
   "cell_type": "code",
   "execution_count": null,
   "id": "459cc48e",
   "metadata": {
    "tags": [
     "remove-cell"
    ]
   },
   "outputs": [],
   "source": [
    "# | default_exp graphql.__init__"
   ]
  },
  {
   "cell_type": "code",
   "execution_count": null,
   "id": "d146ea82",
   "metadata": {
    "tags": [
     "remove-cell"
    ]
   },
   "outputs": [],
   "source": [
    "# | export\n",
    "# pylint: disable=duplicate-code,unused-import,too-many-lines"
   ]
  },
  {
   "cell_type": "markdown",
   "id": "6237c8ce",
   "metadata": {},
   "source": [
    "# NerdGraph GraphQL Specs"
   ]
  },
  {
   "cell_type": "markdown",
   "id": "9916937b",
   "metadata": {},
   "source": [
    "## Imports"
   ]
  },
  {
   "cell_type": "markdown",
   "id": "dd541427",
   "metadata": {},
   "source": [
    "Third-party modules"
   ]
  },
  {
   "cell_type": "code",
   "execution_count": null,
   "id": "20050666",
   "metadata": {},
   "outputs": [],
   "source": [
    "# | export\n",
    "import sgqlc.types\n",
    "import sgqlc.types.datetime"
   ]
  },
  {
   "cell_type": "code",
   "execution_count": null,
   "id": "ebb255d3",
   "metadata": {},
   "outputs": [],
   "source": [
    "# | export\n",
    "nerdgraph = sgqlc.types.Schema()"
   ]
  },
  {
   "cell_type": "markdown",
   "id": "efb3458f",
   "metadata": {},
   "source": [
    "## Definitions"
   ]
  },
  {
   "cell_type": "markdown",
   "id": "cb816c44",
   "metadata": {},
   "source": [
    "### Constants"
   ]
  },
  {
   "cell_type": "code",
   "execution_count": null,
   "id": "89709d79",
   "metadata": {},
   "outputs": [],
   "source": [
    "# | export\n",
    "__docformat__ = \"markdown\""
   ]
  }
 ],
 "metadata": {
  "language_info": {
   "mimetype": "text/x-python",
   "name": "python"
  }
 },
 "nbformat": 4,
 "nbformat_minor": 5
}
