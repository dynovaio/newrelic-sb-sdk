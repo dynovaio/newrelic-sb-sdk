{
 "cells": [
  {
   "cell_type": "code",
   "execution_count": null,
   "id": "e04974aa",
   "metadata": {
    "tags": [
     "remove-cell"
    ]
   },
   "outputs": [],
   "source": [
    "# | default_exp graphql.__init__"
   ]
  },
  {
   "cell_type": "code",
   "execution_count": null,
   "id": "77438658",
   "metadata": {
    "tags": [
     "remove-cell"
    ]
   },
   "outputs": [],
   "source": [
    "# | export\n",
    "# pylint: disable=duplicate-code,unused-import,too-many-lines"
   ]
  },
  {
   "cell_type": "markdown",
   "id": "1fcb26a1",
   "metadata": {},
   "source": [
    "# NerdGraph GraphQL Specs"
   ]
  },
  {
   "cell_type": "markdown",
   "id": "123941d2",
   "metadata": {},
   "source": [
    "## Imports"
   ]
  },
  {
   "cell_type": "markdown",
   "id": "f6a2bfc3",
   "metadata": {},
   "source": [
    "Third-party modules"
   ]
  },
  {
   "cell_type": "code",
   "execution_count": null,
   "id": "96ce525b",
   "metadata": {},
   "outputs": [],
   "source": [
    "# | export\n",
    "import sgqlc.types\n",
    "import sgqlc.types.datetime"
   ]
  },
  {
   "cell_type": "code",
   "execution_count": null,
   "id": "bec9b756",
   "metadata": {},
   "outputs": [],
   "source": [
    "# | export\n",
    "nerdgraph = sgqlc.types.Schema()"
   ]
  },
  {
   "cell_type": "markdown",
   "id": "fb1156bc",
   "metadata": {},
   "source": [
    "## Definitions"
   ]
  },
  {
   "cell_type": "markdown",
   "id": "cfe09c94",
   "metadata": {},
   "source": [
    "### Constants"
   ]
  },
  {
   "cell_type": "code",
   "execution_count": null,
   "id": "479a9721",
   "metadata": {},
   "outputs": [],
   "source": [
    "# | export\n",
    "__docformat__ = \"markdown\""
   ]
  }
 ],
 "metadata": {
  "language_info": {
   "mimetype": "text/x-python",
   "name": "python"
  }
 },
 "nbformat": 4,
 "nbformat_minor": 5
}
