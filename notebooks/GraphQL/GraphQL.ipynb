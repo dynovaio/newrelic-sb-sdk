{
 "cells": [
  {
   "cell_type": "code",
   "execution_count": null,
   "id": "877db52c",
   "metadata": {
    "tags": [
     "remove-cell"
    ]
   },
   "outputs": [],
   "source": [
    "# | default_exp graphql.__init__"
   ]
  },
  {
   "cell_type": "code",
   "execution_count": null,
   "id": "f2005658",
   "metadata": {
    "tags": [
     "remove-cell"
    ]
   },
   "outputs": [],
   "source": [
    "# | export\n",
    "# pylint: disable=duplicate-code,unused-import,too-many-lines"
   ]
  },
  {
   "cell_type": "markdown",
   "id": "af0a4606",
   "metadata": {},
   "source": [
    "# NerdGraph GraphQL Specs"
   ]
  },
  {
   "cell_type": "markdown",
   "id": "6aeb6c61",
   "metadata": {},
   "source": [
    "## Imports"
   ]
  },
  {
   "cell_type": "markdown",
   "id": "56bdacaf",
   "metadata": {},
   "source": [
    "Third-party modules"
   ]
  },
  {
   "cell_type": "code",
   "execution_count": null,
   "id": "007601d2",
   "metadata": {},
   "outputs": [],
   "source": [
    "# | export\n",
    "import sgqlc.types\n",
    "import sgqlc.types.datetime"
   ]
  },
  {
   "cell_type": "code",
   "execution_count": null,
   "id": "ab09fc39",
   "metadata": {},
   "outputs": [],
   "source": [
    "# | export\n",
    "nerdgraph = sgqlc.types.Schema()"
   ]
  },
  {
   "cell_type": "markdown",
   "id": "63d55ae7",
   "metadata": {},
   "source": [
    "## Definitions"
   ]
  },
  {
   "cell_type": "markdown",
   "id": "b836e7e0",
   "metadata": {},
   "source": [
    "### Constants"
   ]
  },
  {
   "cell_type": "code",
   "execution_count": null,
   "id": "e4ac3366",
   "metadata": {},
   "outputs": [],
   "source": [
    "# | export\n",
    "__docformat__ = \"markdown\""
   ]
  }
 ],
 "metadata": {
  "language_info": {
   "mimetype": "text/x-python",
   "name": "python"
  }
 },
 "nbformat": 4,
 "nbformat_minor": 5
}
