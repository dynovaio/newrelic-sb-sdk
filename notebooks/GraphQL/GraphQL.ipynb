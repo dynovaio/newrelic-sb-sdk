{
 "cells": [
  {
   "cell_type": "code",
   "execution_count": null,
   "id": "4527e21f",
   "metadata": {
    "tags": [
     "remove-cell"
    ]
   },
   "outputs": [],
   "source": [
    "# | default_exp graphql.__init__"
   ]
  },
  {
   "cell_type": "code",
   "execution_count": null,
   "id": "0eb87293",
   "metadata": {
    "tags": [
     "remove-cell"
    ]
   },
   "outputs": [],
   "source": [
    "# | export\n",
    "# pylint: disable=duplicate-code,unused-import,too-many-lines"
   ]
  },
  {
   "cell_type": "markdown",
   "id": "59bfdc04",
   "metadata": {},
   "source": [
    "# NerdGraph GraphQL Specs"
   ]
  },
  {
   "cell_type": "markdown",
   "id": "2023bcda",
   "metadata": {},
   "source": [
    "## Imports"
   ]
  },
  {
   "cell_type": "markdown",
   "id": "72071981",
   "metadata": {},
   "source": [
    "Third-party modules"
   ]
  },
  {
   "cell_type": "code",
   "execution_count": null,
   "id": "a107ab39",
   "metadata": {},
   "outputs": [],
   "source": [
    "# | export\n",
    "import sgqlc.types\n",
    "import sgqlc.types.datetime"
   ]
  },
  {
   "cell_type": "code",
   "execution_count": null,
   "id": "d075158f",
   "metadata": {},
   "outputs": [],
   "source": [
    "# | export\n",
    "nerdgraph = sgqlc.types.Schema()"
   ]
  },
  {
   "cell_type": "markdown",
   "id": "b3f9afa3",
   "metadata": {},
   "source": [
    "## Definitions"
   ]
  },
  {
   "cell_type": "markdown",
   "id": "f83fe27e",
   "metadata": {},
   "source": [
    "### Constants"
   ]
  },
  {
   "cell_type": "code",
   "execution_count": null,
   "id": "6c8deba0",
   "metadata": {},
   "outputs": [],
   "source": [
    "# | export\n",
    "__docformat__ = \"markdown\""
   ]
  }
 ],
 "metadata": {
  "language_info": {
   "mimetype": "text/x-python",
   "name": "python"
  }
 },
 "nbformat": 4,
 "nbformat_minor": 5
}
