{
 "cells": [
  {
   "cell_type": "code",
   "execution_count": null,
   "id": "55e80c0b",
   "metadata": {
    "tags": [
     "remove-cell"
    ]
   },
   "outputs": [],
   "source": [
    "# | default_exp graphql.__init__"
   ]
  },
  {
   "cell_type": "code",
   "execution_count": null,
   "id": "990f86ab",
   "metadata": {
    "tags": [
     "remove-cell"
    ]
   },
   "outputs": [],
   "source": [
    "# | export\n",
    "# pylint: disable=duplicate-code,unused-import,too-many-lines"
   ]
  },
  {
   "cell_type": "markdown",
   "id": "9e9ff716",
   "metadata": {},
   "source": [
    "# NerdGraph GraphQL Specs"
   ]
  },
  {
   "cell_type": "markdown",
   "id": "b7137ee3",
   "metadata": {},
   "source": [
    "## Imports"
   ]
  },
  {
   "cell_type": "markdown",
   "id": "51fb837f",
   "metadata": {},
   "source": [
    "Third-party modules"
   ]
  },
  {
   "cell_type": "code",
   "execution_count": null,
   "id": "c37a938a",
   "metadata": {},
   "outputs": [],
   "source": [
    "# | export\n",
    "import sgqlc.types\n",
    "import sgqlc.types.datetime"
   ]
  },
  {
   "cell_type": "code",
   "execution_count": null,
   "id": "5c119dc2",
   "metadata": {},
   "outputs": [],
   "source": [
    "# | export\n",
    "nerdgraph = sgqlc.types.Schema()"
   ]
  },
  {
   "cell_type": "markdown",
   "id": "d07f9b8b",
   "metadata": {},
   "source": [
    "## Definitions"
   ]
  },
  {
   "cell_type": "markdown",
   "id": "95def6a6",
   "metadata": {},
   "source": [
    "### Constants"
   ]
  },
  {
   "cell_type": "code",
   "execution_count": null,
   "id": "4d195be6",
   "metadata": {},
   "outputs": [],
   "source": [
    "# | export\n",
    "__docformat__ = \"markdown\""
   ]
  }
 ],
 "metadata": {
  "language_info": {
   "mimetype": "text/x-python",
   "name": "python"
  }
 },
 "nbformat": 4,
 "nbformat_minor": 5
}
