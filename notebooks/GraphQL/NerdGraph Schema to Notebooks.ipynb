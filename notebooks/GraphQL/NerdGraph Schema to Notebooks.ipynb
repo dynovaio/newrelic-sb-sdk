{
 "cells": [
  {
   "attachments": {},
   "cell_type": "markdown",
   "id": "1f7be855-d1be-410a-bd41-875c1f615a37",
   "metadata": {},
   "source": [
    "# New Relic NerdGraph Schema to Notebooks"
   ]
  },
  {
   "attachments": {},
   "cell_type": "markdown",
   "id": "9f22737d-22d2-4911-a8af-70e72cfd0364",
   "metadata": {},
   "source": [
    "## Imports"
   ]
  },
  {
   "attachments": {},
   "cell_type": "markdown",
   "id": "0955c3f6-a823-49c8-b093-6210c1e59ee0",
   "metadata": {},
   "source": [
    "Python modules"
   ]
  },
  {
   "cell_type": "code",
   "execution_count": null,
   "id": "4c24e1a7-cf12-4d54-91c9-42c614e77f35",
   "metadata": {},
   "outputs": [],
   "source": [
    "import itertools\n",
    "import json\n",
    "import os\n",
    "import re\n",
    "from io import StringIO"
   ]
  },
  {
   "attachments": {},
   "cell_type": "markdown",
   "id": "e4e13609-a744-40f3-8ee4-3102cdd62cdd",
   "metadata": {},
   "source": [
    "Third-party modules"
   ]
  },
  {
   "cell_type": "code",
   "execution_count": null,
   "id": "1bf1d823-31c7-492f-a877-a45477062784",
   "metadata": {
    "editable": true,
    "slideshow": {
     "slide_type": ""
    },
    "tags": [
     "remove-cell"
    ]
   },
   "outputs": [],
   "source": [
    "import nbformat as nbf\n",
    "from sgqlc.codegen.schema import CodeGen"
   ]
  },
  {
   "attachments": {},
   "cell_type": "markdown",
   "id": "e6a24849-dc58-4ee3-a484-7fa3410cbb60",
   "metadata": {},
   "source": [
    "## Download and save schema "
   ]
  },
  {
   "attachments": {},
   "cell_type": "markdown",
   "id": "8ff10ddd-3b5e-4492-822c-deac135d16ec",
   "metadata": {},
   "source": [
    "Download schema from New Relic API using `sgqlc.introspection`"
   ]
  },
  {
   "cell_type": "code",
   "execution_count": null,
   "id": "eb4f2cf9-9151-4024-9a22-9b97fe9fd911",
   "metadata": {},
   "outputs": [],
   "source": [
    "%%bash\n",
    "config_line=\"$(cat ../../.env | grep NEW_RELIC_USER_KEY)\"\n",
    "new_relic_user_key=\"${config_line##*=}\"\n",
    "poetry run python3 \\\n",
    "    -m sgqlc.introspection \\\n",
    "    --exclude-deprecated \\\n",
    "    --exclude-description \\\n",
    "    -H \"api-key: ${new_relic_user_key}\" \\\n",
    "    https://api.newrelic.com/graphql \\\n",
    "    nerdgraph-schema.json"
   ]
  },
  {
   "attachments": {},
   "cell_type": "markdown",
   "id": "2b7cb2c3-3837-48a1-bd3e-8ba95dd9af45",
   "metadata": {},
   "source": [
    "### Read saved schema "
   ]
  },
  {
   "attachments": {},
   "cell_type": "markdown",
   "id": "1a7ea8b8-e12d-4164-88cc-b0d2e29b7f79",
   "metadata": {},
   "source": [
    "Read the downloaded schema file"
   ]
  },
  {
   "cell_type": "code",
   "execution_count": null,
   "id": "e08f4f10-0778-42ac-9efa-bed8d0fbcefb",
   "metadata": {},
   "outputs": [],
   "source": [
    "file_name = \"./nerdgraph-schema.json\"\n",
    "with open(file_name, encoding=\"utf-8\") as file_handler:\n",
    "    file_contents = file_handler.read()"
   ]
  },
  {
   "attachments": {},
   "cell_type": "markdown",
   "id": "a27cb503-3bfd-426a-bfed-04db8d6dd37d",
   "metadata": {},
   "source": [
    "Load schema file contents into python dictionary and doing basig exploration over first level keys"
   ]
  },
  {
   "cell_type": "code",
   "execution_count": null,
   "id": "4ed8d733-8452-4a39-82cb-0c119a61a6a4",
   "metadata": {},
   "outputs": [],
   "source": [
    "schema = json.loads(file_contents)\n",
    "schema = schema[\"data\"] if \"data\" in schema else schema"
   ]
  },
  {
   "attachments": {},
   "cell_type": "markdown",
   "id": "eb15316e-f614-4896-9294-c2aa947c6618",
   "metadata": {},
   "source": [
    "## Schema introspection"
   ]
  },
  {
   "attachments": {},
   "cell_type": "markdown",
   "id": "cbd48c4f-a459-4ba6-bbf7-1bdda6786ce2",
   "metadata": {},
   "source": [
    "```\n",
    "newrelic_sb_sdk/\n",
    "|-> graphql/\n",
    " |-> Graphql.ipynb\n",
    " |-> Scalars.ipynb\n",
    " |-> Enums.ipynb\n",
    " |-> Objects.ipynb\n",
    " |-> InputObjects.ipynb\n",
    "```"
   ]
  },
  {
   "attachments": {},
   "cell_type": "markdown",
   "id": "51fc6767-3583-41a1-984e-1cf12f8c5366",
   "metadata": {},
   "source": [
    "### Load schema into generator"
   ]
  },
  {
   "attachments": {},
   "cell_type": "markdown",
   "id": "b4646737-f597-4beb-bc93-e8212fc255ba",
   "metadata": {},
   "source": [
    "Prepare text handler"
   ]
  },
  {
   "cell_type": "code",
   "execution_count": null,
   "id": "717b56b6-3432-4e63-9b00-57b433029126",
   "metadata": {},
   "outputs": [],
   "source": [
    "cell_content_handler = StringIO()"
   ]
  },
  {
   "attachments": {},
   "cell_type": "markdown",
   "id": "a3e7056f-5a7b-475c-8fa3-c15c2391b5e4",
   "metadata": {},
   "source": [
    "Load Schema into code generator"
   ]
  },
  {
   "cell_type": "code",
   "execution_count": null,
   "id": "865d0713-7da6-43e9-882d-eeb6f915d88c",
   "metadata": {},
   "outputs": [],
   "source": [
    "generator = CodeGen(\"nerdgraph\", schema[\"__schema\"], cell_content_handler.write, True)"
   ]
  },
  {
   "attachments": {},
   "cell_type": "markdown",
   "id": "221539c6-aef9-43af-9150-8e4babe07401",
   "metadata": {},
   "source": [
    "### Prepare directory strcuture"
   ]
  },
  {
   "cell_type": "code",
   "execution_count": null,
   "id": "346792d3-50d6-416c-8f88-5f5a83aa2489",
   "metadata": {},
   "outputs": [],
   "source": [
    "dir_name = \"../GraphQL\"\n",
    "\n",
    "if not os.path.exists(dir_name):\n",
    "    os.makedirs(dir_name)"
   ]
  },
  {
   "attachments": {},
   "cell_type": "markdown",
   "id": "244911db-ffa2-440d-abba-7b7ffcc45a8e",
   "metadata": {},
   "source": [
    "### Writing notebooks"
   ]
  },
  {
   "cell_type": "code",
   "execution_count": null,
   "id": "8ec66d22-f7a2-462a-83f2-92e105e5de21",
   "metadata": {},
   "outputs": [],
   "source": [
    "library_kind_map = {\n",
    "    \"ENUM\": \"newrelic_sb_sdk.graphql.enums\",\n",
    "    \"INPUT_OBJECT\": \"newrelic_sb_sdk.graphql.input_objects\",\n",
    "    \"INTERFACE\": \"newrelic_sb_sdk.graphql.objects\",\n",
    "    \"OBJECT\": \"newrelic_sb_sdk.graphql.objects\",\n",
    "    \"SCALAR\": \"newrelic_sb_sdk.graphql.scalars\",\n",
    "    \"UNION\": \"newrelic_sb_sdk.graphql.objects\",\n",
    "}"
   ]
  },
  {
   "attachments": {},
   "cell_type": "markdown",
   "id": "4f79e068-d523-4282-b7c0-0d026f26df90",
   "metadata": {},
   "source": [
    "#### Write notebook for `__init__.py` file."
   ]
  },
  {
   "cell_type": "code",
   "execution_count": null,
   "id": "100a7d18-64a5-4d00-8519-409a8b8f8e85",
   "metadata": {},
   "outputs": [],
   "source": [
    "notebook_name = \"GraphQL.ipynb\"\n",
    "notebook_path = os.path.join(dir_name, notebook_name)\n",
    "notebook_object = nbf.v4.new_notebook(\n",
    "    metadata={\n",
    "        \"language_info\": {\n",
    "            \"mimetype\": \"text/x-python\",\n",
    "            \"name\": \"python\",\n",
    "        },\n",
    "    },\n",
    ")\n",
    "notebook_object[\"cells\"] = []"
   ]
  },
  {
   "cell_type": "code",
   "execution_count": null,
   "id": "816b0e90-3ae3-4e23-ae14-63b219864069",
   "metadata": {},
   "outputs": [],
   "source": [
    "cell_content = \"\"\"# | default_exp graphql.__init__\"\"\"\n",
    "metadata = {\n",
    "    \"tags\": [\n",
    "        \"remove-cell\",\n",
    "    ],\n",
    "}\n",
    "cell = nbf.v4.new_code_cell(cell_content, metadata=metadata)\n",
    "notebook_object[\"cells\"].append(cell)"
   ]
  },
  {
   "cell_type": "code",
   "execution_count": null,
   "id": "0a710889-d5a8-43e0-a10a-d203197fae02",
   "metadata": {},
   "outputs": [],
   "source": [
    "cell_content = \"\"\"\n",
    "# | export\n",
    "# pylint: disable=duplicate-code,unused-import,too-many-lines\n",
    "\"\"\".strip()\n",
    "metadata = {\n",
    "    \"tags\": [\n",
    "        \"remove-cell\",\n",
    "    ],\n",
    "}\n",
    "cell = nbf.v4.new_code_cell(cell_content, metadata=metadata)\n",
    "notebook_object[\"cells\"].append(cell)"
   ]
  },
  {
   "cell_type": "code",
   "execution_count": null,
   "id": "145007cf-b9ca-441a-973e-1d3c28e9317c",
   "metadata": {},
   "outputs": [],
   "source": [
    "cell_content = \"\"\"# NerdGraph GraphQL Specs\"\"\"\n",
    "cell = nbf.v4.new_markdown_cell(cell_content)\n",
    "notebook_object[\"cells\"].append(cell)"
   ]
  },
  {
   "cell_type": "code",
   "execution_count": null,
   "id": "109b3593-7a1e-4740-8484-9e888da782b1",
   "metadata": {},
   "outputs": [],
   "source": [
    "cell_content = \"\"\"## Imports\"\"\"\n",
    "cell = nbf.v4.new_markdown_cell(cell_content)\n",
    "notebook_object[\"cells\"].append(cell)"
   ]
  },
  {
   "cell_type": "code",
   "execution_count": null,
   "id": "4cff57ec-59a6-4e26-ab56-de865b33e4a6",
   "metadata": {},
   "outputs": [],
   "source": [
    "cell_content = \"\"\"Third-party modules\"\"\"\n",
    "cell = nbf.v4.new_markdown_cell(cell_content)\n",
    "notebook_object[\"cells\"].append(cell)"
   ]
  },
  {
   "cell_type": "code",
   "execution_count": null,
   "id": "be095b98-bcc7-438c-be82-37a851741bc8",
   "metadata": {},
   "outputs": [],
   "source": [
    "cell_content = \"\"\"# | export\n",
    "import sgqlc.types\n",
    "import sgqlc.types.datetime\n",
    "\"\"\".strip()\n",
    "\n",
    "cell = nbf.v4.new_code_cell(cell_content)\n",
    "notebook_object[\"cells\"].append(cell)"
   ]
  },
  {
   "cell_type": "code",
   "execution_count": null,
   "id": "d76f4aea-ba42-44ac-9c6c-eda3c8076124",
   "metadata": {},
   "outputs": [],
   "source": [
    "cell_content = \"\"\"# | export\n",
    "nerdgraph = sgqlc.types.Schema()\n",
    "\"\"\".strip()\n",
    "\n",
    "cell = nbf.v4.new_code_cell(cell_content)\n",
    "notebook_object[\"cells\"].append(cell)"
   ]
  },
  {
   "cell_type": "code",
   "execution_count": null,
   "id": "d8a4ca51-1ac8-40a7-ab73-c0d84543313e",
   "metadata": {},
   "outputs": [],
   "source": [
    "cell_content = \"\"\"## Definitions\"\"\"\n",
    "cell = nbf.v4.new_markdown_cell(cell_content)\n",
    "notebook_object[\"cells\"].append(cell)"
   ]
  },
  {
   "cell_type": "code",
   "execution_count": null,
   "id": "c66fd5a9-0540-4bb4-b257-863ebd0aea63",
   "metadata": {},
   "outputs": [],
   "source": [
    "cell_content = \"\"\"### Constants\"\"\"\n",
    "cell = nbf.v4.new_markdown_cell(cell_content)\n",
    "notebook_object[\"cells\"].append(cell)"
   ]
  },
  {
   "cell_type": "code",
   "execution_count": null,
   "id": "2f1229da-7b84-49a3-855f-3389d6093211",
   "metadata": {},
   "outputs": [],
   "source": [
    "cell_content = \"\"\"# | export\n",
    "__docformat__ = \"markdown\"\n",
    "\"\"\".strip()\n",
    "\n",
    "cell = nbf.v4.new_code_cell(cell_content)\n",
    "notebook_object[\"cells\"].append(cell)"
   ]
  },
  {
   "cell_type": "code",
   "execution_count": null,
   "id": "2e0da47e-5ecd-4236-8c17-21a11d8c8fb8",
   "metadata": {},
   "outputs": [],
   "source": [
    "with open(notebook_path, mode=\"w\", encoding=\"utf-8\") as notebook_handler:\n",
    "    nbf.write(notebook_object, notebook_handler)"
   ]
  },
  {
   "attachments": {},
   "cell_type": "markdown",
   "id": "ab19515a-cea9-4551-b408-f6cfc399e3fc",
   "metadata": {
    "editable": true,
    "slideshow": {
     "slide_type": ""
    },
    "tags": [
     "remove-cell"
    ]
   },
   "source": [
    "#### Write notebook for `scalars.py` file."
   ]
  },
  {
   "cell_type": "code",
   "execution_count": null,
   "id": "a2bd4de3-29e8-46c0-bb16-0c5293c86dcb",
   "metadata": {},
   "outputs": [],
   "source": [
    "notebook_name = \"Scalars.ipynb\"\n",
    "notebook_path = os.path.join(dir_name, notebook_name)\n",
    "notebook_object = nbf.v4.new_notebook(\n",
    "    metadata={\n",
    "        \"language_info\": {\n",
    "            \"mimetype\": \"text/x-python\",\n",
    "            \"name\": \"python\",\n",
    "        },\n",
    "    },\n",
    ")\n",
    "notebook_object[\"cells\"] = []"
   ]
  },
  {
   "cell_type": "code",
   "execution_count": null,
   "id": "6dc4d8d3-fb52-42bd-80c4-8cec62c6d37b",
   "metadata": {},
   "outputs": [],
   "source": [
    "cell_content = \"\"\"# | default_exp graphql.scalars\"\"\"\n",
    "metadata = {\n",
    "    \"tags\": [\n",
    "        \"remove-cell\",\n",
    "    ],\n",
    "}\n",
    "cell = nbf.v4.new_code_cell(cell_content, metadata=metadata)\n",
    "notebook_object[\"cells\"].append(cell)"
   ]
  },
  {
   "cell_type": "code",
   "execution_count": null,
   "id": "bdcd0ce1-4b27-4665-93b6-c2a944f03655",
   "metadata": {},
   "outputs": [],
   "source": [
    "cell_content = \"\"\"\n",
    "# | export\n",
    "# pylint: disable=duplicate-code,unused-import,too-many-lines\n",
    "\"\"\".strip()\n",
    "metadata = {\n",
    "    \"tags\": [\n",
    "        \"remove-cell\",\n",
    "    ],\n",
    "}\n",
    "cell = nbf.v4.new_code_cell(cell_content, metadata=metadata)\n",
    "notebook_object[\"cells\"].append(cell)"
   ]
  },
  {
   "cell_type": "code",
   "execution_count": null,
   "id": "2612a0cd-89f3-4877-b388-35fc4a0e3bb5",
   "metadata": {},
   "outputs": [],
   "source": [
    "cell_content = \"\"\"# NerdGraph Scalar Types\"\"\"\n",
    "cell = nbf.v4.new_markdown_cell(cell_content)\n",
    "notebook_object[\"cells\"].append(cell)"
   ]
  },
  {
   "cell_type": "code",
   "execution_count": null,
   "id": "246baf49-3cc1-4239-9e33-af4d6fc88e2b",
   "metadata": {},
   "outputs": [],
   "source": [
    "cell_content = \"\"\"## Imports\"\"\"\n",
    "cell = nbf.v4.new_markdown_cell(cell_content)\n",
    "notebook_object[\"cells\"].append(cell)"
   ]
  },
  {
   "cell_type": "code",
   "execution_count": null,
   "id": "c60eebf9-da5c-450e-b2da-892b5c744fec",
   "metadata": {},
   "outputs": [],
   "source": [
    "cell_content = \"\"\"Third-party modules\"\"\"\n",
    "cell = nbf.v4.new_markdown_cell(cell_content)\n",
    "notebook_object[\"cells\"].append(cell)"
   ]
  },
  {
   "cell_type": "code",
   "execution_count": null,
   "id": "edb2e4b6-a77a-43d0-a4e3-97d66e13aded",
   "metadata": {},
   "outputs": [],
   "source": [
    "cell_content = \"\"\"# | export\n",
    "import sgqlc.types\n",
    "import sgqlc.types.datetime\n",
    "\"\"\".strip()\n",
    "\n",
    "cell = nbf.v4.new_code_cell(cell_content)\n",
    "notebook_object[\"cells\"].append(cell)"
   ]
  },
  {
   "cell_type": "code",
   "execution_count": null,
   "id": "09dc7844-bb95-4595-adf1-fddc77936502",
   "metadata": {},
   "outputs": [],
   "source": [
    "cell_content = \"\"\"# | export\n",
    "from newrelic_sb_sdk.graphql import nerdgraph\n",
    "\"\"\".strip()\n",
    "\n",
    "cell = nbf.v4.new_code_cell(cell_content)\n",
    "notebook_object[\"cells\"].append(cell)"
   ]
  },
  {
   "cell_type": "code",
   "execution_count": null,
   "id": "99308932-0525-4ef5-96a3-3b750d4e3804",
   "metadata": {},
   "outputs": [],
   "source": [
    "cell_content = \"\"\"## Definitions\"\"\"\n",
    "cell = nbf.v4.new_markdown_cell(cell_content)\n",
    "notebook_object[\"cells\"].append(cell)"
   ]
  },
  {
   "cell_type": "code",
   "execution_count": null,
   "id": "ab407ed5-56d8-4b71-8b5a-d57411301bcf",
   "metadata": {},
   "outputs": [],
   "source": [
    "cell_content = \"\"\"# | export\n",
    "__docformat__ = \"markdown\"\n",
    "\"\"\".strip()\n",
    "\n",
    "cell = nbf.v4.new_code_cell(cell_content)\n",
    "notebook_object[\"cells\"].append(cell)"
   ]
  },
  {
   "cell_type": "code",
   "execution_count": null,
   "id": "7f02ee06-e762-46d7-ad8b-988dc4f33660",
   "metadata": {},
   "outputs": [],
   "source": [
    "cell_content = \"\"\"### Scalar types\"\"\"\n",
    "cell = nbf.v4.new_markdown_cell(cell_content)\n",
    "notebook_object[\"cells\"].append(cell)"
   ]
  },
  {
   "cell_type": "code",
   "execution_count": null,
   "id": "81e24b26-b99c-4f5b-9af8-42e50f8b2be9",
   "metadata": {},
   "outputs": [],
   "source": [
    "KIND = \"SCALAR\"\n",
    "types = [type_ for type_ in generator.types if type_[\"kind\"] == KIND]\n",
    "\n",
    "docstring_regex = re.compile(r\"( +'''[\\s\\w!()*:`]+''')\\n\")\n",
    "docstring_replace = \"\"\n",
    "\n",
    "for type_ in types:\n",
    "    cell_content_handler.seek(0)\n",
    "    cell_content_handler.truncate(0)\n",
    "    generator.write_type_scalar(type_)\n",
    "\n",
    "    cell_content_handler.seek(0)\n",
    "    cell_content = cell_content_handler.read().strip()\n",
    "    cell_content = re.sub(docstring_regex, docstring_replace, cell_content)\n",
    "    cell_content = cell_content.split(\"\\n\")\n",
    "    declaration, *definition = cell_content\n",
    "\n",
    "    if \"= sgqlc.\" in declaration or \"__schema__\" in declaration:\n",
    "        cell_content = declaration\n",
    "    else:\n",
    "        cell_content = \"\\n\".join(cell_content)\n",
    "\n",
    "    cell_content = \"\\n\".join([\"\"\"# | export\"\"\", cell_content])\n",
    "    cell = nbf.v4.new_code_cell(cell_content)\n",
    "\n",
    "    notebook_object[\"cells\"].append(cell)"
   ]
  },
  {
   "cell_type": "code",
   "execution_count": null,
   "id": "460a771d-b719-44f3-adf6-2fd6f57aa5af",
   "metadata": {},
   "outputs": [],
   "source": [
    "with open(notebook_path, mode=\"w\", encoding=\"utf-8\") as notebook_handler:\n",
    "    nbf.write(notebook_object, notebook_handler)"
   ]
  },
  {
   "attachments": {},
   "cell_type": "markdown",
   "id": "463e50a4-0d62-4626-af8e-816132268dda",
   "metadata": {},
   "source": [
    "#### Write notebook for `enums.py` file."
   ]
  },
  {
   "cell_type": "code",
   "execution_count": null,
   "id": "4523a7f8-3d4e-47c1-a3ee-787b3c8dda1f",
   "metadata": {},
   "outputs": [],
   "source": [
    "notebook_name = \"Enums.ipynb\"\n",
    "notebook_path = os.path.join(dir_name, notebook_name)\n",
    "notebook_object = nbf.v4.new_notebook(\n",
    "    metadata={\n",
    "        \"language_info\": {\n",
    "            \"mimetype\": \"text/x-python\",\n",
    "            \"name\": \"python\",\n",
    "        },\n",
    "    },\n",
    ")\n",
    "notebook_object[\"cells\"] = []"
   ]
  },
  {
   "cell_type": "code",
   "execution_count": null,
   "id": "90fa87c2-c361-4309-af5e-064f1f45ebf0",
   "metadata": {},
   "outputs": [],
   "source": [
    "cell_content = \"\"\"# | default_exp graphql.enums\"\"\"\n",
    "metadata = {\n",
    "    \"tags\": [\n",
    "        \"remove-cell\",\n",
    "    ],\n",
    "}\n",
    "cell = nbf.v4.new_code_cell(cell_content, metadata=metadata)\n",
    "notebook_object[\"cells\"].append(cell)"
   ]
  },
  {
   "cell_type": "code",
   "execution_count": null,
   "id": "14426dd1-cb69-4e53-804e-0974a6687e13",
   "metadata": {},
   "outputs": [],
   "source": [
    "cell_content = \"\"\"\n",
    "# | export\n",
    "# pylint: disable=duplicate-code,unused-import,too-many-lines\n",
    "\"\"\".strip()\n",
    "metadata = {\n",
    "    \"tags\": [\n",
    "        \"remove-cell\",\n",
    "    ],\n",
    "}\n",
    "cell = nbf.v4.new_code_cell(cell_content, metadata=metadata)\n",
    "notebook_object[\"cells\"].append(cell)"
   ]
  },
  {
   "cell_type": "code",
   "execution_count": null,
   "id": "4acb4935-a143-43b4-b63f-d484ac2ca37e",
   "metadata": {},
   "outputs": [],
   "source": [
    "cell_content = \"\"\"# NerdGraph Enum Types\"\"\"\n",
    "cell = nbf.v4.new_markdown_cell(cell_content)\n",
    "notebook_object[\"cells\"].append(cell)"
   ]
  },
  {
   "cell_type": "code",
   "execution_count": null,
   "id": "4cf031e2-ec2c-438c-bbb1-6fd5f9f60080",
   "metadata": {},
   "outputs": [],
   "source": [
    "cell_content = \"\"\"## Imports\"\"\"\n",
    "cell = nbf.v4.new_markdown_cell(cell_content)\n",
    "notebook_object[\"cells\"].append(cell)"
   ]
  },
  {
   "cell_type": "code",
   "execution_count": null,
   "id": "74fa6ad9-c19b-4e3c-bbde-be769504f7fd",
   "metadata": {},
   "outputs": [],
   "source": [
    "cell_content = \"\"\"Third-party modules\"\"\"\n",
    "cell = nbf.v4.new_markdown_cell(cell_content)\n",
    "notebook_object[\"cells\"].append(cell)"
   ]
  },
  {
   "cell_type": "code",
   "execution_count": null,
   "id": "409f0a6f-2db9-49f6-99f6-0b5cde3b59cd",
   "metadata": {},
   "outputs": [],
   "source": [
    "cell_content = \"\"\"# | export\n",
    "import sgqlc.types\n",
    "import sgqlc.types.datetime\n",
    "\"\"\".strip()\n",
    "\n",
    "cell = nbf.v4.new_code_cell(cell_content)\n",
    "notebook_object[\"cells\"].append(cell)"
   ]
  },
  {
   "cell_type": "code",
   "execution_count": null,
   "id": "299a0aa5-d12a-4822-bb9f-33a568a04e83",
   "metadata": {},
   "outputs": [],
   "source": [
    "cell_content = \"\"\"`newrelic_sb_sdk` module\"\"\"\n",
    "cell = nbf.v4.new_markdown_cell(cell_content)\n",
    "notebook_object[\"cells\"].append(cell)"
   ]
  },
  {
   "cell_type": "code",
   "execution_count": null,
   "id": "bad6dc2b-6f6d-4eb2-9d82-612095e38963",
   "metadata": {},
   "outputs": [],
   "source": [
    "cell_content = \"\"\"# | export\n",
    "from newrelic_sb_sdk.graphql import nerdgraph\n",
    "\"\"\".strip()\n",
    "\n",
    "cell = nbf.v4.new_code_cell(cell_content)\n",
    "notebook_object[\"cells\"].append(cell)"
   ]
  },
  {
   "cell_type": "code",
   "execution_count": null,
   "id": "e6c1dd5c-4715-4160-817a-cbe8489fa4a6",
   "metadata": {},
   "outputs": [],
   "source": [
    "cell_content = \"\"\"## Definitions\"\"\"\n",
    "cell = nbf.v4.new_markdown_cell(cell_content)\n",
    "notebook_object[\"cells\"].append(cell)"
   ]
  },
  {
   "cell_type": "code",
   "execution_count": null,
   "id": "bd0c4b05-b458-4f95-85a5-4b061a30272e",
   "metadata": {},
   "outputs": [],
   "source": [
    "cell_content = \"\"\"### Constants\"\"\"\n",
    "cell = nbf.v4.new_markdown_cell(cell_content)\n",
    "notebook_object[\"cells\"].append(cell)"
   ]
  },
  {
   "cell_type": "code",
   "execution_count": null,
   "id": "b56dd51f-62ec-4547-b87f-8e9374b47660",
   "metadata": {},
   "outputs": [],
   "source": [
    "cell_content = \"\"\"# | export\n",
    "__docformat__ = \"markdown\"\n",
    "\"\"\".strip()\n",
    "\n",
    "cell = nbf.v4.new_code_cell(cell_content)\n",
    "notebook_object[\"cells\"].append(cell)"
   ]
  },
  {
   "cell_type": "code",
   "execution_count": null,
   "id": "69bbe729-151e-4049-9818-20bf85857d63",
   "metadata": {},
   "outputs": [],
   "source": [
    "cell_content = \"\"\"### Enum types\"\"\"\n",
    "cell = nbf.v4.new_markdown_cell(cell_content)\n",
    "notebook_object[\"cells\"].append(cell)"
   ]
  },
  {
   "cell_type": "code",
   "execution_count": null,
   "id": "82d6d83a-fe63-4354-9e55-5e9504ea4e86",
   "metadata": {},
   "outputs": [],
   "source": [
    "KIND = \"ENUM\"\n",
    "types = [type_ for type_ in generator.types if type_[\"kind\"] == KIND]\n",
    "\n",
    "docstring_regex = re.compile(r\"( +'''[\\s\\w!()*:`]+''')\\n\")\n",
    "docstring_replace = \"\"\n",
    "\n",
    "for type_ in types:\n",
    "    cell_content_handler.seek(0)\n",
    "    cell_content_handler.truncate(0)\n",
    "    generator.write_type_enum(type_)\n",
    "\n",
    "    cell_content_handler.seek(0)\n",
    "    cell_content = cell_content_handler.read().strip()\n",
    "    cell_content = re.sub(docstring_regex, docstring_replace, cell_content)\n",
    "    cell_content = cell_content.split(\"\\n\")\n",
    "    declaration, *definition = cell_content\n",
    "\n",
    "    if \"= sgqlc.\" in declaration or \"__schema__\" in declaration:\n",
    "        cell_content = declaration\n",
    "    else:\n",
    "        cell_content = \"\\n\".join(cell_content)\n",
    "\n",
    "    cell_content = \"\\n\".join([\"\"\"# | export\"\"\", cell_content])\n",
    "    cell = nbf.v4.new_code_cell(cell_content)\n",
    "\n",
    "    notebook_object[\"cells\"].append(cell)"
   ]
  },
  {
   "cell_type": "code",
   "execution_count": null,
   "id": "a7db8402-3699-4a9b-974a-3432dbe1c1f7",
   "metadata": {},
   "outputs": [],
   "source": [
    "with open(notebook_path, mode=\"w\", encoding=\"utf-8\") as notebook_handler:\n",
    "    nbf.write(notebook_object, notebook_handler)"
   ]
  },
  {
   "attachments": {},
   "cell_type": "markdown",
   "id": "7d47338e-7b71-499b-8c17-bbe6ec79d7cd",
   "metadata": {},
   "source": [
    "#### Write notebook for `input_objects.py` file."
   ]
  },
  {
   "cell_type": "code",
   "execution_count": null,
   "id": "146e9027-7508-48a0-a1e2-ea967832b42b",
   "metadata": {},
   "outputs": [],
   "source": [
    "notebook_name = \"Input Objects.ipynb\"\n",
    "notebook_path = os.path.join(dir_name, notebook_name)\n",
    "notebook_object = nbf.v4.new_notebook(\n",
    "    metadata={\n",
    "        \"language_info\": {\n",
    "            \"mimetype\": \"text/x-python\",\n",
    "            \"name\": \"python\",\n",
    "        },\n",
    "    },\n",
    ")\n",
    "notebook_object[\"cells\"] = []"
   ]
  },
  {
   "cell_type": "code",
   "execution_count": null,
   "id": "e33ca958-e146-4edb-81f3-245ef914fe62",
   "metadata": {},
   "outputs": [],
   "source": [
    "cell_content = \"\"\"# | default_exp graphql.input_objects\"\"\"\n",
    "metadata = {\n",
    "    \"tags\": [\n",
    "        \"remove-cell\",\n",
    "    ],\n",
    "}\n",
    "cell = nbf.v4.new_code_cell(cell_content, metadata=metadata)\n",
    "notebook_object[\"cells\"].append(cell)"
   ]
  },
  {
   "cell_type": "code",
   "execution_count": null,
   "id": "a76ea5e2-e34a-4afa-ac22-794e0c06f261",
   "metadata": {},
   "outputs": [],
   "source": [
    "cell_content = \"\"\"\n",
    "# | export\n",
    "# pylint: disable=duplicate-code,unused-import,too-many-lines,disallowed-name\n",
    "\"\"\".strip()\n",
    "metadata = {\n",
    "    \"tags\": [\n",
    "        \"remove-cell\",\n",
    "    ],\n",
    "}\n",
    "cell = nbf.v4.new_code_cell(cell_content, metadata=metadata)\n",
    "notebook_object[\"cells\"].append(cell)"
   ]
  },
  {
   "cell_type": "code",
   "execution_count": null,
   "id": "97a010a5-921f-4659-b846-56d12e7883bd",
   "metadata": {},
   "outputs": [],
   "source": [
    "cell_content = \"\"\"# NerdGraph Input Object Types\"\"\"\n",
    "cell = nbf.v4.new_markdown_cell(cell_content)\n",
    "notebook_object[\"cells\"].append(cell)"
   ]
  },
  {
   "cell_type": "code",
   "execution_count": null,
   "id": "b3a573c0-f229-44bc-bf77-6b5645e09874",
   "metadata": {},
   "outputs": [],
   "source": [
    "cell_content = \"\"\"## Imports\"\"\"\n",
    "cell = nbf.v4.new_markdown_cell(cell_content)\n",
    "notebook_object[\"cells\"].append(cell)"
   ]
  },
  {
   "cell_type": "code",
   "execution_count": null,
   "id": "5d14c2b4-6c1d-45e5-a809-f6e6e4417179",
   "metadata": {},
   "outputs": [],
   "source": [
    "cell_content = \"\"\"Third-party modules\"\"\"\n",
    "cell = nbf.v4.new_markdown_cell(cell_content)\n",
    "notebook_object[\"cells\"].append(cell)"
   ]
  },
  {
   "cell_type": "code",
   "execution_count": null,
   "id": "a8da175c-a0ea-4123-9338-0625a9657111",
   "metadata": {},
   "outputs": [],
   "source": [
    "cell_content = \"\"\"# | export\n",
    "import sgqlc.types\n",
    "import sgqlc.types.datetime\n",
    "\"\"\".strip()\n",
    "\n",
    "cell = nbf.v4.new_code_cell(cell_content)\n",
    "notebook_object[\"cells\"].append(cell)"
   ]
  },
  {
   "cell_type": "code",
   "execution_count": null,
   "id": "516e9716-6f58-4edc-8851-45b8b99dc893",
   "metadata": {},
   "outputs": [],
   "source": [
    "cell_content = \"\"\"`newrelic_sb_sdk` module\"\"\"\n",
    "cell = nbf.v4.new_markdown_cell(cell_content)\n",
    "notebook_object[\"cells\"].append(cell)"
   ]
  },
  {
   "cell_type": "code",
   "execution_count": null,
   "id": "5f5b9cf4-c460-4d7c-9bce-5e09d941396d",
   "metadata": {},
   "outputs": [],
   "source": [
    "cell_content = \"\"\"# | export\n",
    "from newrelic_sb_sdk.graphql import nerdgraph\n",
    "\"\"\".strip()\n",
    "\n",
    "cell = nbf.v4.new_code_cell(cell_content)\n",
    "notebook_object[\"cells\"].append(cell)"
   ]
  },
  {
   "cell_type": "code",
   "execution_count": null,
   "id": "22fc2d48-a77a-4988-b61d-95b9f9669c88",
   "metadata": {},
   "outputs": [],
   "source": [
    "KIND = \"INPUT_OBJECT\"\n",
    "types = [type_ for type_ in generator.types if type_[\"kind\"] == KIND]"
   ]
  },
  {
   "cell_type": "code",
   "execution_count": null,
   "id": "9d63ec5e-bc2c-491a-9385-c23f82dde2c2",
   "metadata": {},
   "outputs": [],
   "source": [
    "imports_map = {}\n",
    "\n",
    "related_types = list(itertools.chain(*[type_[\"inputFields\"] for type_ in types]))\n",
    "related_types = {\n",
    "    (\n",
    "        (type_[\"type\"][\"kind\"], type_[\"type\"][\"name\"])\n",
    "        if type_[\"type\"][\"kind\"] in library_kind_map\n",
    "        else (\n",
    "            (type_[\"type\"][\"ofType\"][\"kind\"], type_[\"type\"][\"ofType\"][\"name\"])\n",
    "            if type_[\"type\"][\"ofType\"][\"kind\"] in library_kind_map\n",
    "            else (\n",
    "                (\n",
    "                    type_[\"type\"][\"ofType\"][\"ofType\"][\"kind\"],\n",
    "                    type_[\"type\"][\"ofType\"][\"ofType\"][\"name\"],\n",
    "                )\n",
    "                if type_[\"type\"][\"ofType\"][\"ofType\"][\"kind\"] in library_kind_map\n",
    "                else (\n",
    "                    type_[\"type\"][\"ofType\"][\"ofType\"][\"ofType\"][\"kind\"],\n",
    "                    type_[\"type\"][\"ofType\"][\"ofType\"][\"ofType\"][\"name\"],\n",
    "                )\n",
    "            )\n",
    "        )\n",
    "    )\n",
    "    for type_ in related_types\n",
    "}\n",
    "related_types = {\n",
    "    (kind, name)\n",
    "    for kind, name in related_types\n",
    "    if name\n",
    "    not in list(\n",
    "        itertools.chain(\n",
    "            generator.builtin_enum_names,\n",
    "            generator.builtin_object_names,\n",
    "        )\n",
    "    )\n",
    "}\n",
    "\n",
    "for kind, name in related_types:\n",
    "    if kind in library_kind_map:\n",
    "        library = library_kind_map[kind]\n",
    "\n",
    "        if library not in imports_map:\n",
    "            imports_map[library] = []\n",
    "\n",
    "        imports_map[library].append(name)\n",
    "\n",
    "imports_map = {key: sorted(list(set(value))) for key, value in imports_map.items()}\n",
    "\n",
    "if \"newrelic_sb_sdk.graphql.input_objects\" in imports_map:\n",
    "    del imports_map[\"newrelic_sb_sdk.graphql.input_objects\"]"
   ]
  },
  {
   "cell_type": "code",
   "execution_count": null,
   "id": "dcf57d03-2c15-43f0-a19f-0c67737f7a44",
   "metadata": {},
   "outputs": [],
   "source": [
    "for sub_module in imports_map:\n",
    "    cell_content = \"\"\"# | export\"\"\"\n",
    "    cell_content = \"\\n\".join([cell_content, f\"from {sub_module} import (\"])\n",
    "    cell_content = \"\\n\".join(\n",
    "        [\n",
    "            cell_content,\n",
    "            *[f\"    {type_},\" for type_ in imports_map[sub_module]],\n",
    "        ]\n",
    "    )\n",
    "    cell_content = \"\\n\".join([cell_content, \")\"])\n",
    "\n",
    "    cell = nbf.v4.new_code_cell(cell_content)\n",
    "    notebook_object[\"cells\"].append(cell)"
   ]
  },
  {
   "cell_type": "code",
   "execution_count": null,
   "id": "edf49137-6483-4b8f-b979-37c63d83c9ee",
   "metadata": {},
   "outputs": [],
   "source": [
    "cell_content = \"\"\"## Definitions\"\"\"\n",
    "cell = nbf.v4.new_markdown_cell(cell_content)\n",
    "notebook_object[\"cells\"].append(cell)"
   ]
  },
  {
   "cell_type": "code",
   "execution_count": null,
   "id": "036a69d0-a1bc-45fc-8fd7-61fc9c66ea38",
   "metadata": {},
   "outputs": [],
   "source": [
    "cell_content = \"\"\"### Constants\"\"\"\n",
    "cell = nbf.v4.new_markdown_cell(cell_content)\n",
    "notebook_object[\"cells\"].append(cell)"
   ]
  },
  {
   "cell_type": "code",
   "execution_count": null,
   "id": "7d2964bd-beaa-41f5-b840-3faa14c1febe",
   "metadata": {},
   "outputs": [],
   "source": [
    "cell_content = \"\"\"# | export\n",
    "__docformat__ = \"markdown\"\n",
    "\"\"\".strip()\n",
    "\n",
    "cell = nbf.v4.new_code_cell(cell_content)\n",
    "notebook_object[\"cells\"].append(cell)"
   ]
  },
  {
   "cell_type": "code",
   "execution_count": null,
   "id": "cf7ca901-7767-4548-911b-727013622ed7",
   "metadata": {},
   "outputs": [],
   "source": [
    "cell_content = \"\"\"### Input object types\"\"\"\n",
    "cell = nbf.v4.new_markdown_cell(cell_content)\n",
    "notebook_object[\"cells\"].append(cell)"
   ]
  },
  {
   "cell_type": "code",
   "execution_count": null,
   "id": "b239d329-9c3e-447d-aa89-b253f7cb07b7",
   "metadata": {},
   "outputs": [],
   "source": [
    "docstring_regex = re.compile(r\"( +'''[\\s\\w!()*:`]+''')\\n\")\n",
    "docstring_replace = \"\"\n",
    "\n",
    "for type_ in types:\n",
    "    cell_content_handler.seek(0)\n",
    "    cell_content_handler.truncate(0)\n",
    "    generator.write_type_input_object(type_)\n",
    "\n",
    "    cell_content_handler.seek(0)\n",
    "    cell_content = cell_content_handler.read().strip()\n",
    "    cell_content = re.sub(docstring_regex, docstring_replace, cell_content)\n",
    "    cell_content = cell_content.split(\"\\n\")\n",
    "    declaration, *definition = cell_content\n",
    "\n",
    "    if \"= sgqlc.\" in declaration or \"__schema__\" in declaration:\n",
    "        cell_content = declaration\n",
    "    else:\n",
    "        cell_content = \"\\n\".join(cell_content)\n",
    "\n",
    "    cell_content = \"\\n\".join([\"\"\"# | export\"\"\", cell_content])\n",
    "    cell = nbf.v4.new_code_cell(cell_content)\n",
    "\n",
    "    notebook_object[\"cells\"].append(cell)"
   ]
  },
  {
   "cell_type": "code",
   "execution_count": null,
   "id": "dd481140-e841-4234-ac9d-c49cf98e6c8b",
   "metadata": {},
   "outputs": [],
   "source": [
    "with open(notebook_path, mode=\"w\", encoding=\"utf-8\") as notebook_handler:\n",
    "    nbf.write(notebook_object, notebook_handler)"
   ]
  },
  {
   "attachments": {},
   "cell_type": "markdown",
   "id": "c051b64c-035f-497f-9b9a-f727ce450a80",
   "metadata": {},
   "source": [
    "#### Write notebook for `objects.py` file."
   ]
  },
  {
   "cell_type": "code",
   "execution_count": null,
   "id": "cf0ad62a-a435-4fc9-8421-46b0ddf2c386",
   "metadata": {},
   "outputs": [],
   "source": [
    "notebook_name = \"Objects.ipynb\"\n",
    "notebook_path = os.path.join(dir_name, notebook_name)\n",
    "notebook_object = nbf.v4.new_notebook(\n",
    "    metadata={\n",
    "        \"language_info\": {\n",
    "            \"mimetype\": \"text/x-python\",\n",
    "            \"name\": \"python\",\n",
    "        },\n",
    "    },\n",
    ")\n",
    "notebook_object[\"cells\"] = []"
   ]
  },
  {
   "cell_type": "code",
   "execution_count": null,
   "id": "498d22a1-aa51-4dd8-b046-ecc90c48d450",
   "metadata": {},
   "outputs": [],
   "source": [
    "cell_content = \"\"\"# | default_exp graphql.objects\"\"\"\n",
    "metadata = {\n",
    "    \"tags\": [\n",
    "        \"remove-cell\",\n",
    "    ],\n",
    "}\n",
    "cell = nbf.v4.new_code_cell(cell_content, metadata=metadata)\n",
    "notebook_object[\"cells\"].append(cell)"
   ]
  },
  {
   "cell_type": "code",
   "execution_count": null,
   "id": "5e3d5d5a-8206-4e1b-a6ec-9872f2fe070e",
   "metadata": {},
   "outputs": [],
   "source": [
    "cell_content = \"\"\"\n",
    "# | export\n",
    "# pylint: disable=duplicate-code,unused-import,too-many-lines,disallowed-name\n",
    "\"\"\".strip()\n",
    "metadata = {\n",
    "    \"tags\": [\n",
    "        \"remove-cell\",\n",
    "    ],\n",
    "}\n",
    "cell = nbf.v4.new_code_cell(cell_content, metadata=metadata)\n",
    "notebook_object[\"cells\"].append(cell)"
   ]
  },
  {
   "cell_type": "code",
   "execution_count": null,
   "id": "902e0a1d-021e-46f0-bfa0-f11945f512a6",
   "metadata": {},
   "outputs": [],
   "source": [
    "cell_content = \"\"\"# NerdGraph Object Types\"\"\".strip()\n",
    "cell = nbf.v4.new_markdown_cell(cell_content)\n",
    "notebook_object[\"cells\"].append(cell)"
   ]
  },
  {
   "cell_type": "code",
   "execution_count": null,
   "id": "91027bb9-db2b-4297-8411-3a02c41788c7",
   "metadata": {},
   "outputs": [],
   "source": [
    "cell_content = \"\"\"## Imports\"\"\"\n",
    "cell = nbf.v4.new_markdown_cell(cell_content)\n",
    "notebook_object[\"cells\"].append(cell)"
   ]
  },
  {
   "cell_type": "code",
   "execution_count": null,
   "id": "a508e83b-3355-4fd7-b6df-cbbbd875c27a",
   "metadata": {},
   "outputs": [],
   "source": [
    "cell_content = \"\"\"Third-party modules\"\"\"\n",
    "cell = nbf.v4.new_markdown_cell(cell_content)\n",
    "notebook_object[\"cells\"].append(cell)"
   ]
  },
  {
   "cell_type": "code",
   "execution_count": null,
   "id": "71ee50e1-a14e-4f66-9be3-3cec54bdb291",
   "metadata": {},
   "outputs": [],
   "source": [
    "cell_content = \"\"\"# | export\n",
    "import sgqlc.types\n",
    "import sgqlc.types.datetime\n",
    "\"\"\".strip()\n",
    "\n",
    "cell = nbf.v4.new_code_cell(cell_content)\n",
    "notebook_object[\"cells\"].append(cell)"
   ]
  },
  {
   "cell_type": "code",
   "execution_count": null,
   "id": "f52a6618-4ba3-428c-8f18-bc8d11d69520",
   "metadata": {},
   "outputs": [],
   "source": [
    "cell_content = \"\"\"`newrelic_sb_sdk` module\"\"\"\n",
    "cell = nbf.v4.new_markdown_cell(cell_content)\n",
    "notebook_object[\"cells\"].append(cell)"
   ]
  },
  {
   "cell_type": "code",
   "execution_count": null,
   "id": "f6c3e1de-d06a-47f1-8ff2-ff2643ba3a11",
   "metadata": {},
   "outputs": [],
   "source": [
    "cell_content = \"\"\"# | export\n",
    "from newrelic_sb_sdk.graphql import nerdgraph\n",
    "\"\"\".strip()\n",
    "\n",
    "cell = nbf.v4.new_code_cell(cell_content)\n",
    "notebook_object[\"cells\"].append(cell)"
   ]
  },
  {
   "cell_type": "code",
   "execution_count": null,
   "id": "6a0b106f-5aaf-4943-9cc8-55b3a0464bd9",
   "metadata": {},
   "outputs": [],
   "source": [
    "KINDS = [\"OBJECT\", \"INTERFACE\"]\n",
    "types = [type_ for type_ in generator.types if type_[\"kind\"] in KINDS]\n",
    "\n",
    "types.sort(key=generator.get_depend_sort_key())"
   ]
  },
  {
   "cell_type": "code",
   "execution_count": null,
   "id": "640334f0-f515-48a4-9229-bb629c6a9045",
   "metadata": {},
   "outputs": [],
   "source": [
    "imports_map = {}\n",
    "\n",
    "related_types = list(itertools.chain(*[type_[\"fields\"] for type_ in types]))\n",
    "related_types = list(\n",
    "    itertools.chain(*[type_[\"args\"] for type_ in related_types], related_types)\n",
    ")\n",
    "\n",
    "related_types = {\n",
    "    (\n",
    "        (type_[\"type\"][\"kind\"], type_[\"type\"][\"name\"])\n",
    "        if type_[\"type\"][\"kind\"] in library_kind_map\n",
    "        else (\n",
    "            (type_[\"type\"][\"ofType\"][\"kind\"], type_[\"type\"][\"ofType\"][\"name\"])\n",
    "            if type_[\"type\"][\"ofType\"][\"kind\"] in library_kind_map\n",
    "            else (\n",
    "                (\n",
    "                    type_[\"type\"][\"ofType\"][\"ofType\"][\"kind\"],\n",
    "                    type_[\"type\"][\"ofType\"][\"ofType\"][\"name\"],\n",
    "                )\n",
    "                if type_[\"type\"][\"ofType\"][\"ofType\"][\"kind\"] in library_kind_map\n",
    "                else (\n",
    "                    type_[\"type\"][\"ofType\"][\"ofType\"][\"ofType\"][\"kind\"],\n",
    "                    type_[\"type\"][\"ofType\"][\"ofType\"][\"ofType\"][\"name\"],\n",
    "                )\n",
    "            )\n",
    "        )\n",
    "    )\n",
    "    for type_ in related_types\n",
    "}\n",
    "related_types = {\n",
    "    (kind, name)\n",
    "    for kind, name in related_types\n",
    "    if name\n",
    "    not in list(\n",
    "        itertools.chain(\n",
    "            generator.builtin_enum_names,\n",
    "            generator.builtin_object_names,\n",
    "        )\n",
    "    )\n",
    "}\n",
    "\n",
    "for kind, name in related_types:\n",
    "    if kind in library_kind_map:\n",
    "        library = library_kind_map[kind]\n",
    "\n",
    "        if library not in imports_map:\n",
    "            imports_map[library] = []\n",
    "\n",
    "        imports_map[library].append(name)\n",
    "\n",
    "imports_map = {key: sorted(list(set(value))) for key, value in imports_map.items()}\n",
    "\n",
    "if \"newrelic_sb_sdk.graphql.objects\" in imports_map:\n",
    "    del imports_map[\"newrelic_sb_sdk.graphql.objects\"]"
   ]
  },
  {
   "cell_type": "code",
   "execution_count": null,
   "id": "644e1044-2514-4d42-b321-7f975a596d10",
   "metadata": {},
   "outputs": [],
   "source": [
    "for sub_module in imports_map:\n",
    "    cell_content = \"\"\"# | export\"\"\"\n",
    "    cell_content = \"\\n\".join([cell_content, f\"from {sub_module} import (\"])\n",
    "    cell_content = \"\\n\".join(\n",
    "        [\n",
    "            cell_content,\n",
    "            *[f\"    {type_},\" for type_ in imports_map[sub_module]],\n",
    "        ]\n",
    "    )\n",
    "    cell_content = \"\\n\".join([cell_content, \")\"])\n",
    "\n",
    "    cell = nbf.v4.new_code_cell(cell_content)\n",
    "    notebook_object[\"cells\"].append(cell)"
   ]
  },
  {
   "cell_type": "code",
   "execution_count": null,
   "id": "52af3667-5134-4449-ba0c-cd8ebdd213bf",
   "metadata": {},
   "outputs": [],
   "source": [
    "cell_content = \"\"\"## Definitions\"\"\"\n",
    "cell = nbf.v4.new_markdown_cell(cell_content)\n",
    "notebook_object[\"cells\"].append(cell)"
   ]
  },
  {
   "cell_type": "code",
   "execution_count": null,
   "id": "a8a4c0d6-83ed-4e32-a656-fe6091a53740",
   "metadata": {},
   "outputs": [],
   "source": [
    "cell_content = \"\"\"### Constants\"\"\"\n",
    "cell = nbf.v4.new_markdown_cell(cell_content)\n",
    "notebook_object[\"cells\"].append(cell)"
   ]
  },
  {
   "cell_type": "code",
   "execution_count": null,
   "id": "745d95d8-4f7a-48b4-a033-41c77533715e",
   "metadata": {},
   "outputs": [],
   "source": [
    "cell_content = \"\"\"# | export\n",
    "__docformat__ = \"markdown\"\n",
    "\"\"\".strip()\n",
    "\n",
    "cell = nbf.v4.new_code_cell(cell_content)\n",
    "notebook_object[\"cells\"].append(cell)"
   ]
  },
  {
   "cell_type": "code",
   "execution_count": null,
   "id": "36bc53c1-4e23-48ea-bf71-dabf2d8cf8d5",
   "metadata": {},
   "outputs": [],
   "source": [
    "cell_content = \"\"\"### Interface types\"\"\"\n",
    "cell = nbf.v4.new_markdown_cell(cell_content)\n",
    "notebook_object[\"cells\"].append(cell)"
   ]
  },
  {
   "cell_type": "code",
   "execution_count": null,
   "id": "1fc62c5c-e520-47a4-9ec8-187ad1de06dd",
   "metadata": {},
   "outputs": [],
   "source": [
    "KIND = \"INTERFACE\"\n",
    "interface_types = [type_ for type_ in types if type_[\"kind\"] == KIND]\n",
    "\n",
    "docstring_regex = re.compile(r\"( +'''[\\s\\w!()*:`]+''')\\n\")\n",
    "docstring_replace = \"\"\n",
    "\n",
    "for type_ in interface_types:\n",
    "    cell_content_handler.seek(0)\n",
    "    cell_content_handler.truncate(0)\n",
    "    generator.write_type_interface(type_)\n",
    "\n",
    "    cell_content_handler.seek(0)\n",
    "    cell_content = cell_content_handler.read().strip()\n",
    "    cell_content = re.sub(docstring_regex, docstring_replace, cell_content)\n",
    "    cell_content = cell_content.split(\"\\n\")\n",
    "    declaration, *definition = cell_content\n",
    "\n",
    "    if \"= sgqlc.\" in declaration or \"__schema__\" in declaration:\n",
    "        cell_content = declaration\n",
    "    else:\n",
    "        cell_content = \"\\n\".join(cell_content)\n",
    "\n",
    "    cell_content = \"\\n\".join([\"\"\"# | export\"\"\", cell_content])\n",
    "    cell = nbf.v4.new_code_cell(cell_content)\n",
    "\n",
    "    notebook_object[\"cells\"].append(cell)"
   ]
  },
  {
   "cell_type": "code",
   "execution_count": null,
   "id": "64075cca-cee8-4b1b-ae70-6ee5283c05b6",
   "metadata": {},
   "outputs": [],
   "source": [
    "cell_content = \"\"\"### Object types\"\"\"\n",
    "cell = nbf.v4.new_markdown_cell(cell_content)\n",
    "notebook_object[\"cells\"].append(cell)"
   ]
  },
  {
   "cell_type": "code",
   "execution_count": null,
   "id": "40eb25b1-2817-49a2-b145-bd5ccc201772",
   "metadata": {},
   "outputs": [],
   "source": [
    "KIND = \"OBJECT\"\n",
    "object_types = [type_ for type_ in types if type_[\"kind\"] == KIND]\n",
    "\n",
    "docstring_regex = re.compile(r\"('''[\\s\\w!()*:`]+''')\\n\")\n",
    "docstring_replace = \"\"\n",
    "\n",
    "for type_ in object_types:\n",
    "    cell_content_handler.seek(0)\n",
    "    cell_content_handler.truncate(0)\n",
    "    generator.write_type_object(type_)\n",
    "\n",
    "    cell_content_handler.seek(0)\n",
    "    cell_content = cell_content_handler.read().strip()\n",
    "    cell_content = re.sub(docstring_regex, docstring_replace, cell_content)\n",
    "    cell_content = cell_content.split(\"\\n\")\n",
    "    declaration, *definition = cell_content\n",
    "\n",
    "    if \"= sgqlc.\" in declaration or \"__schema__\" in declaration:\n",
    "        cell_content = declaration\n",
    "    else:\n",
    "        cell_content = \"\\n\".join(cell_content)\n",
    "\n",
    "    cell_content = \"\\n\".join([\"\"\"# | export\"\"\", cell_content])\n",
    "    cell = nbf.v4.new_code_cell(cell_content)\n",
    "\n",
    "    notebook_object[\"cells\"].append(cell)"
   ]
  },
  {
   "cell_type": "code",
   "execution_count": null,
   "id": "c65fe6c5-9743-4c95-b670-56845697965a",
   "metadata": {},
   "outputs": [],
   "source": [
    "cell_content = \"\"\"### Union types\"\"\"\n",
    "cell = nbf.v4.new_markdown_cell(cell_content)\n",
    "notebook_object[\"cells\"].append(cell)"
   ]
  },
  {
   "cell_type": "code",
   "execution_count": null,
   "id": "a32d1976-a5b6-4b3c-b777-2188ebde7dbd",
   "metadata": {},
   "outputs": [],
   "source": [
    "KIND = \"UNION\"\n",
    "union_types = [type_ for type_ in generator.types if type_[\"kind\"] == KIND]\n",
    "\n",
    "docstring_regex = re.compile(r\"('''[\\s\\w!()*:`]+''')\\n\")\n",
    "docstring_replace = \"\"\n",
    "\n",
    "for type_ in union_types:\n",
    "    cell_content_handler.seek(0)\n",
    "    cell_content_handler.truncate(0)\n",
    "    generator.write_type_union(type_)\n",
    "\n",
    "    cell_content_handler.seek(0)\n",
    "    cell_content = cell_content_handler.read().strip()\n",
    "    cell_content = re.sub(docstring_regex, docstring_replace, cell_content)\n",
    "    cell_content = cell_content.split(\"\\n\")\n",
    "    declaration, *definition = cell_content\n",
    "\n",
    "    if \"= sgqlc.\" in declaration or \"__schema__\" in declaration:\n",
    "        cell_content = declaration\n",
    "    else:\n",
    "        cell_content = \"\\n\".join(cell_content)\n",
    "\n",
    "    cell_content = \"\\n\".join([\"\"\"# | export\"\"\", cell_content])\n",
    "    cell = nbf.v4.new_code_cell(cell_content)\n",
    "\n",
    "    notebook_object[\"cells\"].append(cell)"
   ]
  },
  {
   "cell_type": "code",
   "execution_count": null,
   "id": "7a46a3d0-77c6-4bc8-803d-ebcf2841ef82",
   "metadata": {},
   "outputs": [],
   "source": [
    "with open(notebook_path, mode=\"w\", encoding=\"utf-8\") as notebook_handler:\n",
    "    nbf.write(notebook_object, notebook_handler)"
   ]
  },
  {
   "cell_type": "code",
   "execution_count": null,
   "id": "75231fd3",
   "metadata": {},
   "outputs": [],
   "source": []
  }
 ],
 "metadata": {
  "kernelspec": {
   "display_name": "Python 3 (ipykernel)",
   "language": "python",
   "name": "python3"
  },
  "language_info": {
   "codemirror_mode": {
    "name": "ipython",
    "version": 3
   },
   "file_extension": ".py",
   "mimetype": "text/x-python",
   "name": "python",
   "nbconvert_exporter": "python",
   "pygments_lexer": "ipython3",
   "version": "3.11.2"
  }
 },
 "nbformat": 4,
 "nbformat_minor": 5
}
