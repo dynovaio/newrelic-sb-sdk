{
 "cells": [
  {
   "cell_type": "code",
   "execution_count": null,
   "id": "5b5ea7d5",
   "metadata": {
    "tags": [
     "remove-cell"
    ]
   },
   "outputs": [],
   "source": [
    "# | default_exp graphql.scalars"
   ]
  },
  {
   "cell_type": "markdown",
   "id": "8862b89d",
   "metadata": {},
   "source": [
    "# NerdGraph Scalar Types"
   ]
  },
  {
   "cell_type": "markdown",
   "id": "3895e875",
   "metadata": {},
   "source": [
    "## Imports"
   ]
  },
  {
   "cell_type": "markdown",
   "id": "b7020c41",
   "metadata": {},
   "source": [
    "Third-party modules"
   ]
  },
  {
   "cell_type": "code",
   "execution_count": null,
   "id": "1dc5a9eb",
   "metadata": {},
   "outputs": [],
   "source": [
    "# | export\n",
    "import sgqlc.types\n",
    "import sgqlc.types.datetime"
   ]
  },
  {
   "cell_type": "code",
   "execution_count": null,
   "id": "da4e2733",
   "metadata": {},
   "outputs": [],
   "source": [
    "# | export\n",
    "from newrelic_sb_sdk.graphql import nerdgraph"
   ]
  },
  {
   "cell_type": "markdown",
   "id": "5ae6be93",
   "metadata": {},
   "source": [
    "## Definitions"
   ]
  },
  {
   "cell_type": "code",
   "execution_count": null,
   "id": "2dca26ae",
   "metadata": {},
   "outputs": [],
   "source": [
    "# | export\n",
    "__docformat__ = \"markdown\""
   ]
  },
  {
   "cell_type": "markdown",
   "id": "d7a3b8c6",
   "metadata": {},
   "source": [
    "### Scalar types"
   ]
  },
  {
   "cell_type": "code",
   "execution_count": null,
   "id": "cf442301",
   "metadata": {},
   "outputs": [],
   "source": [
    "# | export\n",
    "class AgentApplicationSettingsErrorCollectorHttpStatus(sgqlc.types.Scalar):\n",
    "    \"\"\"Class for AgentApplicationSettingsErrorCollectorHttpStatus.\n",
    "\n",
    "    A list of HTTP status codes, such as \"404\" or \"500\".\n",
    "    \"\"\"\n",
    "\n",
    "    __schema__ = nerdgraph"
   ]
  },
  {
   "cell_type": "code",
   "execution_count": null,
   "id": "a4b374d0",
   "metadata": {},
   "outputs": [],
   "source": [
    "# | export\n",
    "class AiDecisionsRuleExpression(sgqlc.types.Scalar):\n",
    "    \"\"\"Class for AiDecisionsRuleExpression.\n",
    "\n",
    "    Expression used for comparing incidents as part of a correlation.\n",
    "    \"\"\"\n",
    "\n",
    "    __schema__ = nerdgraph"
   ]
  },
  {
   "cell_type": "code",
   "execution_count": null,
   "id": "8d763367",
   "metadata": {},
   "outputs": [],
   "source": [
    "# | export\n",
    "class AttributeMap(sgqlc.types.Scalar):\n",
    "    \"\"\"Class for AttributeMap.\n",
    "\n",
    "    This scalar represents a map of attributes in the form of key-\n",
    "    value pairs.\n",
    "    \"\"\"\n",
    "\n",
    "    __schema__ = nerdgraph"
   ]
  },
  {
   "cell_type": "code",
   "execution_count": null,
   "id": "7a69bd13",
   "metadata": {},
   "outputs": [],
   "source": [
    "# | export\n",
    "Boolean = sgqlc.types.Boolean"
   ]
  },
  {
   "cell_type": "code",
   "execution_count": null,
   "id": "9bda3150",
   "metadata": {},
   "outputs": [],
   "source": [
    "# | export\n",
    "class DashboardWidgetRawConfiguration(sgqlc.types.Scalar):\n",
    "    \"\"\"Class for DashboardWidgetRawConfiguration.\n",
    "\n",
    "    Raw JSON payload with full configuration of a widget.\n",
    "    \"\"\"\n",
    "\n",
    "    __schema__ = nerdgraph"
   ]
  },
  {
   "cell_type": "code",
   "execution_count": null,
   "id": "8b4c0aef",
   "metadata": {},
   "outputs": [],
   "source": [
    "# | export\n",
    "Date = sgqlc.types.datetime.Date"
   ]
  },
  {
   "cell_type": "code",
   "execution_count": null,
   "id": "767b8a50",
   "metadata": {},
   "outputs": [],
   "source": [
    "# | export\n",
    "DateTime = sgqlc.types.datetime.DateTime"
   ]
  },
  {
   "cell_type": "code",
   "execution_count": null,
   "id": "20e8cb3a",
   "metadata": {},
   "outputs": [],
   "source": [
    "# | export\n",
    "class DistributedTracingSpanAttributes(sgqlc.types.Scalar):\n",
    "    \"\"\"Class for DistributedTracingSpanAttributes.\n",
    "\n",
    "    Map of key value pairs for a span.\n",
    "    \"\"\"\n",
    "\n",
    "    __schema__ = nerdgraph"
   ]
  },
  {
   "cell_type": "code",
   "execution_count": null,
   "id": "ae3510b1",
   "metadata": {},
   "outputs": [],
   "source": [
    "# | export\n",
    "class EntityAlertViolationInt(sgqlc.types.Scalar):\n",
    "    \"\"\"Class for EntityAlertViolationInt.\n",
    "\n",
    "    The `ViolationInt` scalar type represents 52-bit signed integers.\n",
    "    \"\"\"\n",
    "\n",
    "    __schema__ = nerdgraph"
   ]
  },
  {
   "cell_type": "code",
   "execution_count": null,
   "id": "deeb73ab",
   "metadata": {},
   "outputs": [],
   "source": [
    "# | export\n",
    "class EntityGuid(sgqlc.types.Scalar):\n",
    "    \"\"\"Class for EntityGuid.\n",
    "\n",
    "    An encoded Entity GUID.\n",
    "    \"\"\"\n",
    "\n",
    "    __schema__ = nerdgraph"
   ]
  },
  {
   "cell_type": "code",
   "execution_count": null,
   "id": "536d2529",
   "metadata": {},
   "outputs": [],
   "source": [
    "# | export\n",
    "class EntitySearchQuery(sgqlc.types.Scalar):\n",
    "    \"\"\"Class for EntitySearchQuery.\n",
    "\n",
    "    A query string using Entity Search query syntax.\n",
    "    \"\"\"\n",
    "\n",
    "    __schema__ = nerdgraph"
   ]
  },
  {
   "cell_type": "code",
   "execution_count": null,
   "id": "6e72d047",
   "metadata": {},
   "outputs": [],
   "source": [
    "# | export\n",
    "class EpochMilliseconds(sgqlc.types.Scalar):\n",
    "    \"\"\"Class for EpochMilliseconds.\n",
    "\n",
    "    The `EpochMilliseconds` scalar represents the number of\n",
    "    milliseconds since the Unix epoch.\n",
    "    \"\"\"\n",
    "\n",
    "    __schema__ = nerdgraph"
   ]
  },
  {
   "cell_type": "code",
   "execution_count": null,
   "id": "e711b0ca",
   "metadata": {},
   "outputs": [],
   "source": [
    "# | export\n",
    "class EpochSeconds(sgqlc.types.Scalar):\n",
    "    \"\"\"Class for EpochSeconds.\n",
    "\n",
    "    The `EpochSeconds` scalar represents the number of seconds since\n",
    "    the Unix epoch.\n",
    "    \"\"\"\n",
    "\n",
    "    __schema__ = nerdgraph"
   ]
  },
  {
   "cell_type": "code",
   "execution_count": null,
   "id": "d7fc2aed",
   "metadata": {},
   "outputs": [],
   "source": [
    "# | export\n",
    "Float = sgqlc.types.Float"
   ]
  },
  {
   "cell_type": "code",
   "execution_count": null,
   "id": "d34c6ab1",
   "metadata": {},
   "outputs": [],
   "source": [
    "# | export\n",
    "ID = sgqlc.types.ID"
   ]
  },
  {
   "cell_type": "code",
   "execution_count": null,
   "id": "31a19d57",
   "metadata": {},
   "outputs": [],
   "source": [
    "# | export\n",
    "class InstallationRawMetadata(sgqlc.types.Scalar):\n",
    "    \"\"\"Class for InstallationRawMetadata.\n",
    "\n",
    "    An arbitrary key:value object containing additional data related\n",
    "    to the environment where the installation occurred.\n",
    "    \"\"\"\n",
    "\n",
    "    __schema__ = nerdgraph"
   ]
  },
  {
   "cell_type": "code",
   "execution_count": null,
   "id": "616acb23",
   "metadata": {},
   "outputs": [],
   "source": [
    "# | export\n",
    "Int = sgqlc.types.Int"
   ]
  },
  {
   "cell_type": "code",
   "execution_count": null,
   "id": "3df4f683",
   "metadata": {},
   "outputs": [],
   "source": [
    "# | export\n",
    "class LogConfigurationsLogDataPartitionName(sgqlc.types.Scalar):\n",
    "    \"\"\"Class for LogConfigurationsLogDataPartitionName.\n",
    "\n",
    "    The name of a log data partition. Has to start with 'Log_' prefix\n",
    "    and can only contain alphanumeric characters and underscores.\n",
    "    \"\"\"\n",
    "\n",
    "    __schema__ = nerdgraph"
   ]
  },
  {
   "cell_type": "code",
   "execution_count": null,
   "id": "62107e91",
   "metadata": {},
   "outputs": [],
   "source": [
    "# | export\n",
    "class Milliseconds(sgqlc.types.Scalar):\n",
    "    \"\"\"Class for Milliseconds.\n",
    "\n",
    "    The `Milliseconds` scalar represents a duration in milliseconds.\n",
    "    \"\"\"\n",
    "\n",
    "    __schema__ = nerdgraph"
   ]
  },
  {
   "cell_type": "code",
   "execution_count": null,
   "id": "ffdc79d0",
   "metadata": {},
   "outputs": [],
   "source": [
    "# | export\n",
    "class Minutes(sgqlc.types.Scalar):\n",
    "    \"\"\"Class for Minutes.\n",
    "\n",
    "    The `Minutes` scalar represents a duration in minutes.\n",
    "    \"\"\"\n",
    "\n",
    "    __schema__ = nerdgraph"
   ]
  },
  {
   "cell_type": "code",
   "execution_count": null,
   "id": "2403e5ff",
   "metadata": {},
   "outputs": [],
   "source": [
    "# | export\n",
    "class NaiveDateTime(sgqlc.types.Scalar):\n",
    "    \"\"\"Class for NaiveDateTime.\n",
    "\n",
    "    The `NaiveDateTime` scalar represents a date and time without a\n",
    "    Time Zone. The `NaiveDateTime` appears as an ISO8601 formatted\n",
    "    string.\n",
    "    \"\"\"\n",
    "\n",
    "    __schema__ = nerdgraph"
   ]
  },
  {
   "cell_type": "code",
   "execution_count": null,
   "id": "789abd29",
   "metadata": {},
   "outputs": [],
   "source": [
    "# | export\n",
    "class NerdStorageDocument(sgqlc.types.Scalar):\n",
    "    \"\"\"Class for NerdStorageDocument.\n",
    "\n",
    "    This scalar represents a NerdStorage document.\n",
    "    \"\"\"\n",
    "\n",
    "    __schema__ = nerdgraph"
   ]
  },
  {
   "cell_type": "code",
   "execution_count": null,
   "id": "fc525ae9",
   "metadata": {},
   "outputs": [],
   "source": [
    "# | export\n",
    "class NerdpackTagName(sgqlc.types.Scalar):\n",
    "    \"\"\"Class for NerdpackTagName.\n",
    "\n",
    "    A string representing a nerdpack tag.\n",
    "    \"\"\"\n",
    "\n",
    "    __schema__ = nerdgraph"
   ]
  },
  {
   "cell_type": "code",
   "execution_count": null,
   "id": "fe1316a0",
   "metadata": {},
   "outputs": [],
   "source": [
    "# | export\n",
    "class Nr1CatalogRawNerdletState(sgqlc.types.Scalar):\n",
    "    \"\"\"Class for Nr1CatalogRawNerdletState.\n",
    "\n",
    "    Represents JSON nerdlet state data.\n",
    "    \"\"\"\n",
    "\n",
    "    __schema__ = nerdgraph"
   ]
  },
  {
   "cell_type": "code",
   "execution_count": null,
   "id": "693d9c98",
   "metadata": {},
   "outputs": [],
   "source": [
    "# | export\n",
    "class NrdbRawResults(sgqlc.types.Scalar):\n",
    "    \"\"\"Class for NrdbRawResults.\n",
    "\n",
    "    This scalar represents the raw nrql query results as returned from\n",
    "    NRDB. It is a `Map` of `String` keys to values.  The shape of\n",
    "    these objects reflect the query used to generate them, the\n",
    "    contents of the objects is not part of the GraphQL schema.\n",
    "    \"\"\"\n",
    "\n",
    "    __schema__ = nerdgraph"
   ]
  },
  {
   "cell_type": "code",
   "execution_count": null,
   "id": "7bd22fd4",
   "metadata": {},
   "outputs": [],
   "source": [
    "# | export\n",
    "class NrdbResult(sgqlc.types.Scalar):\n",
    "    \"\"\"Class for NrdbResult.\n",
    "\n",
    "    This scalar represents a NRDB Result. It is a `Map` of `String`\n",
    "    keys to values.  The shape of these objects reflect the query used\n",
    "    to generate them, the contents of the objects is not part of the\n",
    "    GraphQL schema.\n",
    "    \"\"\"\n",
    "\n",
    "    __schema__ = nerdgraph"
   ]
  },
  {
   "cell_type": "code",
   "execution_count": null,
   "id": "559ba3b7",
   "metadata": {},
   "outputs": [],
   "source": [
    "# | export\n",
    "class Nrql(sgqlc.types.Scalar):\n",
    "    \"\"\"Class for Nrql.\n",
    "\n",
    "    This scalar represents a NRQL query string.  See the [NRQL\n",
    "    Docs](https://docs.newrelic.com/docs/insights/nrql-new-relic-\n",
    "    query-language/nrql-resources/nrql-syntax-components-functions)\n",
    "    for more information about NRQL syntax.\n",
    "    \"\"\"\n",
    "\n",
    "    __schema__ = nerdgraph"
   ]
  },
  {
   "cell_type": "code",
   "execution_count": null,
   "id": "c6c05b17",
   "metadata": {},
   "outputs": [],
   "source": [
    "# | export\n",
    "class Seconds(sgqlc.types.Scalar):\n",
    "    \"\"\"Class for Seconds.\n",
    "\n",
    "    The `Seconds` scalar represents a duration in seconds.\n",
    "    \"\"\"\n",
    "\n",
    "    __schema__ = nerdgraph"
   ]
  },
  {
   "cell_type": "code",
   "execution_count": null,
   "id": "941b0f0d",
   "metadata": {},
   "outputs": [],
   "source": [
    "# | export\n",
    "class SecureValue(sgqlc.types.Scalar):\n",
    "    \"\"\"Class for SecureValue.\n",
    "\n",
    "    The `SecureValue` scalar represents a secure value, ie a password,\n",
    "    an API key, etc.\n",
    "    \"\"\"\n",
    "\n",
    "    __schema__ = nerdgraph"
   ]
  },
  {
   "cell_type": "code",
   "execution_count": null,
   "id": "7a564333",
   "metadata": {},
   "outputs": [],
   "source": [
    "# | export\n",
    "class SemVer(sgqlc.types.Scalar):\n",
    "    \"\"\"Class for SemVer.\n",
    "\n",
    "    The `SemVer` scalar represents a version designation conforming to\n",
    "    the SemVer specification.\n",
    "    \"\"\"\n",
    "\n",
    "    __schema__ = nerdgraph"
   ]
  },
  {
   "cell_type": "code",
   "execution_count": null,
   "id": "3fe15599",
   "metadata": {},
   "outputs": [],
   "source": [
    "# | export\n",
    "String = sgqlc.types.String"
   ]
  }
 ],
 "metadata": {},
 "nbformat": 4,
 "nbformat_minor": 5
}
