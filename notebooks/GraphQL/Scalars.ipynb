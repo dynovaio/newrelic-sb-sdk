{
 "cells": [
  {
   "cell_type": "code",
   "execution_count": null,
   "id": "e6226c63",
   "metadata": {
    "tags": [
     "remove-cell"
    ]
   },
   "outputs": [],
   "source": [
    "# | default_exp graphql.scalars"
   ]
  },
  {
   "cell_type": "code",
   "execution_count": null,
   "id": "e0461226",
   "metadata": {
    "tags": [
     "remove-cell"
    ]
   },
   "outputs": [],
   "source": [
    "# | export\n",
    "# pylint: disable=duplicate-code,unused-import,too-many-lines"
   ]
  },
  {
   "cell_type": "markdown",
   "id": "aa63aa11",
   "metadata": {},
   "source": [
    "# NerdGraph Scalar Types"
   ]
  },
  {
   "cell_type": "markdown",
   "id": "6c04f608",
   "metadata": {},
   "source": [
    "## Imports"
   ]
  },
  {
   "cell_type": "markdown",
   "id": "ea216df3",
   "metadata": {},
   "source": [
    "Third-party modules"
   ]
  },
  {
   "cell_type": "code",
   "execution_count": null,
   "id": "517cfc7b",
   "metadata": {},
   "outputs": [],
   "source": [
    "# | export\n",
    "import sgqlc.types\n",
    "import sgqlc.types.datetime"
   ]
  },
  {
   "cell_type": "code",
   "execution_count": null,
   "id": "7079db14",
   "metadata": {},
   "outputs": [],
   "source": [
    "# | export\n",
    "from newrelic_sb_sdk.graphql import nerdgraph"
   ]
  },
  {
   "cell_type": "markdown",
   "id": "8875560d",
   "metadata": {},
   "source": [
    "## Definitions"
   ]
  },
  {
   "cell_type": "code",
   "execution_count": null,
   "id": "d8de6d40",
   "metadata": {},
   "outputs": [],
   "source": [
    "# | export\n",
    "__docformat__ = \"markdown\""
   ]
  },
  {
   "cell_type": "markdown",
   "id": "3d152b1d",
   "metadata": {},
   "source": [
    "### Scalar types"
   ]
  },
  {
   "cell_type": "code",
   "execution_count": null,
   "id": "33e6f8c4",
   "metadata": {},
   "outputs": [],
   "source": [
    "# | export\n",
    "\n",
    "\n",
    "class AgentApplicationSettingsErrorCollectorHttpStatus(sgqlc.types.Scalar):\n",
    "    __schema__ = nerdgraph"
   ]
  },
  {
   "cell_type": "code",
   "execution_count": null,
   "id": "5c82cd87",
   "metadata": {},
   "outputs": [],
   "source": [
    "# | export\n",
    "\n",
    "\n",
    "class AgentApplicationSettingsRawJsConfiguration(sgqlc.types.Scalar):\n",
    "    __schema__ = nerdgraph"
   ]
  },
  {
   "cell_type": "code",
   "execution_count": null,
   "id": "b9c67502",
   "metadata": {},
   "outputs": [],
   "source": [
    "# | export\n",
    "\n",
    "\n",
    "class AiDecisionsRuleExpression(sgqlc.types.Scalar):\n",
    "    __schema__ = nerdgraph"
   ]
  },
  {
   "cell_type": "code",
   "execution_count": null,
   "id": "2ce994a5",
   "metadata": {},
   "outputs": [],
   "source": [
    "# | export\n",
    "\n",
    "\n",
    "class AttributeMap(sgqlc.types.Scalar):\n",
    "    __schema__ = nerdgraph"
   ]
  },
  {
   "cell_type": "code",
   "execution_count": null,
   "id": "dad22984",
   "metadata": {},
   "outputs": [],
   "source": [
    "# | export\n",
    "Boolean = sgqlc.types.Boolean"
   ]
  },
  {
   "cell_type": "code",
   "execution_count": null,
   "id": "1be64154",
   "metadata": {},
   "outputs": [],
   "source": [
    "# | export\n",
    "\n",
    "\n",
    "class CollaborationRawContextMetadata(sgqlc.types.Scalar):\n",
    "    __schema__ = nerdgraph"
   ]
  },
  {
   "cell_type": "code",
   "execution_count": null,
   "id": "5125c173",
   "metadata": {},
   "outputs": [],
   "source": [
    "# | export\n",
    "\n",
    "\n",
    "class DashboardWidgetRawConfiguration(sgqlc.types.Scalar):\n",
    "    __schema__ = nerdgraph"
   ]
  },
  {
   "cell_type": "code",
   "execution_count": null,
   "id": "424457ae",
   "metadata": {},
   "outputs": [],
   "source": [
    "# | export\n",
    "Date = sgqlc.types.datetime.Date"
   ]
  },
  {
   "cell_type": "code",
   "execution_count": null,
   "id": "886f1696",
   "metadata": {},
   "outputs": [],
   "source": [
    "# | export\n",
    "DateTime = sgqlc.types.datetime.DateTime"
   ]
  },
  {
   "cell_type": "code",
   "execution_count": null,
   "id": "bbb7d152",
   "metadata": {},
   "outputs": [],
   "source": [
    "# | export\n",
    "\n",
    "\n",
    "class DistributedTracingSpanAttributes(sgqlc.types.Scalar):\n",
    "    __schema__ = nerdgraph"
   ]
  },
  {
   "cell_type": "code",
   "execution_count": null,
   "id": "b884b711",
   "metadata": {},
   "outputs": [],
   "source": [
    "# | export\n",
    "\n",
    "\n",
    "class EntityAlertViolationInt(sgqlc.types.Scalar):\n",
    "    __schema__ = nerdgraph"
   ]
  },
  {
   "cell_type": "code",
   "execution_count": null,
   "id": "d4b7055b",
   "metadata": {},
   "outputs": [],
   "source": [
    "# | export\n",
    "\n",
    "\n",
    "class EntityGuid(sgqlc.types.Scalar):\n",
    "    __schema__ = nerdgraph"
   ]
  },
  {
   "cell_type": "code",
   "execution_count": null,
   "id": "673285b9",
   "metadata": {},
   "outputs": [],
   "source": [
    "# | export\n",
    "\n",
    "\n",
    "class EntitySearchQuery(sgqlc.types.Scalar):\n",
    "    __schema__ = nerdgraph"
   ]
  },
  {
   "cell_type": "code",
   "execution_count": null,
   "id": "da16329d",
   "metadata": {},
   "outputs": [],
   "source": [
    "# | export\n",
    "\n",
    "\n",
    "class EpochMilliseconds(sgqlc.types.Scalar):\n",
    "    __schema__ = nerdgraph"
   ]
  },
  {
   "cell_type": "code",
   "execution_count": null,
   "id": "1bbbf071",
   "metadata": {},
   "outputs": [],
   "source": [
    "# | export\n",
    "\n",
    "\n",
    "class EpochSeconds(sgqlc.types.Scalar):\n",
    "    __schema__ = nerdgraph"
   ]
  },
  {
   "cell_type": "code",
   "execution_count": null,
   "id": "2c4f3ef4",
   "metadata": {},
   "outputs": [],
   "source": [
    "# | export\n",
    "\n",
    "\n",
    "class ErrorsInboxRawEvent(sgqlc.types.Scalar):\n",
    "    __schema__ = nerdgraph"
   ]
  },
  {
   "cell_type": "code",
   "execution_count": null,
   "id": "d5c0218d",
   "metadata": {},
   "outputs": [],
   "source": [
    "# | export\n",
    "Float = sgqlc.types.Float"
   ]
  },
  {
   "cell_type": "code",
   "execution_count": null,
   "id": "4e77af58",
   "metadata": {},
   "outputs": [],
   "source": [
    "# | export\n",
    "ID = sgqlc.types.ID"
   ]
  },
  {
   "cell_type": "code",
   "execution_count": null,
   "id": "7fe1e035",
   "metadata": {},
   "outputs": [],
   "source": [
    "# | export\n",
    "\n",
    "\n",
    "class InstallationRawMetadata(sgqlc.types.Scalar):\n",
    "    __schema__ = nerdgraph"
   ]
  },
  {
   "cell_type": "code",
   "execution_count": null,
   "id": "83088f2e",
   "metadata": {},
   "outputs": [],
   "source": [
    "# | export\n",
    "Int = sgqlc.types.Int"
   ]
  },
  {
   "cell_type": "code",
   "execution_count": null,
   "id": "663f8d28",
   "metadata": {},
   "outputs": [],
   "source": [
    "# | export\n",
    "\n",
    "\n",
    "class LogConfigurationsLogDataPartitionName(sgqlc.types.Scalar):\n",
    "    __schema__ = nerdgraph"
   ]
  },
  {
   "cell_type": "code",
   "execution_count": null,
   "id": "869519d1",
   "metadata": {},
   "outputs": [],
   "source": [
    "# | export\n",
    "\n",
    "\n",
    "class Milliseconds(sgqlc.types.Scalar):\n",
    "    __schema__ = nerdgraph"
   ]
  },
  {
   "cell_type": "code",
   "execution_count": null,
   "id": "688b78c7",
   "metadata": {},
   "outputs": [],
   "source": [
    "# | export\n",
    "\n",
    "\n",
    "class Minutes(sgqlc.types.Scalar):\n",
    "    __schema__ = nerdgraph"
   ]
  },
  {
   "cell_type": "code",
   "execution_count": null,
   "id": "4dc32759",
   "metadata": {},
   "outputs": [],
   "source": [
    "# | export\n",
    "\n",
    "\n",
    "class NaiveDateTime(sgqlc.types.Scalar):\n",
    "    __schema__ = nerdgraph"
   ]
  },
  {
   "cell_type": "code",
   "execution_count": null,
   "id": "0d68f107",
   "metadata": {},
   "outputs": [],
   "source": [
    "# | export\n",
    "\n",
    "\n",
    "class NerdStorageDocument(sgqlc.types.Scalar):\n",
    "    __schema__ = nerdgraph"
   ]
  },
  {
   "cell_type": "code",
   "execution_count": null,
   "id": "b026ed8f",
   "metadata": {},
   "outputs": [],
   "source": [
    "# | export\n",
    "\n",
    "\n",
    "class NerdpackTagName(sgqlc.types.Scalar):\n",
    "    __schema__ = nerdgraph"
   ]
  },
  {
   "cell_type": "code",
   "execution_count": null,
   "id": "57b77888",
   "metadata": {},
   "outputs": [],
   "source": [
    "# | export\n",
    "\n",
    "\n",
    "class Nr1CatalogRawNerdletState(sgqlc.types.Scalar):\n",
    "    __schema__ = nerdgraph"
   ]
  },
  {
   "cell_type": "code",
   "execution_count": null,
   "id": "1eaee2eb",
   "metadata": {},
   "outputs": [],
   "source": [
    "# | export\n",
    "\n",
    "\n",
    "class NrdbRawResults(sgqlc.types.Scalar):\n",
    "    __schema__ = nerdgraph"
   ]
  },
  {
   "cell_type": "code",
   "execution_count": null,
   "id": "c1607542",
   "metadata": {},
   "outputs": [],
   "source": [
    "# | export\n",
    "\n",
    "\n",
    "class NrdbResult(sgqlc.types.Scalar):\n",
    "    __schema__ = nerdgraph"
   ]
  },
  {
   "cell_type": "code",
   "execution_count": null,
   "id": "94cc738b",
   "metadata": {},
   "outputs": [],
   "source": [
    "# | export\n",
    "\n",
    "\n",
    "class Nrql(sgqlc.types.Scalar):\n",
    "    __schema__ = nerdgraph"
   ]
  },
  {
   "cell_type": "code",
   "execution_count": null,
   "id": "6331e418",
   "metadata": {},
   "outputs": [],
   "source": [
    "# | export\n",
    "\n",
    "\n",
    "class Seconds(sgqlc.types.Scalar):\n",
    "    __schema__ = nerdgraph"
   ]
  },
  {
   "cell_type": "code",
   "execution_count": null,
   "id": "bfe52a2e",
   "metadata": {},
   "outputs": [],
   "source": [
    "# | export\n",
    "\n",
    "\n",
    "class SecureValue(sgqlc.types.Scalar):\n",
    "    __schema__ = nerdgraph"
   ]
  },
  {
   "cell_type": "code",
   "execution_count": null,
   "id": "27d7cdc2",
   "metadata": {},
   "outputs": [],
   "source": [
    "# | export\n",
    "\n",
    "\n",
    "class SemVer(sgqlc.types.Scalar):\n",
    "    __schema__ = nerdgraph"
   ]
  },
  {
   "cell_type": "code",
   "execution_count": null,
   "id": "c813fce1",
   "metadata": {},
   "outputs": [],
   "source": [
    "# | export\n",
    "String = sgqlc.types.String"
   ]
  }
 ],
 "metadata": {
  "language_info": {
   "mimetype": "text/x-python",
   "name": "python"
  }
 },
 "nbformat": 4,
 "nbformat_minor": 5
}
