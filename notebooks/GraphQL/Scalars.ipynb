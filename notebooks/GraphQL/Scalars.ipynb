{
 "cells": [
  {
   "cell_type": "code",
   "execution_count": null,
   "id": "7fe8bbac",
   "metadata": {
    "tags": [
     "remove-cell"
    ]
   },
   "outputs": [],
   "source": [
    "# | default_exp graphql.scalars"
   ]
  },
  {
   "cell_type": "code",
   "execution_count": null,
   "id": "bb0d73cb",
   "metadata": {
    "tags": [
     "remove-cell"
    ]
   },
   "outputs": [],
   "source": [
    "# | export\n",
    "# pylint: disable=duplicate-code,unused-import,too-many-lines"
   ]
  },
  {
   "cell_type": "markdown",
   "id": "43f28446",
   "metadata": {},
   "source": [
    "# NerdGraph Scalar Types"
   ]
  },
  {
   "cell_type": "markdown",
   "id": "f4184e39",
   "metadata": {},
   "source": [
    "## Imports"
   ]
  },
  {
   "cell_type": "markdown",
   "id": "e146380d",
   "metadata": {},
   "source": [
    "Third-party modules"
   ]
  },
  {
   "cell_type": "code",
   "execution_count": null,
   "id": "6197c888",
   "metadata": {},
   "outputs": [],
   "source": [
    "# | export\n",
    "import sgqlc.types\n",
    "import sgqlc.types.datetime"
   ]
  },
  {
   "cell_type": "code",
   "execution_count": null,
   "id": "296100fc",
   "metadata": {},
   "outputs": [],
   "source": [
    "# | export\n",
    "from newrelic_sb_sdk.graphql import nerdgraph"
   ]
  },
  {
   "cell_type": "markdown",
   "id": "56079c79",
   "metadata": {},
   "source": [
    "## Definitions"
   ]
  },
  {
   "cell_type": "code",
   "execution_count": null,
   "id": "9ff00da9",
   "metadata": {},
   "outputs": [],
   "source": [
    "# | export\n",
    "__docformat__ = \"markdown\""
   ]
  },
  {
   "cell_type": "markdown",
   "id": "76399727",
   "metadata": {},
   "source": [
    "### Scalar types"
   ]
  },
  {
   "cell_type": "code",
   "execution_count": null,
   "id": "31dbe130",
   "metadata": {},
   "outputs": [],
   "source": [
    "# | export\n",
    "\n",
    "\n",
    "class AgentApplicationSettingsErrorCollectorHttpStatus(sgqlc.types.Scalar):\n",
    "    __schema__ = nerdgraph"
   ]
  },
  {
   "cell_type": "code",
   "execution_count": null,
   "id": "b5e0fae6",
   "metadata": {},
   "outputs": [],
   "source": [
    "# | export\n",
    "\n",
    "\n",
    "class AgentApplicationSettingsRawJsConfiguration(sgqlc.types.Scalar):\n",
    "    __schema__ = nerdgraph"
   ]
  },
  {
   "cell_type": "code",
   "execution_count": null,
   "id": "6b572f00",
   "metadata": {},
   "outputs": [],
   "source": [
    "# | export\n",
    "\n",
    "\n",
    "class AiDecisionsRuleExpression(sgqlc.types.Scalar):\n",
    "    __schema__ = nerdgraph"
   ]
  },
  {
   "cell_type": "code",
   "execution_count": null,
   "id": "e8c0efd1",
   "metadata": {},
   "outputs": [],
   "source": [
    "# | export\n",
    "\n",
    "\n",
    "class AttributeMap(sgqlc.types.Scalar):\n",
    "    __schema__ = nerdgraph"
   ]
  },
  {
   "cell_type": "code",
   "execution_count": null,
   "id": "b3455993",
   "metadata": {},
   "outputs": [],
   "source": [
    "# | export\n",
    "Boolean = sgqlc.types.Boolean"
   ]
  },
  {
   "cell_type": "code",
   "execution_count": null,
   "id": "cb36a2bd",
   "metadata": {},
   "outputs": [],
   "source": [
    "# | export\n",
    "\n",
    "\n",
    "class CollaborationRawContextMetadata(sgqlc.types.Scalar):\n",
    "    __schema__ = nerdgraph"
   ]
  },
  {
   "cell_type": "code",
   "execution_count": null,
   "id": "07cd7a53",
   "metadata": {},
   "outputs": [],
   "source": [
    "# | export\n",
    "\n",
    "\n",
    "class DashboardWidgetRawConfiguration(sgqlc.types.Scalar):\n",
    "    __schema__ = nerdgraph"
   ]
  },
  {
   "cell_type": "code",
   "execution_count": null,
   "id": "f2882d4d",
   "metadata": {},
   "outputs": [],
   "source": [
    "# | export\n",
    "Date = sgqlc.types.datetime.Date"
   ]
  },
  {
   "cell_type": "code",
   "execution_count": null,
   "id": "2a3b8d2a",
   "metadata": {},
   "outputs": [],
   "source": [
    "# | export\n",
    "DateTime = sgqlc.types.datetime.DateTime"
   ]
  },
  {
   "cell_type": "code",
   "execution_count": null,
   "id": "93510fd0",
   "metadata": {},
   "outputs": [],
   "source": [
    "# | export\n",
    "\n",
    "\n",
    "class DistributedTracingSpanAttributes(sgqlc.types.Scalar):\n",
    "    __schema__ = nerdgraph"
   ]
  },
  {
   "cell_type": "code",
   "execution_count": null,
   "id": "1e5fe4b6",
   "metadata": {},
   "outputs": [],
   "source": [
    "# | export\n",
    "\n",
    "\n",
    "class EntityAlertViolationInt(sgqlc.types.Scalar):\n",
    "    __schema__ = nerdgraph"
   ]
  },
  {
   "cell_type": "code",
   "execution_count": null,
   "id": "30183bef",
   "metadata": {},
   "outputs": [],
   "source": [
    "# | export\n",
    "\n",
    "\n",
    "class EntityGuid(sgqlc.types.Scalar):\n",
    "    __schema__ = nerdgraph"
   ]
  },
  {
   "cell_type": "code",
   "execution_count": null,
   "id": "0e722e34",
   "metadata": {},
   "outputs": [],
   "source": [
    "# | export\n",
    "\n",
    "\n",
    "class EntitySearchQuery(sgqlc.types.Scalar):\n",
    "    __schema__ = nerdgraph"
   ]
  },
  {
   "cell_type": "code",
   "execution_count": null,
   "id": "abfd6872",
   "metadata": {},
   "outputs": [],
   "source": [
    "# | export\n",
    "\n",
    "\n",
    "class EpochMilliseconds(sgqlc.types.Scalar):\n",
    "    __schema__ = nerdgraph"
   ]
  },
  {
   "cell_type": "code",
   "execution_count": null,
   "id": "22c7f866",
   "metadata": {},
   "outputs": [],
   "source": [
    "# | export\n",
    "\n",
    "\n",
    "class EpochSeconds(sgqlc.types.Scalar):\n",
    "    __schema__ = nerdgraph"
   ]
  },
  {
   "cell_type": "code",
   "execution_count": null,
   "id": "db58ddf1",
   "metadata": {},
   "outputs": [],
   "source": [
    "# | export\n",
    "\n",
    "\n",
    "class ErrorsInboxRawEvent(sgqlc.types.Scalar):\n",
    "    __schema__ = nerdgraph"
   ]
  },
  {
   "cell_type": "code",
   "execution_count": null,
   "id": "ea587843",
   "metadata": {},
   "outputs": [],
   "source": [
    "# | export\n",
    "Float = sgqlc.types.Float"
   ]
  },
  {
   "cell_type": "code",
   "execution_count": null,
   "id": "6652fb72",
   "metadata": {},
   "outputs": [],
   "source": [
    "# | export\n",
    "ID = sgqlc.types.ID"
   ]
  },
  {
   "cell_type": "code",
   "execution_count": null,
   "id": "c9b375f2",
   "metadata": {},
   "outputs": [],
   "source": [
    "# | export\n",
    "\n",
    "\n",
    "class InstallationRawMetadata(sgqlc.types.Scalar):\n",
    "    __schema__ = nerdgraph"
   ]
  },
  {
   "cell_type": "code",
   "execution_count": null,
   "id": "46e5112f",
   "metadata": {},
   "outputs": [],
   "source": [
    "# | export\n",
    "Int = sgqlc.types.Int"
   ]
  },
  {
   "cell_type": "code",
   "execution_count": null,
   "id": "b456a216",
   "metadata": {},
   "outputs": [],
   "source": [
    "# | export\n",
    "\n",
    "\n",
    "class LogConfigurationsLogDataPartitionName(sgqlc.types.Scalar):\n",
    "    __schema__ = nerdgraph"
   ]
  },
  {
   "cell_type": "code",
   "execution_count": null,
   "id": "72107b80",
   "metadata": {},
   "outputs": [],
   "source": [
    "# | export\n",
    "\n",
    "\n",
    "class Milliseconds(sgqlc.types.Scalar):\n",
    "    __schema__ = nerdgraph"
   ]
  },
  {
   "cell_type": "code",
   "execution_count": null,
   "id": "9036eddb",
   "metadata": {},
   "outputs": [],
   "source": [
    "# | export\n",
    "\n",
    "\n",
    "class Minutes(sgqlc.types.Scalar):\n",
    "    __schema__ = nerdgraph"
   ]
  },
  {
   "cell_type": "code",
   "execution_count": null,
   "id": "a38dde86",
   "metadata": {},
   "outputs": [],
   "source": [
    "# | export\n",
    "\n",
    "\n",
    "class NaiveDateTime(sgqlc.types.Scalar):\n",
    "    __schema__ = nerdgraph"
   ]
  },
  {
   "cell_type": "code",
   "execution_count": null,
   "id": "a3f96b44",
   "metadata": {},
   "outputs": [],
   "source": [
    "# | export\n",
    "\n",
    "\n",
    "class NerdStorageDocument(sgqlc.types.Scalar):\n",
    "    __schema__ = nerdgraph"
   ]
  },
  {
   "cell_type": "code",
   "execution_count": null,
   "id": "5851a56b",
   "metadata": {},
   "outputs": [],
   "source": [
    "# | export\n",
    "\n",
    "\n",
    "class NerdpackTagName(sgqlc.types.Scalar):\n",
    "    __schema__ = nerdgraph"
   ]
  },
  {
   "cell_type": "code",
   "execution_count": null,
   "id": "f467db8f",
   "metadata": {},
   "outputs": [],
   "source": [
    "# | export\n",
    "\n",
    "\n",
    "class Nr1CatalogRawNerdletState(sgqlc.types.Scalar):\n",
    "    __schema__ = nerdgraph"
   ]
  },
  {
   "cell_type": "code",
   "execution_count": null,
   "id": "d2853cd9",
   "metadata": {},
   "outputs": [],
   "source": [
    "# | export\n",
    "\n",
    "\n",
    "class NrdbRawResults(sgqlc.types.Scalar):\n",
    "    __schema__ = nerdgraph"
   ]
  },
  {
   "cell_type": "code",
   "execution_count": null,
   "id": "2768752b",
   "metadata": {},
   "outputs": [],
   "source": [
    "# | export\n",
    "\n",
    "\n",
    "class NrdbResult(sgqlc.types.Scalar):\n",
    "    __schema__ = nerdgraph"
   ]
  },
  {
   "cell_type": "code",
   "execution_count": null,
   "id": "52bf7e28",
   "metadata": {},
   "outputs": [],
   "source": [
    "# | export\n",
    "\n",
    "\n",
    "class Nrql(sgqlc.types.Scalar):\n",
    "    __schema__ = nerdgraph"
   ]
  },
  {
   "cell_type": "code",
   "execution_count": null,
   "id": "535ee7bc",
   "metadata": {},
   "outputs": [],
   "source": [
    "# | export\n",
    "\n",
    "\n",
    "class Seconds(sgqlc.types.Scalar):\n",
    "    __schema__ = nerdgraph"
   ]
  },
  {
   "cell_type": "code",
   "execution_count": null,
   "id": "3d20287e",
   "metadata": {},
   "outputs": [],
   "source": [
    "# | export\n",
    "\n",
    "\n",
    "class SecureValue(sgqlc.types.Scalar):\n",
    "    __schema__ = nerdgraph"
   ]
  },
  {
   "cell_type": "code",
   "execution_count": null,
   "id": "a177a550",
   "metadata": {},
   "outputs": [],
   "source": [
    "# | export\n",
    "\n",
    "\n",
    "class SemVer(sgqlc.types.Scalar):\n",
    "    __schema__ = nerdgraph"
   ]
  },
  {
   "cell_type": "code",
   "execution_count": null,
   "id": "e50c120d",
   "metadata": {},
   "outputs": [],
   "source": [
    "# | export\n",
    "String = sgqlc.types.String"
   ]
  }
 ],
 "metadata": {
  "language_info": {
   "mimetype": "text/x-python",
   "name": "python"
  }
 },
 "nbformat": 4,
 "nbformat_minor": 5
}
