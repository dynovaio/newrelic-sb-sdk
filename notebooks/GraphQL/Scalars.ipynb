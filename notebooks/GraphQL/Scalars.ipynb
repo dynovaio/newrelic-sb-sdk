{
 "cells": [
  {
   "cell_type": "code",
   "execution_count": null,
   "id": "85878eb6",
   "metadata": {
    "tags": [
     "remove-cell"
    ]
   },
   "outputs": [],
   "source": [
    "# | default_exp graphql.scalars"
   ]
  },
  {
   "cell_type": "code",
   "execution_count": null,
   "id": "3a6c9fd5",
   "metadata": {
    "tags": [
     "remove-cell"
    ]
   },
   "outputs": [],
   "source": [
    "# | export\n",
    "# pylint: disable=duplicate-code,unused-import,too-many-lines"
   ]
  },
  {
   "cell_type": "markdown",
   "id": "186f5c95",
   "metadata": {},
   "source": [
    "# NerdGraph Scalar Types"
   ]
  },
  {
   "cell_type": "markdown",
   "id": "bf5fb659",
   "metadata": {},
   "source": [
    "## Imports"
   ]
  },
  {
   "cell_type": "markdown",
   "id": "c8b729e5",
   "metadata": {},
   "source": [
    "Third-party modules"
   ]
  },
  {
   "cell_type": "code",
   "execution_count": null,
   "id": "062435c5",
   "metadata": {},
   "outputs": [],
   "source": [
    "# | export\n",
    "import sgqlc.types\n",
    "import sgqlc.types.datetime"
   ]
  },
  {
   "cell_type": "code",
   "execution_count": null,
   "id": "92dccb30",
   "metadata": {},
   "outputs": [],
   "source": [
    "# | export\n",
    "from newrelic_sb_sdk.graphql import nerdgraph"
   ]
  },
  {
   "cell_type": "markdown",
   "id": "43405b0a",
   "metadata": {},
   "source": [
    "## Definitions"
   ]
  },
  {
   "cell_type": "code",
   "execution_count": null,
   "id": "a4a91a7c",
   "metadata": {},
   "outputs": [],
   "source": [
    "# | export\n",
    "__docformat__ = \"markdown\""
   ]
  },
  {
   "cell_type": "markdown",
   "id": "a690481f",
   "metadata": {},
   "source": [
    "### Scalar types"
   ]
  },
  {
   "cell_type": "code",
   "execution_count": null,
   "id": "dddbbec4",
   "metadata": {},
   "outputs": [],
   "source": [
    "# | export\n",
    "\n",
    "\n",
    "class AgentApplicationSettingsErrorCollectorHttpStatus(sgqlc.types.Scalar):\n",
    "    __schema__ = nerdgraph"
   ]
  },
  {
   "cell_type": "code",
   "execution_count": null,
   "id": "1cb05a6d",
   "metadata": {},
   "outputs": [],
   "source": [
    "# | export\n",
    "\n",
    "\n",
    "class AgentApplicationSettingsRawJsConfiguration(sgqlc.types.Scalar):\n",
    "    __schema__ = nerdgraph"
   ]
  },
  {
   "cell_type": "code",
   "execution_count": null,
   "id": "cff05e0a",
   "metadata": {},
   "outputs": [],
   "source": [
    "# | export\n",
    "\n",
    "\n",
    "class AiDecisionsRuleExpression(sgqlc.types.Scalar):\n",
    "    __schema__ = nerdgraph"
   ]
  },
  {
   "cell_type": "code",
   "execution_count": null,
   "id": "b30cf453",
   "metadata": {},
   "outputs": [],
   "source": [
    "# | export\n",
    "\n",
    "\n",
    "class AttributeMap(sgqlc.types.Scalar):\n",
    "    __schema__ = nerdgraph"
   ]
  },
  {
   "cell_type": "code",
   "execution_count": null,
   "id": "efed7b18",
   "metadata": {},
   "outputs": [],
   "source": [
    "# | export\n",
    "Boolean = sgqlc.types.Boolean"
   ]
  },
  {
   "cell_type": "code",
   "execution_count": null,
   "id": "800fc83b",
   "metadata": {},
   "outputs": [],
   "source": [
    "# | export\n",
    "\n",
    "\n",
    "class CollaborationRawContextMetadata(sgqlc.types.Scalar):\n",
    "    __schema__ = nerdgraph"
   ]
  },
  {
   "cell_type": "code",
   "execution_count": null,
   "id": "86a5051c",
   "metadata": {},
   "outputs": [],
   "source": [
    "# | export\n",
    "\n",
    "\n",
    "class DashboardWidgetRawConfiguration(sgqlc.types.Scalar):\n",
    "    __schema__ = nerdgraph"
   ]
  },
  {
   "cell_type": "code",
   "execution_count": null,
   "id": "a2569504",
   "metadata": {},
   "outputs": [],
   "source": [
    "# | export\n",
    "Date = sgqlc.types.datetime.Date"
   ]
  },
  {
   "cell_type": "code",
   "execution_count": null,
   "id": "478a752e",
   "metadata": {},
   "outputs": [],
   "source": [
    "# | export\n",
    "DateTime = sgqlc.types.datetime.DateTime"
   ]
  },
  {
   "cell_type": "code",
   "execution_count": null,
   "id": "56c0479c",
   "metadata": {},
   "outputs": [],
   "source": [
    "# | export\n",
    "\n",
    "\n",
    "class DistributedTracingSpanAttributes(sgqlc.types.Scalar):\n",
    "    __schema__ = nerdgraph"
   ]
  },
  {
   "cell_type": "code",
   "execution_count": null,
   "id": "dbb77b79",
   "metadata": {},
   "outputs": [],
   "source": [
    "# | export\n",
    "\n",
    "\n",
    "class EntityAlertViolationInt(sgqlc.types.Scalar):\n",
    "    __schema__ = nerdgraph"
   ]
  },
  {
   "cell_type": "code",
   "execution_count": null,
   "id": "441249b5",
   "metadata": {},
   "outputs": [],
   "source": [
    "# | export\n",
    "\n",
    "\n",
    "class EntityGuid(sgqlc.types.Scalar):\n",
    "    __schema__ = nerdgraph"
   ]
  },
  {
   "cell_type": "code",
   "execution_count": null,
   "id": "2983b513",
   "metadata": {},
   "outputs": [],
   "source": [
    "# | export\n",
    "\n",
    "\n",
    "class EntitySearchQuery(sgqlc.types.Scalar):\n",
    "    __schema__ = nerdgraph"
   ]
  },
  {
   "cell_type": "code",
   "execution_count": null,
   "id": "361579b5",
   "metadata": {},
   "outputs": [],
   "source": [
    "# | export\n",
    "\n",
    "\n",
    "class EpochMilliseconds(sgqlc.types.Scalar):\n",
    "    __schema__ = nerdgraph"
   ]
  },
  {
   "cell_type": "code",
   "execution_count": null,
   "id": "216cbc1d",
   "metadata": {},
   "outputs": [],
   "source": [
    "# | export\n",
    "\n",
    "\n",
    "class EpochSeconds(sgqlc.types.Scalar):\n",
    "    __schema__ = nerdgraph"
   ]
  },
  {
   "cell_type": "code",
   "execution_count": null,
   "id": "7e20fc6c",
   "metadata": {},
   "outputs": [],
   "source": [
    "# | export\n",
    "\n",
    "\n",
    "class ErrorsInboxRawEvent(sgqlc.types.Scalar):\n",
    "    __schema__ = nerdgraph"
   ]
  },
  {
   "cell_type": "code",
   "execution_count": null,
   "id": "6ddb4415",
   "metadata": {},
   "outputs": [],
   "source": [
    "# | export\n",
    "Float = sgqlc.types.Float"
   ]
  },
  {
   "cell_type": "code",
   "execution_count": null,
   "id": "89aabc56",
   "metadata": {},
   "outputs": [],
   "source": [
    "# | export\n",
    "ID = sgqlc.types.ID"
   ]
  },
  {
   "cell_type": "code",
   "execution_count": null,
   "id": "31307eb2",
   "metadata": {},
   "outputs": [],
   "source": [
    "# | export\n",
    "\n",
    "\n",
    "class InstallationRawMetadata(sgqlc.types.Scalar):\n",
    "    __schema__ = nerdgraph"
   ]
  },
  {
   "cell_type": "code",
   "execution_count": null,
   "id": "9595729b",
   "metadata": {},
   "outputs": [],
   "source": [
    "# | export\n",
    "Int = sgqlc.types.Int"
   ]
  },
  {
   "cell_type": "code",
   "execution_count": null,
   "id": "14ebac84",
   "metadata": {},
   "outputs": [],
   "source": [
    "# | export\n",
    "\n",
    "\n",
    "class LogConfigurationsLogDataPartitionName(sgqlc.types.Scalar):\n",
    "    __schema__ = nerdgraph"
   ]
  },
  {
   "cell_type": "code",
   "execution_count": null,
   "id": "5ad16256",
   "metadata": {},
   "outputs": [],
   "source": [
    "# | export\n",
    "\n",
    "\n",
    "class Milliseconds(sgqlc.types.Scalar):\n",
    "    __schema__ = nerdgraph"
   ]
  },
  {
   "cell_type": "code",
   "execution_count": null,
   "id": "f614b44b",
   "metadata": {},
   "outputs": [],
   "source": [
    "# | export\n",
    "\n",
    "\n",
    "class Minutes(sgqlc.types.Scalar):\n",
    "    __schema__ = nerdgraph"
   ]
  },
  {
   "cell_type": "code",
   "execution_count": null,
   "id": "dc91ca6e",
   "metadata": {},
   "outputs": [],
   "source": [
    "# | export\n",
    "\n",
    "\n",
    "class NaiveDateTime(sgqlc.types.Scalar):\n",
    "    __schema__ = nerdgraph"
   ]
  },
  {
   "cell_type": "code",
   "execution_count": null,
   "id": "82318afd",
   "metadata": {},
   "outputs": [],
   "source": [
    "# | export\n",
    "\n",
    "\n",
    "class NerdStorageDocument(sgqlc.types.Scalar):\n",
    "    __schema__ = nerdgraph"
   ]
  },
  {
   "cell_type": "code",
   "execution_count": null,
   "id": "5cbd934a",
   "metadata": {},
   "outputs": [],
   "source": [
    "# | export\n",
    "\n",
    "\n",
    "class NerdpackTagName(sgqlc.types.Scalar):\n",
    "    __schema__ = nerdgraph"
   ]
  },
  {
   "cell_type": "code",
   "execution_count": null,
   "id": "f44a856c",
   "metadata": {},
   "outputs": [],
   "source": [
    "# | export\n",
    "\n",
    "\n",
    "class Nr1CatalogRawNerdletState(sgqlc.types.Scalar):\n",
    "    __schema__ = nerdgraph"
   ]
  },
  {
   "cell_type": "code",
   "execution_count": null,
   "id": "e1338caf",
   "metadata": {},
   "outputs": [],
   "source": [
    "# | export\n",
    "\n",
    "\n",
    "class NrdbRawResults(sgqlc.types.Scalar):\n",
    "    __schema__ = nerdgraph"
   ]
  },
  {
   "cell_type": "code",
   "execution_count": null,
   "id": "1d572d5b",
   "metadata": {},
   "outputs": [],
   "source": [
    "# | export\n",
    "\n",
    "\n",
    "class NrdbResult(sgqlc.types.Scalar):\n",
    "    __schema__ = nerdgraph"
   ]
  },
  {
   "cell_type": "code",
   "execution_count": null,
   "id": "2e350c86",
   "metadata": {},
   "outputs": [],
   "source": [
    "# | export\n",
    "\n",
    "\n",
    "class Nrql(sgqlc.types.Scalar):\n",
    "    __schema__ = nerdgraph"
   ]
  },
  {
   "cell_type": "code",
   "execution_count": null,
   "id": "f51e37ff",
   "metadata": {},
   "outputs": [],
   "source": [
    "# | export\n",
    "\n",
    "\n",
    "class Seconds(sgqlc.types.Scalar):\n",
    "    __schema__ = nerdgraph"
   ]
  },
  {
   "cell_type": "code",
   "execution_count": null,
   "id": "85f540ea",
   "metadata": {},
   "outputs": [],
   "source": [
    "# | export\n",
    "\n",
    "\n",
    "class SecureValue(sgqlc.types.Scalar):\n",
    "    __schema__ = nerdgraph"
   ]
  },
  {
   "cell_type": "code",
   "execution_count": null,
   "id": "01824761",
   "metadata": {},
   "outputs": [],
   "source": [
    "# | export\n",
    "\n",
    "\n",
    "class SemVer(sgqlc.types.Scalar):\n",
    "    __schema__ = nerdgraph"
   ]
  },
  {
   "cell_type": "code",
   "execution_count": null,
   "id": "5b7337a9",
   "metadata": {},
   "outputs": [],
   "source": [
    "# | export\n",
    "String = sgqlc.types.String"
   ]
  }
 ],
 "metadata": {
  "language_info": {
   "mimetype": "text/x-python",
   "name": "python"
  }
 },
 "nbformat": 4,
 "nbformat_minor": 5
}
