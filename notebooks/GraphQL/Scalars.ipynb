{
    "cells": [
        {
            "cell_type": "code",
            "execution_count": null,
            "id": "ff67cf43",
            "metadata": {},
            "outputs": [],
            "source": [
                "# default_exp graphql.scalars"
            ]
        },
        {
            "cell_type": "markdown",
            "id": "875f97df",
            "metadata": {},
            "source": [
                "# NerdGraph Scalar Types"
            ]
        },
        {
            "cell_type": "markdown",
            "id": "d55454b0",
            "metadata": {},
            "source": [
                "## Imports"
            ]
        },
        {
            "cell_type": "markdown",
            "id": "d3b61ab4",
            "metadata": {},
            "source": [
                "Third-party modules"
            ]
        },
        {
            "cell_type": "code",
            "execution_count": null,
            "id": "0a3844cd",
            "metadata": {},
            "outputs": [],
            "source": [
                "# export\n",
                "import sgqlc.types\n",
                "import sgqlc.types.datetime"
            ]
        },
        {
            "cell_type": "code",
            "execution_count": null,
            "id": "b13cc0aa",
            "metadata": {},
            "outputs": [],
            "source": [
                "# export\n",
                "from newrelic_sb_sdk.graphql import nerdgraph"
            ]
        },
        {
            "cell_type": "markdown",
            "id": "6730b57e",
            "metadata": {},
            "source": [
                "## Definitions"
            ]
        },
        {
            "cell_type": "code",
            "execution_count": null,
            "id": "66fc4b82",
            "metadata": {},
            "outputs": [],
            "source": [
                "# export\n",
                "__docformat__ = \"markdown\""
            ]
        },
        {
            "cell_type": "markdown",
            "id": "88c877f0",
            "metadata": {},
            "source": [
                "### Scalar types"
            ]
        },
        {
            "cell_type": "code",
            "execution_count": null,
            "id": "aba17c14",
            "metadata": {},
            "outputs": [],
            "source": [
                "# export\n",
                "class AgentApplicationSettingsErrorCollectorHttpStatus(sgqlc.types.Scalar):\n",
                "    '''A list of HTTP status codes, such as \"404\" or \"500\"'''\n",
                "\n",
                "    __schema__ = nerdgraph"
            ]
        },
        {
            "cell_type": "code",
            "execution_count": null,
            "id": "bc6085c4",
            "metadata": {},
            "outputs": [],
            "source": [
                "# export\n",
                "class AiDecisionsRuleExpression(sgqlc.types.Scalar):\n",
                "    \"\"\"Expression used for comparing incidents as part of a correlation.\"\"\"\n",
                "\n",
                "    __schema__ = nerdgraph"
            ]
        },
        {
            "cell_type": "code",
            "execution_count": null,
            "id": "b7791647",
            "metadata": {},
            "outputs": [],
            "source": [
                "# export\n",
                "class AttributeMap(sgqlc.types.Scalar):\n",
                "    \"\"\"This scalar represents a map of attributes in the form of key-\n",
                "    value pairs.\n",
                "    \"\"\"\n",
                "\n",
                "    __schema__ = nerdgraph"
            ]
        },
        {
            "cell_type": "code",
            "execution_count": null,
            "id": "56e60940",
            "metadata": {},
            "outputs": [],
            "source": [
                "# export\n",
                "Boolean = sgqlc.types.Boolean"
            ]
        },
        {
            "cell_type": "code",
            "execution_count": null,
            "id": "04317245",
            "metadata": {},
            "outputs": [],
            "source": [
                "# export\n",
                "class DashboardWidgetRawConfiguration(sgqlc.types.Scalar):\n",
                "    \"\"\"Raw JSON payload with full configuration of a widget.\"\"\"\n",
                "\n",
                "    __schema__ = nerdgraph"
            ]
        },
        {
            "cell_type": "code",
            "execution_count": null,
            "id": "2a50f1c5",
            "metadata": {},
            "outputs": [],
            "source": [
                "# export\n",
                "Date = sgqlc.types.datetime.Date"
            ]
        },
        {
            "cell_type": "code",
            "execution_count": null,
            "id": "01f49213",
            "metadata": {},
            "outputs": [],
            "source": [
                "# export\n",
                "DateTime = sgqlc.types.datetime.DateTime"
            ]
        },
        {
            "cell_type": "code",
            "execution_count": null,
            "id": "be33302a",
            "metadata": {},
            "outputs": [],
            "source": [
                "# export\n",
                "class DistributedTracingSpanAttributes(sgqlc.types.Scalar):\n",
                "    \"\"\"Map of key value pairs for a span\"\"\"\n",
                "\n",
                "    __schema__ = nerdgraph"
            ]
        },
        {
            "cell_type": "code",
            "execution_count": null,
            "id": "08f0495a",
            "metadata": {},
            "outputs": [],
            "source": [
                "# export\n",
                "class EntityGuid(sgqlc.types.Scalar):\n",
                "    \"\"\"An encoded Entity GUID\"\"\"\n",
                "\n",
                "    __schema__ = nerdgraph"
            ]
        },
        {
            "cell_type": "code",
            "execution_count": null,
            "id": "63b6182d",
            "metadata": {},
            "outputs": [],
            "source": [
                "# export\n",
                "class EntitySearchQuery(sgqlc.types.Scalar):\n",
                "    \"\"\"A query string using Entity Search query syntax\"\"\"\n",
                "\n",
                "    __schema__ = nerdgraph"
            ]
        },
        {
            "cell_type": "code",
            "execution_count": null,
            "id": "dee09939",
            "metadata": {},
            "outputs": [],
            "source": [
                "# export\n",
                "class EpochMilliseconds(sgqlc.types.Scalar):\n",
                "    \"\"\"The `EpochMilliseconds` scalar represents the number of\n",
                "    milliseconds since the Unix epoch\n",
                "    \"\"\"\n",
                "\n",
                "    __schema__ = nerdgraph"
            ]
        },
        {
            "cell_type": "code",
            "execution_count": null,
            "id": "18a977a7",
            "metadata": {},
            "outputs": [],
            "source": [
                "# export\n",
                "class EpochSeconds(sgqlc.types.Scalar):\n",
                "    \"\"\"The `EpochSeconds` scalar represents the number of seconds since\n",
                "    the Unix epoch\n",
                "    \"\"\"\n",
                "\n",
                "    __schema__ = nerdgraph"
            ]
        },
        {
            "cell_type": "code",
            "execution_count": null,
            "id": "ad2f2d73",
            "metadata": {},
            "outputs": [],
            "source": [
                "# export\n",
                "Float = sgqlc.types.Float"
            ]
        },
        {
            "cell_type": "code",
            "execution_count": null,
            "id": "ad165b1e",
            "metadata": {},
            "outputs": [],
            "source": [
                "# export\n",
                "ID = sgqlc.types.ID"
            ]
        },
        {
            "cell_type": "code",
            "execution_count": null,
            "id": "e364ff7c",
            "metadata": {},
            "outputs": [],
            "source": [
                "# export\n",
                "class InstallationRawMetadata(sgqlc.types.Scalar):\n",
                "    \"\"\"An arbitrary key:value object containing additional data related\n",
                "    to the environment where the installation occurred.\n",
                "    \"\"\"\n",
                "\n",
                "    __schema__ = nerdgraph"
            ]
        },
        {
            "cell_type": "code",
            "execution_count": null,
            "id": "5a82a327",
            "metadata": {},
            "outputs": [],
            "source": [
                "# export\n",
                "Int = sgqlc.types.Int"
            ]
        },
        {
            "cell_type": "code",
            "execution_count": null,
            "id": "572d3f71",
            "metadata": {},
            "outputs": [],
            "source": [
                "# export\n",
                "class LogConfigurationsLogDataPartitionName(sgqlc.types.Scalar):\n",
                "    \"\"\"The name of a log data partition. Has to start with 'Log_' prefix\n",
                "    and can only contain alphanumeric characters and underscores.\n",
                "    \"\"\"\n",
                "\n",
                "    __schema__ = nerdgraph"
            ]
        },
        {
            "cell_type": "code",
            "execution_count": null,
            "id": "beb3630d",
            "metadata": {},
            "outputs": [],
            "source": [
                "# export\n",
                "class Milliseconds(sgqlc.types.Scalar):\n",
                "    \"\"\"The `Milliseconds` scalar represents a duration in milliseconds\"\"\"\n",
                "\n",
                "    __schema__ = nerdgraph"
            ]
        },
        {
            "cell_type": "code",
            "execution_count": null,
            "id": "f792d558",
            "metadata": {},
            "outputs": [],
            "source": [
                "# export\n",
                "class Minutes(sgqlc.types.Scalar):\n",
                "    \"\"\"The `Minutes` scalar represents a duration in minutes\"\"\"\n",
                "\n",
                "    __schema__ = nerdgraph"
            ]
        },
        {
            "cell_type": "code",
            "execution_count": null,
            "id": "187fd3e3",
            "metadata": {},
            "outputs": [],
            "source": [
                "# export\n",
                "class NaiveDateTime(sgqlc.types.Scalar):\n",
                "    \"\"\"The `NaiveDateTime` scalar represents a date and time without a\n",
                "    Time Zone. The `NaiveDateTime` appears as an ISO8601 formatted\n",
                "    string.\n",
                "    \"\"\"\n",
                "\n",
                "    __schema__ = nerdgraph"
            ]
        },
        {
            "cell_type": "code",
            "execution_count": null,
            "id": "ebd0170c",
            "metadata": {},
            "outputs": [],
            "source": [
                "# export\n",
                "class NerdStorageDocument(sgqlc.types.Scalar):\n",
                "    \"\"\"This scalar represents a NerdStorage document.\"\"\"\n",
                "\n",
                "    __schema__ = nerdgraph"
            ]
        },
        {
            "cell_type": "code",
            "execution_count": null,
            "id": "f33c9e9e",
            "metadata": {},
            "outputs": [],
            "source": [
                "# export\n",
                "class NerdpackTagName(sgqlc.types.Scalar):\n",
                "    \"\"\"A string representing a nerdpack tag.\"\"\"\n",
                "\n",
                "    __schema__ = nerdgraph"
            ]
        },
        {
            "cell_type": "code",
            "execution_count": null,
            "id": "bab14cd1",
            "metadata": {},
            "outputs": [],
            "source": [
                "# export\n",
                "class Nr1CatalogRawNerdletState(sgqlc.types.Scalar):\n",
                "    \"\"\"Represents JSON nerdlet state data\"\"\"\n",
                "\n",
                "    __schema__ = nerdgraph"
            ]
        },
        {
            "cell_type": "code",
            "execution_count": null,
            "id": "6a440cc6",
            "metadata": {},
            "outputs": [],
            "source": [
                "# export\n",
                "class NrdbRawResults(sgqlc.types.Scalar):\n",
                "    \"\"\"This scalar represents the raw nrql query results as returned from\n",
                "    NRDB. It is a `Map` of `String` keys to values.  The shape of\n",
                "    these objects reflect the query used to generate them, the\n",
                "    contents of the objects is not part of the GraphQL schema.\n",
                "    \"\"\"\n",
                "\n",
                "    __schema__ = nerdgraph"
            ]
        },
        {
            "cell_type": "code",
            "execution_count": null,
            "id": "8592f49f",
            "metadata": {},
            "outputs": [],
            "source": [
                "# export\n",
                "class NrdbResult(sgqlc.types.Scalar):\n",
                "    \"\"\"This scalar represents a NRDB Result. It is a `Map` of `String`\n",
                "    keys to values.  The shape of these objects reflect the query used\n",
                "    to generate them, the contents of the objects is not part of the\n",
                "    GraphQL schema.\n",
                "    \"\"\"\n",
                "\n",
                "    __schema__ = nerdgraph"
            ]
        },
        {
            "cell_type": "code",
            "execution_count": null,
            "id": "3543f857",
            "metadata": {},
            "outputs": [],
            "source": [
                "# export\n",
                "class Nrql(sgqlc.types.Scalar):\n",
                "    \"\"\"This scalar represents a NRQL query string.  See the [NRQL\n",
                "    Docs](https://docs.newrelic.com/docs/insights/nrql-new-relic-\n",
                "    query-language/nrql-resources/nrql-syntax-components-functions)\n",
                "    for more information about NRQL syntax.\n",
                "    \"\"\"\n",
                "\n",
                "    __schema__ = nerdgraph"
            ]
        },
        {
            "cell_type": "code",
            "execution_count": null,
            "id": "cfa0f5be",
            "metadata": {},
            "outputs": [],
            "source": [
                "# export\n",
                "class OpenInstallationJson(sgqlc.types.Scalar):\n",
                "    \"\"\"The `JSON` scalar type represents JSON values as specified by\n",
                "    [ECMA-404](http://www.ecma-\n",
                "    international.org/publications/files/ECMA-ST/ECMA-404.pdf).\n",
                "    \"\"\"\n",
                "\n",
                "    __schema__ = nerdgraph"
            ]
        },
        {
            "cell_type": "code",
            "execution_count": null,
            "id": "17fbb98c",
            "metadata": {},
            "outputs": [],
            "source": [
                "# export\n",
                "class Seconds(sgqlc.types.Scalar):\n",
                "    \"\"\"The `Seconds` scalar represents a duration in seconds\"\"\"\n",
                "\n",
                "    __schema__ = nerdgraph"
            ]
        },
        {
            "cell_type": "code",
            "execution_count": null,
            "id": "b0fb0a0f",
            "metadata": {},
            "outputs": [],
            "source": [
                "# export\n",
                "class SecureValue(sgqlc.types.Scalar):\n",
                "    \"\"\"The `SecureValue` scalar represents a secure value, ie a password,\n",
                "    an API key, etc.\n",
                "    \"\"\"\n",
                "\n",
                "    __schema__ = nerdgraph"
            ]
        },
        {
            "cell_type": "code",
            "execution_count": null,
            "id": "5c48ca6a",
            "metadata": {},
            "outputs": [],
            "source": [
                "# export\n",
                "class SemVer(sgqlc.types.Scalar):\n",
                "    \"\"\"The `SemVer` scalar represents a version designation conforming to\n",
                "    the SemVer specification.\n",
                "    \"\"\"\n",
                "\n",
                "    __schema__ = nerdgraph"
            ]
        },
        {
            "cell_type": "code",
            "execution_count": null,
            "id": "5a66c24b",
            "metadata": {},
            "outputs": [],
            "source": [
                "# export\n",
                "String = sgqlc.types.String"
            ]
        }
    ],
    "metadata": {},
    "nbformat": 4,
    "nbformat_minor": 5
}
