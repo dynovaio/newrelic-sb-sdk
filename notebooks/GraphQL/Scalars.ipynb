{
 "cells": [
  {
   "cell_type": "code",
   "execution_count": null,
   "id": "a95c94b0",
   "metadata": {
    "tags": [
     "remove-cell"
    ]
   },
   "outputs": [],
   "source": [
    "# | default_exp graphql.scalars"
   ]
  },
  {
   "cell_type": "code",
   "execution_count": null,
   "id": "88700884",
   "metadata": {
    "tags": [
     "remove-cell"
    ]
   },
   "outputs": [],
   "source": [
    "# | export\n",
    "# pylint: disable=duplicate-code,unused-import,too-many-lines"
   ]
  },
  {
   "cell_type": "markdown",
   "id": "2cc68022",
   "metadata": {},
   "source": [
    "# NerdGraph Scalar Types"
   ]
  },
  {
   "cell_type": "markdown",
   "id": "8642460f",
   "metadata": {},
   "source": [
    "## Imports"
   ]
  },
  {
   "cell_type": "markdown",
   "id": "460e70fc",
   "metadata": {},
   "source": [
    "Third-party modules"
   ]
  },
  {
   "cell_type": "code",
   "execution_count": null,
   "id": "0335f15f",
   "metadata": {},
   "outputs": [],
   "source": [
    "# | export\n",
    "import sgqlc.types\n",
    "import sgqlc.types.datetime"
   ]
  },
  {
   "cell_type": "code",
   "execution_count": null,
   "id": "e7cb18ba",
   "metadata": {},
   "outputs": [],
   "source": [
    "# | export\n",
    "from newrelic_sb_sdk.graphql import nerdgraph"
   ]
  },
  {
   "cell_type": "markdown",
   "id": "1b948b6c",
   "metadata": {},
   "source": [
    "## Definitions"
   ]
  },
  {
   "cell_type": "code",
   "execution_count": null,
   "id": "4c35e4c5",
   "metadata": {},
   "outputs": [],
   "source": [
    "# | export\n",
    "__docformat__ = \"markdown\""
   ]
  },
  {
   "cell_type": "markdown",
   "id": "fa6d7033",
   "metadata": {},
   "source": [
    "### Scalar types"
   ]
  },
  {
   "cell_type": "code",
   "execution_count": null,
   "id": "01a00d90",
   "metadata": {},
   "outputs": [],
   "source": [
    "# | export\n",
    "\n",
    "\n",
    "class AgentApplicationSettingsErrorCollectorHttpStatus(sgqlc.types.Scalar):\n",
    "    __schema__ = nerdgraph"
   ]
  },
  {
   "cell_type": "code",
   "execution_count": null,
   "id": "ad73d431",
   "metadata": {},
   "outputs": [],
   "source": [
    "# | export\n",
    "\n",
    "\n",
    "class AgentApplicationSettingsRawJsConfiguration(sgqlc.types.Scalar):\n",
    "    __schema__ = nerdgraph"
   ]
  },
  {
   "cell_type": "code",
   "execution_count": null,
   "id": "0e751dc2",
   "metadata": {},
   "outputs": [],
   "source": [
    "# | export\n",
    "\n",
    "\n",
    "class AiDecisionsRuleExpression(sgqlc.types.Scalar):\n",
    "    __schema__ = nerdgraph"
   ]
  },
  {
   "cell_type": "code",
   "execution_count": null,
   "id": "0457db4b",
   "metadata": {},
   "outputs": [],
   "source": [
    "# | export\n",
    "\n",
    "\n",
    "class AttributeMap(sgqlc.types.Scalar):\n",
    "    __schema__ = nerdgraph"
   ]
  },
  {
   "cell_type": "code",
   "execution_count": null,
   "id": "78ec63c1",
   "metadata": {},
   "outputs": [],
   "source": [
    "# | export\n",
    "Boolean = sgqlc.types.Boolean"
   ]
  },
  {
   "cell_type": "code",
   "execution_count": null,
   "id": "c41b00e7",
   "metadata": {},
   "outputs": [],
   "source": [
    "# | export\n",
    "\n",
    "\n",
    "class DashboardWidgetRawConfiguration(sgqlc.types.Scalar):\n",
    "    __schema__ = nerdgraph"
   ]
  },
  {
   "cell_type": "code",
   "execution_count": null,
   "id": "e1b4c712",
   "metadata": {},
   "outputs": [],
   "source": [
    "# | export\n",
    "Date = sgqlc.types.datetime.Date"
   ]
  },
  {
   "cell_type": "code",
   "execution_count": null,
   "id": "7ff2f869",
   "metadata": {},
   "outputs": [],
   "source": [
    "# | export\n",
    "DateTime = sgqlc.types.datetime.DateTime"
   ]
  },
  {
   "cell_type": "code",
   "execution_count": null,
   "id": "363529f1",
   "metadata": {},
   "outputs": [],
   "source": [
    "# | export\n",
    "\n",
    "\n",
    "class DistributedTracingSpanAttributes(sgqlc.types.Scalar):\n",
    "    __schema__ = nerdgraph"
   ]
  },
  {
   "cell_type": "code",
   "execution_count": null,
   "id": "c2060a35",
   "metadata": {},
   "outputs": [],
   "source": [
    "# | export\n",
    "\n",
    "\n",
    "class EntityAlertViolationInt(sgqlc.types.Scalar):\n",
    "    __schema__ = nerdgraph"
   ]
  },
  {
   "cell_type": "code",
   "execution_count": null,
   "id": "98d86f9a",
   "metadata": {},
   "outputs": [],
   "source": [
    "# | export\n",
    "\n",
    "\n",
    "class EntityGuid(sgqlc.types.Scalar):\n",
    "    __schema__ = nerdgraph"
   ]
  },
  {
   "cell_type": "code",
   "execution_count": null,
   "id": "9eef2ffe",
   "metadata": {},
   "outputs": [],
   "source": [
    "# | export\n",
    "\n",
    "\n",
    "class EntitySearchQuery(sgqlc.types.Scalar):\n",
    "    __schema__ = nerdgraph"
   ]
  },
  {
   "cell_type": "code",
   "execution_count": null,
   "id": "35044f3e",
   "metadata": {},
   "outputs": [],
   "source": [
    "# | export\n",
    "\n",
    "\n",
    "class EpochMilliseconds(sgqlc.types.Scalar):\n",
    "    __schema__ = nerdgraph"
   ]
  },
  {
   "cell_type": "code",
   "execution_count": null,
   "id": "4658514e",
   "metadata": {},
   "outputs": [],
   "source": [
    "# | export\n",
    "\n",
    "\n",
    "class EpochSeconds(sgqlc.types.Scalar):\n",
    "    __schema__ = nerdgraph"
   ]
  },
  {
   "cell_type": "code",
   "execution_count": null,
   "id": "5df765d7",
   "metadata": {},
   "outputs": [],
   "source": [
    "# | export\n",
    "Float = sgqlc.types.Float"
   ]
  },
  {
   "cell_type": "code",
   "execution_count": null,
   "id": "ae57a7cb",
   "metadata": {},
   "outputs": [],
   "source": [
    "# | export\n",
    "ID = sgqlc.types.ID"
   ]
  },
  {
   "cell_type": "code",
   "execution_count": null,
   "id": "c6047233",
   "metadata": {},
   "outputs": [],
   "source": [
    "# | export\n",
    "\n",
    "\n",
    "class InstallationRawMetadata(sgqlc.types.Scalar):\n",
    "    __schema__ = nerdgraph"
   ]
  },
  {
   "cell_type": "code",
   "execution_count": null,
   "id": "59c2901d",
   "metadata": {},
   "outputs": [],
   "source": [
    "# | export\n",
    "Int = sgqlc.types.Int"
   ]
  },
  {
   "cell_type": "code",
   "execution_count": null,
   "id": "06ad5a48",
   "metadata": {},
   "outputs": [],
   "source": [
    "# | export\n",
    "\n",
    "\n",
    "class LogConfigurationsLogDataPartitionName(sgqlc.types.Scalar):\n",
    "    __schema__ = nerdgraph"
   ]
  },
  {
   "cell_type": "code",
   "execution_count": null,
   "id": "23decb3c",
   "metadata": {},
   "outputs": [],
   "source": [
    "# | export\n",
    "\n",
    "\n",
    "class Milliseconds(sgqlc.types.Scalar):\n",
    "    __schema__ = nerdgraph"
   ]
  },
  {
   "cell_type": "code",
   "execution_count": null,
   "id": "537dfd7f",
   "metadata": {},
   "outputs": [],
   "source": [
    "# | export\n",
    "\n",
    "\n",
    "class Minutes(sgqlc.types.Scalar):\n",
    "    __schema__ = nerdgraph"
   ]
  },
  {
   "cell_type": "code",
   "execution_count": null,
   "id": "1ae80bba",
   "metadata": {},
   "outputs": [],
   "source": [
    "# | export\n",
    "\n",
    "\n",
    "class NaiveDateTime(sgqlc.types.Scalar):\n",
    "    __schema__ = nerdgraph"
   ]
  },
  {
   "cell_type": "code",
   "execution_count": null,
   "id": "94a2fbb2",
   "metadata": {},
   "outputs": [],
   "source": [
    "# | export\n",
    "\n",
    "\n",
    "class NerdStorageDocument(sgqlc.types.Scalar):\n",
    "    __schema__ = nerdgraph"
   ]
  },
  {
   "cell_type": "code",
   "execution_count": null,
   "id": "a2f70379",
   "metadata": {},
   "outputs": [],
   "source": [
    "# | export\n",
    "\n",
    "\n",
    "class NerdpackTagName(sgqlc.types.Scalar):\n",
    "    __schema__ = nerdgraph"
   ]
  },
  {
   "cell_type": "code",
   "execution_count": null,
   "id": "770ad9eb",
   "metadata": {},
   "outputs": [],
   "source": [
    "# | export\n",
    "\n",
    "\n",
    "class Nr1CatalogRawNerdletState(sgqlc.types.Scalar):\n",
    "    __schema__ = nerdgraph"
   ]
  },
  {
   "cell_type": "code",
   "execution_count": null,
   "id": "a95dfb61",
   "metadata": {},
   "outputs": [],
   "source": [
    "# | export\n",
    "\n",
    "\n",
    "class NrdbRawResults(sgqlc.types.Scalar):\n",
    "    __schema__ = nerdgraph"
   ]
  },
  {
   "cell_type": "code",
   "execution_count": null,
   "id": "ae8f7fcb",
   "metadata": {},
   "outputs": [],
   "source": [
    "# | export\n",
    "\n",
    "\n",
    "class NrdbResult(sgqlc.types.Scalar):\n",
    "    __schema__ = nerdgraph"
   ]
  },
  {
   "cell_type": "code",
   "execution_count": null,
   "id": "558aa8a8",
   "metadata": {},
   "outputs": [],
   "source": [
    "# | export\n",
    "\n",
    "\n",
    "class Nrql(sgqlc.types.Scalar):\n",
    "    __schema__ = nerdgraph"
   ]
  },
  {
   "cell_type": "code",
   "execution_count": null,
   "id": "8f5fadc1",
   "metadata": {},
   "outputs": [],
   "source": [
    "# | export\n",
    "\n",
    "\n",
    "class Seconds(sgqlc.types.Scalar):\n",
    "    __schema__ = nerdgraph"
   ]
  },
  {
   "cell_type": "code",
   "execution_count": null,
   "id": "c3bd6d5f",
   "metadata": {},
   "outputs": [],
   "source": [
    "# | export\n",
    "\n",
    "\n",
    "class SecureValue(sgqlc.types.Scalar):\n",
    "    __schema__ = nerdgraph"
   ]
  },
  {
   "cell_type": "code",
   "execution_count": null,
   "id": "723fa4fb",
   "metadata": {},
   "outputs": [],
   "source": [
    "# | export\n",
    "\n",
    "\n",
    "class SemVer(sgqlc.types.Scalar):\n",
    "    __schema__ = nerdgraph"
   ]
  },
  {
   "cell_type": "code",
   "execution_count": null,
   "id": "85c947fa",
   "metadata": {},
   "outputs": [],
   "source": [
    "# | export\n",
    "String = sgqlc.types.String"
   ]
  }
 ],
 "metadata": {
  "language_info": {
   "mimetype": "text/x-python",
   "name": "python"
  }
 },
 "nbformat": 4,
 "nbformat_minor": 5
}
