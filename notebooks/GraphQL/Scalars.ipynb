{
 "cells": [
  {
   "cell_type": "code",
   "execution_count": null,
   "id": "687164ad",
   "metadata": {
    "tags": [
     "remove-cell"
    ]
   },
   "outputs": [],
   "source": [
    "# | default_exp graphql.scalars"
   ]
  },
  {
   "cell_type": "code",
   "execution_count": null,
   "id": "e171363c",
   "metadata": {
    "tags": [
     "remove-cell"
    ]
   },
   "outputs": [],
   "source": [
    "# | export\n",
    "# pylint: disable=duplicate-code,unused-import,too-many-lines"
   ]
  },
  {
   "cell_type": "markdown",
   "id": "e0e34f64",
   "metadata": {},
   "source": [
    "# NerdGraph Scalar Types"
   ]
  },
  {
   "cell_type": "markdown",
   "id": "03df29c0",
   "metadata": {},
   "source": [
    "## Imports"
   ]
  },
  {
   "cell_type": "markdown",
   "id": "5ddefec2",
   "metadata": {},
   "source": [
    "Third-party modules"
   ]
  },
  {
   "cell_type": "code",
   "execution_count": null,
   "id": "5cd85f6f",
   "metadata": {},
   "outputs": [],
   "source": [
    "# | export\n",
    "import sgqlc.types\n",
    "import sgqlc.types.datetime"
   ]
  },
  {
   "cell_type": "code",
   "execution_count": null,
   "id": "0d263363",
   "metadata": {},
   "outputs": [],
   "source": [
    "# | export\n",
    "from newrelic_sb_sdk.graphql import nerdgraph"
   ]
  },
  {
   "cell_type": "markdown",
   "id": "ff0d0a9f",
   "metadata": {},
   "source": [
    "## Definitions"
   ]
  },
  {
   "cell_type": "code",
   "execution_count": null,
   "id": "74074134",
   "metadata": {},
   "outputs": [],
   "source": [
    "# | export\n",
    "__docformat__ = \"markdown\""
   ]
  },
  {
   "cell_type": "markdown",
   "id": "98f688ad",
   "metadata": {},
   "source": [
    "### Scalar types"
   ]
  },
  {
   "cell_type": "code",
   "execution_count": null,
   "id": "90a90129",
   "metadata": {},
   "outputs": [],
   "source": [
    "# | export\n",
    "\n",
    "\n",
    "class AgentApplicationSettingsErrorCollectorHttpStatus(sgqlc.types.Scalar):\n",
    "    __schema__ = nerdgraph"
   ]
  },
  {
   "cell_type": "code",
   "execution_count": null,
   "id": "4ac4c52c",
   "metadata": {},
   "outputs": [],
   "source": [
    "# | export\n",
    "\n",
    "\n",
    "class AgentApplicationSettingsRawJsConfiguration(sgqlc.types.Scalar):\n",
    "    __schema__ = nerdgraph"
   ]
  },
  {
   "cell_type": "code",
   "execution_count": null,
   "id": "3d52389c",
   "metadata": {},
   "outputs": [],
   "source": [
    "# | export\n",
    "\n",
    "\n",
    "class AiDecisionsRuleExpression(sgqlc.types.Scalar):\n",
    "    __schema__ = nerdgraph"
   ]
  },
  {
   "cell_type": "code",
   "execution_count": null,
   "id": "5c49d5a7",
   "metadata": {},
   "outputs": [],
   "source": [
    "# | export\n",
    "\n",
    "\n",
    "class AttributeMap(sgqlc.types.Scalar):\n",
    "    __schema__ = nerdgraph"
   ]
  },
  {
   "cell_type": "code",
   "execution_count": null,
   "id": "148f289a",
   "metadata": {},
   "outputs": [],
   "source": [
    "# | export\n",
    "Boolean = sgqlc.types.Boolean"
   ]
  },
  {
   "cell_type": "code",
   "execution_count": null,
   "id": "29875344",
   "metadata": {},
   "outputs": [],
   "source": [
    "# | export\n",
    "\n",
    "\n",
    "class DashboardWidgetRawConfiguration(sgqlc.types.Scalar):\n",
    "    __schema__ = nerdgraph"
   ]
  },
  {
   "cell_type": "code",
   "execution_count": null,
   "id": "e1ff9691",
   "metadata": {},
   "outputs": [],
   "source": [
    "# | export\n",
    "Date = sgqlc.types.datetime.Date"
   ]
  },
  {
   "cell_type": "code",
   "execution_count": null,
   "id": "15c1b11f",
   "metadata": {},
   "outputs": [],
   "source": [
    "# | export\n",
    "DateTime = sgqlc.types.datetime.DateTime"
   ]
  },
  {
   "cell_type": "code",
   "execution_count": null,
   "id": "b5222bc2",
   "metadata": {},
   "outputs": [],
   "source": [
    "# | export\n",
    "\n",
    "\n",
    "class DistributedTracingSpanAttributes(sgqlc.types.Scalar):\n",
    "    __schema__ = nerdgraph"
   ]
  },
  {
   "cell_type": "code",
   "execution_count": null,
   "id": "561d30f3",
   "metadata": {},
   "outputs": [],
   "source": [
    "# | export\n",
    "\n",
    "\n",
    "class EntityAlertViolationInt(sgqlc.types.Scalar):\n",
    "    __schema__ = nerdgraph"
   ]
  },
  {
   "cell_type": "code",
   "execution_count": null,
   "id": "a663a302",
   "metadata": {},
   "outputs": [],
   "source": [
    "# | export\n",
    "\n",
    "\n",
    "class EntityGuid(sgqlc.types.Scalar):\n",
    "    __schema__ = nerdgraph"
   ]
  },
  {
   "cell_type": "code",
   "execution_count": null,
   "id": "e381bdb0",
   "metadata": {},
   "outputs": [],
   "source": [
    "# | export\n",
    "\n",
    "\n",
    "class EntitySearchQuery(sgqlc.types.Scalar):\n",
    "    __schema__ = nerdgraph"
   ]
  },
  {
   "cell_type": "code",
   "execution_count": null,
   "id": "31b3bf1a",
   "metadata": {},
   "outputs": [],
   "source": [
    "# | export\n",
    "\n",
    "\n",
    "class EpochMilliseconds(sgqlc.types.Scalar):\n",
    "    __schema__ = nerdgraph"
   ]
  },
  {
   "cell_type": "code",
   "execution_count": null,
   "id": "eac7ffc3",
   "metadata": {},
   "outputs": [],
   "source": [
    "# | export\n",
    "\n",
    "\n",
    "class EpochSeconds(sgqlc.types.Scalar):\n",
    "    __schema__ = nerdgraph"
   ]
  },
  {
   "cell_type": "code",
   "execution_count": null,
   "id": "3e56e5cc",
   "metadata": {},
   "outputs": [],
   "source": [
    "# | export\n",
    "\n",
    "\n",
    "class ErrorsInboxRawEvent(sgqlc.types.Scalar):\n",
    "    __schema__ = nerdgraph"
   ]
  },
  {
   "cell_type": "code",
   "execution_count": null,
   "id": "6ca174d4",
   "metadata": {},
   "outputs": [],
   "source": [
    "# | export\n",
    "Float = sgqlc.types.Float"
   ]
  },
  {
   "cell_type": "code",
   "execution_count": null,
   "id": "f717324b",
   "metadata": {},
   "outputs": [],
   "source": [
    "# | export\n",
    "ID = sgqlc.types.ID"
   ]
  },
  {
   "cell_type": "code",
   "execution_count": null,
   "id": "a309e707",
   "metadata": {},
   "outputs": [],
   "source": [
    "# | export\n",
    "\n",
    "\n",
    "class InstallationRawMetadata(sgqlc.types.Scalar):\n",
    "    __schema__ = nerdgraph"
   ]
  },
  {
   "cell_type": "code",
   "execution_count": null,
   "id": "9b6c3b0b",
   "metadata": {},
   "outputs": [],
   "source": [
    "# | export\n",
    "Int = sgqlc.types.Int"
   ]
  },
  {
   "cell_type": "code",
   "execution_count": null,
   "id": "f65c6921",
   "metadata": {},
   "outputs": [],
   "source": [
    "# | export\n",
    "\n",
    "\n",
    "class LogConfigurationsLogDataPartitionName(sgqlc.types.Scalar):\n",
    "    __schema__ = nerdgraph"
   ]
  },
  {
   "cell_type": "code",
   "execution_count": null,
   "id": "fd7b8b02",
   "metadata": {},
   "outputs": [],
   "source": [
    "# | export\n",
    "\n",
    "\n",
    "class Milliseconds(sgqlc.types.Scalar):\n",
    "    __schema__ = nerdgraph"
   ]
  },
  {
   "cell_type": "code",
   "execution_count": null,
   "id": "574c7420",
   "metadata": {},
   "outputs": [],
   "source": [
    "# | export\n",
    "\n",
    "\n",
    "class Minutes(sgqlc.types.Scalar):\n",
    "    __schema__ = nerdgraph"
   ]
  },
  {
   "cell_type": "code",
   "execution_count": null,
   "id": "a5c37a56",
   "metadata": {},
   "outputs": [],
   "source": [
    "# | export\n",
    "\n",
    "\n",
    "class NaiveDateTime(sgqlc.types.Scalar):\n",
    "    __schema__ = nerdgraph"
   ]
  },
  {
   "cell_type": "code",
   "execution_count": null,
   "id": "3e5e2618",
   "metadata": {},
   "outputs": [],
   "source": [
    "# | export\n",
    "\n",
    "\n",
    "class NerdStorageDocument(sgqlc.types.Scalar):\n",
    "    __schema__ = nerdgraph"
   ]
  },
  {
   "cell_type": "code",
   "execution_count": null,
   "id": "e0d8f006",
   "metadata": {},
   "outputs": [],
   "source": [
    "# | export\n",
    "\n",
    "\n",
    "class NerdpackTagName(sgqlc.types.Scalar):\n",
    "    __schema__ = nerdgraph"
   ]
  },
  {
   "cell_type": "code",
   "execution_count": null,
   "id": "e59d8443",
   "metadata": {},
   "outputs": [],
   "source": [
    "# | export\n",
    "\n",
    "\n",
    "class Nr1CatalogRawNerdletState(sgqlc.types.Scalar):\n",
    "    __schema__ = nerdgraph"
   ]
  },
  {
   "cell_type": "code",
   "execution_count": null,
   "id": "dba0458a",
   "metadata": {},
   "outputs": [],
   "source": [
    "# | export\n",
    "\n",
    "\n",
    "class NrdbRawResults(sgqlc.types.Scalar):\n",
    "    __schema__ = nerdgraph"
   ]
  },
  {
   "cell_type": "code",
   "execution_count": null,
   "id": "bab82e04",
   "metadata": {},
   "outputs": [],
   "source": [
    "# | export\n",
    "\n",
    "\n",
    "class NrdbResult(sgqlc.types.Scalar):\n",
    "    __schema__ = nerdgraph"
   ]
  },
  {
   "cell_type": "code",
   "execution_count": null,
   "id": "e0ec30e1",
   "metadata": {},
   "outputs": [],
   "source": [
    "# | export\n",
    "\n",
    "\n",
    "class Nrql(sgqlc.types.Scalar):\n",
    "    __schema__ = nerdgraph"
   ]
  },
  {
   "cell_type": "code",
   "execution_count": null,
   "id": "4222e607",
   "metadata": {},
   "outputs": [],
   "source": [
    "# | export\n",
    "\n",
    "\n",
    "class Seconds(sgqlc.types.Scalar):\n",
    "    __schema__ = nerdgraph"
   ]
  },
  {
   "cell_type": "code",
   "execution_count": null,
   "id": "4c28c677",
   "metadata": {},
   "outputs": [],
   "source": [
    "# | export\n",
    "\n",
    "\n",
    "class SecureValue(sgqlc.types.Scalar):\n",
    "    __schema__ = nerdgraph"
   ]
  },
  {
   "cell_type": "code",
   "execution_count": null,
   "id": "06555f57",
   "metadata": {},
   "outputs": [],
   "source": [
    "# | export\n",
    "\n",
    "\n",
    "class SemVer(sgqlc.types.Scalar):\n",
    "    __schema__ = nerdgraph"
   ]
  },
  {
   "cell_type": "code",
   "execution_count": null,
   "id": "2c9e971d",
   "metadata": {},
   "outputs": [],
   "source": [
    "# | export\n",
    "String = sgqlc.types.String"
   ]
  }
 ],
 "metadata": {
  "language_info": {
   "mimetype": "text/x-python",
   "name": "python"
  }
 },
 "nbformat": 4,
 "nbformat_minor": 5
}
