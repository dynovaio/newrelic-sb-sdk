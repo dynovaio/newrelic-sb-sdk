{
 "cells": [
  {
   "cell_type": "code",
   "execution_count": null,
   "id": "76c1b76a",
   "metadata": {
    "tags": [
     "remove-cell"
    ]
   },
   "outputs": [],
   "source": [
    "# | default_exp graphql.scalars"
   ]
  },
  {
   "cell_type": "code",
   "execution_count": null,
   "id": "7248ca9c",
   "metadata": {
    "tags": [
     "remove-cell"
    ]
   },
   "outputs": [],
   "source": [
    "# | export\n",
    "# pylint: disable=duplicate-code,unused-import,too-many-lines"
   ]
  },
  {
   "cell_type": "markdown",
   "id": "15fd96ba",
   "metadata": {},
   "source": [
    "# NerdGraph Scalar Types"
   ]
  },
  {
   "cell_type": "markdown",
   "id": "278f5586",
   "metadata": {},
   "source": [
    "## Imports"
   ]
  },
  {
   "cell_type": "markdown",
   "id": "1cb89037",
   "metadata": {},
   "source": [
    "Third-party modules"
   ]
  },
  {
   "cell_type": "code",
   "execution_count": null,
   "id": "14e3e8e2",
   "metadata": {},
   "outputs": [],
   "source": [
    "# | export\n",
    "import sgqlc.types\n",
    "import sgqlc.types.datetime"
   ]
  },
  {
   "cell_type": "code",
   "execution_count": null,
   "id": "fac72a74",
   "metadata": {},
   "outputs": [],
   "source": [
    "# | export\n",
    "from newrelic_sb_sdk.graphql import nerdgraph"
   ]
  },
  {
   "cell_type": "markdown",
   "id": "3c036381",
   "metadata": {},
   "source": [
    "## Definitions"
   ]
  },
  {
   "cell_type": "code",
   "execution_count": null,
   "id": "20faf938",
   "metadata": {},
   "outputs": [],
   "source": [
    "# | export\n",
    "__docformat__ = \"markdown\""
   ]
  },
  {
   "cell_type": "markdown",
   "id": "abaa113f",
   "metadata": {},
   "source": [
    "### Scalar types"
   ]
  },
  {
   "cell_type": "code",
   "execution_count": null,
   "id": "11ce6b98",
   "metadata": {},
   "outputs": [],
   "source": [
    "# | export\n",
    "\n",
    "\n",
    "class AgentApplicationSettingsErrorCollectorHttpStatus(sgqlc.types.Scalar):\n",
    "    \"\"\"Class for AgentApplicationSettingsErrorCollectorHttpStatus.\n",
    "\n",
    "    A list of HTTP status codes, such as \"404\" or \"500\".\n",
    "    \"\"\"\n",
    "\n",
    "    __schema__ = nerdgraph"
   ]
  },
  {
   "cell_type": "code",
   "execution_count": null,
   "id": "39910318",
   "metadata": {},
   "outputs": [],
   "source": [
    "# | export\n",
    "\n",
    "\n",
    "class AgentApplicationSettingsRawJsConfiguration(sgqlc.types.Scalar):\n",
    "    \"\"\"Class for AgentApplicationSettingsRawJsConfiguration.\n",
    "\n",
    "    The \"raw\" configuration values for configuring the javascript\n",
    "    client.\n",
    "    \"\"\"\n",
    "\n",
    "    __schema__ = nerdgraph"
   ]
  },
  {
   "cell_type": "code",
   "execution_count": null,
   "id": "04bb07f8",
   "metadata": {},
   "outputs": [],
   "source": [
    "# | export\n",
    "\n",
    "\n",
    "class AiDecisionsRuleExpression(sgqlc.types.Scalar):\n",
    "    \"\"\"Class for AiDecisionsRuleExpression.\n",
    "\n",
    "    Expression used for comparing incidents as part of a correlation.\n",
    "    \"\"\"\n",
    "\n",
    "    __schema__ = nerdgraph"
   ]
  },
  {
   "cell_type": "code",
   "execution_count": null,
   "id": "37470bef",
   "metadata": {},
   "outputs": [],
   "source": [
    "# | export\n",
    "\n",
    "\n",
    "class AttributeMap(sgqlc.types.Scalar):\n",
    "    \"\"\"Class for AttributeMap.\n",
    "\n",
    "    This scalar represents a map of attributes in the form of key-\n",
    "    value pairs.\n",
    "    \"\"\"\n",
    "\n",
    "    __schema__ = nerdgraph"
   ]
  },
  {
   "cell_type": "code",
   "execution_count": null,
   "id": "e3d9c610",
   "metadata": {},
   "outputs": [],
   "source": [
    "# | export\n",
    "Boolean = sgqlc.types.Boolean"
   ]
  },
  {
   "cell_type": "code",
   "execution_count": null,
   "id": "1996a163",
   "metadata": {},
   "outputs": [],
   "source": [
    "# | export\n",
    "\n",
    "\n",
    "class DashboardWidgetRawConfiguration(sgqlc.types.Scalar):\n",
    "    \"\"\"Class for DashboardWidgetRawConfiguration.\n",
    "\n",
    "    Raw JSON payload with full configuration of a widget.\n",
    "    \"\"\"\n",
    "\n",
    "    __schema__ = nerdgraph"
   ]
  },
  {
   "cell_type": "code",
   "execution_count": null,
   "id": "e49d83a1",
   "metadata": {},
   "outputs": [],
   "source": [
    "# | export\n",
    "Date = sgqlc.types.datetime.Date"
   ]
  },
  {
   "cell_type": "code",
   "execution_count": null,
   "id": "faa628ae",
   "metadata": {},
   "outputs": [],
   "source": [
    "# | export\n",
    "DateTime = sgqlc.types.datetime.DateTime"
   ]
  },
  {
   "cell_type": "code",
   "execution_count": null,
   "id": "52a28da4",
   "metadata": {},
   "outputs": [],
   "source": [
    "# | export\n",
    "\n",
    "\n",
    "class DistributedTracingSpanAttributes(sgqlc.types.Scalar):\n",
    "    \"\"\"Class for DistributedTracingSpanAttributes.\n",
    "\n",
    "    Map of key value pairs for a span.\n",
    "    \"\"\"\n",
    "\n",
    "    __schema__ = nerdgraph"
   ]
  },
  {
   "cell_type": "code",
   "execution_count": null,
   "id": "25cfc997",
   "metadata": {},
   "outputs": [],
   "source": [
    "# | export\n",
    "\n",
    "\n",
    "class EntityAlertViolationInt(sgqlc.types.Scalar):\n",
    "    \"\"\"Class for EntityAlertViolationInt.\n",
    "\n",
    "    The `ViolationInt` scalar type represents 52-bit signed integers.\n",
    "    \"\"\"\n",
    "\n",
    "    __schema__ = nerdgraph"
   ]
  },
  {
   "cell_type": "code",
   "execution_count": null,
   "id": "c10b532b",
   "metadata": {},
   "outputs": [],
   "source": [
    "# | export\n",
    "\n",
    "\n",
    "class EntityGuid(sgqlc.types.Scalar):\n",
    "    \"\"\"Class for EntityGuid.\n",
    "\n",
    "    An encoded Entity GUID.\n",
    "    \"\"\"\n",
    "\n",
    "    __schema__ = nerdgraph"
   ]
  },
  {
   "cell_type": "code",
   "execution_count": null,
   "id": "a46d3158",
   "metadata": {},
   "outputs": [],
   "source": [
    "# | export\n",
    "\n",
    "\n",
    "class EntitySearchQuery(sgqlc.types.Scalar):\n",
    "    \"\"\"Class for EntitySearchQuery.\n",
    "\n",
    "    A query string using Entity Search query syntax.\n",
    "    \"\"\"\n",
    "\n",
    "    __schema__ = nerdgraph"
   ]
  },
  {
   "cell_type": "code",
   "execution_count": null,
   "id": "7fd3f4a1",
   "metadata": {},
   "outputs": [],
   "source": [
    "# | export\n",
    "\n",
    "\n",
    "class EpochMilliseconds(sgqlc.types.Scalar):\n",
    "    \"\"\"Class for EpochMilliseconds.\n",
    "\n",
    "    The `EpochMilliseconds` scalar represents the number of\n",
    "    milliseconds since the Unix epoch.\n",
    "    \"\"\"\n",
    "\n",
    "    __schema__ = nerdgraph"
   ]
  },
  {
   "cell_type": "code",
   "execution_count": null,
   "id": "8db7e52a",
   "metadata": {},
   "outputs": [],
   "source": [
    "# | export\n",
    "\n",
    "\n",
    "class EpochSeconds(sgqlc.types.Scalar):\n",
    "    \"\"\"Class for EpochSeconds.\n",
    "\n",
    "    The `EpochSeconds` scalar represents the number of seconds since\n",
    "    the Unix epoch.\n",
    "    \"\"\"\n",
    "\n",
    "    __schema__ = nerdgraph"
   ]
  },
  {
   "cell_type": "code",
   "execution_count": null,
   "id": "9b0e031e",
   "metadata": {},
   "outputs": [],
   "source": [
    "# | export\n",
    "Float = sgqlc.types.Float"
   ]
  },
  {
   "cell_type": "code",
   "execution_count": null,
   "id": "78f47d92",
   "metadata": {},
   "outputs": [],
   "source": [
    "# | export\n",
    "ID = sgqlc.types.ID"
   ]
  },
  {
   "cell_type": "code",
   "execution_count": null,
   "id": "728558dd",
   "metadata": {},
   "outputs": [],
   "source": [
    "# | export\n",
    "\n",
    "\n",
    "class InstallationRawMetadata(sgqlc.types.Scalar):\n",
    "    \"\"\"Class for InstallationRawMetadata.\n",
    "\n",
    "    An arbitrary key:value object containing additional data related\n",
    "    to the environment where the installation occurred.\n",
    "    \"\"\"\n",
    "\n",
    "    __schema__ = nerdgraph"
   ]
  },
  {
   "cell_type": "code",
   "execution_count": null,
   "id": "906c4cb4",
   "metadata": {},
   "outputs": [],
   "source": [
    "# | export\n",
    "Int = sgqlc.types.Int"
   ]
  },
  {
   "cell_type": "code",
   "execution_count": null,
   "id": "b4e584c7",
   "metadata": {},
   "outputs": [],
   "source": [
    "# | export\n",
    "\n",
    "\n",
    "class LogConfigurationsLogDataPartitionName(sgqlc.types.Scalar):\n",
    "    \"\"\"Class for LogConfigurationsLogDataPartitionName.\n",
    "\n",
    "    The name of a log data partition. Has to start with 'Log_' prefix\n",
    "    and can only contain alphanumeric characters and underscores.\n",
    "    \"\"\"\n",
    "\n",
    "    __schema__ = nerdgraph"
   ]
  },
  {
   "cell_type": "code",
   "execution_count": null,
   "id": "a6fc3957",
   "metadata": {},
   "outputs": [],
   "source": [
    "# | export\n",
    "\n",
    "\n",
    "class Milliseconds(sgqlc.types.Scalar):\n",
    "    \"\"\"Class for Milliseconds.\n",
    "\n",
    "    The `Milliseconds` scalar represents a duration in milliseconds.\n",
    "    \"\"\"\n",
    "\n",
    "    __schema__ = nerdgraph"
   ]
  },
  {
   "cell_type": "code",
   "execution_count": null,
   "id": "8cd7bb42",
   "metadata": {},
   "outputs": [],
   "source": [
    "# | export\n",
    "\n",
    "\n",
    "class Minutes(sgqlc.types.Scalar):\n",
    "    \"\"\"Class for Minutes.\n",
    "\n",
    "    The `Minutes` scalar represents a duration in minutes.\n",
    "    \"\"\"\n",
    "\n",
    "    __schema__ = nerdgraph"
   ]
  },
  {
   "cell_type": "code",
   "execution_count": null,
   "id": "414c63f5",
   "metadata": {},
   "outputs": [],
   "source": [
    "# | export\n",
    "\n",
    "\n",
    "class NaiveDateTime(sgqlc.types.Scalar):\n",
    "    \"\"\"Class for NaiveDateTime.\n",
    "\n",
    "    The `NaiveDateTime` scalar represents a date and time without a\n",
    "    Time Zone. The `NaiveDateTime` appears as an ISO8601 formatted\n",
    "    string.\n",
    "    \"\"\"\n",
    "\n",
    "    __schema__ = nerdgraph"
   ]
  },
  {
   "cell_type": "code",
   "execution_count": null,
   "id": "c5435691",
   "metadata": {},
   "outputs": [],
   "source": [
    "# | export\n",
    "\n",
    "\n",
    "class NerdStorageDocument(sgqlc.types.Scalar):\n",
    "    \"\"\"Class for NerdStorageDocument.\n",
    "\n",
    "    This scalar represents a NerdStorage document.\n",
    "    \"\"\"\n",
    "\n",
    "    __schema__ = nerdgraph"
   ]
  },
  {
   "cell_type": "code",
   "execution_count": null,
   "id": "b22c9528",
   "metadata": {},
   "outputs": [],
   "source": [
    "# | export\n",
    "\n",
    "\n",
    "class NerdpackTagName(sgqlc.types.Scalar):\n",
    "    \"\"\"Class for NerdpackTagName.\n",
    "\n",
    "    A string representing a nerdpack tag.\n",
    "    \"\"\"\n",
    "\n",
    "    __schema__ = nerdgraph"
   ]
  },
  {
   "cell_type": "code",
   "execution_count": null,
   "id": "6a295eb7",
   "metadata": {},
   "outputs": [],
   "source": [
    "# | export\n",
    "\n",
    "\n",
    "class Nr1CatalogRawNerdletState(sgqlc.types.Scalar):\n",
    "    \"\"\"Class for Nr1CatalogRawNerdletState.\n",
    "\n",
    "    Represents JSON nerdlet state data.\n",
    "    \"\"\"\n",
    "\n",
    "    __schema__ = nerdgraph"
   ]
  },
  {
   "cell_type": "code",
   "execution_count": null,
   "id": "363a2a73",
   "metadata": {},
   "outputs": [],
   "source": [
    "# | export\n",
    "\n",
    "\n",
    "class NrdbRawResults(sgqlc.types.Scalar):\n",
    "    \"\"\"Class for NrdbRawResults.\n",
    "\n",
    "    This scalar represents the raw nrql query results as returned from\n",
    "    NRDB. It is a `Map` of `String` keys to values.  The shape of\n",
    "    these objects reflect the query used to generate them, the\n",
    "    contents of the objects is not part of the GraphQL schema.\n",
    "    \"\"\"\n",
    "\n",
    "    __schema__ = nerdgraph"
   ]
  },
  {
   "cell_type": "code",
   "execution_count": null,
   "id": "4f7ab7c4",
   "metadata": {},
   "outputs": [],
   "source": [
    "# | export\n",
    "\n",
    "\n",
    "class NrdbResult(sgqlc.types.Scalar):\n",
    "    \"\"\"Class for NrdbResult.\n",
    "\n",
    "    This scalar represents a NRDB Result. It is a `Map` of `String`\n",
    "    keys to values.  The shape of these objects reflect the query used\n",
    "    to generate them, the contents of the objects is not part of the\n",
    "    GraphQL schema.\n",
    "    \"\"\"\n",
    "\n",
    "    __schema__ = nerdgraph"
   ]
  },
  {
   "cell_type": "code",
   "execution_count": null,
   "id": "dd697432",
   "metadata": {},
   "outputs": [],
   "source": [
    "# | export\n",
    "\n",
    "\n",
    "class Nrql(sgqlc.types.Scalar):\n",
    "    \"\"\"Class for Nrql.\n",
    "\n",
    "    This scalar represents a NRQL query string.  See the [NRQL\n",
    "    Docs](https://docs.newrelic.com/docs/insights/nrql-new-relic-\n",
    "    query-language/nrql-resources/nrql-syntax-components-functions)\n",
    "    for more information about NRQL syntax.\n",
    "    \"\"\"\n",
    "\n",
    "    __schema__ = nerdgraph"
   ]
  },
  {
   "cell_type": "code",
   "execution_count": null,
   "id": "f2772c98",
   "metadata": {},
   "outputs": [],
   "source": [
    "# | export\n",
    "\n",
    "\n",
    "class Seconds(sgqlc.types.Scalar):\n",
    "    \"\"\"Class for Seconds.\n",
    "\n",
    "    The `Seconds` scalar represents a duration in seconds.\n",
    "    \"\"\"\n",
    "\n",
    "    __schema__ = nerdgraph"
   ]
  },
  {
   "cell_type": "code",
   "execution_count": null,
   "id": "25f35fbb",
   "metadata": {},
   "outputs": [],
   "source": [
    "# | export\n",
    "\n",
    "\n",
    "class SecureValue(sgqlc.types.Scalar):\n",
    "    \"\"\"Class for SecureValue.\n",
    "\n",
    "    The `SecureValue` scalar represents a secure value, ie a password,\n",
    "    an API key, etc.\n",
    "    \"\"\"\n",
    "\n",
    "    __schema__ = nerdgraph"
   ]
  },
  {
   "cell_type": "code",
   "execution_count": null,
   "id": "939618f4",
   "metadata": {},
   "outputs": [],
   "source": [
    "# | export\n",
    "\n",
    "\n",
    "class SemVer(sgqlc.types.Scalar):\n",
    "    \"\"\"Class for SemVer.\n",
    "\n",
    "    The `SemVer` scalar represents a version designation conforming to\n",
    "    the SemVer specification.\n",
    "    \"\"\"\n",
    "\n",
    "    __schema__ = nerdgraph"
   ]
  },
  {
   "cell_type": "code",
   "execution_count": null,
   "id": "664cd6f4",
   "metadata": {},
   "outputs": [],
   "source": [
    "# | export\n",
    "String = sgqlc.types.String"
   ]
  }
 ],
 "metadata": {},
 "nbformat": 4,
 "nbformat_minor": 5
}
