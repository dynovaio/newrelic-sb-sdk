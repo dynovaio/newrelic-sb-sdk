{
 "cells": [
  {
   "cell_type": "code",
   "execution_count": null,
   "id": "8224ba19",
   "metadata": {
    "tags": [
     "remove-cell"
    ]
   },
   "outputs": [],
   "source": [
    "# | default_exp graphql.enums"
   ]
  },
  {
   "cell_type": "code",
   "execution_count": null,
   "id": "f7613f64",
   "metadata": {
    "tags": [
     "remove-cell"
    ]
   },
   "outputs": [],
   "source": [
    "# | export\n",
    "# pylint: disable=duplicate-code,unused-import,too-many-lines"
   ]
  },
  {
   "cell_type": "markdown",
   "id": "ecd08643",
   "metadata": {},
   "source": [
    "# NerdGraph Enum Types"
   ]
  },
  {
   "cell_type": "markdown",
   "id": "39e60c54",
   "metadata": {},
   "source": [
    "## Imports"
   ]
  },
  {
   "cell_type": "markdown",
   "id": "06830dda",
   "metadata": {},
   "source": [
    "Third-party modules"
   ]
  },
  {
   "cell_type": "code",
   "execution_count": null,
   "id": "25da1fac",
   "metadata": {},
   "outputs": [],
   "source": [
    "# | export\n",
    "import sgqlc.types\n",
    "import sgqlc.types.datetime"
   ]
  },
  {
   "cell_type": "markdown",
   "id": "f787c5fc",
   "metadata": {},
   "source": [
    "`newrelic_sb_sdk` module"
   ]
  },
  {
   "cell_type": "code",
   "execution_count": null,
   "id": "8185e907",
   "metadata": {},
   "outputs": [],
   "source": [
    "# | export\n",
    "from newrelic_sb_sdk.graphql import nerdgraph"
   ]
  },
  {
   "cell_type": "markdown",
   "id": "48206708",
   "metadata": {},
   "source": [
    "## Definitions"
   ]
  },
  {
   "cell_type": "markdown",
   "id": "b0e42821",
   "metadata": {},
   "source": [
    "### Constants"
   ]
  },
  {
   "cell_type": "code",
   "execution_count": null,
   "id": "a3e60156",
   "metadata": {},
   "outputs": [],
   "source": [
    "# | export\n",
    "__docformat__ = \"markdown\""
   ]
  },
  {
   "cell_type": "markdown",
   "id": "797b9cca",
   "metadata": {},
   "source": [
    "### Enum types"
   ]
  },
  {
   "cell_type": "code",
   "execution_count": null,
   "id": "7e293773",
   "metadata": {},
   "outputs": [],
   "source": [
    "# | export\n",
    "\n",
    "\n",
    "class AgentApplicationBrowserLoader(sgqlc.types.Enum):\n",
    "    __schema__ = nerdgraph\n",
    "    __choices__ = (\"LITE\", \"NONE\", \"PRO\", \"SPA\")"
   ]
  },
  {
   "cell_type": "code",
   "execution_count": null,
   "id": "0130b9b0",
   "metadata": {},
   "outputs": [],
   "source": [
    "# | export\n",
    "\n",
    "\n",
    "class AgentApplicationSegmentsListType(sgqlc.types.Enum):\n",
    "    __schema__ = nerdgraph\n",
    "    __choices__ = (\"INTERNAL\", \"USER\")"
   ]
  },
  {
   "cell_type": "code",
   "execution_count": null,
   "id": "1ec2452d",
   "metadata": {},
   "outputs": [],
   "source": [
    "# | export\n",
    "\n",
    "\n",
    "class AgentApplicationSettingsBrowserLoader(sgqlc.types.Enum):\n",
    "    __schema__ = nerdgraph\n",
    "    __choices__ = (\"LITE\", \"NONE\", \"PRO\", \"SPA\", \"XHR\")"
   ]
  },
  {
   "cell_type": "code",
   "execution_count": null,
   "id": "fdb63d41",
   "metadata": {},
   "outputs": [],
   "source": [
    "# | export\n",
    "\n",
    "\n",
    "class AgentApplicationSettingsBrowserLoaderInput(sgqlc.types.Enum):\n",
    "    __schema__ = nerdgraph\n",
    "    __choices__ = (\"LITE\", \"NONE\", \"PRO\", \"SPA\")"
   ]
  },
  {
   "cell_type": "code",
   "execution_count": null,
   "id": "c41c4344",
   "metadata": {},
   "outputs": [],
   "source": [
    "# | export\n",
    "\n",
    "\n",
    "class AgentApplicationSettingsNetworkFilterMode(sgqlc.types.Enum):\n",
    "    __schema__ = nerdgraph\n",
    "    __choices__ = (\"DISABLED\", \"HIDE\", \"SHOW\")"
   ]
  },
  {
   "cell_type": "code",
   "execution_count": null,
   "id": "b6337c23",
   "metadata": {},
   "outputs": [],
   "source": [
    "# | export\n",
    "\n",
    "\n",
    "class AgentApplicationSettingsRecordSqlEnum(sgqlc.types.Enum):\n",
    "    __schema__ = nerdgraph\n",
    "    __choices__ = (\"OBFUSCATED\", \"OFF\", \"RAW\")"
   ]
  },
  {
   "cell_type": "code",
   "execution_count": null,
   "id": "c15edbef",
   "metadata": {},
   "outputs": [],
   "source": [
    "# | export\n",
    "\n",
    "\n",
    "class AgentApplicationSettingsSessionTraceMode(sgqlc.types.Enum):\n",
    "    __schema__ = nerdgraph\n",
    "    __choices__ = (\"FIXED_RATE\", \"PROBABILISTIC\")"
   ]
  },
  {
   "cell_type": "code",
   "execution_count": null,
   "id": "824b8e75",
   "metadata": {},
   "outputs": [],
   "source": [
    "# | export\n",
    "\n",
    "\n",
    "class AgentApplicationSettingsSessionTraceModeInput(sgqlc.types.Enum):\n",
    "    __schema__ = nerdgraph\n",
    "    __choices__ = (\"FIXED_RATE\", \"PROBABILISTIC\")"
   ]
  },
  {
   "cell_type": "code",
   "execution_count": null,
   "id": "a98adb9f",
   "metadata": {},
   "outputs": [],
   "source": [
    "# | export\n",
    "\n",
    "\n",
    "class AgentApplicationSettingsThresholdTypeEnum(sgqlc.types.Enum):\n",
    "    __schema__ = nerdgraph\n",
    "    __choices__ = (\"APDEX_F\", \"VALUE\")"
   ]
  },
  {
   "cell_type": "code",
   "execution_count": null,
   "id": "b265d3b3",
   "metadata": {},
   "outputs": [],
   "source": [
    "# | export\n",
    "\n",
    "\n",
    "class AgentApplicationSettingsTracer(sgqlc.types.Enum):\n",
    "    __schema__ = nerdgraph\n",
    "    __choices__ = (\"CROSS_APPLICATION_TRACER\", \"DISTRIBUTED_TRACING\", \"NONE\", \"OPT_OUT\")"
   ]
  },
  {
   "cell_type": "code",
   "execution_count": null,
   "id": "052ea151",
   "metadata": {},
   "outputs": [],
   "source": [
    "# | export\n",
    "\n",
    "\n",
    "class AgentApplicationSettingsUpdateErrorClass(sgqlc.types.Enum):\n",
    "    __schema__ = nerdgraph\n",
    "    __choices__ = (\"ACCESS_DENIED\", \"INVALID_INPUT\", \"NOT_FOUND\")"
   ]
  },
  {
   "cell_type": "code",
   "execution_count": null,
   "id": "4ca93a79",
   "metadata": {},
   "outputs": [],
   "source": [
    "# | export\n",
    "\n",
    "\n",
    "class AgentFeaturesFilter(sgqlc.types.Enum):\n",
    "    __schema__ = nerdgraph\n",
    "    __choices__ = (\n",
    "        \"DOTNET\",\n",
    "        \"ELIXIR\",\n",
    "        \"GO\",\n",
    "        \"HTML\",\n",
    "        \"JAVA\",\n",
    "        \"MOBILE\",\n",
    "        \"NODEJS\",\n",
    "        \"PHP\",\n",
    "        \"PYTHON\",\n",
    "        \"RUBY\",\n",
    "        \"SDK\",\n",
    "    )"
   ]
  },
  {
   "cell_type": "code",
   "execution_count": null,
   "id": "8ada986a",
   "metadata": {},
   "outputs": [],
   "source": [
    "# | export\n",
    "\n",
    "\n",
    "class AgentReleasesFilter(sgqlc.types.Enum):\n",
    "    __schema__ = nerdgraph\n",
    "    __choices__ = (\n",
    "        \"ANDROID\",\n",
    "        \"BROWSER\",\n",
    "        \"DOTNET\",\n",
    "        \"ELIXIR\",\n",
    "        \"FLUENTBIT\",\n",
    "        \"GO\",\n",
    "        \"INFRASTRUCTURE\",\n",
    "        \"IOS\",\n",
    "        \"JAVA\",\n",
    "        \"KUBERNETES\",\n",
    "        \"NODEJS\",\n",
    "        \"NRDOT\",\n",
    "        \"PHP\",\n",
    "        \"PIPELINE_CONTROL_GATEWAY\",\n",
    "        \"PROMETHEUS\",\n",
    "        \"PYTHON\",\n",
    "        \"RUBY\",\n",
    "        \"SDK\",\n",
    "    )"
   ]
  },
  {
   "cell_type": "code",
   "execution_count": null,
   "id": "33e1a7bf",
   "metadata": {},
   "outputs": [],
   "source": [
    "# | export\n",
    "\n",
    "\n",
    "class AiDecisionsDecisionSortMethod(sgqlc.types.Enum):\n",
    "    __schema__ = nerdgraph\n",
    "    __choices__ = (\"ID\", \"LATEST_CREATED\", \"STATE_LAST_MODIFIED\")"
   ]
  },
  {
   "cell_type": "code",
   "execution_count": null,
   "id": "f4ffa875",
   "metadata": {},
   "outputs": [],
   "source": [
    "# | export\n",
    "\n",
    "\n",
    "class AiDecisionsDecisionState(sgqlc.types.Enum):\n",
    "    __schema__ = nerdgraph\n",
    "    __choices__ = (\"DISABLED\", \"ENABLED\")"
   ]
  },
  {
   "cell_type": "code",
   "execution_count": null,
   "id": "1dbd88e5",
   "metadata": {},
   "outputs": [],
   "source": [
    "# | export\n",
    "\n",
    "\n",
    "class AiDecisionsDecisionType(sgqlc.types.Enum):\n",
    "    __schema__ = nerdgraph\n",
    "    __choices__ = (\"EXPLICIT\", \"GLOBAL\", \"IMPLICIT\")"
   ]
  },
  {
   "cell_type": "code",
   "execution_count": null,
   "id": "09d17ee5",
   "metadata": {},
   "outputs": [],
   "source": [
    "# | export\n",
    "\n",
    "\n",
    "class AiDecisionsIncidentSelect(sgqlc.types.Enum):\n",
    "    __schema__ = nerdgraph\n",
    "    __choices__ = (\"FIRST_INCIDENT\", \"SECOND_INCIDENT\")"
   ]
  },
  {
   "cell_type": "code",
   "execution_count": null,
   "id": "e7bcfb0e",
   "metadata": {},
   "outputs": [],
   "source": [
    "# | export\n",
    "\n",
    "\n",
    "class AiDecisionsIssuePriority(sgqlc.types.Enum):\n",
    "    __schema__ = nerdgraph\n",
    "    __choices__ = (\"CRITICAL\", \"HIGH\", \"LOW\", \"MEDIUM\")"
   ]
  },
  {
   "cell_type": "code",
   "execution_count": null,
   "id": "d6bd9d50",
   "metadata": {},
   "outputs": [],
   "source": [
    "# | export\n",
    "\n",
    "\n",
    "class AiDecisionsOpinion(sgqlc.types.Enum):\n",
    "    __schema__ = nerdgraph\n",
    "    __choices__ = (\"DISLIKE\", \"LIKE\")"
   ]
  },
  {
   "cell_type": "code",
   "execution_count": null,
   "id": "8fafaabe",
   "metadata": {},
   "outputs": [],
   "source": [
    "# | export\n",
    "\n",
    "\n",
    "class AiDecisionsResultType(sgqlc.types.Enum):\n",
    "    __schema__ = nerdgraph\n",
    "    __choices__ = (\"FAILURE\", \"SUCCESS\")"
   ]
  },
  {
   "cell_type": "code",
   "execution_count": null,
   "id": "0fd10a64",
   "metadata": {},
   "outputs": [],
   "source": [
    "# | export\n",
    "\n",
    "\n",
    "class AiDecisionsRuleSource(sgqlc.types.Enum):\n",
    "    __schema__ = nerdgraph\n",
    "    __choices__ = (\"ADMIN\", \"GENERATED\", \"SYSTEM\", \"USER\")"
   ]
  },
  {
   "cell_type": "code",
   "execution_count": null,
   "id": "f45b1c5d",
   "metadata": {},
   "outputs": [],
   "source": [
    "# | export\n",
    "\n",
    "\n",
    "class AiDecisionsRuleState(sgqlc.types.Enum):\n",
    "    __schema__ = nerdgraph\n",
    "    __choices__ = (\"DISABLED\", \"ENABLED\")"
   ]
  },
  {
   "cell_type": "code",
   "execution_count": null,
   "id": "9383445e",
   "metadata": {},
   "outputs": [],
   "source": [
    "# | export\n",
    "\n",
    "\n",
    "class AiDecisionsRuleType(sgqlc.types.Enum):\n",
    "    __schema__ = nerdgraph\n",
    "    __choices__ = (\"EXPLICIT\", \"GLOBAL\", \"IMPLICIT\")"
   ]
  },
  {
   "cell_type": "code",
   "execution_count": null,
   "id": "a11a74cd",
   "metadata": {},
   "outputs": [],
   "source": [
    "# | export\n",
    "\n",
    "\n",
    "class AiDecisionsSuggestionState(sgqlc.types.Enum):\n",
    "    __schema__ = nerdgraph\n",
    "    __choices__ = (\"ACCEPTED\", \"DECLINED\", \"POSTPONED\", \"UNDECIDED\")"
   ]
  },
  {
   "cell_type": "code",
   "execution_count": null,
   "id": "1d996941",
   "metadata": {},
   "outputs": [],
   "source": [
    "# | export\n",
    "\n",
    "\n",
    "class AiDecisionsVertexClass(sgqlc.types.Enum):\n",
    "    __schema__ = nerdgraph\n",
    "    __choices__ = (\n",
    "        \"APPLICATION\",\n",
    "        \"CLOUDSERVICE\",\n",
    "        \"CLUSTER\",\n",
    "        \"DATASTORE\",\n",
    "        \"HOST\",\n",
    "        \"TEAM\",\n",
    "    )"
   ]
  },
  {
   "cell_type": "code",
   "execution_count": null,
   "id": "1d499adc",
   "metadata": {},
   "outputs": [],
   "source": [
    "# | export\n",
    "\n",
    "\n",
    "class AiIssuesIncidentState(sgqlc.types.Enum):\n",
    "    __schema__ = nerdgraph\n",
    "    __choices__ = (\"CLOSED\", \"CREATED\")"
   ]
  },
  {
   "cell_type": "code",
   "execution_count": null,
   "id": "e8d8ddcd",
   "metadata": {},
   "outputs": [],
   "source": [
    "# | export\n",
    "\n",
    "\n",
    "class AiIssuesIssueMutingState(sgqlc.types.Enum):\n",
    "    __schema__ = nerdgraph\n",
    "    __choices__ = (\"FULLY_MUTED\", \"NOT_MUTED\", \"PARTIALLY_MUTED\")"
   ]
  },
  {
   "cell_type": "code",
   "execution_count": null,
   "id": "2e19189e",
   "metadata": {},
   "outputs": [],
   "source": [
    "# | export\n",
    "\n",
    "\n",
    "class AiIssuesIssueState(sgqlc.types.Enum):\n",
    "    __schema__ = nerdgraph\n",
    "    __choices__ = (\"ACTIVATED\", \"CLOSED\", \"CREATED\", \"DEACTIVATED\")"
   ]
  },
  {
   "cell_type": "code",
   "execution_count": null,
   "id": "626f2da8",
   "metadata": {},
   "outputs": [],
   "source": [
    "# | export\n",
    "\n",
    "\n",
    "class AiIssuesIssueUserAction(sgqlc.types.Enum):\n",
    "    __schema__ = nerdgraph\n",
    "    __choices__ = (\n",
    "        \"ACK\",\n",
    "        \"CLOSE_BY_MUTING_RULE_ID\",\n",
    "        \"MARK_AS_INVESTIGATING\",\n",
    "        \"RESOLVE\",\n",
    "        \"UNACK\",\n",
    "    )"
   ]
  },
  {
   "cell_type": "code",
   "execution_count": null,
   "id": "69cc0ce1",
   "metadata": {},
   "outputs": [],
   "source": [
    "# | export\n",
    "\n",
    "\n",
    "class AiIssuesPriority(sgqlc.types.Enum):\n",
    "    __schema__ = nerdgraph\n",
    "    __choices__ = (\"CRITICAL\", \"HIGH\", \"LOW\", \"MEDIUM\")"
   ]
  },
  {
   "cell_type": "code",
   "execution_count": null,
   "id": "d6cfd549",
   "metadata": {},
   "outputs": [],
   "source": [
    "# | export\n",
    "\n",
    "\n",
    "class AiNotificationsAuthType(sgqlc.types.Enum):\n",
    "    __schema__ = nerdgraph\n",
    "    __choices__ = (\"BASIC\", \"CUSTOM_HEADERS\", \"OAUTH2\", \"TOKEN\")"
   ]
  },
  {
   "cell_type": "code",
   "execution_count": null,
   "id": "8f45ad4c",
   "metadata": {},
   "outputs": [],
   "source": [
    "# | export\n",
    "\n",
    "\n",
    "class AiNotificationsChannelFields(sgqlc.types.Enum):\n",
    "    __schema__ = nerdgraph\n",
    "    __choices__ = (\n",
    "        \"ACTIVE\",\n",
    "        \"CREATED_AT\",\n",
    "        \"DEFAULT\",\n",
    "        \"DESTINATION_ID\",\n",
    "        \"NAME\",\n",
    "        \"PRODUCT\",\n",
    "        \"STATUS\",\n",
    "        \"TYPE\",\n",
    "        \"UPDATED_AT\",\n",
    "        \"UPDATED_BY\",\n",
    "    )"
   ]
  },
  {
   "cell_type": "code",
   "execution_count": null,
   "id": "823652f3",
   "metadata": {},
   "outputs": [],
   "source": [
    "# | export\n",
    "\n",
    "\n",
    "class AiNotificationsChannelStatus(sgqlc.types.Enum):\n",
    "    __schema__ = nerdgraph\n",
    "    __choices__ = (\n",
    "        \"CONFIGURATION_ERROR\",\n",
    "        \"CONFIGURATION_WARNING\",\n",
    "        \"DEFAULT\",\n",
    "        \"UNKNOWN_ERROR\",\n",
    "    )"
   ]
  },
  {
   "cell_type": "code",
   "execution_count": null,
   "id": "0687875a",
   "metadata": {},
   "outputs": [],
   "source": [
    "# | export\n",
    "\n",
    "\n",
    "class AiNotificationsChannelType(sgqlc.types.Enum):\n",
    "    __schema__ = nerdgraph\n",
    "    __choices__ = (\n",
    "        \"EMAIL\",\n",
    "        \"EVENT_BRIDGE\",\n",
    "        \"JIRA_CLASSIC\",\n",
    "        \"JIRA_NEXTGEN\",\n",
    "        \"MICROSOFT_TEAMS\",\n",
    "        \"MOBILE_PUSH\",\n",
    "        \"PAGERDUTY_ACCOUNT_INTEGRATION\",\n",
    "        \"PAGERDUTY_SERVICE_INTEGRATION\",\n",
    "        \"SERVICENOW_EVENTS\",\n",
    "        \"SERVICENOW_INCIDENTS\",\n",
    "        \"SERVICE_NOW_APP\",\n",
    "        \"SLACK\",\n",
    "        \"SLACK_COLLABORATION\",\n",
    "        \"SLACK_LEGACY\",\n",
    "        \"WEBHOOK\",\n",
    "    )"
   ]
  },
  {
   "cell_type": "code",
   "execution_count": null,
   "id": "e73d9e78",
   "metadata": {},
   "outputs": [],
   "source": [
    "# | export\n",
    "\n",
    "\n",
    "class AiNotificationsDestinationFields(sgqlc.types.Enum):\n",
    "    __schema__ = nerdgraph\n",
    "    __choices__ = (\n",
    "        \"ACTIVE\",\n",
    "        \"CREATED_AT\",\n",
    "        \"DEFAULT\",\n",
    "        \"LAST_SENT\",\n",
    "        \"NAME\",\n",
    "        \"STATUS\",\n",
    "        \"TYPE\",\n",
    "        \"UPDATED_AT\",\n",
    "        \"UPDATED_BY\",\n",
    "    )"
   ]
  },
  {
   "cell_type": "code",
   "execution_count": null,
   "id": "6ab9b5dc",
   "metadata": {},
   "outputs": [],
   "source": [
    "# | export\n",
    "\n",
    "\n",
    "class AiNotificationsDestinationStatus(sgqlc.types.Enum):\n",
    "    __schema__ = nerdgraph\n",
    "    __choices__ = (\n",
    "        \"AUTHENTICATION_ERROR\",\n",
    "        \"AUTHORIZATION_ERROR\",\n",
    "        \"AUTHORIZATION_WARNING\",\n",
    "        \"AUTH_ERROR\",\n",
    "        \"CONFIGURATION_ERROR\",\n",
    "        \"DEFAULT\",\n",
    "        \"EXTERNAL_SERVER_ERROR\",\n",
    "        \"TEMPORARY_WARNING\",\n",
    "        \"THROTTLING_WARNING\",\n",
    "        \"TIMEOUT_ERROR\",\n",
    "        \"UNINSTALLED\",\n",
    "        \"UNKNOWN_ERROR\",\n",
    "    )"
   ]
  },
  {
   "cell_type": "code",
   "execution_count": null,
   "id": "9001049c",
   "metadata": {},
   "outputs": [],
   "source": [
    "# | export\n",
    "\n",
    "\n",
    "class AiNotificationsDestinationType(sgqlc.types.Enum):\n",
    "    __schema__ = nerdgraph\n",
    "    __choices__ = (\n",
    "        \"EMAIL\",\n",
    "        \"EVENT_BRIDGE\",\n",
    "        \"JIRA\",\n",
    "        \"MICROSOFT_TEAMS\",\n",
    "        \"MOBILE_PUSH\",\n",
    "        \"PAGERDUTY_ACCOUNT_INTEGRATION\",\n",
    "        \"PAGERDUTY_SERVICE_INTEGRATION\",\n",
    "        \"SERVICE_NOW\",\n",
    "        \"SERVICE_NOW_APP\",\n",
    "        \"SLACK\",\n",
    "        \"SLACK_COLLABORATION\",\n",
    "        \"SLACK_LEGACY\",\n",
    "        \"WEBHOOK\",\n",
    "    )"
   ]
  },
  {
   "cell_type": "code",
   "execution_count": null,
   "id": "91608fa1",
   "metadata": {},
   "outputs": [],
   "source": [
    "# | export\n",
    "\n",
    "\n",
    "class AiNotificationsErrorType(sgqlc.types.Enum):\n",
    "    __schema__ = nerdgraph\n",
    "    __choices__ = (\n",
    "        \"CONNECTION_ERROR\",\n",
    "        \"ENTITY_IN_USE\",\n",
    "        \"EXTERNAL_SERVER_ERROR\",\n",
    "        \"FEATURE_FLAG_DISABLED\",\n",
    "        \"INVALID_CHANNEL_NAME\",\n",
    "        \"INVALID_CREDENTIALS\",\n",
    "        \"INVALID_KEY\",\n",
    "        \"INVALID_PARAMETER\",\n",
    "        \"LIMIT_REACHED\",\n",
    "        \"MISSING_CAPABILITIES\",\n",
    "        \"MISSING_CONSTRAINTS\",\n",
    "        \"MISSING_PARAMETERS\",\n",
    "        \"OAUTH_NOT_SUPPORTED\",\n",
    "        \"SUGGESTIONS_UNAVAILABLE\",\n",
    "        \"TIMEOUT_ERROR\",\n",
    "        \"TYPE_EXAMPLE_MISMATCH\",\n",
    "        \"UNAUTHORIZED_ACCOUNT\",\n",
    "        \"UNEXPECTED_PARAMETER\",\n",
    "        \"UNINSTALLED_DESTINATION\",\n",
    "        \"UNKNOWN_ERROR\",\n",
    "    )"
   ]
  },
  {
   "cell_type": "code",
   "execution_count": null,
   "id": "83dbed99",
   "metadata": {},
   "outputs": [],
   "source": [
    "# | export\n",
    "\n",
    "\n",
    "class AiNotificationsProduct(sgqlc.types.Enum):\n",
    "    __schema__ = nerdgraph\n",
    "    __choices__ = (\n",
    "        \"ALERTS\",\n",
    "        \"APM\",\n",
    "        \"CHANGE_TRACKING\",\n",
    "        \"CSSP\",\n",
    "        \"DISCUSSIONS\",\n",
    "        \"ERROR_TRACKING\",\n",
    "        \"IINT\",\n",
    "        \"NTFC\",\n",
    "        \"PD\",\n",
    "        \"SECURITY\",\n",
    "        \"SHARING\",\n",
    "    )"
   ]
  },
  {
   "cell_type": "code",
   "execution_count": null,
   "id": "060b2a6a",
   "metadata": {},
   "outputs": [],
   "source": [
    "# | export\n",
    "\n",
    "\n",
    "class AiNotificationsResult(sgqlc.types.Enum):\n",
    "    __schema__ = nerdgraph\n",
    "    __choices__ = (\"FAIL\", \"SUCCESS\")"
   ]
  },
  {
   "cell_type": "code",
   "execution_count": null,
   "id": "ad28e251",
   "metadata": {},
   "outputs": [],
   "source": [
    "# | export\n",
    "\n",
    "\n",
    "class AiNotificationsSortOrder(sgqlc.types.Enum):\n",
    "    __schema__ = nerdgraph\n",
    "    __choices__ = (\"ASC\", \"DESC\")"
   ]
  },
  {
   "cell_type": "code",
   "execution_count": null,
   "id": "1fe1ead0",
   "metadata": {},
   "outputs": [],
   "source": [
    "# | export\n",
    "\n",
    "\n",
    "class AiNotificationsSuggestionFilterType(sgqlc.types.Enum):\n",
    "    __schema__ = nerdgraph\n",
    "    __choices__ = (\"CONTAINS\", \"STARTSWITH\")"
   ]
  },
  {
   "cell_type": "code",
   "execution_count": null,
   "id": "f1cc296e",
   "metadata": {},
   "outputs": [],
   "source": [
    "# | export\n",
    "\n",
    "\n",
    "class AiNotificationsUiComponentType(sgqlc.types.Enum):\n",
    "    __schema__ = nerdgraph\n",
    "    __choices__ = (\n",
    "        \"DICTIONARY_WITH_MASK\",\n",
    "        \"PAYLOAD\",\n",
    "        \"SELECT\",\n",
    "        \"TEXT_AREA\",\n",
    "        \"TEXT_FIELD\",\n",
    "        \"TOGGLE\",\n",
    "    )"
   ]
  },
  {
   "cell_type": "code",
   "execution_count": null,
   "id": "b0589b49",
   "metadata": {},
   "outputs": [],
   "source": [
    "# | export\n",
    "\n",
    "\n",
    "class AiNotificationsUiComponentValidation(sgqlc.types.Enum):\n",
    "    __schema__ = nerdgraph\n",
    "    __choices__ = (\"DATE\", \"DATETIME\", \"EMAIL\", \"JSON\", \"NONE\", \"NUMBER\", \"URL\")"
   ]
  },
  {
   "cell_type": "code",
   "execution_count": null,
   "id": "6e434c1a",
   "metadata": {},
   "outputs": [],
   "source": [
    "# | export\n",
    "\n",
    "\n",
    "class AiNotificationsVariableCategory(sgqlc.types.Enum):\n",
    "    __schema__ = nerdgraph\n",
    "    __choices__ = (\n",
    "        \"CONDITION\",\n",
    "        \"ENTITIES\",\n",
    "        \"INCIDENT\",\n",
    "        \"ISSUE\",\n",
    "        \"OTHER\",\n",
    "        \"POLICY\",\n",
    "        \"TAGS\",\n",
    "        \"WORKFLOW\",\n",
    "    )"
   ]
  },
  {
   "cell_type": "code",
   "execution_count": null,
   "id": "a20d633a",
   "metadata": {},
   "outputs": [],
   "source": [
    "# | export\n",
    "\n",
    "\n",
    "class AiNotificationsVariableFields(sgqlc.types.Enum):\n",
    "    __schema__ = nerdgraph\n",
    "    __choices__ = (\n",
    "        \"ACTIVE\",\n",
    "        \"DEFAULT\",\n",
    "        \"DESCRIPTION\",\n",
    "        \"EXAMPLE\",\n",
    "        \"KEY\",\n",
    "        \"LABEL\",\n",
    "        \"NAME\",\n",
    "        \"PRODUCT\",\n",
    "        \"TYPE\",\n",
    "    )"
   ]
  },
  {
   "cell_type": "code",
   "execution_count": null,
   "id": "e39bb493",
   "metadata": {},
   "outputs": [],
   "source": [
    "# | export\n",
    "\n",
    "\n",
    "class AiNotificationsVariableType(sgqlc.types.Enum):\n",
    "    __schema__ = nerdgraph\n",
    "    __choices__ = (\"BOOLEAN\", \"LIST\", \"NUMBER\", \"OBJECT\", \"STRING\")"
   ]
  },
  {
   "cell_type": "code",
   "execution_count": null,
   "id": "42204653",
   "metadata": {},
   "outputs": [],
   "source": [
    "# | export\n",
    "\n",
    "\n",
    "class AiTopologyCollectorResultType(sgqlc.types.Enum):\n",
    "    __schema__ = nerdgraph\n",
    "    __choices__ = (\"FAILURE\", \"SUCCESS\")"
   ]
  },
  {
   "cell_type": "code",
   "execution_count": null,
   "id": "edba923a",
   "metadata": {},
   "outputs": [],
   "source": [
    "# | export\n",
    "\n",
    "\n",
    "class AiTopologyCollectorVertexClass(sgqlc.types.Enum):\n",
    "    __schema__ = nerdgraph\n",
    "    __choices__ = (\n",
    "        \"APPLICATION\",\n",
    "        \"BROWSERAPPLICATION\",\n",
    "        \"CLOUDSERVICE\",\n",
    "        \"CLUSTER\",\n",
    "        \"DATASTORE\",\n",
    "        \"HOST\",\n",
    "        \"MONITOR\",\n",
    "        \"TEAM\",\n",
    "    )"
   ]
  },
  {
   "cell_type": "code",
   "execution_count": null,
   "id": "18b4d7fd",
   "metadata": {},
   "outputs": [],
   "source": [
    "# | export\n",
    "\n",
    "\n",
    "class AiTopologyVertexClass(sgqlc.types.Enum):\n",
    "    __schema__ = nerdgraph\n",
    "    __choices__ = (\n",
    "        \"APPLICATION\",\n",
    "        \"BROWSERAPPLICATION\",\n",
    "        \"CLOUDSERVICE\",\n",
    "        \"CLUSTER\",\n",
    "        \"DATASTORE\",\n",
    "        \"HOST\",\n",
    "        \"MONITOR\",\n",
    "        \"TEAM\",\n",
    "    )"
   ]
  },
  {
   "cell_type": "code",
   "execution_count": null,
   "id": "3b93e9e1",
   "metadata": {},
   "outputs": [],
   "source": [
    "# | export\n",
    "\n",
    "\n",
    "class AiWorkflowsCreateErrorType(sgqlc.types.Enum):\n",
    "    __schema__ = nerdgraph\n",
    "    __choices__ = (\n",
    "        \"CHANNEL_NOT_FOUND\",\n",
    "        \"DUPLICATE\",\n",
    "        \"INVALID_PARAMETER\",\n",
    "        \"LIMIT_REACHED\",\n",
    "        \"MISSING_ENTITLEMENT\",\n",
    "        \"UNAUTHORIZED_ACCOUNT\",\n",
    "        \"UNSUPPORTED_CHANNEL_TYPE\",\n",
    "        \"VALIDATION_ERROR\",\n",
    "    )"
   ]
  },
  {
   "cell_type": "code",
   "execution_count": null,
   "id": "dc5f1a0f",
   "metadata": {},
   "outputs": [],
   "source": [
    "# | export\n",
    "\n",
    "\n",
    "class AiWorkflowsDeleteErrorType(sgqlc.types.Enum):\n",
    "    __schema__ = nerdgraph\n",
    "    __choices__ = (\"INVALID_PARAMETER\", \"UNAUTHORIZED_ACCOUNT\", \"VALIDATION_ERROR\")"
   ]
  },
  {
   "cell_type": "code",
   "execution_count": null,
   "id": "83440233",
   "metadata": {},
   "outputs": [],
   "source": [
    "# | export\n",
    "\n",
    "\n",
    "class AiWorkflowsDestinationType(sgqlc.types.Enum):\n",
    "    __schema__ = nerdgraph\n",
    "    __choices__ = (\n",
    "        \"EMAIL\",\n",
    "        \"EVENT_BRIDGE\",\n",
    "        \"JIRA\",\n",
    "        \"MICROSOFT_TEAMS\",\n",
    "        \"PAGERDUTY_ACCOUNT_INTEGRATION\",\n",
    "        \"PAGERDUTY_SERVICE_INTEGRATION\",\n",
    "        \"SERVICE_NOW\",\n",
    "        \"SERVICE_NOW_APP\",\n",
    "        \"SLACK\",\n",
    "        \"SLACK_LEGACY\",\n",
    "        \"WEBHOOK\",\n",
    "    )"
   ]
  },
  {
   "cell_type": "code",
   "execution_count": null,
   "id": "d1c56a3e",
   "metadata": {},
   "outputs": [],
   "source": [
    "# | export\n",
    "\n",
    "\n",
    "class AiWorkflowsEnrichmentType(sgqlc.types.Enum):\n",
    "    __schema__ = nerdgraph\n",
    "    __choices__ = (\"NRQL\",)"
   ]
  },
  {
   "cell_type": "code",
   "execution_count": null,
   "id": "d38639be",
   "metadata": {},
   "outputs": [],
   "source": [
    "# | export\n",
    "\n",
    "\n",
    "class AiWorkflowsFilterType(sgqlc.types.Enum):\n",
    "    __schema__ = nerdgraph\n",
    "    __choices__ = (\"FILTER\", \"VIEW\")"
   ]
  },
  {
   "cell_type": "code",
   "execution_count": null,
   "id": "bfb23298",
   "metadata": {},
   "outputs": [],
   "source": [
    "# | export\n",
    "\n",
    "\n",
    "class AiWorkflowsMutingRulesHandling(sgqlc.types.Enum):\n",
    "    __schema__ = nerdgraph\n",
    "    __choices__ = (\n",
    "        \"DONT_NOTIFY_FULLY_MUTED_ISSUES\",\n",
    "        \"DONT_NOTIFY_FULLY_OR_PARTIALLY_MUTED_ISSUES\",\n",
    "        \"NOTIFY_ALL_ISSUES\",\n",
    "    )"
   ]
  },
  {
   "cell_type": "code",
   "execution_count": null,
   "id": "3f787ea8",
   "metadata": {},
   "outputs": [],
   "source": [
    "# | export\n",
    "\n",
    "\n",
    "class AiWorkflowsNotificationTrigger(sgqlc.types.Enum):\n",
    "    __schema__ = nerdgraph\n",
    "    __choices__ = (\n",
    "        \"ACKNOWLEDGED\",\n",
    "        \"ACTIVATED\",\n",
    "        \"CLOSED\",\n",
    "        \"INVESTIGATING\",\n",
    "        \"OTHER_UPDATES\",\n",
    "        \"PRIORITY_CHANGED\",\n",
    "    )"
   ]
  },
  {
   "cell_type": "code",
   "execution_count": null,
   "id": "b92b138b",
   "metadata": {},
   "outputs": [],
   "source": [
    "# | export\n",
    "\n",
    "\n",
    "class AiWorkflowsOperator(sgqlc.types.Enum):\n",
    "    __schema__ = nerdgraph\n",
    "    __choices__ = (\n",
    "        \"CONTAINS\",\n",
    "        \"DOES_NOT_CONTAIN\",\n",
    "        \"DOES_NOT_EQUAL\",\n",
    "        \"DOES_NOT_EXACTLY_MATCH\",\n",
    "        \"ENDS_WITH\",\n",
    "        \"EQUAL\",\n",
    "        \"EXACTLY_MATCHES\",\n",
    "        \"GREATER_OR_EQUAL\",\n",
    "        \"GREATER_THAN\",\n",
    "        \"IS\",\n",
    "        \"IS_NOT\",\n",
    "        \"LESS_OR_EQUAL\",\n",
    "        \"LESS_THAN\",\n",
    "        \"STARTS_WITH\",\n",
    "    )"
   ]
  },
  {
   "cell_type": "code",
   "execution_count": null,
   "id": "62acfb8b",
   "metadata": {},
   "outputs": [],
   "source": [
    "# | export\n",
    "\n",
    "\n",
    "class AiWorkflowsTestErrorType(sgqlc.types.Enum):\n",
    "    __schema__ = nerdgraph\n",
    "    __choices__ = (\n",
    "        \"CHANNEL_NOT_FOUND\",\n",
    "        \"FAILED_RUNNING_TEST\",\n",
    "        \"MISSING_ENTITLEMENT\",\n",
    "        \"UNAUTHORIZED_ACCOUNT\",\n",
    "        \"UNSUPPORTED_CHANNEL_TYPE\",\n",
    "        \"VALIDATION_ERROR\",\n",
    "        \"WARNING_FAILED_SENDING_NOTIFICATION\",\n",
    "        \"WARNING_NO_FILTERED_ISSUE_FOUND\",\n",
    "        \"WARNING_NO_MATCHING_DYNAMIC_VARIABLES_FOUND\",\n",
    "    )"
   ]
  },
  {
   "cell_type": "code",
   "execution_count": null,
   "id": "5568f5f2",
   "metadata": {},
   "outputs": [],
   "source": [
    "# | export\n",
    "\n",
    "\n",
    "class AiWorkflowsTestNotificationResponseStatus(sgqlc.types.Enum):\n",
    "    __schema__ = nerdgraph\n",
    "    __choices__ = (\"FAILURE\", \"SUCCESS\")"
   ]
  },
  {
   "cell_type": "code",
   "execution_count": null,
   "id": "26ea4bd0",
   "metadata": {},
   "outputs": [],
   "source": [
    "# | export\n",
    "\n",
    "\n",
    "class AiWorkflowsTestResponseStatus(sgqlc.types.Enum):\n",
    "    __schema__ = nerdgraph\n",
    "    __choices__ = (\"FAILURE\", \"SUCCESS\")"
   ]
  },
  {
   "cell_type": "code",
   "execution_count": null,
   "id": "0430e377",
   "metadata": {},
   "outputs": [],
   "source": [
    "# | export\n",
    "\n",
    "\n",
    "class AiWorkflowsUpdateErrorType(sgqlc.types.Enum):\n",
    "    __schema__ = nerdgraph\n",
    "    __choices__ = (\n",
    "        \"CHANNEL_NOT_FOUND\",\n",
    "        \"DUPLICATE\",\n",
    "        \"INVALID_PARAMETER\",\n",
    "        \"MISSING_ENTITLEMENT\",\n",
    "        \"UNAUTHORIZED_ACCOUNT\",\n",
    "        \"UNSUPPORTED_CHANNEL_TYPE\",\n",
    "        \"VALIDATION_ERROR\",\n",
    "    )"
   ]
  },
  {
   "cell_type": "code",
   "execution_count": null,
   "id": "0a24376c",
   "metadata": {},
   "outputs": [],
   "source": [
    "# | export\n",
    "\n",
    "\n",
    "class AlertsActionOnMutingRuleWindowEnded(sgqlc.types.Enum):\n",
    "    __schema__ = nerdgraph\n",
    "    __choices__ = (\"CLOSE_ISSUES_ON_INACTIVE\", \"DO_NOTHING\")"
   ]
  },
  {
   "cell_type": "code",
   "execution_count": null,
   "id": "802a9f90",
   "metadata": {},
   "outputs": [],
   "source": [
    "# | export\n",
    "\n",
    "\n",
    "class AlertsDayOfWeek(sgqlc.types.Enum):\n",
    "    __schema__ = nerdgraph\n",
    "    __choices__ = (\n",
    "        \"FRIDAY\",\n",
    "        \"MONDAY\",\n",
    "        \"SATURDAY\",\n",
    "        \"SUNDAY\",\n",
    "        \"THURSDAY\",\n",
    "        \"TUESDAY\",\n",
    "        \"WEDNESDAY\",\n",
    "    )"
   ]
  },
  {
   "cell_type": "code",
   "execution_count": null,
   "id": "80b5537c",
   "metadata": {},
   "outputs": [],
   "source": [
    "# | export\n",
    "\n",
    "\n",
    "class AlertsFillOption(sgqlc.types.Enum):\n",
    "    __schema__ = nerdgraph\n",
    "    __choices__ = (\"LAST_VALUE\", \"NONE\", \"STATIC\")"
   ]
  },
  {
   "cell_type": "code",
   "execution_count": null,
   "id": "253f7501",
   "metadata": {},
   "outputs": [],
   "source": [
    "# | export\n",
    "\n",
    "\n",
    "class AlertsIncidentPreference(sgqlc.types.Enum):\n",
    "    __schema__ = nerdgraph\n",
    "    __choices__ = (\"PER_CONDITION\", \"PER_CONDITION_AND_TARGET\", \"PER_POLICY\")"
   ]
  },
  {
   "cell_type": "code",
   "execution_count": null,
   "id": "b0191cf1",
   "metadata": {},
   "outputs": [],
   "source": [
    "# | export\n",
    "\n",
    "\n",
    "class AlertsMutingRuleConditionGroupOperator(sgqlc.types.Enum):\n",
    "    __schema__ = nerdgraph\n",
    "    __choices__ = (\"AND\", \"OR\")"
   ]
  },
  {
   "cell_type": "code",
   "execution_count": null,
   "id": "151e3336",
   "metadata": {},
   "outputs": [],
   "source": [
    "# | export\n",
    "\n",
    "\n",
    "class AlertsMutingRuleConditionOperator(sgqlc.types.Enum):\n",
    "    __schema__ = nerdgraph\n",
    "    __choices__ = (\n",
    "        \"ANY\",\n",
    "        \"CONTAINS\",\n",
    "        \"ENDS_WITH\",\n",
    "        \"EQUALS\",\n",
    "        \"IN\",\n",
    "        \"IS_BLANK\",\n",
    "        \"IS_NOT_BLANK\",\n",
    "        \"NOT_CONTAINS\",\n",
    "        \"NOT_ENDS_WITH\",\n",
    "        \"NOT_EQUALS\",\n",
    "        \"NOT_IN\",\n",
    "        \"NOT_STARTS_WITH\",\n",
    "        \"STARTS_WITH\",\n",
    "    )"
   ]
  },
  {
   "cell_type": "code",
   "execution_count": null,
   "id": "52f0a791",
   "metadata": {},
   "outputs": [],
   "source": [
    "# | export\n",
    "\n",
    "\n",
    "class AlertsMutingRuleScheduleRepeat(sgqlc.types.Enum):\n",
    "    __schema__ = nerdgraph\n",
    "    __choices__ = (\"DAILY\", \"MONTHLY\", \"WEEKLY\")"
   ]
  },
  {
   "cell_type": "code",
   "execution_count": null,
   "id": "93fa8a31",
   "metadata": {},
   "outputs": [],
   "source": [
    "# | export\n",
    "\n",
    "\n",
    "class AlertsMutingRuleStatus(sgqlc.types.Enum):\n",
    "    __schema__ = nerdgraph\n",
    "    __choices__ = (\"ACTIVE\", \"ENDED\", \"INACTIVE\", \"SCHEDULED\")"
   ]
  },
  {
   "cell_type": "code",
   "execution_count": null,
   "id": "51de2f70",
   "metadata": {},
   "outputs": [],
   "source": [
    "# | export\n",
    "\n",
    "\n",
    "class AlertsNotificationChannelCreateErrorType(sgqlc.types.Enum):\n",
    "    __schema__ = nerdgraph\n",
    "    __choices__ = (\n",
    "        \"BAD_USER_INPUT\",\n",
    "        \"FORBIDDEN_ERROR\",\n",
    "        \"SERVER_ERROR\",\n",
    "        \"TOO_MANY_REQUESTS_ERROR\",\n",
    "    )"
   ]
  },
  {
   "cell_type": "code",
   "execution_count": null,
   "id": "3e7b1c45",
   "metadata": {},
   "outputs": [],
   "source": [
    "# | export\n",
    "\n",
    "\n",
    "class AlertsNotificationChannelDeleteErrorType(sgqlc.types.Enum):\n",
    "    __schema__ = nerdgraph\n",
    "    __choices__ = (\n",
    "        \"BAD_USER_INPUT\",\n",
    "        \"FORBIDDEN_ERROR\",\n",
    "        \"NOT_FOUND_ERROR\",\n",
    "        \"SERVER_ERROR\",\n",
    "        \"TOO_MANY_REQUESTS_ERROR\",\n",
    "    )"
   ]
  },
  {
   "cell_type": "code",
   "execution_count": null,
   "id": "38aa865d",
   "metadata": {},
   "outputs": [],
   "source": [
    "# | export\n",
    "\n",
    "\n",
    "class AlertsNotificationChannelType(sgqlc.types.Enum):\n",
    "    __schema__ = nerdgraph\n",
    "    __choices__ = (\n",
    "        \"EMAIL\",\n",
    "        \"OPSGENIE\",\n",
    "        \"PAGERDUTY\",\n",
    "        \"SLACK\",\n",
    "        \"VICTOROPS\",\n",
    "        \"WEBHOOK\",\n",
    "        \"XMATTERS\",\n",
    "    )"
   ]
  },
  {
   "cell_type": "code",
   "execution_count": null,
   "id": "2e8bbb67",
   "metadata": {},
   "outputs": [],
   "source": [
    "# | export\n",
    "\n",
    "\n",
    "class AlertsNotificationChannelUpdateErrorType(sgqlc.types.Enum):\n",
    "    __schema__ = nerdgraph\n",
    "    __choices__ = (\n",
    "        \"BAD_USER_INPUT\",\n",
    "        \"FORBIDDEN_ERROR\",\n",
    "        \"NOT_FOUND_ERROR\",\n",
    "        \"SERVER_ERROR\",\n",
    "        \"TOO_MANY_REQUESTS_ERROR\",\n",
    "    )"
   ]
  },
  {
   "cell_type": "code",
   "execution_count": null,
   "id": "b84eaf70",
   "metadata": {},
   "outputs": [],
   "source": [
    "# | export\n",
    "\n",
    "\n",
    "class AlertsNotificationChannelsAddToPolicyErrorType(sgqlc.types.Enum):\n",
    "    __schema__ = nerdgraph\n",
    "    __choices__ = (\n",
    "        \"BAD_USER_INPUT\",\n",
    "        \"FORBIDDEN_ERROR\",\n",
    "        \"NOT_FOUND_ERROR\",\n",
    "        \"SERVER_ERROR\",\n",
    "        \"TOO_MANY_REQUESTS_ERROR\",\n",
    "    )"
   ]
  },
  {
   "cell_type": "code",
   "execution_count": null,
   "id": "1466d673",
   "metadata": {},
   "outputs": [],
   "source": [
    "# | export\n",
    "\n",
    "\n",
    "class AlertsNotificationChannelsRemoveFromPolicyErrorType(sgqlc.types.Enum):\n",
    "    __schema__ = nerdgraph\n",
    "    __choices__ = (\n",
    "        \"BAD_USER_INPUT\",\n",
    "        \"FORBIDDEN_ERROR\",\n",
    "        \"NOT_FOUND_ERROR\",\n",
    "        \"SERVER_ERROR\",\n",
    "        \"TOO_MANY_REQUESTS_ERROR\",\n",
    "    )"
   ]
  },
  {
   "cell_type": "code",
   "execution_count": null,
   "id": "6d1cbde3",
   "metadata": {},
   "outputs": [],
   "source": [
    "# | export\n",
    "\n",
    "\n",
    "class AlertsNrqlBaselineDirection(sgqlc.types.Enum):\n",
    "    __schema__ = nerdgraph\n",
    "    __choices__ = (\"LOWER_ONLY\", \"UPPER_AND_LOWER\", \"UPPER_ONLY\")"
   ]
  },
  {
   "cell_type": "code",
   "execution_count": null,
   "id": "a277ef14",
   "metadata": {},
   "outputs": [],
   "source": [
    "# | export\n",
    "\n",
    "\n",
    "class AlertsNrqlConditionPriority(sgqlc.types.Enum):\n",
    "    __schema__ = nerdgraph\n",
    "    __choices__ = (\"CRITICAL\", \"WARNING\")"
   ]
  },
  {
   "cell_type": "code",
   "execution_count": null,
   "id": "6ddd1d79",
   "metadata": {},
   "outputs": [],
   "source": [
    "# | export\n",
    "\n",
    "\n",
    "class AlertsNrqlConditionTermsOperator(sgqlc.types.Enum):\n",
    "    __schema__ = nerdgraph\n",
    "    __choices__ = (\n",
    "        \"ABOVE\",\n",
    "        \"ABOVE_OR_EQUALS\",\n",
    "        \"BELOW\",\n",
    "        \"BELOW_OR_EQUALS\",\n",
    "        \"EQUALS\",\n",
    "        \"NOT_EQUALS\",\n",
    "    )"
   ]
  },
  {
   "cell_type": "code",
   "execution_count": null,
   "id": "15bdebcb",
   "metadata": {},
   "outputs": [],
   "source": [
    "# | export\n",
    "\n",
    "\n",
    "class AlertsNrqlConditionThresholdOccurrences(sgqlc.types.Enum):\n",
    "    __schema__ = nerdgraph\n",
    "    __choices__ = (\"ALL\", \"AT_LEAST_ONCE\")"
   ]
  },
  {
   "cell_type": "code",
   "execution_count": null,
   "id": "c1fc2215",
   "metadata": {},
   "outputs": [],
   "source": [
    "# | export\n",
    "\n",
    "\n",
    "class AlertsNrqlConditionType(sgqlc.types.Enum):\n",
    "    __schema__ = nerdgraph\n",
    "    __choices__ = (\"BASELINE\", \"OUTLIER\", \"STATIC\")"
   ]
  },
  {
   "cell_type": "code",
   "execution_count": null,
   "id": "fd447335",
   "metadata": {},
   "outputs": [],
   "source": [
    "# | export\n",
    "\n",
    "\n",
    "class AlertsNrqlDynamicConditionTermsOperator(sgqlc.types.Enum):\n",
    "    __schema__ = nerdgraph\n",
    "    __choices__ = (\"ABOVE\",)"
   ]
  },
  {
   "cell_type": "code",
   "execution_count": null,
   "id": "65bdbe5a",
   "metadata": {},
   "outputs": [],
   "source": [
    "# | export\n",
    "\n",
    "\n",
    "class AlertsNrqlSignalSeasonality(sgqlc.types.Enum):\n",
    "    __schema__ = nerdgraph\n",
    "    __choices__ = (\"DAILY\", \"HOURLY\", \"NEW_RELIC_CALCULATION\", \"NONE\", \"WEEKLY\")"
   ]
  },
  {
   "cell_type": "code",
   "execution_count": null,
   "id": "2c12c057",
   "metadata": {},
   "outputs": [],
   "source": [
    "# | export\n",
    "\n",
    "\n",
    "class AlertsNrqlStaticConditionValueFunction(sgqlc.types.Enum):\n",
    "    __schema__ = nerdgraph\n",
    "    __choices__ = ()"
   ]
  },
  {
   "cell_type": "code",
   "execution_count": null,
   "id": "4cd07f56",
   "metadata": {},
   "outputs": [],
   "source": [
    "# | export\n",
    "\n",
    "\n",
    "class AlertsOpsGenieDataCenterRegion(sgqlc.types.Enum):\n",
    "    __schema__ = nerdgraph\n",
    "    __choices__ = (\"EU\", \"US\")"
   ]
  },
  {
   "cell_type": "code",
   "execution_count": null,
   "id": "e20d5fac",
   "metadata": {},
   "outputs": [],
   "source": [
    "# | export\n",
    "\n",
    "\n",
    "class AlertsSignalAggregationMethod(sgqlc.types.Enum):\n",
    "    __schema__ = nerdgraph\n",
    "    __choices__ = (\"CADENCE\", \"EVENT_FLOW\", \"EVENT_TIMER\")"
   ]
  },
  {
   "cell_type": "code",
   "execution_count": null,
   "id": "a7a1d537",
   "metadata": {},
   "outputs": [],
   "source": [
    "# | export\n",
    "\n",
    "\n",
    "class AlertsViolationTimeLimit(sgqlc.types.Enum):\n",
    "    __schema__ = nerdgraph\n",
    "    __choices__ = (\n",
    "        \"EIGHT_HOURS\",\n",
    "        \"FOUR_HOURS\",\n",
    "        \"NON_MATCHABLE_LIMIT_VALUE\",\n",
    "        \"ONE_HOUR\",\n",
    "        \"THIRTY_DAYS\",\n",
    "        \"TWELVE_HOURS\",\n",
    "        \"TWENTY_FOUR_HOURS\",\n",
    "        \"TWO_HOURS\",\n",
    "    )"
   ]
  },
  {
   "cell_type": "code",
   "execution_count": null,
   "id": "1d35f296",
   "metadata": {},
   "outputs": [],
   "source": [
    "# | export\n",
    "\n",
    "\n",
    "class AlertsWebhookCustomPayloadType(sgqlc.types.Enum):\n",
    "    __schema__ = nerdgraph\n",
    "    __choices__ = (\"FORM\", \"JSON\")"
   ]
  },
  {
   "cell_type": "code",
   "execution_count": null,
   "id": "a3dfc477",
   "metadata": {},
   "outputs": [],
   "source": [
    "# | export\n",
    "\n",
    "\n",
    "class ApiAccessIngestKeyErrorType(sgqlc.types.Enum):\n",
    "    __schema__ = nerdgraph\n",
    "    __choices__ = (\"FORBIDDEN\", \"INVALID\", \"NOT_FOUND\")"
   ]
  },
  {
   "cell_type": "code",
   "execution_count": null,
   "id": "a179c41d",
   "metadata": {},
   "outputs": [],
   "source": [
    "# | export\n",
    "\n",
    "\n",
    "class ApiAccessIngestKeyType(sgqlc.types.Enum):\n",
    "    __schema__ = nerdgraph\n",
    "    __choices__ = (\"BROWSER\", \"LICENSE\")"
   ]
  },
  {
   "cell_type": "code",
   "execution_count": null,
   "id": "b3d7338d",
   "metadata": {},
   "outputs": [],
   "source": [
    "# | export\n",
    "\n",
    "\n",
    "class ApiAccessKeyType(sgqlc.types.Enum):\n",
    "    __schema__ = nerdgraph\n",
    "    __choices__ = (\"INGEST\", \"USER\")"
   ]
  },
  {
   "cell_type": "code",
   "execution_count": null,
   "id": "59815c3b",
   "metadata": {},
   "outputs": [],
   "source": [
    "# | export\n",
    "\n",
    "\n",
    "class ApiAccessUserKeyErrorType(sgqlc.types.Enum):\n",
    "    __schema__ = nerdgraph\n",
    "    __choices__ = (\"FORBIDDEN\", \"INVALID\", \"NOT_FOUND\")"
   ]
  },
  {
   "cell_type": "code",
   "execution_count": null,
   "id": "5f39295b",
   "metadata": {},
   "outputs": [],
   "source": [
    "# | export\n",
    "\n",
    "\n",
    "class BrowserAgentInstallType(sgqlc.types.Enum):\n",
    "    __schema__ = nerdgraph\n",
    "    __choices__ = (\"LITE\", \"PRO\", \"PRO_SPA\")"
   ]
  },
  {
   "cell_type": "code",
   "execution_count": null,
   "id": "f3ebd8cf",
   "metadata": {},
   "outputs": [],
   "source": [
    "# | export\n",
    "\n",
    "\n",
    "class ChangeTrackingCategoryType(sgqlc.types.Enum):\n",
    "    __schema__ = nerdgraph\n",
    "    __choices__ = (\n",
    "        \"BUSINESS_EVENT__CONVENTION\",\n",
    "        \"BUSINESS_EVENT__MARKETING_CAMPAIGN\",\n",
    "        \"BUSINESS_EVENT__OTHER\",\n",
    "        \"CUSTOMER_DEFINED__CUSTOM\",\n",
    "        \"DEPLOYMENT_LIFECYCLE__ARTIFACT_COPY\",\n",
    "        \"DEPLOYMENT_LIFECYCLE__ARTIFACT_DELETION\",\n",
    "        \"DEPLOYMENT_LIFECYCLE__ARTIFACT_DEPLOYMENT\",\n",
    "        \"DEPLOYMENT_LIFECYCLE__ARTIFACT_MOVE\",\n",
    "        \"DEPLOYMENT_LIFECYCLE__BUILD_DELETION\",\n",
    "        \"DEPLOYMENT_LIFECYCLE__BUILD_PROMOTION\",\n",
    "        \"DEPLOYMENT_LIFECYCLE__BUILD_UPLOAD\",\n",
    "        \"DEPLOYMENT_LIFECYCLE__IMAGE_DELETION\",\n",
    "        \"DEPLOYMENT_LIFECYCLE__IMAGE_PROMOTION\",\n",
    "        \"DEPLOYMENT_LIFECYCLE__IMAGE_PUSH\",\n",
    "        \"DEPLOYMENT_LIFECYCLE__RELEASE_BUNDLE_CREATION\",\n",
    "        \"DEPLOYMENT_LIFECYCLE__RELEASE_BUNDLE_DELETION\",\n",
    "        \"DEPLOYMENT_LIFECYCLE__RELEASE_BUNDLE_SIGN\",\n",
    "        \"DEPLOYMENT__BASIC\",\n",
    "        \"DEPLOYMENT__BLUE_GREEN\",\n",
    "        \"DEPLOYMENT__CANARY\",\n",
    "        \"DEPLOYMENT__OTHER\",\n",
    "        \"DEPLOYMENT__ROLLING\",\n",
    "        \"DEPLOYMENT__SHADOW\",\n",
    "        \"FEATURE_FLAG__BASIC\",\n",
    "        \"OPERATIONAL__CRASH\",\n",
    "        \"OPERATIONAL__OTHER\",\n",
    "        \"OPERATIONAL__SCHEDULED_MAINTENANCE_PERIOD\",\n",
    "        \"OPERATIONAL__SERVER_REBOOT\",\n",
    "    )"
   ]
  },
  {
   "cell_type": "code",
   "execution_count": null,
   "id": "dbb4142b",
   "metadata": {},
   "outputs": [],
   "source": [
    "# | export\n",
    "\n",
    "\n",
    "class ChangeTrackingDeploymentType(sgqlc.types.Enum):\n",
    "    __schema__ = nerdgraph\n",
    "    __choices__ = (\"BASIC\", \"BLUE_GREEN\", \"CANARY\", \"OTHER\", \"ROLLING\", \"SHADOW\")"
   ]
  },
  {
   "cell_type": "code",
   "execution_count": null,
   "id": "6e170f3b",
   "metadata": {},
   "outputs": [],
   "source": [
    "# | export\n",
    "\n",
    "\n",
    "class ChangeTrackingValidationFlag(sgqlc.types.Enum):\n",
    "    __schema__ = nerdgraph\n",
    "    __choices__ = (\n",
    "        \"ALLOW_CUSTOM_CATEGORY_OR_TYPE\",\n",
    "        \"FAIL_ON_FIELD_LENGTH\",\n",
    "        \"FAIL_ON_REST_API_FAILURES\",\n",
    "    )"
   ]
  },
  {
   "cell_type": "code",
   "execution_count": null,
   "id": "f8d092c9",
   "metadata": {},
   "outputs": [],
   "source": [
    "# | export\n",
    "\n",
    "\n",
    "class ChartFormatType(sgqlc.types.Enum):\n",
    "    __schema__ = nerdgraph\n",
    "    __choices__ = (\"PDF\", \"PNG\")"
   ]
  },
  {
   "cell_type": "code",
   "execution_count": null,
   "id": "278c9e96",
   "metadata": {},
   "outputs": [],
   "source": [
    "# | export\n",
    "\n",
    "\n",
    "class ChartImageType(sgqlc.types.Enum):\n",
    "    __schema__ = nerdgraph\n",
    "    __choices__ = (\n",
    "        \"APDEX\",\n",
    "        \"AREA\",\n",
    "        \"BAR\",\n",
    "        \"BASELINE\",\n",
    "        \"BILLBOARD\",\n",
    "        \"BULLET\",\n",
    "        \"EVENT_FEED\",\n",
    "        \"FUNNEL\",\n",
    "        \"HEATMAP\",\n",
    "        \"HISTOGRAM\",\n",
    "        \"LINE\",\n",
    "        \"PIE\",\n",
    "        \"SCATTER\",\n",
    "        \"STACKED_HORIZONTAL_BAR\",\n",
    "        \"TABLE\",\n",
    "        \"VERTICAL_BAR\",\n",
    "    )"
   ]
  },
  {
   "cell_type": "code",
   "execution_count": null,
   "id": "d3a9fb47",
   "metadata": {},
   "outputs": [],
   "source": [
    "# | export\n",
    "\n",
    "\n",
    "class CloudMetricCollectionMode(sgqlc.types.Enum):\n",
    "    __schema__ = nerdgraph\n",
    "    __choices__ = (\"PULL\", \"PUSH\")"
   ]
  },
  {
   "cell_type": "code",
   "execution_count": null,
   "id": "96402225",
   "metadata": {},
   "outputs": [],
   "source": [
    "# | export\n",
    "\n",
    "\n",
    "class CollaborationExternalApplicationType(sgqlc.types.Enum):\n",
    "    __schema__ = nerdgraph\n",
    "    __choices__ = (\"CODESTREAM\", \"EMAIL\", \"SLACK\", \"TEAMS\")"
   ]
  },
  {
   "cell_type": "code",
   "execution_count": null,
   "id": "23ec0280",
   "metadata": {},
   "outputs": [],
   "source": [
    "# | export\n",
    "\n",
    "\n",
    "class CollaborationStatus(sgqlc.types.Enum):\n",
    "    __schema__ = nerdgraph\n",
    "    __choices__ = (\"ARCHIVED\", \"CLOSED\", \"OPEN\")"
   ]
  },
  {
   "cell_type": "code",
   "execution_count": null,
   "id": "9c91b94c",
   "metadata": {},
   "outputs": [],
   "source": [
    "# | export\n",
    "\n",
    "\n",
    "class DashboardAddWidgetsToPageErrorType(sgqlc.types.Enum):\n",
    "    __schema__ = nerdgraph\n",
    "    __choices__ = (\"FORBIDDEN_OPERATION\", \"INVALID_INPUT\", \"PAGE_NOT_FOUND\")"
   ]
  },
  {
   "cell_type": "code",
   "execution_count": null,
   "id": "cf126057",
   "metadata": {},
   "outputs": [],
   "source": [
    "# | export\n",
    "\n",
    "\n",
    "class DashboardAlertSeverity(sgqlc.types.Enum):\n",
    "    __schema__ = nerdgraph\n",
    "    __choices__ = (\"CRITICAL\", \"NOT_ALERTING\", \"WARNING\")"
   ]
  },
  {
   "cell_type": "code",
   "execution_count": null,
   "id": "e605739f",
   "metadata": {},
   "outputs": [],
   "source": [
    "# | export\n",
    "\n",
    "\n",
    "class DashboardCreateErrorType(sgqlc.types.Enum):\n",
    "    __schema__ = nerdgraph\n",
    "    __choices__ = (\"INVALID_INPUT\",)"
   ]
  },
  {
   "cell_type": "code",
   "execution_count": null,
   "id": "c8f7053d",
   "metadata": {},
   "outputs": [],
   "source": [
    "# | export\n",
    "\n",
    "\n",
    "class DashboardDeleteErrorType(sgqlc.types.Enum):\n",
    "    __schema__ = nerdgraph\n",
    "    __choices__ = (\"DASHBOARD_NOT_FOUND\", \"FORBIDDEN_OPERATION\")"
   ]
  },
  {
   "cell_type": "code",
   "execution_count": null,
   "id": "f4cdcb91",
   "metadata": {},
   "outputs": [],
   "source": [
    "# | export\n",
    "\n",
    "\n",
    "class DashboardDeleteResultStatus(sgqlc.types.Enum):\n",
    "    __schema__ = nerdgraph\n",
    "    __choices__ = (\"FAILURE\", \"SUCCESS\")"
   ]
  },
  {
   "cell_type": "code",
   "execution_count": null,
   "id": "db277d53",
   "metadata": {},
   "outputs": [],
   "source": [
    "# | export\n",
    "\n",
    "\n",
    "class DashboardEntityPermissions(sgqlc.types.Enum):\n",
    "    __schema__ = nerdgraph\n",
    "    __choices__ = (\"PRIVATE\", \"PUBLIC_READ_ONLY\", \"PUBLIC_READ_WRITE\")"
   ]
  },
  {
   "cell_type": "code",
   "execution_count": null,
   "id": "bd8cac02",
   "metadata": {},
   "outputs": [],
   "source": [
    "# | export\n",
    "\n",
    "\n",
    "class DashboardLiveUrlErrorType(sgqlc.types.Enum):\n",
    "    __schema__ = nerdgraph\n",
    "    __choices__ = (\"OPERATION_FAILURE\", \"UNAUTHORIZED\", \"UNSUPPORTED\", \"URL_NOT_FOUND\")"
   ]
  },
  {
   "cell_type": "code",
   "execution_count": null,
   "id": "47a003f9",
   "metadata": {},
   "outputs": [],
   "source": [
    "# | export\n",
    "\n",
    "\n",
    "class DashboardLiveUrlType(sgqlc.types.Enum):\n",
    "    __schema__ = nerdgraph\n",
    "    __choices__ = (\"DASHBOARD\", \"WIDGET\")"
   ]
  },
  {
   "cell_type": "code",
   "execution_count": null,
   "id": "329c62d4",
   "metadata": {},
   "outputs": [],
   "source": [
    "# | export\n",
    "\n",
    "\n",
    "class DashboardPermissions(sgqlc.types.Enum):\n",
    "    __schema__ = nerdgraph\n",
    "    __choices__ = (\"PRIVATE\", \"PUBLIC_READ_ONLY\", \"PUBLIC_READ_WRITE\")"
   ]
  },
  {
   "cell_type": "code",
   "execution_count": null,
   "id": "04cfef81",
   "metadata": {},
   "outputs": [],
   "source": [
    "# | export\n",
    "\n",
    "\n",
    "class DashboardUndeleteErrorType(sgqlc.types.Enum):\n",
    "    __schema__ = nerdgraph\n",
    "    __choices__ = (\"DASHBOARD_NOT_FOUND\", \"FORBIDDEN_OPERATION\")"
   ]
  },
  {
   "cell_type": "code",
   "execution_count": null,
   "id": "13245ed6",
   "metadata": {},
   "outputs": [],
   "source": [
    "# | export\n",
    "\n",
    "\n",
    "class DashboardUpdateErrorType(sgqlc.types.Enum):\n",
    "    __schema__ = nerdgraph\n",
    "    __choices__ = (\"FORBIDDEN_OPERATION\", \"INVALID_INPUT\")"
   ]
  },
  {
   "cell_type": "code",
   "execution_count": null,
   "id": "d3b4666c",
   "metadata": {},
   "outputs": [],
   "source": [
    "# | export\n",
    "\n",
    "\n",
    "class DashboardUpdatePageErrorType(sgqlc.types.Enum):\n",
    "    __schema__ = nerdgraph\n",
    "    __choices__ = (\"FORBIDDEN_OPERATION\", \"INVALID_INPUT\", \"PAGE_NOT_FOUND\")"
   ]
  },
  {
   "cell_type": "code",
   "execution_count": null,
   "id": "68292d3b",
   "metadata": {},
   "outputs": [],
   "source": [
    "# | export\n",
    "\n",
    "\n",
    "class DashboardUpdateWidgetsInPageErrorType(sgqlc.types.Enum):\n",
    "    __schema__ = nerdgraph\n",
    "    __choices__ = (\n",
    "        \"FORBIDDEN_OPERATION\",\n",
    "        \"INVALID_INPUT\",\n",
    "        \"PAGE_NOT_FOUND\",\n",
    "        \"WIDGET_NOT_FOUND\",\n",
    "    )"
   ]
  },
  {
   "cell_type": "code",
   "execution_count": null,
   "id": "d8a520d8",
   "metadata": {},
   "outputs": [],
   "source": [
    "# | export\n",
    "\n",
    "\n",
    "class DashboardVariableReplacementStrategy(sgqlc.types.Enum):\n",
    "    __schema__ = nerdgraph\n",
    "    __choices__ = (\"DEFAULT\", \"IDENTIFIER\", \"NUMBER\", \"STRING\")"
   ]
  },
  {
   "cell_type": "code",
   "execution_count": null,
   "id": "15b39964",
   "metadata": {},
   "outputs": [],
   "source": [
    "# | export\n",
    "\n",
    "\n",
    "class DashboardVariableType(sgqlc.types.Enum):\n",
    "    __schema__ = nerdgraph\n",
    "    __choices__ = (\"ENUM\", \"NRQL\", \"STRING\")"
   ]
  },
  {
   "cell_type": "code",
   "execution_count": null,
   "id": "e8dcd696",
   "metadata": {},
   "outputs": [],
   "source": [
    "# | export\n",
    "\n",
    "\n",
    "class DataDictionaryTextFormat(sgqlc.types.Enum):\n",
    "    __schema__ = nerdgraph\n",
    "    __choices__ = (\"HTML\", \"MARKDOWN\", \"PLAIN\")"
   ]
  },
  {
   "cell_type": "code",
   "execution_count": null,
   "id": "68be98d1",
   "metadata": {},
   "outputs": [],
   "source": [
    "# | export\n",
    "\n",
    "\n",
    "class DataManagementCategory(sgqlc.types.Enum):\n",
    "    __schema__ = nerdgraph\n",
    "    __choices__ = (\"ALERTING\", \"INGEST\", \"QUERY\")"
   ]
  },
  {
   "cell_type": "code",
   "execution_count": null,
   "id": "b9d28967",
   "metadata": {},
   "outputs": [],
   "source": [
    "# | export\n",
    "\n",
    "\n",
    "class DataManagementType(sgqlc.types.Enum):\n",
    "    __schema__ = nerdgraph\n",
    "    __choices__ = (\"GAUGE\", \"RATE\")"
   ]
  },
  {
   "cell_type": "code",
   "execution_count": null,
   "id": "c17fc431",
   "metadata": {},
   "outputs": [],
   "source": [
    "# | export\n",
    "\n",
    "\n",
    "class DataManagementUnit(sgqlc.types.Enum):\n",
    "    __schema__ = nerdgraph\n",
    "    __choices__ = (\"BYTES\", \"COUNT\", \"GIGABYTES\")"
   ]
  },
  {
   "cell_type": "code",
   "execution_count": null,
   "id": "a918dad8",
   "metadata": {},
   "outputs": [],
   "source": [
    "# | export\n",
    "\n",
    "\n",
    "class DataSourceGapsGapTypeIdentifier(sgqlc.types.Enum):\n",
    "    __schema__ = nerdgraph\n",
    "    __choices__ = (\n",
    "        \"APACHE\",\n",
    "        \"APM_AGENT_LOGS\",\n",
    "        \"CASSANDRA\",\n",
    "        \"CONSUL\",\n",
    "        \"COUCHBASE\",\n",
    "        \"ELASTICSEARCH\",\n",
    "        \"GO\",\n",
    "        \"HAPROXY\",\n",
    "        \"INFRA_LOGS\",\n",
    "        \"JAVA\",\n",
    "        \"JMX\",\n",
    "        \"MEMCACHED\",\n",
    "        \"MICROSOFT_NET\",\n",
    "        \"MICROSOFT_SQL_SERVER\",\n",
    "        \"MONGODB\",\n",
    "        \"MYSQL\",\n",
    "        \"NAGIOS\",\n",
    "        \"NGINX\",\n",
    "        \"NODE_JS\",\n",
    "        \"PHP\",\n",
    "        \"PIXIE\",\n",
    "        \"POSTGRESQL\",\n",
    "        \"PYTHON\",\n",
    "        \"RABBITMQ\",\n",
    "        \"REDIS\",\n",
    "        \"RUBY\",\n",
    "        \"VARNISH\",\n",
    "    )"
   ]
  },
  {
   "cell_type": "code",
   "execution_count": null,
   "id": "a45a3d25",
   "metadata": {},
   "outputs": [],
   "source": [
    "# | export\n",
    "\n",
    "\n",
    "class DistributedTracingSpanAnomalyType(sgqlc.types.Enum):\n",
    "    __schema__ = nerdgraph\n",
    "    __choices__ = (\"DURATION\",)"
   ]
  },
  {
   "cell_type": "code",
   "execution_count": null,
   "id": "9954f815",
   "metadata": {},
   "outputs": [],
   "source": [
    "# | export\n",
    "\n",
    "\n",
    "class DistributedTracingSpanClientType(sgqlc.types.Enum):\n",
    "    __schema__ = nerdgraph\n",
    "    __choices__ = (\"DATASTORE\", \"EXTERNAL\")"
   ]
  },
  {
   "cell_type": "code",
   "execution_count": null,
   "id": "7c42fb31",
   "metadata": {},
   "outputs": [],
   "source": [
    "# | export\n",
    "\n",
    "\n",
    "class DistributedTracingSpanProcessBoundary(sgqlc.types.Enum):\n",
    "    __schema__ = nerdgraph\n",
    "    __choices__ = (\"ENTRY\", \"EXIT\", \"IN_PROCESS\")"
   ]
  },
  {
   "cell_type": "code",
   "execution_count": null,
   "id": "31a18134",
   "metadata": {},
   "outputs": [],
   "source": [
    "# | export\n",
    "\n",
    "\n",
    "class EdgeComplianceTypeCode(sgqlc.types.Enum):\n",
    "    __schema__ = nerdgraph\n",
    "    __choices__ = (\"FEDRAMP\",)"
   ]
  },
  {
   "cell_type": "code",
   "execution_count": null,
   "id": "ce0faf13",
   "metadata": {},
   "outputs": [],
   "source": [
    "# | export\n",
    "\n",
    "\n",
    "class EdgeCreateSpanAttributeRuleResponseErrorType(sgqlc.types.Enum):\n",
    "    __schema__ = nerdgraph\n",
    "    __choices__ = (\n",
    "        \"DUPLICATE_RULES\",\n",
    "        \"EXCEEDS_SPAN_ATTRIBUTE_RULE_LIMITS\",\n",
    "        \"INVALID_INPUT\",\n",
    "        \"NOT_FOUND\",\n",
    "        \"OPPOSING_RULES\",\n",
    "    )"
   ]
  },
  {
   "cell_type": "code",
   "execution_count": null,
   "id": "d2dfeb1c",
   "metadata": {},
   "outputs": [],
   "source": [
    "# | export\n",
    "\n",
    "\n",
    "class EdgeCreateTraceObserverResponseErrorType(sgqlc.types.Enum):\n",
    "    __schema__ = nerdgraph\n",
    "    __choices__ = (\"ALREADY_EXISTS\", \"NO_AVAILABILITY_IN_REGION\")"
   ]
  },
  {
   "cell_type": "code",
   "execution_count": null,
   "id": "354e54f5",
   "metadata": {},
   "outputs": [],
   "source": [
    "# | export\n",
    "\n",
    "\n",
    "class EdgeDataSourceGroupUpdateType(sgqlc.types.Enum):\n",
    "    __schema__ = nerdgraph\n",
    "    __choices__ = (\"ADD\", \"REMOVE\", \"REPLACE\")"
   ]
  },
  {
   "cell_type": "code",
   "execution_count": null,
   "id": "3865061c",
   "metadata": {},
   "outputs": [],
   "source": [
    "# | export\n",
    "\n",
    "\n",
    "class EdgeDataSourceStatusType(sgqlc.types.Enum):\n",
    "    __schema__ = nerdgraph\n",
    "    __choices__ = (\"ACTIVE\", \"INACTIVE\")"
   ]
  },
  {
   "cell_type": "code",
   "execution_count": null,
   "id": "f7b9563a",
   "metadata": {},
   "outputs": [],
   "source": [
    "# | export\n",
    "\n",
    "\n",
    "class EdgeDeleteSpanAttributeRuleResponseErrorType(sgqlc.types.Enum):\n",
    "    __schema__ = nerdgraph\n",
    "    __choices__ = (\"NOT_FOUND\",)"
   ]
  },
  {
   "cell_type": "code",
   "execution_count": null,
   "id": "2f139c8e",
   "metadata": {},
   "outputs": [],
   "source": [
    "# | export\n",
    "\n",
    "\n",
    "class EdgeDeleteTraceObserverResponseErrorType(sgqlc.types.Enum):\n",
    "    __schema__ = nerdgraph\n",
    "    __choices__ = (\"ALREADY_DELETED\", \"NOT_FOUND\")"
   ]
  },
  {
   "cell_type": "code",
   "execution_count": null,
   "id": "3a6ba3a6",
   "metadata": {},
   "outputs": [],
   "source": [
    "# | export\n",
    "\n",
    "\n",
    "class EdgeEndpointStatus(sgqlc.types.Enum):\n",
    "    __schema__ = nerdgraph\n",
    "    __choices__ = (\"CREATED\", \"DELETED\")"
   ]
  },
  {
   "cell_type": "code",
   "execution_count": null,
   "id": "29c29e0d",
   "metadata": {},
   "outputs": [],
   "source": [
    "# | export\n",
    "\n",
    "\n",
    "class EdgeEndpointType(sgqlc.types.Enum):\n",
    "    __schema__ = nerdgraph\n",
    "    __choices__ = (\"PUBLIC\",)"
   ]
  },
  {
   "cell_type": "code",
   "execution_count": null,
   "id": "e19626b5",
   "metadata": {},
   "outputs": [],
   "source": [
    "# | export\n",
    "\n",
    "\n",
    "class EdgeProviderRegion(sgqlc.types.Enum):\n",
    "    __schema__ = nerdgraph\n",
    "    __choices__ = (\n",
    "        \"AWS_AP_SOUTHEAST_1\",\n",
    "        \"AWS_AP_SOUTHEAST_2\",\n",
    "        \"AWS_EU_CENTRAL_1\",\n",
    "        \"AWS_EU_WEST_1\",\n",
    "        \"AWS_US_EAST_1\",\n",
    "        \"AWS_US_EAST_2\",\n",
    "        \"AWS_US_WEST_2\",\n",
    "    )"
   ]
  },
  {
   "cell_type": "code",
   "execution_count": null,
   "id": "14b43dd5",
   "metadata": {},
   "outputs": [],
   "source": [
    "# | export\n",
    "\n",
    "\n",
    "class EdgeSpanAttributeKeyOperator(sgqlc.types.Enum):\n",
    "    __schema__ = nerdgraph\n",
    "    __choices__ = (\"EQUALS\", \"LIKE\")"
   ]
  },
  {
   "cell_type": "code",
   "execution_count": null,
   "id": "17c6f43c",
   "metadata": {},
   "outputs": [],
   "source": [
    "# | export\n",
    "\n",
    "\n",
    "class EdgeSpanAttributeValueOperator(sgqlc.types.Enum):\n",
    "    __schema__ = nerdgraph\n",
    "    __choices__ = (\"EQUALS\", \"IS_NOT_NULL\", \"LIKE\")"
   ]
  },
  {
   "cell_type": "code",
   "execution_count": null,
   "id": "20aeaf7e",
   "metadata": {},
   "outputs": [],
   "source": [
    "# | export\n",
    "\n",
    "\n",
    "class EdgeTraceFilterAction(sgqlc.types.Enum):\n",
    "    __schema__ = nerdgraph\n",
    "    __choices__ = (\"DISCARD\", \"KEEP\")"
   ]
  },
  {
   "cell_type": "code",
   "execution_count": null,
   "id": "7fc2e30a",
   "metadata": {},
   "outputs": [],
   "source": [
    "# | export\n",
    "\n",
    "\n",
    "class EdgeTraceObserverStatus(sgqlc.types.Enum):\n",
    "    __schema__ = nerdgraph\n",
    "    __choices__ = (\"CREATED\", \"DELETED\")"
   ]
  },
  {
   "cell_type": "code",
   "execution_count": null,
   "id": "f8efdf46",
   "metadata": {},
   "outputs": [],
   "source": [
    "# | export\n",
    "\n",
    "\n",
    "class EdgeUpdateTraceObserverResponseErrorType(sgqlc.types.Enum):\n",
    "    __schema__ = nerdgraph\n",
    "    __choices__ = (\"INVALID_INPUT\", \"NOT_FOUND\")"
   ]
  },
  {
   "cell_type": "code",
   "execution_count": null,
   "id": "c19f6c3e",
   "metadata": {},
   "outputs": [],
   "source": [
    "# | export\n",
    "\n",
    "\n",
    "class EmbeddedChartType(sgqlc.types.Enum):\n",
    "    __schema__ = nerdgraph\n",
    "    __choices__ = (\n",
    "        \"APDEX\",\n",
    "        \"AREA\",\n",
    "        \"BAR\",\n",
    "        \"BASELINE\",\n",
    "        \"BILLBOARD\",\n",
    "        \"BULLET\",\n",
    "        \"EMPTY\",\n",
    "        \"EVENT_FEED\",\n",
    "        \"FUNNEL\",\n",
    "        \"HEATMAP\",\n",
    "        \"HISTOGRAM\",\n",
    "        \"JSON\",\n",
    "        \"LINE\",\n",
    "        \"MARKDOWN\",\n",
    "        \"PIE\",\n",
    "        \"SCATTER\",\n",
    "        \"STACKED_HORIZONTAL_BAR\",\n",
    "        \"TABLE\",\n",
    "        \"TRAFFIC_LIGHT\",\n",
    "        \"VERTICAL_BAR\",\n",
    "    )"
   ]
  },
  {
   "cell_type": "code",
   "execution_count": null,
   "id": "592218ac",
   "metadata": {},
   "outputs": [],
   "source": [
    "# | export\n",
    "\n",
    "\n",
    "class EntityAlertSeverity(sgqlc.types.Enum):\n",
    "    __schema__ = nerdgraph\n",
    "    __choices__ = (\"CRITICAL\", \"NOT_ALERTING\", \"NOT_CONFIGURED\", \"WARNING\")"
   ]
  },
  {
   "cell_type": "code",
   "execution_count": null,
   "id": "ad2529c8",
   "metadata": {},
   "outputs": [],
   "source": [
    "# | export\n",
    "\n",
    "\n",
    "class EntityCollectionType(sgqlc.types.Enum):\n",
    "    __schema__ = nerdgraph\n",
    "    __choices__ = (\"TEAM\", \"WORKLOAD\", \"WORKLOAD_STATUS_RULE_GROUP\")"
   ]
  },
  {
   "cell_type": "code",
   "execution_count": null,
   "id": "4275f184",
   "metadata": {},
   "outputs": [],
   "source": [
    "# | export\n",
    "\n",
    "\n",
    "class EntityDeleteErrorType(sgqlc.types.Enum):\n",
    "    __schema__ = nerdgraph\n",
    "    __choices__ = (\"FORBIDDEN\", \"INTERNAL_ERROR\", \"INVALID_INPUT\")"
   ]
  },
  {
   "cell_type": "code",
   "execution_count": null,
   "id": "e740c065",
   "metadata": {},
   "outputs": [],
   "source": [
    "# | export\n",
    "\n",
    "\n",
    "class EntityGoldenEventObjectId(sgqlc.types.Enum):\n",
    "    __schema__ = nerdgraph\n",
    "    __choices__ = (\"DOMAIN_IDS\", \"ENTITY_GUIDS\")"
   ]
  },
  {
   "cell_type": "code",
   "execution_count": null,
   "id": "36ba6726",
   "metadata": {},
   "outputs": [],
   "source": [
    "# | export\n",
    "\n",
    "\n",
    "class EntityGoldenGoldenMetricsErrorType(sgqlc.types.Enum):\n",
    "    __schema__ = nerdgraph\n",
    "    __choices__ = (\n",
    "        \"INVALID_CONTEXT\",\n",
    "        \"INVALID_DOMAIN_TYPE\",\n",
    "        \"INVALID_QUERY_PARAMS\",\n",
    "        \"LIMIT_EXCEEDED\",\n",
    "        \"NOT_AUTHORIZED\",\n",
    "    )"
   ]
  },
  {
   "cell_type": "code",
   "execution_count": null,
   "id": "210bf58c",
   "metadata": {},
   "outputs": [],
   "source": [
    "# | export\n",
    "\n",
    "\n",
    "class EntityGoldenMetricUnit(sgqlc.types.Enum):\n",
    "    __schema__ = nerdgraph\n",
    "    __choices__ = (\n",
    "        \"APDEX\",\n",
    "        \"BITS\",\n",
    "        \"BITS_PER_SECOND\",\n",
    "        \"BYTES\",\n",
    "        \"BYTES_PER_SECOND\",\n",
    "        \"CELSIUS\",\n",
    "        \"COUNT\",\n",
    "        \"HERTZ\",\n",
    "        \"MESSAGES_PER_SECOND\",\n",
    "        \"MS\",\n",
    "        \"OPERATIONS_PER_SECOND\",\n",
    "        \"PAGES_PER_SECOND\",\n",
    "        \"PERCENTAGE\",\n",
    "        \"REQUESTS_PER_MINUTE\",\n",
    "        \"REQUESTS_PER_SECOND\",\n",
    "        \"SECONDS\",\n",
    "        \"TIMESTAMP\",\n",
    "    )"
   ]
  },
  {
   "cell_type": "code",
   "execution_count": null,
   "id": "37c075d1",
   "metadata": {},
   "outputs": [],
   "source": [
    "# | export\n",
    "\n",
    "\n",
    "class EntityInfrastructureIntegrationType(sgqlc.types.Enum):\n",
    "    __schema__ = nerdgraph\n",
    "    __choices__ = (\n",
    "        \"APACHE_SERVER\",\n",
    "        \"AWSELASTICSEARCHNODE\",\n",
    "        \"AWS_ALB\",\n",
    "        \"AWS_ALB_LISTENER\",\n",
    "        \"AWS_ALB_LISTENER_RULE\",\n",
    "        \"AWS_ALB_TARGET_GROUP\",\n",
    "        \"AWS_API_GATEWAY_API\",\n",
    "        \"AWS_API_GATEWAY_RESOURCE\",\n",
    "        \"AWS_API_GATEWAY_RESOURCE_WITH_METRICS\",\n",
    "        \"AWS_API_GATEWAY_STAGE\",\n",
    "        \"AWS_AUTO_SCALING_GROUP\",\n",
    "        \"AWS_AUTO_SCALING_INSTANCE\",\n",
    "        \"AWS_AUTO_SCALING_LAUNCH_CONFIGURATION\",\n",
    "        \"AWS_AUTO_SCALING_POLICY\",\n",
    "        \"AWS_AUTO_SCALING_REGION_LIMIT\",\n",
    "        \"AWS_BILLING_ACCOUNT_COST\",\n",
    "        \"AWS_BILLING_ACCOUNT_SERVICE_COST\",\n",
    "        \"AWS_BILLING_BUDGET\",\n",
    "        \"AWS_BILLING_SERVICE_COST\",\n",
    "        \"AWS_CLOUD_FRONT_DISTRIBUTION\",\n",
    "        \"AWS_CLOUD_TRAIL\",\n",
    "        \"AWS_DYNAMO_DB_GLOBAL_SECONDARY_INDEX\",\n",
    "        \"AWS_DYNAMO_DB_REGION\",\n",
    "        \"AWS_DYNAMO_DB_TABLE\",\n",
    "        \"AWS_EBS_VOLUME\",\n",
    "        \"AWS_ECS_CLUSTER\",\n",
    "        \"AWS_ECS_SERVICE\",\n",
    "        \"AWS_EFS_FILE_SYSTEM\",\n",
    "        \"AWS_ELASTICSEARCH_CLUSTER\",\n",
    "        \"AWS_ELASTICSEARCH_INSTANCE\",\n",
    "        \"AWS_ELASTIC_BEANSTALK_ENVIRONMENT\",\n",
    "        \"AWS_ELASTIC_BEANSTALK_INSTANCE\",\n",
    "        \"AWS_ELASTIC_MAP_REDUCE_CLUSTER\",\n",
    "        \"AWS_ELASTIC_MAP_REDUCE_INSTANCE\",\n",
    "        \"AWS_ELASTIC_MAP_REDUCE_INSTANCE_FLEET\",\n",
    "        \"AWS_ELASTIC_MAP_REDUCE_INSTANCE_GROUP\",\n",
    "        \"AWS_ELASTI_CACHE_MEMCACHED_CLUSTER\",\n",
    "        \"AWS_ELASTI_CACHE_MEMCACHED_NODE\",\n",
    "        \"AWS_ELASTI_CACHE_REDIS_CLUSTER\",\n",
    "        \"AWS_ELASTI_CACHE_REDIS_NODE\",\n",
    "        \"AWS_ELB\",\n",
    "        \"AWS_HEALTH_ISSUE\",\n",
    "        \"AWS_HEALTH_NOTIFICATION\",\n",
    "        \"AWS_HEALTH_SCHEDULED_CHANGE\",\n",
    "        \"AWS_HEALTH_UNKNOWN\",\n",
    "        \"AWS_IAM\",\n",
    "        \"AWS_IAM_GROUP\",\n",
    "        \"AWS_IAM_OPEN_ID_PROVIDER\",\n",
    "        \"AWS_IAM_POLICY\",\n",
    "        \"AWS_IAM_ROLE\",\n",
    "        \"AWS_IAM_SAML_PROVIDER\",\n",
    "        \"AWS_IAM_SERVER_CERTIFICATE\",\n",
    "        \"AWS_IAM_USER\",\n",
    "        \"AWS_IAM_VIRTUAL_MFA_DEVICE\",\n",
    "        \"AWS_IOT_BROKER\",\n",
    "        \"AWS_IOT_RULE\",\n",
    "        \"AWS_IOT_RULE_ACTION\",\n",
    "        \"AWS_KINESIS_DELIVERY_STREAM\",\n",
    "        \"AWS_KINESIS_STREAM\",\n",
    "        \"AWS_KINESIS_STREAM_SHARD\",\n",
    "        \"AWS_LAMBDA_AGENT_TRANSACTION\",\n",
    "        \"AWS_LAMBDA_AGENT_TRANSACTION_ERROR\",\n",
    "        \"AWS_LAMBDA_EDGE_FUNCTION\",\n",
    "        \"AWS_LAMBDA_EVENT_SOURCE_MAPPING\",\n",
    "        \"AWS_LAMBDA_FUNCTION\",\n",
    "        \"AWS_LAMBDA_FUNCTION_ALIAS\",\n",
    "        \"AWS_LAMBDA_OPERATION\",\n",
    "        \"AWS_LAMBDA_REGION\",\n",
    "        \"AWS_LAMBDA_SPAN\",\n",
    "        \"AWS_LAMBDA_TRACE\",\n",
    "        \"AWS_RDS_DB_CLUSTER\",\n",
    "        \"AWS_RDS_DB_INSTANCE\",\n",
    "        \"AWS_REDSHIFT_CLUSTER\",\n",
    "        \"AWS_REDSHIFT_NODE\",\n",
    "        \"AWS_ROUTE53_HEALTH_CHECK\",\n",
    "        \"AWS_ROUTE53_ZONE\",\n",
    "        \"AWS_ROUTE53_ZONE_RECORD_SET\",\n",
    "        \"AWS_S3_BUCKET\",\n",
    "        \"AWS_S3_BUCKET_REQUESTS\",\n",
    "        \"AWS_SES_CONFIGURATION_SET\",\n",
    "        \"AWS_SES_EVENT_DESTINATION\",\n",
    "        \"AWS_SES_RECEIPT_FILTER\",\n",
    "        \"AWS_SES_RECEIPT_RULE\",\n",
    "        \"AWS_SES_RECEIPT_RULE_SET\",\n",
    "        \"AWS_SES_REGION\",\n",
    "        \"AWS_SNS_SUBSCRIPTION\",\n",
    "        \"AWS_SNS_TOPIC\",\n",
    "        \"AWS_SQS_QUEUE\",\n",
    "        \"AWS_VPC\",\n",
    "        \"AWS_VPC_ENDPOINT\",\n",
    "        \"AWS_VPC_INTERNET_GATEWAY\",\n",
    "        \"AWS_VPC_NAT_GATEWAY\",\n",
    "        \"AWS_VPC_NETWORK_ACL\",\n",
    "        \"AWS_VPC_NETWORK_INTERFACE\",\n",
    "        \"AWS_VPC_PEERING_CONNECTION\",\n",
    "        \"AWS_VPC_ROUTE_TABLE\",\n",
    "        \"AWS_VPC_SECURITY_GROUP\",\n",
    "        \"AWS_VPC_SUBNET\",\n",
    "        \"AWS_VPC_VPN_CONNECTION\",\n",
    "        \"AWS_VPC_VPN_TUNNEL\",\n",
    "        \"AZURE_APP_SERVICE_HOST_NAME\",\n",
    "        \"AZURE_APP_SERVICE_WEB_APP\",\n",
    "        \"AZURE_COSMOS_DB_ACCOUNT\",\n",
    "        \"AZURE_FUNCTIONS_APP\",\n",
    "        \"AZURE_LOAD_BALANCER\",\n",
    "        \"AZURE_LOAD_BALANCER_BACKEND\",\n",
    "        \"AZURE_LOAD_BALANCER_FRONTEND_IP\",\n",
    "        \"AZURE_LOAD_BALANCER_INBOUND_NAT_POOL\",\n",
    "        \"AZURE_LOAD_BALANCER_INBOUND_NAT_RULE\",\n",
    "        \"AZURE_LOAD_BALANCER_PROBE\",\n",
    "        \"AZURE_LOAD_BALANCER_RULE\",\n",
    "        \"AZURE_MARIADB_SERVER\",\n",
    "        \"AZURE_MYSQL_SERVER\",\n",
    "        \"AZURE_POSTGRESQL_SERVER\",\n",
    "        \"AZURE_REDIS_CACHE\",\n",
    "        \"AZURE_REDIS_CACHE_SHARD\",\n",
    "        \"AZURE_SERVICE_BUS_NAMESPACE\",\n",
    "        \"AZURE_SERVICE_BUS_QUEUE\",\n",
    "        \"AZURE_SERVICE_BUS_SUBSCRIPTION\",\n",
    "        \"AZURE_SERVICE_BUS_TOPIC\",\n",
    "        \"AZURE_SQL_DATABASE\",\n",
    "        \"AZURE_SQL_ELASTIC_POOL\",\n",
    "        \"AZURE_SQL_FIREWALL\",\n",
    "        \"AZURE_SQL_REPLICATION_LINK\",\n",
    "        \"AZURE_SQL_RESTORE_POINT\",\n",
    "        \"AZURE_SQL_SERVER\",\n",
    "        \"AZURE_STORAGE_ACCOUNT\",\n",
    "        \"AZURE_VIRTUAL_NETWORKS\",\n",
    "        \"AZURE_VIRTUAL_NETWORKS_IP_CONFIGURATION\",\n",
    "        \"AZURE_VIRTUAL_NETWORKS_NETWORK_INTERFACE\",\n",
    "        \"AZURE_VIRTUAL_NETWORKS_PEERING\",\n",
    "        \"AZURE_VIRTUAL_NETWORKS_PUBLIC_IP_ADDRESS\",\n",
    "        \"AZURE_VIRTUAL_NETWORKS_ROUTE\",\n",
    "        \"AZURE_VIRTUAL_NETWORKS_ROUTE_TABLE\",\n",
    "        \"AZURE_VIRTUAL_NETWORKS_SECURITY_GROUP\",\n",
    "        \"AZURE_VIRTUAL_NETWORKS_SECURITY_RULE\",\n",
    "        \"AZURE_VIRTUAL_NETWORKS_SUBNET\",\n",
    "        \"CASSANDRA_NODE\",\n",
    "        \"CONSUL_AGENT\",\n",
    "        \"COUCHBASE_BUCKET\",\n",
    "        \"COUCHBASE_CLUSTER\",\n",
    "        \"COUCHBASE_NODE\",\n",
    "        \"COUCHBASE_QUERY_ENGINE\",\n",
    "        \"ELASTICSEARCH_NODE\",\n",
    "        \"F5_NODE\",\n",
    "        \"F5_POOL\",\n",
    "        \"F5_POOL_MEMBER\",\n",
    "        \"F5_SYSTEM\",\n",
    "        \"F5_VIRTUAL_SERVER\",\n",
    "        \"GCP_APP_ENGINE_SERVICE\",\n",
    "        \"GCP_BIG_QUERY_DATA_SET\",\n",
    "        \"GCP_BIG_QUERY_PROJECT\",\n",
    "        \"GCP_BIG_QUERY_TABLE\",\n",
    "        \"GCP_CLOUD_FUNCTION\",\n",
    "        \"GCP_CLOUD_SQL\",\n",
    "        \"GCP_CLOUD_TASKS_QUEUE\",\n",
    "        \"GCP_HTTP_LOAD_BALANCER\",\n",
    "        \"GCP_INTERNAL_LOAD_BALANCER\",\n",
    "        \"GCP_KUBERNETES_CONTAINER\",\n",
    "        \"GCP_KUBERNETES_NODE\",\n",
    "        \"GCP_KUBERNETES_POD\",\n",
    "        \"GCP_PUB_SUB_SUBSCRIPTION\",\n",
    "        \"GCP_PUB_SUB_TOPIC\",\n",
    "        \"GCP_SPANNER_DATABASE\",\n",
    "        \"GCP_SPANNER_INSTANCE\",\n",
    "        \"GCP_STORAGE_BUCKET\",\n",
    "        \"GCP_TCP_SSL_PROXY_LOAD_BALANCER\",\n",
    "        \"GCP_VIRTUAL_MACHINE_DISK\",\n",
    "        \"KAFKA_BROKER\",\n",
    "        \"KAFKA_TOPIC\",\n",
    "        \"KUBERNETES_CLUSTER\",\n",
    "        \"MEMCACHED_INSTANCE\",\n",
    "        \"MSSQL_INSTANCE\",\n",
    "        \"MYSQL_NODE\",\n",
    "        \"NA\",\n",
    "        \"NGINX_SERVER\",\n",
    "        \"ORACLE_DB_INSTANCE\",\n",
    "        \"POSTGRE_SQL_INSTANCE\",\n",
    "        \"RABBIT_MQ_CLUSTER\",\n",
    "        \"RABBIT_MQ_EXCHANGE\",\n",
    "        \"RABBIT_MQ_NODE\",\n",
    "        \"RABBIT_MQ_QUEUE\",\n",
    "        \"REDIS_INSTANCE\",\n",
    "        \"VARNISH_INSTANCE\",\n",
    "    )"
   ]
  },
  {
   "cell_type": "code",
   "execution_count": null,
   "id": "84a1e1ba",
   "metadata": {},
   "outputs": [],
   "source": [
    "# | export\n",
    "\n",
    "\n",
    "class EntityManagementAiToolParameterType(sgqlc.types.Enum):\n",
    "    __schema__ = nerdgraph\n",
    "    __choices__ = (\"BOOLEAN\", \"INTEGER\", \"LIST\", \"OBJECT\", \"STRING\")"
   ]
  },
  {
   "cell_type": "code",
   "execution_count": null,
   "id": "77baab2a",
   "metadata": {},
   "outputs": [],
   "source": [
    "# | export\n",
    "\n",
    "\n",
    "class EntityManagementAssignmentType(sgqlc.types.Enum):\n",
    "    __schema__ = nerdgraph\n",
    "    __choices__ = (\"NEW_RELIC_TEAM_ID\", \"NEW_RELIC_USER_ID\")"
   ]
  },
  {
   "cell_type": "code",
   "execution_count": null,
   "id": "1b70cf7d",
   "metadata": {},
   "outputs": [],
   "source": [
    "# | export\n",
    "\n",
    "\n",
    "class EntityManagementCategory(sgqlc.types.Enum):\n",
    "    __schema__ = nerdgraph\n",
    "    __choices__ = (\"CHAT\", \"INCIDENT\", \"ISSUE\", \"VULNERABILITY\")"
   ]
  },
  {
   "cell_type": "code",
   "execution_count": null,
   "id": "d6f54418",
   "metadata": {},
   "outputs": [],
   "source": [
    "# | export\n",
    "\n",
    "\n",
    "class EntityManagementCategoryScopeType(sgqlc.types.Enum):\n",
    "    __schema__ = nerdgraph\n",
    "    __choices__ = (\"ACCOUNT\", \"GLOBAL\")"
   ]
  },
  {
   "cell_type": "code",
   "execution_count": null,
   "id": "6337c03e",
   "metadata": {},
   "outputs": [],
   "source": [
    "# | export\n",
    "\n",
    "\n",
    "class EntityManagementConnectionType(sgqlc.types.Enum):\n",
    "    __schema__ = nerdgraph\n",
    "    __choices__ = (\"JIRA\", \"SERVICE_NOW\")"
   ]
  },
  {
   "cell_type": "code",
   "execution_count": null,
   "id": "beaa1c98",
   "metadata": {},
   "outputs": [],
   "source": [
    "# | export\n",
    "\n",
    "\n",
    "class EntityManagementDirection(sgqlc.types.Enum):\n",
    "    __schema__ = nerdgraph\n",
    "    __choices__ = (\"ONEWAY\", \"TWOWAY\")"
   ]
  },
  {
   "cell_type": "code",
   "execution_count": null,
   "id": "f72fb003",
   "metadata": {},
   "outputs": [],
   "source": [
    "# | export\n",
    "\n",
    "\n",
    "class EntityManagementEncodingName(sgqlc.types.Enum):\n",
    "    __schema__ = nerdgraph\n",
    "    __choices__ = (\"CL100_K_BASE\", \"GPT_3_5_TURBO\", \"O200_K_BASE\")"
   ]
  },
  {
   "cell_type": "code",
   "execution_count": null,
   "id": "11c766bd",
   "metadata": {},
   "outputs": [],
   "source": [
    "# | export\n",
    "\n",
    "\n",
    "class EntityManagementEncodingType(sgqlc.types.Enum):\n",
    "    __schema__ = nerdgraph\n",
    "    __choices__ = (\"BASE64\", \"UTF8\")"
   ]
  },
  {
   "cell_type": "code",
   "execution_count": null,
   "id": "2ccbdfd6",
   "metadata": {},
   "outputs": [],
   "source": [
    "# | export\n",
    "\n",
    "\n",
    "class EntityManagementEntityScope(sgqlc.types.Enum):\n",
    "    __schema__ = nerdgraph\n",
    "    __choices__ = (\"ACCOUNT\", \"ORGANIZATION\")"
   ]
  },
  {
   "cell_type": "code",
   "execution_count": null,
   "id": "e6a2042d",
   "metadata": {},
   "outputs": [],
   "source": [
    "# | export\n",
    "\n",
    "\n",
    "class EntityManagementExecutionStatus(sgqlc.types.Enum):\n",
    "    __schema__ = nerdgraph\n",
    "    __choices__ = (\"FAILED\", \"PARTIAL_SUCCESS\", \"SUCCESS\")"
   ]
  },
  {
   "cell_type": "code",
   "execution_count": null,
   "id": "1440c5a8",
   "metadata": {},
   "outputs": [],
   "source": [
    "# | export\n",
    "\n",
    "\n",
    "class EntityManagementExternalOwnerType(sgqlc.types.Enum):\n",
    "    __schema__ = nerdgraph\n",
    "    __choices__ = (\"GROUP\", \"ORGANIZATION\", \"OTHER\", \"USER\", \"WORKSPACE\")"
   ]
  },
  {
   "cell_type": "code",
   "execution_count": null,
   "id": "ec946c80",
   "metadata": {},
   "outputs": [],
   "source": [
    "# | export\n",
    "\n",
    "\n",
    "class EntityManagementFleetDeploymentPhase(sgqlc.types.Enum):\n",
    "    __schema__ = nerdgraph\n",
    "    __choices__ = (\"COMPLETED\", \"CREATED\", \"FAILED\", \"IN_PROGRESS\")"
   ]
  },
  {
   "cell_type": "code",
   "execution_count": null,
   "id": "b1f586fa",
   "metadata": {},
   "outputs": [],
   "source": [
    "# | export\n",
    "\n",
    "\n",
    "class EntityManagementHostingPlatform(sgqlc.types.Enum):\n",
    "    __schema__ = nerdgraph\n",
    "    __choices__ = (\"BITBUCKET\", \"DEVLAKE\", \"GITHUB\", \"GITLAB\", \"OTHER\")"
   ]
  },
  {
   "cell_type": "code",
   "execution_count": null,
   "id": "10fd5356",
   "metadata": {},
   "outputs": [],
   "source": [
    "# | export\n",
    "\n",
    "\n",
    "class EntityManagementInstallationStatus(sgqlc.types.Enum):\n",
    "    __schema__ = nerdgraph\n",
    "    __choices__ = (\"INSTALLED\", \"UNINSTALLATION_IN_PROGRESS\", \"UNINSTALLED\")"
   ]
  },
  {
   "cell_type": "code",
   "execution_count": null,
   "id": "2e64651b",
   "metadata": {},
   "outputs": [],
   "source": [
    "# | export\n",
    "\n",
    "\n",
    "class EntityManagementIssueType(sgqlc.types.Enum):\n",
    "    __schema__ = nerdgraph\n",
    "    __choices__ = (\"ERROR\", \"PERFORMANCE\")"
   ]
  },
  {
   "cell_type": "code",
   "execution_count": null,
   "id": "ab6218ad",
   "metadata": {},
   "outputs": [],
   "source": [
    "# | export\n",
    "\n",
    "\n",
    "class EntityManagementJiraIssueType(sgqlc.types.Enum):\n",
    "    __schema__ = nerdgraph\n",
    "    __choices__ = (\"BUG\", \"STORY\", \"TASK\")"
   ]
  },
  {
   "cell_type": "code",
   "execution_count": null,
   "id": "081ccc76",
   "metadata": {},
   "outputs": [],
   "source": [
    "# | export\n",
    "\n",
    "\n",
    "class EntityManagementKeyType(sgqlc.types.Enum):\n",
    "    __schema__ = nerdgraph\n",
    "    __choices__ = (\"INGEST\", \"USER\")"
   ]
  },
  {
   "cell_type": "code",
   "execution_count": null,
   "id": "a78c2f5f",
   "metadata": {},
   "outputs": [],
   "source": [
    "# | export\n",
    "\n",
    "\n",
    "class EntityManagementLicenseName(sgqlc.types.Enum):\n",
    "    __schema__ = nerdgraph\n",
    "    __choices__ = (\n",
    "        \"AFL_3_0\",\n",
    "        \"AGPL_3_0\",\n",
    "        \"APACHE_2_0\",\n",
    "        \"BSD_2_CLAUSE\",\n",
    "        \"BSD_3_CLAUSE\",\n",
    "        \"BSL_1_0\",\n",
    "        \"CC0_1_0\",\n",
    "        \"CDDL\",\n",
    "        \"EPL_2_0\",\n",
    "        \"GPL_2_0\",\n",
    "        \"GPL_3_0\",\n",
    "        \"GPL_3_0_ONLY\",\n",
    "        \"GPL_3_0_PLUS\",\n",
    "        \"LGPL_2_1\",\n",
    "        \"LGPL_3_0\",\n",
    "        \"LGPL_3_0_ONLY\",\n",
    "        \"LGPL_3_0_PLUS\",\n",
    "        \"MIT\",\n",
    "        \"MPL_1_1\",\n",
    "        \"MPL_2_0\",\n",
    "        \"NA\",\n",
    "        \"UNLICENSE\",\n",
    "    )"
   ]
  },
  {
   "cell_type": "code",
   "execution_count": null,
   "id": "48ce6dc8",
   "metadata": {},
   "outputs": [],
   "source": [
    "# | export\n",
    "\n",
    "\n",
    "class EntityManagementManagedEntityType(sgqlc.types.Enum):\n",
    "    __schema__ = nerdgraph\n",
    "    __choices__ = (\"HOST\", \"KUBERNETESCLUSTER\")"
   ]
  },
  {
   "cell_type": "code",
   "execution_count": null,
   "id": "081a1204",
   "metadata": {},
   "outputs": [],
   "source": [
    "# | export\n",
    "\n",
    "\n",
    "class EntityManagementMessageType(sgqlc.types.Enum):\n",
    "    __schema__ = nerdgraph\n",
    "    __choices__ = (\"JSON\", \"TEXT\", \"YAML\")"
   ]
  },
  {
   "cell_type": "code",
   "execution_count": null,
   "id": "a42b7072",
   "metadata": {},
   "outputs": [],
   "source": [
    "# | export\n",
    "\n",
    "\n",
    "class EntityManagementPriority(sgqlc.types.Enum):\n",
    "    __schema__ = nerdgraph\n",
    "    __choices__ = (\"HIGH\", \"HIGHEST\", \"LOW\", \"LOWEST\", \"MEDIUM\")"
   ]
  },
  {
   "cell_type": "code",
   "execution_count": null,
   "id": "81977080",
   "metadata": {},
   "outputs": [],
   "source": [
    "# | export\n",
    "\n",
    "\n",
    "class EntityManagementSigningAlgorithm(sgqlc.types.Enum):\n",
    "    __schema__ = nerdgraph\n",
    "    __choices__ = (\"RSA256\",)"
   ]
  },
  {
   "cell_type": "code",
   "execution_count": null,
   "id": "8403291d",
   "metadata": {},
   "outputs": [],
   "source": [
    "# | export\n",
    "\n",
    "\n",
    "class EntityManagementStatusCode(sgqlc.types.Enum):\n",
    "    __schema__ = nerdgraph\n",
    "    __choices__ = (\"MISSING_DATA_SOURCE\", \"SYSTEM_ERROR\")"
   ]
  },
  {
   "cell_type": "code",
   "execution_count": null,
   "id": "1c8ec139",
   "metadata": {},
   "outputs": [],
   "source": [
    "# | export\n",
    "\n",
    "\n",
    "class EntityManagementSyncConfigurationMode(sgqlc.types.Enum):\n",
    "    __schema__ = nerdgraph\n",
    "    __choices__ = (\"ALL\", \"MESSAGES\", \"WORKITEM\")"
   ]
  },
  {
   "cell_type": "code",
   "execution_count": null,
   "id": "bb60468d",
   "metadata": {},
   "outputs": [],
   "source": [
    "# | export\n",
    "\n",
    "\n",
    "class EntityManagementSyncGroupRuleConditionType(sgqlc.types.Enum):\n",
    "    __schema__ = nerdgraph\n",
    "    __choices__ = (\"CONTAINS\", \"ENDS_WITH\", \"STARTS_WITH\")"
   ]
  },
  {
   "cell_type": "code",
   "execution_count": null,
   "id": "c1ef3aa0",
   "metadata": {},
   "outputs": [],
   "source": [
    "# | export\n",
    "\n",
    "\n",
    "class EntityManagementTeamExternalIntegrationType(sgqlc.types.Enum):\n",
    "    __schema__ = nerdgraph\n",
    "    __choices__ = (\"GITHUB_TEAM\", \"IAM_GROUP\", \"SERVICENOW_TEAM\")"
   ]
  },
  {
   "cell_type": "code",
   "execution_count": null,
   "id": "8c92fee6",
   "metadata": {},
   "outputs": [],
   "source": [
    "# | export\n",
    "\n",
    "\n",
    "class EntityManagementTextSplitterType(sgqlc.types.Enum):\n",
    "    __schema__ = nerdgraph\n",
    "    __choices__ = (\n",
    "        \"CHARACTER_TEXT_SPLITTER\",\n",
    "        \"MARKDOWN_TEXT_SPLITTER\",\n",
    "        \"TOKEN_TEXT_SPLITTER\",\n",
    "    )"
   ]
  },
  {
   "cell_type": "code",
   "execution_count": null,
   "id": "a64550ce",
   "metadata": {},
   "outputs": [],
   "source": [
    "# | export\n",
    "\n",
    "\n",
    "class EntityRelationshipEdgeDirection(sgqlc.types.Enum):\n",
    "    __schema__ = nerdgraph\n",
    "    __choices__ = (\"BOTH\", \"INBOUND\", \"OUTBOUND\")"
   ]
  },
  {
   "cell_type": "code",
   "execution_count": null,
   "id": "07bf1686",
   "metadata": {},
   "outputs": [],
   "source": [
    "# | export\n",
    "\n",
    "\n",
    "class EntityRelationshipEdgeType(sgqlc.types.Enum):\n",
    "    __schema__ = nerdgraph\n",
    "    __choices__ = (\n",
    "        \"BUILT_FROM\",\n",
    "        \"BYPASS_CALLS\",\n",
    "        \"CALLS\",\n",
    "        \"CONNECTS_TO\",\n",
    "        \"CONSUMES\",\n",
    "        \"CONTAINS\",\n",
    "        \"HOSTS\",\n",
    "        \"IS\",\n",
    "        \"MANAGES\",\n",
    "        \"MEASURES\",\n",
    "        \"MONITORS\",\n",
    "        \"OPERATES_IN\",\n",
    "        \"OWNS\",\n",
    "        \"PRODUCES\",\n",
    "        \"SERVES\",\n",
    "        \"TRIGGERS\",\n",
    "    )"
   ]
  },
  {
   "cell_type": "code",
   "execution_count": null,
   "id": "1ef46480",
   "metadata": {},
   "outputs": [],
   "source": [
    "# | export\n",
    "\n",
    "\n",
    "class EntityRelationshipType(sgqlc.types.Enum):\n",
    "    __schema__ = nerdgraph\n",
    "    __choices__ = ()"
   ]
  },
  {
   "cell_type": "code",
   "execution_count": null,
   "id": "7cc30f4a",
   "metadata": {},
   "outputs": [],
   "source": [
    "# | export\n",
    "\n",
    "\n",
    "class EntityRelationshipUserDefinedCreateOrReplaceErrorType(sgqlc.types.Enum):\n",
    "    __schema__ = nerdgraph\n",
    "    __choices__ = (\"LIMIT_EXCEEDED\", \"NOT_ALLOWED\", \"NOT_AUTHORIZED\")"
   ]
  },
  {
   "cell_type": "code",
   "execution_count": null,
   "id": "11339404",
   "metadata": {},
   "outputs": [],
   "source": [
    "# | export\n",
    "\n",
    "\n",
    "class EntityRelationshipUserDefinedDeleteErrorType(sgqlc.types.Enum):\n",
    "    __schema__ = nerdgraph\n",
    "    __choices__ = (\"NOT_AUTHORIZED\",)"
   ]
  },
  {
   "cell_type": "code",
   "execution_count": null,
   "id": "8c950933",
   "metadata": {},
   "outputs": [],
   "source": [
    "# | export\n",
    "\n",
    "\n",
    "class EntitySearchCountsFacet(sgqlc.types.Enum):\n",
    "    __schema__ = nerdgraph\n",
    "    __choices__ = (\n",
    "        \"ACCOUNT_ID\",\n",
    "        \"ALERT_SEVERITY\",\n",
    "        \"DOMAIN\",\n",
    "        \"DOMAIN_TYPE\",\n",
    "        \"NAME\",\n",
    "        \"REPORTING\",\n",
    "        \"TYPE\",\n",
    "    )"
   ]
  },
  {
   "cell_type": "code",
   "execution_count": null,
   "id": "6afe7812",
   "metadata": {},
   "outputs": [],
   "source": [
    "# | export\n",
    "\n",
    "\n",
    "class EntitySearchQueryBuilderDomain(sgqlc.types.Enum):\n",
    "    __schema__ = nerdgraph\n",
    "    __choices__ = (\"APM\", \"BROWSER\", \"EXT\", \"INFRA\", \"MOBILE\", \"SYNTH\")"
   ]
  },
  {
   "cell_type": "code",
   "execution_count": null,
   "id": "0df91d62",
   "metadata": {},
   "outputs": [],
   "source": [
    "# | export\n",
    "\n",
    "\n",
    "class EntitySearchQueryBuilderType(sgqlc.types.Enum):\n",
    "    __schema__ = nerdgraph\n",
    "    __choices__ = (\"APPLICATION\", \"DASHBOARD\", \"HOST\", \"MONITOR\", \"WORKLOAD\")"
   ]
  },
  {
   "cell_type": "code",
   "execution_count": null,
   "id": "e37c823d",
   "metadata": {},
   "outputs": [],
   "source": [
    "# | export\n",
    "\n",
    "\n",
    "class EntitySearchSortCriteria(sgqlc.types.Enum):\n",
    "    __schema__ = nerdgraph\n",
    "    __choices__ = (\n",
    "        \"ALERT_SEVERITY\",\n",
    "        \"DOMAIN\",\n",
    "        \"MOST_RELEVANT\",\n",
    "        \"NAME\",\n",
    "        \"REPORTING\",\n",
    "        \"TYPE\",\n",
    "    )"
   ]
  },
  {
   "cell_type": "code",
   "execution_count": null,
   "id": "874099e8",
   "metadata": {},
   "outputs": [],
   "source": [
    "# | export\n",
    "\n",
    "\n",
    "class EntityType(sgqlc.types.Enum):\n",
    "    __schema__ = nerdgraph\n",
    "    __choices__ = (\n",
    "        \"APM_APPLICATION_ENTITY\",\n",
    "        \"APM_DATABASE_INSTANCE_ENTITY\",\n",
    "        \"APM_EXTERNAL_SERVICE_ENTITY\",\n",
    "        \"BROWSER_APPLICATION_ENTITY\",\n",
    "        \"DASHBOARD_ENTITY\",\n",
    "        \"EXTERNAL_ENTITY\",\n",
    "        \"GENERIC_ENTITY\",\n",
    "        \"GENERIC_INFRASTRUCTURE_ENTITY\",\n",
    "        \"INFRASTRUCTURE_AWS_LAMBDA_FUNCTION_ENTITY\",\n",
    "        \"INFRASTRUCTURE_HOST_ENTITY\",\n",
    "        \"KEY_TRANSACTION_ENTITY\",\n",
    "        \"MOBILE_APPLICATION_ENTITY\",\n",
    "        \"SECURE_CREDENTIAL_ENTITY\",\n",
    "        \"SYNTHETIC_MONITOR_ENTITY\",\n",
    "        \"TEAM_ENTITY\",\n",
    "        \"THIRD_PARTY_SERVICE_ENTITY\",\n",
    "        \"UNAVAILABLE_ENTITY\",\n",
    "        \"WORKLOAD_ENTITY\",\n",
    "    )"
   ]
  },
  {
   "cell_type": "code",
   "execution_count": null,
   "id": "b3a43a95",
   "metadata": {},
   "outputs": [],
   "source": [
    "# | export\n",
    "\n",
    "\n",
    "class ErrorsInboxAssignErrorGroupErrorType(sgqlc.types.Enum):\n",
    "    __schema__ = nerdgraph\n",
    "    __choices__ = (\"NOT_AUTHORIZED\",)"
   ]
  },
  {
   "cell_type": "code",
   "execution_count": null,
   "id": "e9f65d42",
   "metadata": {},
   "outputs": [],
   "source": [
    "# | export\n",
    "\n",
    "\n",
    "class ErrorsInboxDirection(sgqlc.types.Enum):\n",
    "    __schema__ = nerdgraph\n",
    "    __choices__ = (\"DESC\",)"
   ]
  },
  {
   "cell_type": "code",
   "execution_count": null,
   "id": "05570664",
   "metadata": {},
   "outputs": [],
   "source": [
    "# | export\n",
    "\n",
    "\n",
    "class ErrorsInboxErrorGroupSortOrderField(sgqlc.types.Enum):\n",
    "    __schema__ = nerdgraph\n",
    "    __choices__ = (\"FIRST_SEEN\", \"LAST_OCCURRENCE_IN_WINDOW\", \"OCCURRENCES\")"
   ]
  },
  {
   "cell_type": "code",
   "execution_count": null,
   "id": "14011676",
   "metadata": {},
   "outputs": [],
   "source": [
    "# | export\n",
    "\n",
    "\n",
    "class ErrorsInboxErrorGroupState(sgqlc.types.Enum):\n",
    "    __schema__ = nerdgraph\n",
    "    __choices__ = (\"IGNORED\", \"RESOLVED\", \"UNRESOLVED\")"
   ]
  },
  {
   "cell_type": "code",
   "execution_count": null,
   "id": "682a1baf",
   "metadata": {},
   "outputs": [],
   "source": [
    "# | export\n",
    "\n",
    "\n",
    "class ErrorsInboxEventSource(sgqlc.types.Enum):\n",
    "    __schema__ = nerdgraph\n",
    "    __choices__ = (\n",
    "        \"AWS_LAMBDA_INVOCATION_ERROR\",\n",
    "        \"ERROR_TRACE\",\n",
    "        \"JAVA_SCRIPT_ERROR\",\n",
    "        \"MOBILE_CRASH\",\n",
    "        \"MOBILE_HANDLED_EXCEPTION\",\n",
    "        \"MOBILE_REQUEST_ERROR\",\n",
    "        \"SPAN\",\n",
    "        \"TRANSACTION_ERROR\",\n",
    "    )"
   ]
  },
  {
   "cell_type": "code",
   "execution_count": null,
   "id": "0f61a581",
   "metadata": {},
   "outputs": [],
   "source": [
    "# | export\n",
    "\n",
    "\n",
    "class ErrorsInboxIssueType(sgqlc.types.Enum):\n",
    "    __schema__ = nerdgraph\n",
    "    __choices__ = (\"ERROR\", \"PERFORMANCE\")"
   ]
  },
  {
   "cell_type": "code",
   "execution_count": null,
   "id": "65bb43be",
   "metadata": {},
   "outputs": [],
   "source": [
    "# | export\n",
    "\n",
    "\n",
    "class ErrorsInboxResourceType(sgqlc.types.Enum):\n",
    "    __schema__ = nerdgraph\n",
    "    __choices__ = (\"JIRA_ISSUE\",)"
   ]
  },
  {
   "cell_type": "code",
   "execution_count": null,
   "id": "feb684f8",
   "metadata": {},
   "outputs": [],
   "source": [
    "# | export\n",
    "\n",
    "\n",
    "class ErrorsInboxUpdateErrorGroupStateErrorType(sgqlc.types.Enum):\n",
    "    __schema__ = nerdgraph\n",
    "    __choices__ = (\"NOT_AUTHORIZED\",)"
   ]
  },
  {
   "cell_type": "code",
   "execution_count": null,
   "id": "3a7b270b",
   "metadata": {},
   "outputs": [],
   "source": [
    "# | export\n",
    "\n",
    "\n",
    "class EventsToMetricsErrorReason(sgqlc.types.Enum):\n",
    "    __schema__ = nerdgraph\n",
    "    __choices__ = (\"GENERAL\", \"INVALID_INPUT\", \"USER_NOT_AUTHORIZED\")"
   ]
  },
  {
   "cell_type": "code",
   "execution_count": null,
   "id": "01e97cf1",
   "metadata": {},
   "outputs": [],
   "source": [
    "# | export\n",
    "\n",
    "\n",
    "class HistoricalDataExportStatus(sgqlc.types.Enum):\n",
    "    __schema__ = nerdgraph\n",
    "    __choices__ = (\n",
    "        \"CANCELED\",\n",
    "        \"COMPLETE_FAILED\",\n",
    "        \"COMPLETE_SUCCESS\",\n",
    "        \"IN_PROGRESS\",\n",
    "        \"UNKNOWN\",\n",
    "        \"WAITING\",\n",
    "    )"
   ]
  },
  {
   "cell_type": "code",
   "execution_count": null,
   "id": "17edfc5b",
   "metadata": {},
   "outputs": [],
   "source": [
    "# | export\n",
    "\n",
    "\n",
    "class IncidentIntelligenceEnvironmentConsentAccountsResult(sgqlc.types.Enum):\n",
    "    __schema__ = nerdgraph\n",
    "    __choices__ = (\n",
    "        \"ALREADY_CONSENTED\",\n",
    "        \"CONSENTED\",\n",
    "        \"USER_NOT_AUTHORIZED_MISSING_CAPABILITY\",\n",
    "    )"
   ]
  },
  {
   "cell_type": "code",
   "execution_count": null,
   "id": "d150166f",
   "metadata": {},
   "outputs": [],
   "source": [
    "# | export\n",
    "\n",
    "\n",
    "class IncidentIntelligenceEnvironmentCreateEnvironmentResult(sgqlc.types.Enum):\n",
    "    __schema__ = nerdgraph\n",
    "    __choices__ = (\n",
    "        \"ACCOUNTS_ALREADY_ASSOCIATED\",\n",
    "        \"ACCOUNT_NOT_CONSENTED\",\n",
    "        \"ACCOUNT_NOT_ENTITLED\",\n",
    "        \"ACTION_UNAUTHORIZED\",\n",
    "        \"ALREADY_EXISTS\",\n",
    "        \"ASSOCIATED_ACCOUNTS_NOT_AUTHORIZED\",\n",
    "        \"CREATED\",\n",
    "        \"USER_NOT_AUTHORIZED\",\n",
    "        \"USER_NOT_AUTHORIZED_MISSING_CAPABILITY\",\n",
    "    )"
   ]
  },
  {
   "cell_type": "code",
   "execution_count": null,
   "id": "4a5ea9ab",
   "metadata": {},
   "outputs": [],
   "source": [
    "# | export\n",
    "\n",
    "\n",
    "class IncidentIntelligenceEnvironmentCurrentEnvironmentResultReason(sgqlc.types.Enum):\n",
    "    __schema__ = nerdgraph\n",
    "    __choices__ = (\n",
    "        \"CURRENT_ACCOUNT_NOT_ENTITLED\",\n",
    "        \"ENVIRONMENT_FOUND\",\n",
    "        \"MULTIPLE_ENVIRONMENTS\",\n",
    "        \"NO_ENVIRONMENT\",\n",
    "        \"USER_NOT_AUTHORIZED_FOR_ACCOUNT\",\n",
    "    )"
   ]
  },
  {
   "cell_type": "code",
   "execution_count": null,
   "id": "a97e4cc0",
   "metadata": {},
   "outputs": [],
   "source": [
    "# | export\n",
    "\n",
    "\n",
    "class IncidentIntelligenceEnvironmentDeleteEnvironmentResult(sgqlc.types.Enum):\n",
    "    __schema__ = nerdgraph\n",
    "    __choices__ = (\n",
    "        \"ACCOUNT_NOT_ENTITLED\",\n",
    "        \"DELETED\",\n",
    "        \"DOES_NOT_EXIST\",\n",
    "        \"USER_NOT_AUTHORIZED\",\n",
    "        \"USER_NOT_AUTHORIZED_MISSING_CAPABILITY\",\n",
    "    )"
   ]
  },
  {
   "cell_type": "code",
   "execution_count": null,
   "id": "d0e58cb8",
   "metadata": {},
   "outputs": [],
   "source": [
    "# | export\n",
    "\n",
    "\n",
    "class IncidentIntelligenceEnvironmentDissentAccountsResult(sgqlc.types.Enum):\n",
    "    __schema__ = nerdgraph\n",
    "    __choices__ = (\n",
    "        \"CONSENTED_ACCOUNTS_NOT_FOUND\",\n",
    "        \"DISSENTED\",\n",
    "        \"USER_NOT_AUTHORIZED_MISSING_CAPABILITY\",\n",
    "    )"
   ]
  },
  {
   "cell_type": "code",
   "execution_count": null,
   "id": "c74bffad",
   "metadata": {},
   "outputs": [],
   "source": [
    "# | export\n",
    "\n",
    "\n",
    "class IncidentIntelligenceEnvironmentEnvironmentKind(sgqlc.types.Enum):\n",
    "    __schema__ = nerdgraph\n",
    "    __choices__ = (\"CROSS_ACCOUNT_ENVIRONMENT\", \"SINGLE_ACCOUNT_ENVIRONMENT\")"
   ]
  },
  {
   "cell_type": "code",
   "execution_count": null,
   "id": "1b92854f",
   "metadata": {},
   "outputs": [],
   "source": [
    "# | export\n",
    "\n",
    "\n",
    "class IncidentIntelligenceEnvironmentSupportedEnvironmentKind(sgqlc.types.Enum):\n",
    "    __schema__ = nerdgraph\n",
    "    __choices__ = (\"CROSS_ACCOUNT\", \"SINGLE_AND_CROSS_ACCOUNT\")"
   ]
  },
  {
   "cell_type": "code",
   "execution_count": null,
   "id": "625d91b6",
   "metadata": {},
   "outputs": [],
   "source": [
    "# | export\n",
    "\n",
    "\n",
    "class InstallationInstallStateType(sgqlc.types.Enum):\n",
    "    __schema__ = nerdgraph\n",
    "    __choices__ = (\"COMPLETED\", \"STARTED\")"
   ]
  },
  {
   "cell_type": "code",
   "execution_count": null,
   "id": "29c365d6",
   "metadata": {},
   "outputs": [],
   "source": [
    "# | export\n",
    "\n",
    "\n",
    "class InstallationRecipeStatusType(sgqlc.types.Enum):\n",
    "    __schema__ = nerdgraph\n",
    "    __choices__ = (\n",
    "        \"AVAILABLE\",\n",
    "        \"CANCELED\",\n",
    "        \"DETECTED\",\n",
    "        \"FAILED\",\n",
    "        \"INSTALLED\",\n",
    "        \"INSTALLING\",\n",
    "        \"RECOMMENDED\",\n",
    "        \"SKIPPED\",\n",
    "        \"UNSUPPORTED\",\n",
    "    )"
   ]
  },
  {
   "cell_type": "code",
   "execution_count": null,
   "id": "0a2c7d06",
   "metadata": {},
   "outputs": [],
   "source": [
    "# | export\n",
    "\n",
    "\n",
    "class KnowledgePublishStatus(sgqlc.types.Enum):\n",
    "    __schema__ = nerdgraph\n",
    "    __choices__ = (\"ARCHIVED\", \"DRAFT\", \"ONLINE\", \"PENDING\")"
   ]
  },
  {
   "cell_type": "code",
   "execution_count": null,
   "id": "46413a25",
   "metadata": {},
   "outputs": [],
   "source": [
    "# | export\n",
    "\n",
    "\n",
    "class KnowledgeSearchSources(sgqlc.types.Enum):\n",
    "    __schema__ = nerdgraph\n",
    "    __choices__ = (\"ALL\", \"ARTICLES\", \"DOCS\", \"FORUM\")"
   ]
  },
  {
   "cell_type": "code",
   "execution_count": null,
   "id": "b40364e4",
   "metadata": {},
   "outputs": [],
   "source": [
    "# | export\n",
    "\n",
    "\n",
    "class LogConfigurationsCreateDataPartitionRuleErrorType(sgqlc.types.Enum):\n",
    "    __schema__ = nerdgraph\n",
    "    __choices__ = (\n",
    "        \"DUPLICATE_DATA_PARTITION_RULE_NAME\",\n",
    "        \"INVALID_DATA_PARTITION_INPUT\",\n",
    "        \"MAX_DATA_PARTITION_RULES\",\n",
    "    )"
   ]
  },
  {
   "cell_type": "code",
   "execution_count": null,
   "id": "ad56e8b5",
   "metadata": {},
   "outputs": [],
   "source": [
    "# | export\n",
    "\n",
    "\n",
    "class LogConfigurationsDataPartitionRuleMatchingOperator(sgqlc.types.Enum):\n",
    "    __schema__ = nerdgraph\n",
    "    __choices__ = (\"EQUALS\", \"LIKE\")"
   ]
  },
  {
   "cell_type": "code",
   "execution_count": null,
   "id": "7211208d",
   "metadata": {},
   "outputs": [],
   "source": [
    "# | export\n",
    "\n",
    "\n",
    "class LogConfigurationsDataPartitionRuleMutationErrorType(sgqlc.types.Enum):\n",
    "    __schema__ = nerdgraph\n",
    "    __choices__ = (\"INVALID_ID\", \"INVALID_RULE\", \"NOT_FOUND\")"
   ]
  },
  {
   "cell_type": "code",
   "execution_count": null,
   "id": "57ce850c",
   "metadata": {},
   "outputs": [],
   "source": [
    "# | export\n",
    "\n",
    "\n",
    "class LogConfigurationsDataPartitionRuleRetentionPolicyType(sgqlc.types.Enum):\n",
    "    __schema__ = nerdgraph\n",
    "    __choices__ = (\"SECONDARY\", \"STANDARD\")"
   ]
  },
  {
   "cell_type": "code",
   "execution_count": null,
   "id": "ef911047",
   "metadata": {},
   "outputs": [],
   "source": [
    "# | export\n",
    "\n",
    "\n",
    "class LogConfigurationsLiveArchiveRetentionPolicyType(sgqlc.types.Enum):\n",
    "    __schema__ = nerdgraph\n",
    "    __choices__ = (\"NONE\", \"STANDARD_ARCHIVE\")"
   ]
  },
  {
   "cell_type": "code",
   "execution_count": null,
   "id": "992f6544",
   "metadata": {},
   "outputs": [],
   "source": [
    "# | export\n",
    "\n",
    "\n",
    "class LogConfigurationsObfuscationMethod(sgqlc.types.Enum):\n",
    "    __schema__ = nerdgraph\n",
    "    __choices__ = (\"HASH_SHA256\", \"MASK\")"
   ]
  },
  {
   "cell_type": "code",
   "execution_count": null,
   "id": "b8f92f1d",
   "metadata": {},
   "outputs": [],
   "source": [
    "# | export\n",
    "\n",
    "\n",
    "class LogConfigurationsParsingRuleMutationErrorType(sgqlc.types.Enum):\n",
    "    __schema__ = nerdgraph\n",
    "    __choices__ = (\"INVALID_GROK\", \"INVALID_ID\", \"INVALID_NRQL\", \"NOT_FOUND\")"
   ]
  },
  {
   "cell_type": "code",
   "execution_count": null,
   "id": "d86145f1",
   "metadata": {},
   "outputs": [],
   "source": [
    "# | export\n",
    "\n",
    "\n",
    "class MetricNormalizationCustomerRuleAction(sgqlc.types.Enum):\n",
    "    __schema__ = nerdgraph\n",
    "    __choices__ = (\"DENY_NEW_METRICS\", \"IGNORE\", \"REPLACE\")"
   ]
  },
  {
   "cell_type": "code",
   "execution_count": null,
   "id": "b856c1d9",
   "metadata": {},
   "outputs": [],
   "source": [
    "# | export\n",
    "\n",
    "\n",
    "class MetricNormalizationRuleAction(sgqlc.types.Enum):\n",
    "    __schema__ = nerdgraph\n",
    "    __choices__ = (\"DENY_NEW_METRICS\", \"IGNORE\", \"REPLACE\")"
   ]
  },
  {
   "cell_type": "code",
   "execution_count": null,
   "id": "16d8931e",
   "metadata": {},
   "outputs": [],
   "source": [
    "# | export\n",
    "\n",
    "\n",
    "class MetricNormalizationRuleErrorType(sgqlc.types.Enum):\n",
    "    __schema__ = nerdgraph\n",
    "    __choices__ = (\n",
    "        \"CREATION_ERROR\",\n",
    "        \"EDITION_ERROR\",\n",
    "        \"RULE_NOT_FOUND\",\n",
    "        \"VALIDATION_ERROR\",\n",
    "    )"
   ]
  },
  {
   "cell_type": "code",
   "execution_count": null,
   "id": "ff991c7d",
   "metadata": {},
   "outputs": [],
   "source": [
    "# | export\n",
    "\n",
    "\n",
    "class MultiTenantAuthorizationGrantScopeEnum(sgqlc.types.Enum):\n",
    "    __schema__ = nerdgraph\n",
    "    __choices__ = (\"ACCOUNT\", \"GROUP\", \"ORGANIZATION\", \"OTHER\")"
   ]
  },
  {
   "cell_type": "code",
   "execution_count": null,
   "id": "a6ba3cde",
   "metadata": {},
   "outputs": [],
   "source": [
    "# | export\n",
    "\n",
    "\n",
    "class MultiTenantAuthorizationGrantSortEnum(sgqlc.types.Enum):\n",
    "    __schema__ = nerdgraph\n",
    "    __choices__ = (\"ID\",)"
   ]
  },
  {
   "cell_type": "code",
   "execution_count": null,
   "id": "3dda1c1a",
   "metadata": {},
   "outputs": [],
   "source": [
    "# | export\n",
    "\n",
    "\n",
    "class MultiTenantAuthorizationPermissionCategoryEnum(sgqlc.types.Enum):\n",
    "    __schema__ = nerdgraph\n",
    "    __choices__ = (\"DELETE\", \"MANAGE\", \"MODIFY\", \"OTHER\", \"READ\", \"VIEW\")"
   ]
  },
  {
   "cell_type": "code",
   "execution_count": null,
   "id": "8aea5bbc",
   "metadata": {},
   "outputs": [],
   "source": [
    "# | export\n",
    "\n",
    "\n",
    "class MultiTenantAuthorizationRoleScopeEnum(sgqlc.types.Enum):\n",
    "    __schema__ = nerdgraph\n",
    "    __choices__ = (\"ACCOUNT\", \"GROUP\", \"ORGANIZATION\", \"OTHER\")"
   ]
  },
  {
   "cell_type": "code",
   "execution_count": null,
   "id": "a51cc0ec",
   "metadata": {},
   "outputs": [],
   "source": [
    "# | export\n",
    "\n",
    "\n",
    "class MultiTenantAuthorizationRoleSortEnum(sgqlc.types.Enum):\n",
    "    __schema__ = nerdgraph\n",
    "    __choices__ = (\"ID\", \"NAME\", \"SCOPE\", \"TYPE\")"
   ]
  },
  {
   "cell_type": "code",
   "execution_count": null,
   "id": "5ad51a71",
   "metadata": {},
   "outputs": [],
   "source": [
    "# | export\n",
    "\n",
    "\n",
    "class MultiTenantAuthorizationRoleTypeEnum(sgqlc.types.Enum):\n",
    "    __schema__ = nerdgraph\n",
    "    __choices__ = (\"CUSTOM\", \"STANDARD\")"
   ]
  },
  {
   "cell_type": "code",
   "execution_count": null,
   "id": "9e942209",
   "metadata": {},
   "outputs": [],
   "source": [
    "# | export\n",
    "\n",
    "\n",
    "class MultiTenantAuthorizationSortDirectionEnum(sgqlc.types.Enum):\n",
    "    __schema__ = nerdgraph\n",
    "    __choices__ = (\"ASCENDING\", \"DESCENDING\")"
   ]
  },
  {
   "cell_type": "code",
   "execution_count": null,
   "id": "f2b03dfe",
   "metadata": {},
   "outputs": [],
   "source": [
    "# | export\n",
    "\n",
    "\n",
    "class MultiTenantIdentityCapability(sgqlc.types.Enum):\n",
    "    __schema__ = nerdgraph\n",
    "    __choices__ = (\n",
    "        \"DELETE_GROUP\",\n",
    "        \"GRANT_GROUP_MEMBERSHIP\",\n",
    "        \"REVOKE_GROUP_MEMBERSHIP\",\n",
    "        \"UPDATE_GROUP_NAME\",\n",
    "    )"
   ]
  },
  {
   "cell_type": "code",
   "execution_count": null,
   "id": "d67bedd0",
   "metadata": {},
   "outputs": [],
   "source": [
    "# | export\n",
    "\n",
    "\n",
    "class MultiTenantIdentityEmailVerificationState(sgqlc.types.Enum):\n",
    "    __schema__ = nerdgraph\n",
    "    __choices__ = (\"NOT_VERIFIABLE\", \"PENDING\", \"VERIFIED\")"
   ]
  },
  {
   "cell_type": "code",
   "execution_count": null,
   "id": "09ee4cce",
   "metadata": {},
   "outputs": [],
   "source": [
    "# | export\n",
    "\n",
    "\n",
    "class MultiTenantIdentitySortDirection(sgqlc.types.Enum):\n",
    "    __schema__ = nerdgraph\n",
    "    __choices__ = (\"ASCENDING\", \"DESCENDING\")"
   ]
  },
  {
   "cell_type": "code",
   "execution_count": null,
   "id": "09f74b6b",
   "metadata": {},
   "outputs": [],
   "source": [
    "# | export\n",
    "\n",
    "\n",
    "class MultiTenantIdentitySortKeyEnum(sgqlc.types.Enum):\n",
    "    __schema__ = nerdgraph\n",
    "    __choices__ = (\"AUTHENTICATION_DOMAIN_ID\", \"ID\", \"NAME\")"
   ]
  },
  {
   "cell_type": "code",
   "execution_count": null,
   "id": "eea93acd",
   "metadata": {},
   "outputs": [],
   "source": [
    "# | export\n",
    "\n",
    "\n",
    "class MultiTenantIdentityUserSortKey(sgqlc.types.Enum):\n",
    "    __schema__ = nerdgraph\n",
    "    __choices__ = (\"EMAIL\", \"ID\", \"LAST_ACTIVE\", \"NAME\", \"TYPE\")"
   ]
  },
  {
   "cell_type": "code",
   "execution_count": null,
   "id": "3f199076",
   "metadata": {},
   "outputs": [],
   "source": [
    "# | export\n",
    "\n",
    "\n",
    "class NerdStorageScope(sgqlc.types.Enum):\n",
    "    __schema__ = nerdgraph\n",
    "    __choices__ = (\"ACCOUNT\", \"ACTOR\", \"ENTITY\")"
   ]
  },
  {
   "cell_type": "code",
   "execution_count": null,
   "id": "c6a5f076",
   "metadata": {},
   "outputs": [],
   "source": [
    "# | export\n",
    "\n",
    "\n",
    "class NerdStorageVaultActorScope(sgqlc.types.Enum):\n",
    "    __schema__ = nerdgraph\n",
    "    __choices__ = (\"CURRENT_USER\",)"
   ]
  },
  {
   "cell_type": "code",
   "execution_count": null,
   "id": "853d8da3",
   "metadata": {},
   "outputs": [],
   "source": [
    "# | export\n",
    "\n",
    "\n",
    "class NerdStorageVaultErrorType(sgqlc.types.Enum):\n",
    "    __schema__ = nerdgraph\n",
    "    __choices__ = (\"ACCESS_DENIED\", \"BAD_INPUT\", \"NOT_FOUND\", \"VALIDATION_FAILED\")"
   ]
  },
  {
   "cell_type": "code",
   "execution_count": null,
   "id": "1350a9ca",
   "metadata": {},
   "outputs": [],
   "source": [
    "# | export\n",
    "\n",
    "\n",
    "class NerdStorageVaultResultStatus(sgqlc.types.Enum):\n",
    "    __schema__ = nerdgraph\n",
    "    __choices__ = (\"FAILURE\", \"SUCCESS\")"
   ]
  },
  {
   "cell_type": "code",
   "execution_count": null,
   "id": "daf71114",
   "metadata": {},
   "outputs": [],
   "source": [
    "# | export\n",
    "\n",
    "\n",
    "class NerdpackMutationErrorType(sgqlc.types.Enum):\n",
    "    __schema__ = nerdgraph\n",
    "    __choices__ = (\n",
    "        \"CAPABILITY_NOT_GRANTED\",\n",
    "        \"DOWNSTREAM_ERROR\",\n",
    "        \"NOT_FOUND\",\n",
    "        \"TNC_NOT_ACCEPTED\",\n",
    "        \"UNAUTHORIZED_ACCOUNT\",\n",
    "    )"
   ]
  },
  {
   "cell_type": "code",
   "execution_count": null,
   "id": "d2b89806",
   "metadata": {},
   "outputs": [],
   "source": [
    "# | export\n",
    "\n",
    "\n",
    "class NerdpackMutationResult(sgqlc.types.Enum):\n",
    "    __schema__ = nerdgraph\n",
    "    __choices__ = (\"ERROR\", \"OK\")"
   ]
  },
  {
   "cell_type": "code",
   "execution_count": null,
   "id": "0d5ce129",
   "metadata": {},
   "outputs": [],
   "source": [
    "# | export\n",
    "\n",
    "\n",
    "class NerdpackRemovedTagResponseType(sgqlc.types.Enum):\n",
    "    __schema__ = nerdgraph\n",
    "    __choices__ = (\"NOTHING_TO_REMOVE\", \"REMOVED\")"
   ]
  },
  {
   "cell_type": "code",
   "execution_count": null,
   "id": "63f1ff4d",
   "metadata": {},
   "outputs": [],
   "source": [
    "# | export\n",
    "\n",
    "\n",
    "class NerdpackSubscriptionAccessType(sgqlc.types.Enum):\n",
    "    __schema__ = nerdgraph\n",
    "    __choices__ = (\"DIRECT\", \"INHERITED\")"
   ]
  },
  {
   "cell_type": "code",
   "execution_count": null,
   "id": "dd62f26e",
   "metadata": {},
   "outputs": [],
   "source": [
    "# | export\n",
    "\n",
    "\n",
    "class NerdpackSubscriptionModel(sgqlc.types.Enum):\n",
    "    __schema__ = nerdgraph\n",
    "    __choices__ = (\"CORE\", \"GLOBAL\", \"OWNER_AND_ALLOWED\")"
   ]
  },
  {
   "cell_type": "code",
   "execution_count": null,
   "id": "85677590",
   "metadata": {},
   "outputs": [],
   "source": [
    "# | export\n",
    "\n",
    "\n",
    "class NerdpackVersionFilterFallback(sgqlc.types.Enum):\n",
    "    __schema__ = nerdgraph\n",
    "    __choices__ = (\"LATEST_SEMVER\",)"
   ]
  },
  {
   "cell_type": "code",
   "execution_count": null,
   "id": "5dc03311",
   "metadata": {},
   "outputs": [],
   "source": [
    "# | export\n",
    "\n",
    "\n",
    "class Nr1CatalogAlertConditionType(sgqlc.types.Enum):\n",
    "    __schema__ = nerdgraph\n",
    "    __choices__ = (\"BASELINE\", \"STATIC\")"
   ]
  },
  {
   "cell_type": "code",
   "execution_count": null,
   "id": "54b55d86",
   "metadata": {},
   "outputs": [],
   "source": [
    "# | export\n",
    "\n",
    "\n",
    "class Nr1CatalogInstallPlanDestination(sgqlc.types.Enum):\n",
    "    __schema__ = nerdgraph\n",
    "    __choices__ = (\"APPLICATION\", \"CLOUD\", \"HOST\", \"KUBERNETES\", \"UNKNOWN\")"
   ]
  },
  {
   "cell_type": "code",
   "execution_count": null,
   "id": "1263a396",
   "metadata": {},
   "outputs": [],
   "source": [
    "# | export\n",
    "\n",
    "\n",
    "class Nr1CatalogInstallPlanDirectiveMode(sgqlc.types.Enum):\n",
    "    __schema__ = nerdgraph\n",
    "    __choices__ = (\"LINK\", \"NERDLET\", \"TARGETED\")"
   ]
  },
  {
   "cell_type": "code",
   "execution_count": null,
   "id": "837ab223",
   "metadata": {},
   "outputs": [],
   "source": [
    "# | export\n",
    "\n",
    "\n",
    "class Nr1CatalogInstallPlanOperatingSystem(sgqlc.types.Enum):\n",
    "    __schema__ = nerdgraph\n",
    "    __choices__ = (\"DARWIN\", \"LINUX\", \"WINDOWS\")"
   ]
  },
  {
   "cell_type": "code",
   "execution_count": null,
   "id": "8fb730ee",
   "metadata": {},
   "outputs": [],
   "source": [
    "# | export\n",
    "\n",
    "\n",
    "class Nr1CatalogInstallPlanTargetType(sgqlc.types.Enum):\n",
    "    __schema__ = nerdgraph\n",
    "    __choices__ = (\"AGENT\", \"INTEGRATION\", \"ON_HOST_INTEGRATION\", \"UNKNOWN\")"
   ]
  },
  {
   "cell_type": "code",
   "execution_count": null,
   "id": "b41e60a5",
   "metadata": {},
   "outputs": [],
   "source": [
    "# | export\n",
    "\n",
    "\n",
    "class Nr1CatalogInstallerType(sgqlc.types.Enum):\n",
    "    __schema__ = nerdgraph\n",
    "    __choices__ = (\"INSTALL_PLAN\",)"
   ]
  },
  {
   "cell_type": "code",
   "execution_count": null,
   "id": "556165de",
   "metadata": {},
   "outputs": [],
   "source": [
    "# | export\n",
    "\n",
    "\n",
    "class Nr1CatalogMutationResult(sgqlc.types.Enum):\n",
    "    __schema__ = nerdgraph\n",
    "    __choices__ = (\"ERROR\", \"OK\")"
   ]
  },
  {
   "cell_type": "code",
   "execution_count": null,
   "id": "1ec88fdb",
   "metadata": {},
   "outputs": [],
   "source": [
    "# | export\n",
    "\n",
    "\n",
    "class Nr1CatalogNerdpackVisibility(sgqlc.types.Enum):\n",
    "    __schema__ = nerdgraph\n",
    "    __choices__ = (\"GLOBAL\", \"OWNER_AND_ALLOWED\")"
   ]
  },
  {
   "cell_type": "code",
   "execution_count": null,
   "id": "9be7aacb",
   "metadata": {},
   "outputs": [],
   "source": [
    "# | export\n",
    "\n",
    "\n",
    "class Nr1CatalogQuickstartAlertConditionType(sgqlc.types.Enum):\n",
    "    __schema__ = nerdgraph\n",
    "    __choices__ = (\"BASELINE\", \"STATIC\")"
   ]
  },
  {
   "cell_type": "code",
   "execution_count": null,
   "id": "76b311c0",
   "metadata": {},
   "outputs": [],
   "source": [
    "# | export\n",
    "\n",
    "\n",
    "class Nr1CatalogRenderFormat(sgqlc.types.Enum):\n",
    "    __schema__ = nerdgraph\n",
    "    __choices__ = (\"MARKDOWN\",)"
   ]
  },
  {
   "cell_type": "code",
   "execution_count": null,
   "id": "30c596e5",
   "metadata": {},
   "outputs": [],
   "source": [
    "# | export\n",
    "\n",
    "\n",
    "class Nr1CatalogSearchComponentType(sgqlc.types.Enum):\n",
    "    __schema__ = nerdgraph\n",
    "    __choices__ = (\"ALERTS\", \"APPS\", \"DASHBOARDS\", \"DATA_SOURCES\", \"VISUALIZATIONS\")"
   ]
  },
  {
   "cell_type": "code",
   "execution_count": null,
   "id": "76ea9a02",
   "metadata": {},
   "outputs": [],
   "source": [
    "# | export\n",
    "\n",
    "\n",
    "class Nr1CatalogSearchResultType(sgqlc.types.Enum):\n",
    "    __schema__ = nerdgraph\n",
    "    __choices__ = (\n",
    "        \"ALERT_POLICY_TEMPLATE\",\n",
    "        \"DASHBOARD_TEMPLATE\",\n",
    "        \"DATA_SOURCE\",\n",
    "        \"NERDPACK\",\n",
    "        \"QUICKSTART\",\n",
    "    )"
   ]
  },
  {
   "cell_type": "code",
   "execution_count": null,
   "id": "6824c826",
   "metadata": {},
   "outputs": [],
   "source": [
    "# | export\n",
    "\n",
    "\n",
    "class Nr1CatalogSearchSortOption(sgqlc.types.Enum):\n",
    "    __schema__ = nerdgraph\n",
    "    __choices__ = (\"ALPHABETICAL\", \"POPULARITY\", \"RELEVANCE\", \"REVERSE_ALPHABETICAL\")"
   ]
  },
  {
   "cell_type": "code",
   "execution_count": null,
   "id": "17b57c9f",
   "metadata": {},
   "outputs": [],
   "source": [
    "# | export\n",
    "\n",
    "\n",
    "class Nr1CatalogSubmitMetadataErrorType(sgqlc.types.Enum):\n",
    "    __schema__ = nerdgraph\n",
    "    __choices__ = (\n",
    "        \"NERDPACK_NOT_FOUND\",\n",
    "        \"SERVER_ERROR\",\n",
    "        \"UNAUTHORIZED\",\n",
    "        \"UNSUPPORTED_TYPE\",\n",
    "        \"VALIDATION_FAILED\",\n",
    "    )"
   ]
  },
  {
   "cell_type": "code",
   "execution_count": null,
   "id": "500f50e1",
   "metadata": {},
   "outputs": [],
   "source": [
    "# | export\n",
    "\n",
    "\n",
    "class Nr1CatalogSupportLevel(sgqlc.types.Enum):\n",
    "    __schema__ = nerdgraph\n",
    "    __choices__ = (\"COMMUNITY\", \"ENTERPRISE\", \"NEW_RELIC\", \"VERIFIED\")"
   ]
  },
  {
   "cell_type": "code",
   "execution_count": null,
   "id": "87069514",
   "metadata": {},
   "outputs": [],
   "source": [
    "# | export\n",
    "\n",
    "\n",
    "class Nr1CatalogSupportedEntityTypesMode(sgqlc.types.Enum):\n",
    "    __schema__ = nerdgraph\n",
    "    __choices__ = (\"ALL\", \"NONE\", \"SPECIFIC\")"
   ]
  },
  {
   "cell_type": "code",
   "execution_count": null,
   "id": "f191ccb6",
   "metadata": {},
   "outputs": [],
   "source": [
    "# | export\n",
    "\n",
    "\n",
    "class NrqlCancelQueryMutationRequestStatus(sgqlc.types.Enum):\n",
    "    __schema__ = nerdgraph\n",
    "    __choices__ = (\"ACCEPTED\", \"REJECTED\")"
   ]
  },
  {
   "cell_type": "code",
   "execution_count": null,
   "id": "bb13ea0c",
   "metadata": {},
   "outputs": [],
   "source": [
    "# | export\n",
    "\n",
    "\n",
    "class NrqlDropRulesAction(sgqlc.types.Enum):\n",
    "    __schema__ = nerdgraph\n",
    "    __choices__ = (\n",
    "        \"DROP_ATTRIBUTES\",\n",
    "        \"DROP_ATTRIBUTES_FROM_METRIC_AGGREGATES\",\n",
    "        \"DROP_DATA\",\n",
    "    )"
   ]
  },
  {
   "cell_type": "code",
   "execution_count": null,
   "id": "60cae83d",
   "metadata": {},
   "outputs": [],
   "source": [
    "# | export\n",
    "\n",
    "\n",
    "class NrqlDropRulesErrorReason(sgqlc.types.Enum):\n",
    "    __schema__ = nerdgraph\n",
    "    __choices__ = (\n",
    "        \"FEATURE_FLAG_DISABLED\",\n",
    "        \"GENERAL\",\n",
    "        \"INVALID_INPUT\",\n",
    "        \"INVALID_QUERY\",\n",
    "        \"RULE_NOT_FOUND\",\n",
    "        \"USER_NOT_AUTHORIZED\",\n",
    "    )"
   ]
  },
  {
   "cell_type": "code",
   "execution_count": null,
   "id": "2428a914",
   "metadata": {},
   "outputs": [],
   "source": [
    "# | export\n",
    "\n",
    "\n",
    "class OrganizationAccountShareSortDirectionEnum(sgqlc.types.Enum):\n",
    "    __schema__ = nerdgraph\n",
    "    __choices__ = (\"ASCENDING\", \"DESCENDING\")"
   ]
  },
  {
   "cell_type": "code",
   "execution_count": null,
   "id": "66000b3c",
   "metadata": {},
   "outputs": [],
   "source": [
    "# | export\n",
    "\n",
    "\n",
    "class OrganizationAccountShareSortKeyEnum(sgqlc.types.Enum):\n",
    "    __schema__ = nerdgraph\n",
    "    __choices__ = (\"ACCOUNT_ID\", \"TARGET_ORGANIZATION_NAME\")"
   ]
  },
  {
   "cell_type": "code",
   "execution_count": null,
   "id": "9215f43a",
   "metadata": {},
   "outputs": [],
   "source": [
    "# | export\n",
    "\n",
    "\n",
    "class OrganizationAccountSortDirectionEnum(sgqlc.types.Enum):\n",
    "    __schema__ = nerdgraph\n",
    "    __choices__ = (\"ASCENDING\", \"DESCENDING\")"
   ]
  },
  {
   "cell_type": "code",
   "execution_count": null,
   "id": "e2af7d60",
   "metadata": {},
   "outputs": [],
   "source": [
    "# | export\n",
    "\n",
    "\n",
    "class OrganizationAccountSortKeyEnum(sgqlc.types.Enum):\n",
    "    __schema__ = nerdgraph\n",
    "    __choices__ = (\"ID\", \"NAME\")"
   ]
  },
  {
   "cell_type": "code",
   "execution_count": null,
   "id": "4fd04b99",
   "metadata": {},
   "outputs": [],
   "source": [
    "# | export\n",
    "\n",
    "\n",
    "class OrganizationAccountStatus(sgqlc.types.Enum):\n",
    "    __schema__ = nerdgraph\n",
    "    __choices__ = (\"ACTIVE\", \"CANCELED\")"
   ]
  },
  {
   "cell_type": "code",
   "execution_count": null,
   "id": "188d1304",
   "metadata": {},
   "outputs": [],
   "source": [
    "# | export\n",
    "\n",
    "\n",
    "class OrganizationAuthenticationTypeEnum(sgqlc.types.Enum):\n",
    "    __schema__ = nerdgraph\n",
    "    __choices__ = (\"DISABLED\", \"HEROKU_SSO\", \"OIDC_SSO\", \"PASSWORD\", \"SAML_SSO\")"
   ]
  },
  {
   "cell_type": "code",
   "execution_count": null,
   "id": "9f9c9a56",
   "metadata": {},
   "outputs": [],
   "source": [
    "# | export\n",
    "\n",
    "\n",
    "class OrganizationBillingStructure(sgqlc.types.Enum):\n",
    "    __schema__ = nerdgraph\n",
    "    __choices__ = (\"ACCOUNT_HIERARCHY\", \"CUSTOMER_CONTRACT\", \"UNSTRUCTURED\")"
   ]
  },
  {
   "cell_type": "code",
   "execution_count": null,
   "id": "ffff8ca3",
   "metadata": {},
   "outputs": [],
   "source": [
    "# | export\n",
    "\n",
    "\n",
    "class OrganizationOrganizationCreateJobResultStatusEnum(sgqlc.types.Enum):\n",
    "    __schema__ = nerdgraph\n",
    "    __choices__ = (\"CREATED\", \"FAILED\", \"RUNNING\", \"SUCCEEDED\")"
   ]
  },
  {
   "cell_type": "code",
   "execution_count": null,
   "id": "8989dce4",
   "metadata": {},
   "outputs": [],
   "source": [
    "# | export\n",
    "\n",
    "\n",
    "class OrganizationOrganizationCreateJobStatusEnum(sgqlc.types.Enum):\n",
    "    __schema__ = nerdgraph\n",
    "    __choices__ = (\"ALL\", \"CREATED\", \"FAILED\", \"RUNNING\", \"SUCCEEDED\")"
   ]
  },
  {
   "cell_type": "code",
   "execution_count": null,
   "id": "65f03c80",
   "metadata": {},
   "outputs": [],
   "source": [
    "# | export\n",
    "\n",
    "\n",
    "class OrganizationProvisioningTypeEnum(sgqlc.types.Enum):\n",
    "    __schema__ = nerdgraph\n",
    "    __choices__ = (\"DISABLED\", \"MANUAL\", \"SCIM\")"
   ]
  },
  {
   "cell_type": "code",
   "execution_count": null,
   "id": "761126e9",
   "metadata": {},
   "outputs": [],
   "source": [
    "# | export\n",
    "\n",
    "\n",
    "class OrganizationProvisioningUnit(sgqlc.types.Enum):\n",
    "    __schema__ = nerdgraph\n",
    "    __choices__ = (\n",
    "        \"ADDITIONAL_DAYS_OF_RETENTION\",\n",
    "        \"APPS\",\n",
    "        \"APP_TRANSACTIONS_IN_MILLIONS\",\n",
    "        \"CHECKS\",\n",
    "        \"COMPUTE_UNIT\",\n",
    "        \"DATA_RETENTION_IN_DAYS\",\n",
    "        \"DPM\",\n",
    "        \"EVENTS_IN_MILLIONS\",\n",
    "        \"GB_INGESTED\",\n",
    "        \"GB_PER_DAY\",\n",
    "        \"GRACE_PERIOD\",\n",
    "        \"HOSTS\",\n",
    "        \"INCIDENT_EVENTS\",\n",
    "        \"INGESTED_EVENTS\",\n",
    "        \"MONTHLY_ACTIVE_USERS\",\n",
    "        \"PAGE_VIEWS\",\n",
    "        \"PROVISIONED_USERS\",\n",
    "        \"SPANS_IN_MILLIONS\",\n",
    "        \"USERS\",\n",
    "    )"
   ]
  },
  {
   "cell_type": "code",
   "execution_count": null,
   "id": "cf4941a7",
   "metadata": {},
   "outputs": [],
   "source": [
    "# | export\n",
    "\n",
    "\n",
    "class OrganizationRegionCodeEnum(sgqlc.types.Enum):\n",
    "    __schema__ = nerdgraph\n",
    "    __choices__ = (\"EU01\", \"US01\")"
   ]
  },
  {
   "cell_type": "code",
   "execution_count": null,
   "id": "bc30b9bc",
   "metadata": {},
   "outputs": [],
   "source": [
    "# | export\n",
    "\n",
    "\n",
    "class OrganizationSharingMode(sgqlc.types.Enum):\n",
    "    __schema__ = nerdgraph\n",
    "    __choices__ = (\n",
    "        \"ALL\",\n",
    "        \"MANAGED\",\n",
    "        \"SHARED_WITH_OTHER_ORGANIZATIONS\",\n",
    "        \"SHARED_WITH_THIS_ORGANIZATION\",\n",
    "    )"
   ]
  },
  {
   "cell_type": "code",
   "execution_count": null,
   "id": "269b34fe",
   "metadata": {},
   "outputs": [],
   "source": [
    "# | export\n",
    "\n",
    "\n",
    "class OrganizationSortDirectionEnum(sgqlc.types.Enum):\n",
    "    __schema__ = nerdgraph\n",
    "    __choices__ = (\"ASCENDING\", \"DESCENDING\")"
   ]
  },
  {
   "cell_type": "code",
   "execution_count": null,
   "id": "e7b57679",
   "metadata": {},
   "outputs": [],
   "source": [
    "# | export\n",
    "\n",
    "\n",
    "class OrganizationSortKeyEnum(sgqlc.types.Enum):\n",
    "    __schema__ = nerdgraph\n",
    "    __choices__ = (\"ID\", \"NAME\")"
   ]
  },
  {
   "cell_type": "code",
   "execution_count": null,
   "id": "3e85f745",
   "metadata": {},
   "outputs": [],
   "source": [
    "# | export\n",
    "\n",
    "\n",
    "class OrganizationUpdateErrorType(sgqlc.types.Enum):\n",
    "    __schema__ = nerdgraph\n",
    "    __choices__ = (\"INVALID_RECORD\", \"NOT_AUTHORIZED\")"
   ]
  },
  {
   "cell_type": "code",
   "execution_count": null,
   "id": "e2600aa1",
   "metadata": {},
   "outputs": [],
   "source": [
    "# | export\n",
    "\n",
    "\n",
    "class PixieLinkPixieProjectErrorType(sgqlc.types.Enum):\n",
    "    __schema__ = nerdgraph\n",
    "    __choices__ = (\n",
    "        \"ALREADY_LINKED\",\n",
    "        \"AUTO_CREATION_NOT_SUPPORTED\",\n",
    "        \"INVALID_NEWRELIC_ACCOUNT\",\n",
    "        \"INVALID_PIXIE_API_KEY\",\n",
    "        \"UNLINKING_NOT_SUPPORTED\",\n",
    "    )"
   ]
  },
  {
   "cell_type": "code",
   "execution_count": null,
   "id": "e83aee45",
   "metadata": {},
   "outputs": [],
   "source": [
    "# | export\n",
    "\n",
    "\n",
    "class PixieRecordPixieTosAcceptanceErrorType(sgqlc.types.Enum):\n",
    "    __schema__ = nerdgraph\n",
    "    __choices__ = (\"MISSING_DATA\",)"
   ]
  },
  {
   "cell_type": "code",
   "execution_count": null,
   "id": "ee49a10d",
   "metadata": {},
   "outputs": [],
   "source": [
    "# | export\n",
    "\n",
    "\n",
    "class ReferenceEntityCreateRepositoryErrorType(sgqlc.types.Enum):\n",
    "    __schema__ = nerdgraph\n",
    "    __choices__ = (\"FORBIDDEN\", \"INVALID_INPUT\")"
   ]
  },
  {
   "cell_type": "code",
   "execution_count": null,
   "id": "54278c3a",
   "metadata": {},
   "outputs": [],
   "source": [
    "# | export\n",
    "\n",
    "\n",
    "class RegionScope(sgqlc.types.Enum):\n",
    "    __schema__ = nerdgraph\n",
    "    __choices__ = (\"GLOBAL\", \"IN_REGION\")"
   ]
  },
  {
   "cell_type": "code",
   "execution_count": null,
   "id": "bb612422",
   "metadata": {},
   "outputs": [],
   "source": [
    "# | export\n",
    "\n",
    "\n",
    "class ServiceLevelEventsQuerySelectFunction(sgqlc.types.Enum):\n",
    "    __schema__ = nerdgraph\n",
    "    __choices__ = (\"COUNT\", \"GET_CDF_COUNT\", \"GET_FIELD\", \"SUM\")"
   ]
  },
  {
   "cell_type": "code",
   "execution_count": null,
   "id": "6c508e70",
   "metadata": {},
   "outputs": [],
   "source": [
    "# | export\n",
    "\n",
    "\n",
    "class ServiceLevelObjectiveRollingTimeWindowUnit(sgqlc.types.Enum):\n",
    "    __schema__ = nerdgraph\n",
    "    __choices__ = (\"DAY\",)"
   ]
  },
  {
   "cell_type": "code",
   "execution_count": null,
   "id": "f510bb44",
   "metadata": {},
   "outputs": [],
   "source": [
    "# | export\n",
    "\n",
    "\n",
    "class SortBy(sgqlc.types.Enum):\n",
    "    __schema__ = nerdgraph\n",
    "    __choices__ = (\"ASC\", \"DESC\")"
   ]
  },
  {
   "cell_type": "code",
   "execution_count": null,
   "id": "12e088e4",
   "metadata": {},
   "outputs": [],
   "source": [
    "# | export\n",
    "\n",
    "\n",
    "class StreamingExportPayloadCompression(sgqlc.types.Enum):\n",
    "    __schema__ = nerdgraph\n",
    "    __choices__ = (\"DISABLED\", \"GZIP\")"
   ]
  },
  {
   "cell_type": "code",
   "execution_count": null,
   "id": "760a7184",
   "metadata": {},
   "outputs": [],
   "source": [
    "# | export\n",
    "\n",
    "\n",
    "class StreamingExportStatus(sgqlc.types.Enum):\n",
    "    __schema__ = nerdgraph\n",
    "    __choices__ = (\n",
    "        \"CREATION_FAILED\",\n",
    "        \"CREATION_IN_PROGRESS\",\n",
    "        \"DELETED\",\n",
    "        \"DISABLED\",\n",
    "        \"ENABLED\",\n",
    "    )"
   ]
  },
  {
   "cell_type": "code",
   "execution_count": null,
   "id": "743cfc7e",
   "metadata": {},
   "outputs": [],
   "source": [
    "# | export\n",
    "\n",
    "\n",
    "class SyntheticMonitorStatus(sgqlc.types.Enum):\n",
    "    __schema__ = nerdgraph\n",
    "    __choices__ = (\"DELETED\", \"DISABLED\", \"ENABLED\", \"FAULTY\", \"MUTED\", \"PAUSED\")"
   ]
  },
  {
   "cell_type": "code",
   "execution_count": null,
   "id": "685c6d34",
   "metadata": {},
   "outputs": [],
   "source": [
    "# | export\n",
    "\n",
    "\n",
    "class SyntheticMonitorType(sgqlc.types.Enum):\n",
    "    __schema__ = nerdgraph\n",
    "    __choices__ = (\n",
    "        \"BROKEN_LINKS\",\n",
    "        \"BROWSER\",\n",
    "        \"CERT_CHECK\",\n",
    "        \"SCRIPT_API\",\n",
    "        \"SCRIPT_BROWSER\",\n",
    "        \"SIMPLE\",\n",
    "        \"STEP_MONITOR\",\n",
    "    )"
   ]
  },
  {
   "cell_type": "code",
   "execution_count": null,
   "id": "850be03b",
   "metadata": {},
   "outputs": [],
   "source": [
    "# | export\n",
    "\n",
    "\n",
    "class SyntheticsBrowser(sgqlc.types.Enum):\n",
    "    __schema__ = nerdgraph\n",
    "    __choices__ = (\"CHROME\", \"EDGE\", \"FIREFOX\", \"NONE\")"
   ]
  },
  {
   "cell_type": "code",
   "execution_count": null,
   "id": "3225afc3",
   "metadata": {},
   "outputs": [],
   "source": [
    "# | export\n",
    "\n",
    "\n",
    "class SyntheticsDevice(sgqlc.types.Enum):\n",
    "    __schema__ = nerdgraph\n",
    "    __choices__ = (\n",
    "        \"DESKTOP\",\n",
    "        \"MOBILE_LANDSCAPE\",\n",
    "        \"MOBILE_PORTRAIT\",\n",
    "        \"NONE\",\n",
    "        \"TABLET_LANDSCAPE\",\n",
    "        \"TABLET_PORTRAIT\",\n",
    "    )"
   ]
  },
  {
   "cell_type": "code",
   "execution_count": null,
   "id": "802fcf66",
   "metadata": {},
   "outputs": [],
   "source": [
    "# | export\n",
    "\n",
    "\n",
    "class SyntheticsDeviceOrientation(sgqlc.types.Enum):\n",
    "    __schema__ = nerdgraph\n",
    "    __choices__ = (\"LANDSCAPE\", \"NONE\", \"PORTRAIT\")"
   ]
  },
  {
   "cell_type": "code",
   "execution_count": null,
   "id": "f9a98b51",
   "metadata": {},
   "outputs": [],
   "source": [
    "# | export\n",
    "\n",
    "\n",
    "class SyntheticsDeviceType(sgqlc.types.Enum):\n",
    "    __schema__ = nerdgraph\n",
    "    __choices__ = (\"MOBILE\", \"NONE\", \"TABLET\")"
   ]
  },
  {
   "cell_type": "code",
   "execution_count": null,
   "id": "792772ae",
   "metadata": {},
   "outputs": [],
   "source": [
    "# | export\n",
    "\n",
    "\n",
    "class SyntheticsMonitorCreateErrorType(sgqlc.types.Enum):\n",
    "    __schema__ = nerdgraph\n",
    "    __choices__ = (\n",
    "        \"BAD_REQUEST\",\n",
    "        \"INTERNAL_SERVER_ERROR\",\n",
    "        \"NOT_FOUND\",\n",
    "        \"PAYMENT_REQUIRED\",\n",
    "        \"RATE_LIMITED\",\n",
    "        \"TAGGING_ERROR\",\n",
    "        \"UNAUTHORIZED\",\n",
    "        \"UNKNOWN_ERROR\",\n",
    "    )"
   ]
  },
  {
   "cell_type": "code",
   "execution_count": null,
   "id": "4da427ac",
   "metadata": {},
   "outputs": [],
   "source": [
    "# | export\n",
    "\n",
    "\n",
    "class SyntheticsMonitorDowntimeDayOfMonthOrdinal(sgqlc.types.Enum):\n",
    "    __schema__ = nerdgraph\n",
    "    __choices__ = (\"FIRST\", \"FOURTH\", \"LAST\", \"SECOND\", \"THIRD\")"
   ]
  },
  {
   "cell_type": "code",
   "execution_count": null,
   "id": "da41d6d4",
   "metadata": {},
   "outputs": [],
   "source": [
    "# | export\n",
    "\n",
    "\n",
    "class SyntheticsMonitorDowntimeWeekDays(sgqlc.types.Enum):\n",
    "    __schema__ = nerdgraph\n",
    "    __choices__ = (\n",
    "        \"FRIDAY\",\n",
    "        \"MONDAY\",\n",
    "        \"SATURDAY\",\n",
    "        \"SUNDAY\",\n",
    "        \"THURSDAY\",\n",
    "        \"TUESDAY\",\n",
    "        \"WEDNESDAY\",\n",
    "    )"
   ]
  },
  {
   "cell_type": "code",
   "execution_count": null,
   "id": "baf66391",
   "metadata": {},
   "outputs": [],
   "source": [
    "# | export\n",
    "\n",
    "\n",
    "class SyntheticsMonitorPeriod(sgqlc.types.Enum):\n",
    "    __schema__ = nerdgraph\n",
    "    __choices__ = (\n",
    "        \"EVERY_10_MINUTES\",\n",
    "        \"EVERY_12_HOURS\",\n",
    "        \"EVERY_15_MINUTES\",\n",
    "        \"EVERY_30_MINUTES\",\n",
    "        \"EVERY_5_MINUTES\",\n",
    "        \"EVERY_6_HOURS\",\n",
    "        \"EVERY_DAY\",\n",
    "        \"EVERY_HOUR\",\n",
    "        \"EVERY_MINUTE\",\n",
    "    )"
   ]
  },
  {
   "cell_type": "code",
   "execution_count": null,
   "id": "e6f7de53",
   "metadata": {},
   "outputs": [],
   "source": [
    "# | export\n",
    "\n",
    "\n",
    "class SyntheticsMonitorStatus(sgqlc.types.Enum):\n",
    "    __schema__ = nerdgraph\n",
    "    __choices__ = (\"DISABLED\", \"ENABLED\")"
   ]
  },
  {
   "cell_type": "code",
   "execution_count": null,
   "id": "814eb917",
   "metadata": {},
   "outputs": [],
   "source": [
    "# | export\n",
    "\n",
    "\n",
    "class SyntheticsMonitorUpdateErrorType(sgqlc.types.Enum):\n",
    "    __schema__ = nerdgraph\n",
    "    __choices__ = (\n",
    "        \"BAD_REQUEST\",\n",
    "        \"INTERNAL_SERVER_ERROR\",\n",
    "        \"NOT_FOUND\",\n",
    "        \"PAYMENT_REQUIRED\",\n",
    "        \"RATE_LIMITED\",\n",
    "        \"SCRIPT_ERROR\",\n",
    "        \"TAGGING_ERROR\",\n",
    "        \"UNAUTHORIZED\",\n",
    "        \"UNKNOWN_ERROR\",\n",
    "    )"
   ]
  },
  {
   "cell_type": "code",
   "execution_count": null,
   "id": "8527ef54",
   "metadata": {},
   "outputs": [],
   "source": [
    "# | export\n",
    "\n",
    "\n",
    "class SyntheticsPrivateLocationMutationErrorType(sgqlc.types.Enum):\n",
    "    __schema__ = nerdgraph\n",
    "    __choices__ = (\"BAD_REQUEST\", \"INTERNAL_SERVER_ERROR\", \"NOT_FOUND\", \"UNAUTHORIZED\")"
   ]
  },
  {
   "cell_type": "code",
   "execution_count": null,
   "id": "4da219da",
   "metadata": {},
   "outputs": [],
   "source": [
    "# | export\n",
    "\n",
    "\n",
    "class SyntheticsStepType(sgqlc.types.Enum):\n",
    "    __schema__ = nerdgraph\n",
    "    __choices__ = (\n",
    "        \"ASSERT_ELEMENT\",\n",
    "        \"ASSERT_MODAL\",\n",
    "        \"ASSERT_TEXT\",\n",
    "        \"ASSERT_TITLE\",\n",
    "        \"CLICK_ELEMENT\",\n",
    "        \"DISMISS_MODAL\",\n",
    "        \"DOUBLE_CLICK_ELEMENT\",\n",
    "        \"HOVER_ELEMENT\",\n",
    "        \"NAVIGATE\",\n",
    "        \"SECURE_TEXT_ENTRY\",\n",
    "        \"SELECT_ELEMENT\",\n",
    "        \"TEXT_ENTRY\",\n",
    "    )"
   ]
  },
  {
   "cell_type": "code",
   "execution_count": null,
   "id": "47c066a1",
   "metadata": {},
   "outputs": [],
   "source": [
    "# | export\n",
    "\n",
    "\n",
    "class SystemIdentityIdentitySortFieldKey(sgqlc.types.Enum):\n",
    "    __schema__ = nerdgraph\n",
    "    __choices__ = (\"CLIENT_ID\", \"ID\", \"NAME\")"
   ]
  },
  {
   "cell_type": "code",
   "execution_count": null,
   "id": "344112dc",
   "metadata": {},
   "outputs": [],
   "source": [
    "# | export\n",
    "\n",
    "\n",
    "class SystemIdentitySortOrder(sgqlc.types.Enum):\n",
    "    __schema__ = nerdgraph\n",
    "    __choices__ = (\"ASC\", \"DESC\")"
   ]
  },
  {
   "cell_type": "code",
   "execution_count": null,
   "id": "2ad48436",
   "metadata": {},
   "outputs": [],
   "source": [
    "# | export\n",
    "\n",
    "\n",
    "class TaggingMutationErrorType(sgqlc.types.Enum):\n",
    "    __schema__ = nerdgraph\n",
    "    __choices__ = (\n",
    "        \"CONCURRENT_TASK_EXCEPTION\",\n",
    "        \"INVALID_DOMAIN_TYPE\",\n",
    "        \"INVALID_ENTITY_GUID\",\n",
    "        \"INVALID_KEY\",\n",
    "        \"INVALID_VALUE\",\n",
    "        \"NOT_FOUND\",\n",
    "        \"NOT_PERMITTED\",\n",
    "        \"TOO_MANY_CHARS_QUERY_FILTER\",\n",
    "        \"TOO_MANY_TAG_KEYS\",\n",
    "        \"TOO_MANY_TAG_VALUES\",\n",
    "        \"UPDATE_WILL_BE_DELAYED\",\n",
    "    )"
   ]
  },
  {
   "cell_type": "code",
   "execution_count": null,
   "id": "2fc187b1",
   "metadata": {},
   "outputs": [],
   "source": [
    "# | export\n",
    "\n",
    "\n",
    "class UserManagementGroupSortKey(sgqlc.types.Enum):\n",
    "    __schema__ = nerdgraph\n",
    "    __choices__ = (\"DISPLAY_NAME\", \"ID\")"
   ]
  },
  {
   "cell_type": "code",
   "execution_count": null,
   "id": "506c68c6",
   "metadata": {},
   "outputs": [],
   "source": [
    "# | export\n",
    "\n",
    "\n",
    "class UserManagementRequestedTierName(sgqlc.types.Enum):\n",
    "    __schema__ = nerdgraph\n",
    "    __choices__ = (\"BASIC_USER_TIER\", \"CORE_USER_TIER\", \"FULL_USER_TIER\")"
   ]
  },
  {
   "cell_type": "code",
   "execution_count": null,
   "id": "3d33d01e",
   "metadata": {},
   "outputs": [],
   "source": [
    "# | export\n",
    "\n",
    "\n",
    "class UserManagementSortDirection(sgqlc.types.Enum):\n",
    "    __schema__ = nerdgraph\n",
    "    __choices__ = (\"ASCENDING\", \"DESCENDING\")"
   ]
  },
  {
   "cell_type": "code",
   "execution_count": null,
   "id": "a8a065a6",
   "metadata": {},
   "outputs": [],
   "source": [
    "# | export\n",
    "\n",
    "\n",
    "class UserManagementTypeEnum(sgqlc.types.Enum):\n",
    "    __schema__ = nerdgraph\n",
    "    __choices__ = (\"BASIC\", \"CORE\", \"FULL_PLATFORM\")"
   ]
  },
  {
   "cell_type": "code",
   "execution_count": null,
   "id": "11b1f8d0",
   "metadata": {},
   "outputs": [],
   "source": [
    "# | export\n",
    "\n",
    "\n",
    "class WhatsNewContentType(sgqlc.types.Enum):\n",
    "    __schema__ = nerdgraph\n",
    "    __choices__ = (\"ANNOUNCEMENT\",)"
   ]
  },
  {
   "cell_type": "code",
   "execution_count": null,
   "id": "662c9edc",
   "metadata": {},
   "outputs": [],
   "source": [
    "# | export\n",
    "\n",
    "\n",
    "class WorkloadGroupRemainingEntitiesRuleBy(sgqlc.types.Enum):\n",
    "    __schema__ = nerdgraph\n",
    "    __choices__ = (\"ENTITY_TYPE\", \"NONE\")"
   ]
  },
  {
   "cell_type": "code",
   "execution_count": null,
   "id": "6c4ec9fe",
   "metadata": {},
   "outputs": [],
   "source": [
    "# | export\n",
    "\n",
    "\n",
    "class WorkloadResultingGroupType(sgqlc.types.Enum):\n",
    "    __schema__ = nerdgraph\n",
    "    __choices__ = (\"REGULAR_GROUP\", \"REMAINING_ENTITIES\")"
   ]
  },
  {
   "cell_type": "code",
   "execution_count": null,
   "id": "7dc66927",
   "metadata": {},
   "outputs": [],
   "source": [
    "# | export\n",
    "\n",
    "\n",
    "class WorkloadRollupStrategy(sgqlc.types.Enum):\n",
    "    __schema__ = nerdgraph\n",
    "    __choices__ = (\"BEST_STATUS_WINS\", \"WORST_STATUS_WINS\")"
   ]
  },
  {
   "cell_type": "code",
   "execution_count": null,
   "id": "76d174b4",
   "metadata": {},
   "outputs": [],
   "source": [
    "# | export\n",
    "\n",
    "\n",
    "class WorkloadRuleThresholdType(sgqlc.types.Enum):\n",
    "    __schema__ = nerdgraph\n",
    "    __choices__ = (\"FIXED\", \"PERCENTAGE\")"
   ]
  },
  {
   "cell_type": "code",
   "execution_count": null,
   "id": "bc5778d6",
   "metadata": {},
   "outputs": [],
   "source": [
    "# | export\n",
    "\n",
    "\n",
    "class WorkloadStatusSource(sgqlc.types.Enum):\n",
    "    __schema__ = nerdgraph\n",
    "    __choices__ = (\"ROLLUP_RULE\", \"STATIC\", \"UNKNOWN\", \"WORKLOAD\")"
   ]
  },
  {
   "cell_type": "code",
   "execution_count": null,
   "id": "6dbdedae",
   "metadata": {},
   "outputs": [],
   "source": [
    "# | export\n",
    "\n",
    "\n",
    "class WorkloadStatusValue(sgqlc.types.Enum):\n",
    "    __schema__ = nerdgraph\n",
    "    __choices__ = (\"DEGRADED\", \"DISRUPTED\", \"OPERATIONAL\", \"UNKNOWN\")"
   ]
  },
  {
   "cell_type": "code",
   "execution_count": null,
   "id": "6477e772",
   "metadata": {},
   "outputs": [],
   "source": [
    "# | export\n",
    "\n",
    "\n",
    "class WorkloadStatusValueInput(sgqlc.types.Enum):\n",
    "    __schema__ = nerdgraph\n",
    "    __choices__ = (\"DEGRADED\", \"DISRUPTED\", \"OPERATIONAL\")"
   ]
  }
 ],
 "metadata": {
  "language_info": {
   "mimetype": "text/x-python",
   "name": "python"
  }
 },
 "nbformat": 4,
 "nbformat_minor": 5
}
