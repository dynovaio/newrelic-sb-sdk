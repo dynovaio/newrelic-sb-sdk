{
 "cells": [
  {
   "cell_type": "code",
   "execution_count": null,
   "id": "4421445f",
   "metadata": {
    "tags": [
     "remove-cell"
    ]
   },
   "outputs": [],
   "source": [
    "# | default_exp graphql.enums"
   ]
  },
  {
   "cell_type": "code",
   "execution_count": null,
   "id": "41d3d000",
   "metadata": {
    "tags": [
     "remove-cell"
    ]
   },
   "outputs": [],
   "source": [
    "# | export\n",
    "# pylint: disable=duplicate-code,unused-import,too-many-lines"
   ]
  },
  {
   "cell_type": "markdown",
   "id": "38fb7127",
   "metadata": {},
   "source": [
    "# NerdGraph Enum Types"
   ]
  },
  {
   "cell_type": "markdown",
   "id": "27a9c9b0",
   "metadata": {},
   "source": [
    "## Imports"
   ]
  },
  {
   "cell_type": "markdown",
   "id": "bb968592",
   "metadata": {},
   "source": [
    "Third-party modules"
   ]
  },
  {
   "cell_type": "code",
   "execution_count": null,
   "id": "30a61b0d",
   "metadata": {},
   "outputs": [],
   "source": [
    "# | export\n",
    "import sgqlc.types\n",
    "import sgqlc.types.datetime"
   ]
  },
  {
   "cell_type": "markdown",
   "id": "cf4a6726",
   "metadata": {},
   "source": [
    "`newrelic_sb_sdk` module"
   ]
  },
  {
   "cell_type": "code",
   "execution_count": null,
   "id": "b5376c6d",
   "metadata": {},
   "outputs": [],
   "source": [
    "# | export\n",
    "from newrelic_sb_sdk.graphql import nerdgraph"
   ]
  },
  {
   "cell_type": "markdown",
   "id": "53137d93",
   "metadata": {},
   "source": [
    "## Definitions"
   ]
  },
  {
   "cell_type": "markdown",
   "id": "4c89763e",
   "metadata": {},
   "source": [
    "### Constants"
   ]
  },
  {
   "cell_type": "code",
   "execution_count": null,
   "id": "3c98494e",
   "metadata": {},
   "outputs": [],
   "source": [
    "# | export\n",
    "__docformat__ = \"markdown\""
   ]
  },
  {
   "cell_type": "markdown",
   "id": "67e533e2",
   "metadata": {},
   "source": [
    "### Enum types"
   ]
  },
  {
   "cell_type": "code",
   "execution_count": null,
   "id": "4d2a77c9",
   "metadata": {},
   "outputs": [],
   "source": [
    "# | export\n",
    "\n",
    "\n",
    "class AgentApplicationBrowserLoader(sgqlc.types.Enum):\n",
    "    __schema__ = nerdgraph\n",
    "    __choices__ = (\"LITE\", \"NONE\", \"PRO\", \"SPA\")"
   ]
  },
  {
   "cell_type": "code",
   "execution_count": null,
   "id": "099c37f6",
   "metadata": {},
   "outputs": [],
   "source": [
    "# | export\n",
    "\n",
    "\n",
    "class AgentApplicationSettingsBrowserLoader(sgqlc.types.Enum):\n",
    "    __schema__ = nerdgraph\n",
    "    __choices__ = (\"LITE\", \"NONE\", \"PRO\", \"SPA\", \"XHR\")"
   ]
  },
  {
   "cell_type": "code",
   "execution_count": null,
   "id": "2abeef43",
   "metadata": {},
   "outputs": [],
   "source": [
    "# | export\n",
    "\n",
    "\n",
    "class AgentApplicationSettingsBrowserLoaderInput(sgqlc.types.Enum):\n",
    "    __schema__ = nerdgraph\n",
    "    __choices__ = (\"LITE\", \"NONE\", \"PRO\", \"SPA\")"
   ]
  },
  {
   "cell_type": "code",
   "execution_count": null,
   "id": "3674560a",
   "metadata": {},
   "outputs": [],
   "source": [
    "# | export\n",
    "\n",
    "\n",
    "class AgentApplicationSettingsNetworkFilterMode(sgqlc.types.Enum):\n",
    "    __schema__ = nerdgraph\n",
    "    __choices__ = (\"DISABLED\", \"HIDE\", \"SHOW\")"
   ]
  },
  {
   "cell_type": "code",
   "execution_count": null,
   "id": "84309641",
   "metadata": {},
   "outputs": [],
   "source": [
    "# | export\n",
    "\n",
    "\n",
    "class AgentApplicationSettingsRecordSqlEnum(sgqlc.types.Enum):\n",
    "    __schema__ = nerdgraph\n",
    "    __choices__ = (\"OBFUSCATED\", \"OFF\", \"RAW\")"
   ]
  },
  {
   "cell_type": "code",
   "execution_count": null,
   "id": "437c89b9",
   "metadata": {},
   "outputs": [],
   "source": [
    "# | export\n",
    "\n",
    "\n",
    "class AgentApplicationSettingsThresholdTypeEnum(sgqlc.types.Enum):\n",
    "    __schema__ = nerdgraph\n",
    "    __choices__ = (\"APDEX_F\", \"VALUE\")"
   ]
  },
  {
   "cell_type": "code",
   "execution_count": null,
   "id": "eceef65d",
   "metadata": {},
   "outputs": [],
   "source": [
    "# | export\n",
    "\n",
    "\n",
    "class AgentApplicationSettingsTracer(sgqlc.types.Enum):\n",
    "    __schema__ = nerdgraph\n",
    "    __choices__ = (\"CROSS_APPLICATION_TRACER\", \"DISTRIBUTED_TRACING\", \"NONE\")"
   ]
  },
  {
   "cell_type": "code",
   "execution_count": null,
   "id": "fce87084",
   "metadata": {},
   "outputs": [],
   "source": [
    "# | export\n",
    "\n",
    "\n",
    "class AgentApplicationSettingsUpdateErrorClass(sgqlc.types.Enum):\n",
    "    __schema__ = nerdgraph\n",
    "    __choices__ = (\"ACCESS_DENIED\", \"INVALID_INPUT\", \"NOT_FOUND\")"
   ]
  },
  {
   "cell_type": "code",
   "execution_count": null,
   "id": "66faf9f5",
   "metadata": {},
   "outputs": [],
   "source": [
    "# | export\n",
    "\n",
    "\n",
    "class AgentFeaturesFilter(sgqlc.types.Enum):\n",
    "    __schema__ = nerdgraph\n",
    "    __choices__ = (\n",
    "        \"DOTNET\",\n",
    "        \"ELIXIR\",\n",
    "        \"GO\",\n",
    "        \"HTML\",\n",
    "        \"JAVA\",\n",
    "        \"MOBILE\",\n",
    "        \"NODEJS\",\n",
    "        \"PHP\",\n",
    "        \"PYTHON\",\n",
    "        \"RUBY\",\n",
    "        \"SDK\",\n",
    "    )"
   ]
  },
  {
   "cell_type": "code",
   "execution_count": null,
   "id": "3225d2de",
   "metadata": {},
   "outputs": [],
   "source": [
    "# | export\n",
    "\n",
    "\n",
    "class AgentReleasesFilter(sgqlc.types.Enum):\n",
    "    __schema__ = nerdgraph\n",
    "    __choices__ = (\n",
    "        \"ANDROID\",\n",
    "        \"BROWSER\",\n",
    "        \"DOTNET\",\n",
    "        \"ELIXIR\",\n",
    "        \"GO\",\n",
    "        \"INFRASTRUCTURE\",\n",
    "        \"IOS\",\n",
    "        \"JAVA\",\n",
    "        \"NODEJS\",\n",
    "        \"PHP\",\n",
    "        \"PYTHON\",\n",
    "        \"RUBY\",\n",
    "        \"SDK\",\n",
    "    )"
   ]
  },
  {
   "cell_type": "code",
   "execution_count": null,
   "id": "fc69c4ab",
   "metadata": {},
   "outputs": [],
   "source": [
    "# | export\n",
    "\n",
    "\n",
    "class AiDecisionsDecisionSortMethod(sgqlc.types.Enum):\n",
    "    __schema__ = nerdgraph\n",
    "    __choices__ = (\"ID\", \"LATEST_CREATED\", \"STATE_LAST_MODIFIED\")"
   ]
  },
  {
   "cell_type": "code",
   "execution_count": null,
   "id": "f4522fd5",
   "metadata": {},
   "outputs": [],
   "source": [
    "# | export\n",
    "\n",
    "\n",
    "class AiDecisionsDecisionState(sgqlc.types.Enum):\n",
    "    __schema__ = nerdgraph\n",
    "    __choices__ = (\"DISABLED\", \"ENABLED\")"
   ]
  },
  {
   "cell_type": "code",
   "execution_count": null,
   "id": "34c099dd",
   "metadata": {},
   "outputs": [],
   "source": [
    "# | export\n",
    "\n",
    "\n",
    "class AiDecisionsDecisionType(sgqlc.types.Enum):\n",
    "    __schema__ = nerdgraph\n",
    "    __choices__ = (\"EXPLICIT\", \"GLOBAL\", \"IMPLICIT\")"
   ]
  },
  {
   "cell_type": "code",
   "execution_count": null,
   "id": "08678c08",
   "metadata": {},
   "outputs": [],
   "source": [
    "# | export\n",
    "\n",
    "\n",
    "class AiDecisionsIncidentSelect(sgqlc.types.Enum):\n",
    "    __schema__ = nerdgraph\n",
    "    __choices__ = (\"FIRST_INCIDENT\", \"SECOND_INCIDENT\")"
   ]
  },
  {
   "cell_type": "code",
   "execution_count": null,
   "id": "50982bcb",
   "metadata": {},
   "outputs": [],
   "source": [
    "# | export\n",
    "\n",
    "\n",
    "class AiDecisionsIssuePriority(sgqlc.types.Enum):\n",
    "    __schema__ = nerdgraph\n",
    "    __choices__ = (\"CRITICAL\", \"HIGH\", \"LOW\", \"MEDIUM\")"
   ]
  },
  {
   "cell_type": "code",
   "execution_count": null,
   "id": "6faa5f36",
   "metadata": {},
   "outputs": [],
   "source": [
    "# | export\n",
    "\n",
    "\n",
    "class AiDecisionsOpinion(sgqlc.types.Enum):\n",
    "    __schema__ = nerdgraph\n",
    "    __choices__ = (\"DISLIKE\", \"LIKE\")"
   ]
  },
  {
   "cell_type": "code",
   "execution_count": null,
   "id": "654ba1a2",
   "metadata": {},
   "outputs": [],
   "source": [
    "# | export\n",
    "\n",
    "\n",
    "class AiDecisionsResultType(sgqlc.types.Enum):\n",
    "    __schema__ = nerdgraph\n",
    "    __choices__ = (\"FAILURE\", \"SUCCESS\")"
   ]
  },
  {
   "cell_type": "code",
   "execution_count": null,
   "id": "caf89605",
   "metadata": {},
   "outputs": [],
   "source": [
    "# | export\n",
    "\n",
    "\n",
    "class AiDecisionsRuleSource(sgqlc.types.Enum):\n",
    "    __schema__ = nerdgraph\n",
    "    __choices__ = (\"ADMIN\", \"GENERATED\", \"SYSTEM\", \"USER\")"
   ]
  },
  {
   "cell_type": "code",
   "execution_count": null,
   "id": "49e5733b",
   "metadata": {},
   "outputs": [],
   "source": [
    "# | export\n",
    "\n",
    "\n",
    "class AiDecisionsRuleState(sgqlc.types.Enum):\n",
    "    __schema__ = nerdgraph\n",
    "    __choices__ = (\"DISABLED\", \"ENABLED\")"
   ]
  },
  {
   "cell_type": "code",
   "execution_count": null,
   "id": "c9c120fd",
   "metadata": {},
   "outputs": [],
   "source": [
    "# | export\n",
    "\n",
    "\n",
    "class AiDecisionsRuleType(sgqlc.types.Enum):\n",
    "    __schema__ = nerdgraph\n",
    "    __choices__ = (\"EXPLICIT\", \"GLOBAL\", \"IMPLICIT\")"
   ]
  },
  {
   "cell_type": "code",
   "execution_count": null,
   "id": "85d00635",
   "metadata": {},
   "outputs": [],
   "source": [
    "# | export\n",
    "\n",
    "\n",
    "class AiDecisionsSuggestionState(sgqlc.types.Enum):\n",
    "    __schema__ = nerdgraph\n",
    "    __choices__ = (\"ACCEPTED\", \"DECLINED\", \"POSTPONED\", \"UNDECIDED\")"
   ]
  },
  {
   "cell_type": "code",
   "execution_count": null,
   "id": "5e5a31cf",
   "metadata": {},
   "outputs": [],
   "source": [
    "# | export\n",
    "\n",
    "\n",
    "class AiDecisionsVertexClass(sgqlc.types.Enum):\n",
    "    __schema__ = nerdgraph\n",
    "    __choices__ = (\n",
    "        \"APPLICATION\",\n",
    "        \"CLOUDSERVICE\",\n",
    "        \"CLUSTER\",\n",
    "        \"DATASTORE\",\n",
    "        \"HOST\",\n",
    "        \"TEAM\",\n",
    "    )"
   ]
  },
  {
   "cell_type": "code",
   "execution_count": null,
   "id": "560509e4",
   "metadata": {},
   "outputs": [],
   "source": [
    "# | export\n",
    "\n",
    "\n",
    "class AiIssuesIncidentState(sgqlc.types.Enum):\n",
    "    __schema__ = nerdgraph\n",
    "    __choices__ = (\"CLOSED\", \"CREATED\")"
   ]
  },
  {
   "cell_type": "code",
   "execution_count": null,
   "id": "082499ce",
   "metadata": {},
   "outputs": [],
   "source": [
    "# | export\n",
    "\n",
    "\n",
    "class AiIssuesIssueMutingState(sgqlc.types.Enum):\n",
    "    __schema__ = nerdgraph\n",
    "    __choices__ = (\"FULLY_MUTED\", \"NOT_MUTED\", \"PARTIALLY_MUTED\")"
   ]
  },
  {
   "cell_type": "code",
   "execution_count": null,
   "id": "b300bc6d",
   "metadata": {},
   "outputs": [],
   "source": [
    "# | export\n",
    "\n",
    "\n",
    "class AiIssuesIssueState(sgqlc.types.Enum):\n",
    "    __schema__ = nerdgraph\n",
    "    __choices__ = (\"ACTIVATED\", \"CLOSED\", \"CREATED\", \"DEACTIVATED\")"
   ]
  },
  {
   "cell_type": "code",
   "execution_count": null,
   "id": "8559103f",
   "metadata": {},
   "outputs": [],
   "source": [
    "# | export\n",
    "\n",
    "\n",
    "class AiIssuesIssueUserAction(sgqlc.types.Enum):\n",
    "    __schema__ = nerdgraph\n",
    "    __choices__ = (\"ACK\", \"RESOLVE\", \"UNACK\")"
   ]
  },
  {
   "cell_type": "code",
   "execution_count": null,
   "id": "03738652",
   "metadata": {},
   "outputs": [],
   "source": [
    "# | export\n",
    "\n",
    "\n",
    "class AiIssuesPriority(sgqlc.types.Enum):\n",
    "    __schema__ = nerdgraph\n",
    "    __choices__ = (\"CRITICAL\", \"HIGH\", \"LOW\", \"MEDIUM\")"
   ]
  },
  {
   "cell_type": "code",
   "execution_count": null,
   "id": "321948ce",
   "metadata": {},
   "outputs": [],
   "source": [
    "# | export\n",
    "\n",
    "\n",
    "class AiNotificationsAuthType(sgqlc.types.Enum):\n",
    "    __schema__ = nerdgraph\n",
    "    __choices__ = (\"BASIC\", \"OAUTH2\", \"TOKEN\")"
   ]
  },
  {
   "cell_type": "code",
   "execution_count": null,
   "id": "795cf8d9",
   "metadata": {},
   "outputs": [],
   "source": [
    "# | export\n",
    "\n",
    "\n",
    "class AiNotificationsChannelFields(sgqlc.types.Enum):\n",
    "    __schema__ = nerdgraph\n",
    "    __choices__ = (\n",
    "        \"ACTIVE\",\n",
    "        \"CREATED_AT\",\n",
    "        \"DEFAULT\",\n",
    "        \"DESTINATION_ID\",\n",
    "        \"NAME\",\n",
    "        \"PRODUCT\",\n",
    "        \"STATUS\",\n",
    "        \"TYPE\",\n",
    "        \"UPDATED_AT\",\n",
    "        \"UPDATED_BY\",\n",
    "    )"
   ]
  },
  {
   "cell_type": "code",
   "execution_count": null,
   "id": "092a2e88",
   "metadata": {},
   "outputs": [],
   "source": [
    "# | export\n",
    "\n",
    "\n",
    "class AiNotificationsChannelStatus(sgqlc.types.Enum):\n",
    "    __schema__ = nerdgraph\n",
    "    __choices__ = (\n",
    "        \"CONFIGURATION_ERROR\",\n",
    "        \"CONFIGURATION_WARNING\",\n",
    "        \"DEFAULT\",\n",
    "        \"UNKNOWN_ERROR\",\n",
    "    )"
   ]
  },
  {
   "cell_type": "code",
   "execution_count": null,
   "id": "41daf66d",
   "metadata": {},
   "outputs": [],
   "source": [
    "# | export\n",
    "\n",
    "\n",
    "class AiNotificationsChannelType(sgqlc.types.Enum):\n",
    "    __schema__ = nerdgraph\n",
    "    __choices__ = (\n",
    "        \"EMAIL\",\n",
    "        \"EVENT_BRIDGE\",\n",
    "        \"JIRA_CLASSIC\",\n",
    "        \"JIRA_NEXTGEN\",\n",
    "        \"MOBILE_PUSH\",\n",
    "        \"PAGERDUTY_ACCOUNT_INTEGRATION\",\n",
    "        \"PAGERDUTY_SERVICE_INTEGRATION\",\n",
    "        \"SERVICENOW_EVENTS\",\n",
    "        \"SERVICENOW_INCIDENTS\",\n",
    "        \"SLACK\",\n",
    "        \"SLACK_COLLABORATION\",\n",
    "        \"SLACK_LEGACY\",\n",
    "        \"WEBHOOK\",\n",
    "    )"
   ]
  },
  {
   "cell_type": "code",
   "execution_count": null,
   "id": "e8a3e287",
   "metadata": {},
   "outputs": [],
   "source": [
    "# | export\n",
    "\n",
    "\n",
    "class AiNotificationsDestinationFields(sgqlc.types.Enum):\n",
    "    __schema__ = nerdgraph\n",
    "    __choices__ = (\n",
    "        \"ACTIVE\",\n",
    "        \"CREATED_AT\",\n",
    "        \"DEFAULT\",\n",
    "        \"LAST_SENT\",\n",
    "        \"NAME\",\n",
    "        \"STATUS\",\n",
    "        \"TYPE\",\n",
    "        \"UPDATED_AT\",\n",
    "        \"UPDATED_BY\",\n",
    "    )"
   ]
  },
  {
   "cell_type": "code",
   "execution_count": null,
   "id": "b503d1ec",
   "metadata": {},
   "outputs": [],
   "source": [
    "# | export\n",
    "\n",
    "\n",
    "class AiNotificationsDestinationStatus(sgqlc.types.Enum):\n",
    "    __schema__ = nerdgraph\n",
    "    __choices__ = (\n",
    "        \"AUTHENTICATION_ERROR\",\n",
    "        \"AUTHORIZATION_ERROR\",\n",
    "        \"AUTHORIZATION_WARNING\",\n",
    "        \"AUTH_ERROR\",\n",
    "        \"CONFIGURATION_ERROR\",\n",
    "        \"DEFAULT\",\n",
    "        \"EXTERNAL_SERVER_ERROR\",\n",
    "        \"TEMPORARY_WARNING\",\n",
    "        \"THROTTLING_WARNING\",\n",
    "        \"TIMEOUT_ERROR\",\n",
    "        \"UNINSTALLED\",\n",
    "        \"UNKNOWN_ERROR\",\n",
    "    )"
   ]
  },
  {
   "cell_type": "code",
   "execution_count": null,
   "id": "c73ecab9",
   "metadata": {},
   "outputs": [],
   "source": [
    "# | export\n",
    "\n",
    "\n",
    "class AiNotificationsDestinationType(sgqlc.types.Enum):\n",
    "    __schema__ = nerdgraph\n",
    "    __choices__ = (\n",
    "        \"EMAIL\",\n",
    "        \"EVENT_BRIDGE\",\n",
    "        \"JIRA\",\n",
    "        \"MOBILE_PUSH\",\n",
    "        \"PAGERDUTY_ACCOUNT_INTEGRATION\",\n",
    "        \"PAGERDUTY_SERVICE_INTEGRATION\",\n",
    "        \"SERVICE_NOW\",\n",
    "        \"SLACK\",\n",
    "        \"SLACK_COLLABORATION\",\n",
    "        \"SLACK_LEGACY\",\n",
    "        \"WEBHOOK\",\n",
    "    )"
   ]
  },
  {
   "cell_type": "code",
   "execution_count": null,
   "id": "a9b249f8",
   "metadata": {},
   "outputs": [],
   "source": [
    "# | export\n",
    "\n",
    "\n",
    "class AiNotificationsErrorType(sgqlc.types.Enum):\n",
    "    __schema__ = nerdgraph\n",
    "    __choices__ = (\n",
    "        \"CONNECTION_ERROR\",\n",
    "        \"ENTITY_IN_USE\",\n",
    "        \"EXTERNAL_SERVER_ERROR\",\n",
    "        \"FEATURE_FLAG_DISABLED\",\n",
    "        \"INVALID_CREDENTIALS\",\n",
    "        \"INVALID_KEY\",\n",
    "        \"INVALID_PARAMETER\",\n",
    "        \"LIMIT_REACHED\",\n",
    "        \"MISSING_CAPABILITIES\",\n",
    "        \"MISSING_CONSTRAINTS\",\n",
    "        \"MISSING_PARAMETERS\",\n",
    "        \"OAUTH_NOT_SUPPORTED\",\n",
    "        \"SUGGESTIONS_UNAVAILABLE\",\n",
    "        \"TIMEOUT_ERROR\",\n",
    "        \"TYPE_EXAMPLE_MISMATCH\",\n",
    "        \"UNAUTHORIZED_ACCOUNT\",\n",
    "        \"UNEXPECTED_PARAMETER\",\n",
    "        \"UNINSTALLED_DESTINATION\",\n",
    "        \"UNKNOWN_ERROR\",\n",
    "    )"
   ]
  },
  {
   "cell_type": "code",
   "execution_count": null,
   "id": "cb2dc083",
   "metadata": {},
   "outputs": [],
   "source": [
    "# | export\n",
    "\n",
    "\n",
    "class AiNotificationsProduct(sgqlc.types.Enum):\n",
    "    __schema__ = nerdgraph\n",
    "    __choices__ = (\n",
    "        \"ALERTS\",\n",
    "        \"APM\",\n",
    "        \"CSSP\",\n",
    "        \"DISCUSSIONS\",\n",
    "        \"ERROR_TRACKING\",\n",
    "        \"IINT\",\n",
    "        \"NTFC\",\n",
    "        \"PD\",\n",
    "        \"SECURITY\",\n",
    "        \"SHARING\",\n",
    "    )"
   ]
  },
  {
   "cell_type": "code",
   "execution_count": null,
   "id": "e6292e12",
   "metadata": {},
   "outputs": [],
   "source": [
    "# | export\n",
    "\n",
    "\n",
    "class AiNotificationsResult(sgqlc.types.Enum):\n",
    "    __schema__ = nerdgraph\n",
    "    __choices__ = (\"FAIL\", \"SUCCESS\")"
   ]
  },
  {
   "cell_type": "code",
   "execution_count": null,
   "id": "b1a728ec",
   "metadata": {},
   "outputs": [],
   "source": [
    "# | export\n",
    "\n",
    "\n",
    "class AiNotificationsSortOrder(sgqlc.types.Enum):\n",
    "    __schema__ = nerdgraph\n",
    "    __choices__ = (\"ASC\", \"DESC\")"
   ]
  },
  {
   "cell_type": "code",
   "execution_count": null,
   "id": "05e61f33",
   "metadata": {},
   "outputs": [],
   "source": [
    "# | export\n",
    "\n",
    "\n",
    "class AiNotificationsSuggestionFilterType(sgqlc.types.Enum):\n",
    "    __schema__ = nerdgraph\n",
    "    __choices__ = (\"CONTAINS\", \"STARTSWITH\")"
   ]
  },
  {
   "cell_type": "code",
   "execution_count": null,
   "id": "9c8a3733",
   "metadata": {},
   "outputs": [],
   "source": [
    "# | export\n",
    "\n",
    "\n",
    "class AiNotificationsUiComponentType(sgqlc.types.Enum):\n",
    "    __schema__ = nerdgraph\n",
    "    __choices__ = (\n",
    "        \"DICTIONARY_WITH_MASK\",\n",
    "        \"PAYLOAD\",\n",
    "        \"SELECT\",\n",
    "        \"TEXT_AREA\",\n",
    "        \"TEXT_FIELD\",\n",
    "        \"TOGGLE\",\n",
    "    )"
   ]
  },
  {
   "cell_type": "code",
   "execution_count": null,
   "id": "bb71a2a7",
   "metadata": {},
   "outputs": [],
   "source": [
    "# | export\n",
    "\n",
    "\n",
    "class AiNotificationsUiComponentValidation(sgqlc.types.Enum):\n",
    "    __schema__ = nerdgraph\n",
    "    __choices__ = (\"DATE\", \"DATETIME\", \"EMAIL\", \"JSON\", \"NONE\", \"NUMBER\", \"URL\")"
   ]
  },
  {
   "cell_type": "code",
   "execution_count": null,
   "id": "e6dd4335",
   "metadata": {},
   "outputs": [],
   "source": [
    "# | export\n",
    "\n",
    "\n",
    "class AiNotificationsVariableCategory(sgqlc.types.Enum):\n",
    "    __schema__ = nerdgraph\n",
    "    __choices__ = (\n",
    "        \"CONDITION\",\n",
    "        \"ENTITIES\",\n",
    "        \"INCIDENT\",\n",
    "        \"ISSUE\",\n",
    "        \"OTHER\",\n",
    "        \"POLICY\",\n",
    "        \"TAGS\",\n",
    "        \"WORKFLOW\",\n",
    "    )"
   ]
  },
  {
   "cell_type": "code",
   "execution_count": null,
   "id": "55501ec2",
   "metadata": {},
   "outputs": [],
   "source": [
    "# | export\n",
    "\n",
    "\n",
    "class AiNotificationsVariableFields(sgqlc.types.Enum):\n",
    "    __schema__ = nerdgraph\n",
    "    __choices__ = (\n",
    "        \"ACTIVE\",\n",
    "        \"DEFAULT\",\n",
    "        \"DESCRIPTION\",\n",
    "        \"EXAMPLE\",\n",
    "        \"KEY\",\n",
    "        \"LABEL\",\n",
    "        \"NAME\",\n",
    "        \"PRODUCT\",\n",
    "        \"TYPE\",\n",
    "    )"
   ]
  },
  {
   "cell_type": "code",
   "execution_count": null,
   "id": "9322b475",
   "metadata": {},
   "outputs": [],
   "source": [
    "# | export\n",
    "\n",
    "\n",
    "class AiNotificationsVariableType(sgqlc.types.Enum):\n",
    "    __schema__ = nerdgraph\n",
    "    __choices__ = (\"BOOLEAN\", \"LIST\", \"NUMBER\", \"OBJECT\", \"STRING\")"
   ]
  },
  {
   "cell_type": "code",
   "execution_count": null,
   "id": "788f047a",
   "metadata": {},
   "outputs": [],
   "source": [
    "# | export\n",
    "\n",
    "\n",
    "class AiTopologyCollectorResultType(sgqlc.types.Enum):\n",
    "    __schema__ = nerdgraph\n",
    "    __choices__ = (\"FAILURE\", \"SUCCESS\")"
   ]
  },
  {
   "cell_type": "code",
   "execution_count": null,
   "id": "7146ea7d",
   "metadata": {},
   "outputs": [],
   "source": [
    "# | export\n",
    "\n",
    "\n",
    "class AiTopologyCollectorVertexClass(sgqlc.types.Enum):\n",
    "    __schema__ = nerdgraph\n",
    "    __choices__ = (\n",
    "        \"APPLICATION\",\n",
    "        \"CLOUDSERVICE\",\n",
    "        \"CLUSTER\",\n",
    "        \"DATASTORE\",\n",
    "        \"HOST\",\n",
    "        \"TEAM\",\n",
    "    )"
   ]
  },
  {
   "cell_type": "code",
   "execution_count": null,
   "id": "ee75c7ef",
   "metadata": {},
   "outputs": [],
   "source": [
    "# | export\n",
    "\n",
    "\n",
    "class AiTopologyVertexClass(sgqlc.types.Enum):\n",
    "    __schema__ = nerdgraph\n",
    "    __choices__ = (\n",
    "        \"APPLICATION\",\n",
    "        \"CLOUDSERVICE\",\n",
    "        \"CLUSTER\",\n",
    "        \"DATASTORE\",\n",
    "        \"HOST\",\n",
    "        \"TEAM\",\n",
    "    )"
   ]
  },
  {
   "cell_type": "code",
   "execution_count": null,
   "id": "1890b6d4",
   "metadata": {},
   "outputs": [],
   "source": [
    "# | export\n",
    "\n",
    "\n",
    "class AiWorkflowsCreateErrorType(sgqlc.types.Enum):\n",
    "    __schema__ = nerdgraph\n",
    "    __choices__ = (\n",
    "        \"CHANNEL_NOT_FOUND\",\n",
    "        \"DUPLICATE\",\n",
    "        \"INVALID_PARAMETER\",\n",
    "        \"LIMIT_REACHED\",\n",
    "        \"MISSING_ENTITLEMENT\",\n",
    "        \"UNAUTHORIZED_ACCOUNT\",\n",
    "        \"UNSUPPORTED_CHANNEL_TYPE\",\n",
    "        \"VALIDATION_ERROR\",\n",
    "    )"
   ]
  },
  {
   "cell_type": "code",
   "execution_count": null,
   "id": "a77ef123",
   "metadata": {},
   "outputs": [],
   "source": [
    "# | export\n",
    "\n",
    "\n",
    "class AiWorkflowsDeleteErrorType(sgqlc.types.Enum):\n",
    "    __schema__ = nerdgraph\n",
    "    __choices__ = (\"INVALID_PARAMETER\", \"UNAUTHORIZED_ACCOUNT\", \"VALIDATION_ERROR\")"
   ]
  },
  {
   "cell_type": "code",
   "execution_count": null,
   "id": "7cf5622f",
   "metadata": {},
   "outputs": [],
   "source": [
    "# | export\n",
    "\n",
    "\n",
    "class AiWorkflowsDestinationType(sgqlc.types.Enum):\n",
    "    __schema__ = nerdgraph\n",
    "    __choices__ = (\n",
    "        \"EMAIL\",\n",
    "        \"EVENT_BRIDGE\",\n",
    "        \"JIRA\",\n",
    "        \"PAGERDUTY_ACCOUNT_INTEGRATION\",\n",
    "        \"PAGERDUTY_SERVICE_INTEGRATION\",\n",
    "        \"SERVICE_NOW\",\n",
    "        \"SLACK\",\n",
    "        \"SLACK_LEGACY\",\n",
    "        \"WEBHOOK\",\n",
    "    )"
   ]
  },
  {
   "cell_type": "code",
   "execution_count": null,
   "id": "05b2351d",
   "metadata": {},
   "outputs": [],
   "source": [
    "# | export\n",
    "\n",
    "\n",
    "class AiWorkflowsEnrichmentType(sgqlc.types.Enum):\n",
    "    __schema__ = nerdgraph\n",
    "    __choices__ = (\"NRQL\",)"
   ]
  },
  {
   "cell_type": "code",
   "execution_count": null,
   "id": "e09c4592",
   "metadata": {},
   "outputs": [],
   "source": [
    "# | export\n",
    "\n",
    "\n",
    "class AiWorkflowsFilterType(sgqlc.types.Enum):\n",
    "    __schema__ = nerdgraph\n",
    "    __choices__ = (\"FILTER\", \"VIEW\")"
   ]
  },
  {
   "cell_type": "code",
   "execution_count": null,
   "id": "2662ae56",
   "metadata": {},
   "outputs": [],
   "source": [
    "# | export\n",
    "\n",
    "\n",
    "class AiWorkflowsMutingRulesHandling(sgqlc.types.Enum):\n",
    "    __schema__ = nerdgraph\n",
    "    __choices__ = (\n",
    "        \"DONT_NOTIFY_FULLY_MUTED_ISSUES\",\n",
    "        \"DONT_NOTIFY_FULLY_OR_PARTIALLY_MUTED_ISSUES\",\n",
    "        \"NOTIFY_ALL_ISSUES\",\n",
    "    )"
   ]
  },
  {
   "cell_type": "code",
   "execution_count": null,
   "id": "e028d928",
   "metadata": {},
   "outputs": [],
   "source": [
    "# | export\n",
    "\n",
    "\n",
    "class AiWorkflowsNotificationTrigger(sgqlc.types.Enum):\n",
    "    __schema__ = nerdgraph\n",
    "    __choices__ = (\n",
    "        \"ACKNOWLEDGED\",\n",
    "        \"ACTIVATED\",\n",
    "        \"CLOSED\",\n",
    "        \"OTHER_UPDATES\",\n",
    "        \"PRIORITY_CHANGED\",\n",
    "    )"
   ]
  },
  {
   "cell_type": "code",
   "execution_count": null,
   "id": "f9141778",
   "metadata": {},
   "outputs": [],
   "source": [
    "# | export\n",
    "\n",
    "\n",
    "class AiWorkflowsOperator(sgqlc.types.Enum):\n",
    "    __schema__ = nerdgraph\n",
    "    __choices__ = (\n",
    "        \"CONTAINS\",\n",
    "        \"DOES_NOT_CONTAIN\",\n",
    "        \"DOES_NOT_EQUAL\",\n",
    "        \"DOES_NOT_EXACTLY_MATCH\",\n",
    "        \"ENDS_WITH\",\n",
    "        \"EQUAL\",\n",
    "        \"EXACTLY_MATCHES\",\n",
    "        \"GREATER_OR_EQUAL\",\n",
    "        \"GREATER_THAN\",\n",
    "        \"IS\",\n",
    "        \"IS_NOT\",\n",
    "        \"LESS_OR_EQUAL\",\n",
    "        \"LESS_THAN\",\n",
    "        \"STARTS_WITH\",\n",
    "    )"
   ]
  },
  {
   "cell_type": "code",
   "execution_count": null,
   "id": "2fbd5532",
   "metadata": {},
   "outputs": [],
   "source": [
    "# | export\n",
    "\n",
    "\n",
    "class AiWorkflowsTestErrorType(sgqlc.types.Enum):\n",
    "    __schema__ = nerdgraph\n",
    "    __choices__ = (\n",
    "        \"CHANNEL_NOT_FOUND\",\n",
    "        \"FAILED_RUNNING_TEST\",\n",
    "        \"MISSING_ENTITLEMENT\",\n",
    "        \"UNAUTHORIZED_ACCOUNT\",\n",
    "        \"UNSUPPORTED_CHANNEL_TYPE\",\n",
    "        \"VALIDATION_ERROR\",\n",
    "        \"WARNING_FAILED_SENDING_NOTIFICATION\",\n",
    "        \"WARNING_NO_FILTERED_ISSUE_FOUND\",\n",
    "        \"WARNING_NO_MATCHING_DYNAMIC_VARIABLES_FOUND\",\n",
    "    )"
   ]
  },
  {
   "cell_type": "code",
   "execution_count": null,
   "id": "f49df74f",
   "metadata": {},
   "outputs": [],
   "source": [
    "# | export\n",
    "\n",
    "\n",
    "class AiWorkflowsTestNotificationResponseStatus(sgqlc.types.Enum):\n",
    "    __schema__ = nerdgraph\n",
    "    __choices__ = (\"FAILURE\", \"SUCCESS\")"
   ]
  },
  {
   "cell_type": "code",
   "execution_count": null,
   "id": "4b71cffe",
   "metadata": {},
   "outputs": [],
   "source": [
    "# | export\n",
    "\n",
    "\n",
    "class AiWorkflowsTestResponseStatus(sgqlc.types.Enum):\n",
    "    __schema__ = nerdgraph\n",
    "    __choices__ = (\"FAILURE\", \"SUCCESS\")"
   ]
  },
  {
   "cell_type": "code",
   "execution_count": null,
   "id": "2a308486",
   "metadata": {},
   "outputs": [],
   "source": [
    "# | export\n",
    "\n",
    "\n",
    "class AiWorkflowsUpdateErrorType(sgqlc.types.Enum):\n",
    "    __schema__ = nerdgraph\n",
    "    __choices__ = (\n",
    "        \"CHANNEL_NOT_FOUND\",\n",
    "        \"DUPLICATE\",\n",
    "        \"INVALID_PARAMETER\",\n",
    "        \"MISSING_ENTITLEMENT\",\n",
    "        \"UNAUTHORIZED_ACCOUNT\",\n",
    "        \"UNSUPPORTED_CHANNEL_TYPE\",\n",
    "        \"VALIDATION_ERROR\",\n",
    "    )"
   ]
  },
  {
   "cell_type": "code",
   "execution_count": null,
   "id": "6cf5d3de",
   "metadata": {},
   "outputs": [],
   "source": [
    "# | export\n",
    "\n",
    "\n",
    "class AlertsDayOfWeek(sgqlc.types.Enum):\n",
    "    __schema__ = nerdgraph\n",
    "    __choices__ = (\n",
    "        \"FRIDAY\",\n",
    "        \"MONDAY\",\n",
    "        \"SATURDAY\",\n",
    "        \"SUNDAY\",\n",
    "        \"THURSDAY\",\n",
    "        \"TUESDAY\",\n",
    "        \"WEDNESDAY\",\n",
    "    )"
   ]
  },
  {
   "cell_type": "code",
   "execution_count": null,
   "id": "5b23ca4a",
   "metadata": {},
   "outputs": [],
   "source": [
    "# | export\n",
    "\n",
    "\n",
    "class AlertsFillOption(sgqlc.types.Enum):\n",
    "    __schema__ = nerdgraph\n",
    "    __choices__ = (\"LAST_VALUE\", \"NONE\", \"STATIC\")"
   ]
  },
  {
   "cell_type": "code",
   "execution_count": null,
   "id": "5b28b21a",
   "metadata": {},
   "outputs": [],
   "source": [
    "# | export\n",
    "\n",
    "\n",
    "class AlertsIncidentPreference(sgqlc.types.Enum):\n",
    "    __schema__ = nerdgraph\n",
    "    __choices__ = (\"PER_CONDITION\", \"PER_CONDITION_AND_TARGET\", \"PER_POLICY\")"
   ]
  },
  {
   "cell_type": "code",
   "execution_count": null,
   "id": "86e0bae3",
   "metadata": {},
   "outputs": [],
   "source": [
    "# | export\n",
    "\n",
    "\n",
    "class AlertsMutingRuleConditionGroupOperator(sgqlc.types.Enum):\n",
    "    __schema__ = nerdgraph\n",
    "    __choices__ = (\"AND\", \"OR\")"
   ]
  },
  {
   "cell_type": "code",
   "execution_count": null,
   "id": "2908db02",
   "metadata": {},
   "outputs": [],
   "source": [
    "# | export\n",
    "\n",
    "\n",
    "class AlertsMutingRuleConditionOperator(sgqlc.types.Enum):\n",
    "    __schema__ = nerdgraph\n",
    "    __choices__ = (\n",
    "        \"ANY\",\n",
    "        \"CONTAINS\",\n",
    "        \"ENDS_WITH\",\n",
    "        \"EQUALS\",\n",
    "        \"IN\",\n",
    "        \"IS_BLANK\",\n",
    "        \"IS_NOT_BLANK\",\n",
    "        \"NOT_CONTAINS\",\n",
    "        \"NOT_ENDS_WITH\",\n",
    "        \"NOT_EQUALS\",\n",
    "        \"NOT_IN\",\n",
    "        \"NOT_STARTS_WITH\",\n",
    "        \"STARTS_WITH\",\n",
    "    )"
   ]
  },
  {
   "cell_type": "code",
   "execution_count": null,
   "id": "0dd634f9",
   "metadata": {},
   "outputs": [],
   "source": [
    "# | export\n",
    "\n",
    "\n",
    "class AlertsMutingRuleScheduleRepeat(sgqlc.types.Enum):\n",
    "    __schema__ = nerdgraph\n",
    "    __choices__ = (\"DAILY\", \"MONTHLY\", \"WEEKLY\")"
   ]
  },
  {
   "cell_type": "code",
   "execution_count": null,
   "id": "dbca897d",
   "metadata": {},
   "outputs": [],
   "source": [
    "# | export\n",
    "\n",
    "\n",
    "class AlertsMutingRuleStatus(sgqlc.types.Enum):\n",
    "    __schema__ = nerdgraph\n",
    "    __choices__ = (\"ACTIVE\", \"ENDED\", \"INACTIVE\", \"SCHEDULED\")"
   ]
  },
  {
   "cell_type": "code",
   "execution_count": null,
   "id": "a3a9abdb",
   "metadata": {},
   "outputs": [],
   "source": [
    "# | export\n",
    "\n",
    "\n",
    "class AlertsNotificationChannelCreateErrorType(sgqlc.types.Enum):\n",
    "    __schema__ = nerdgraph\n",
    "    __choices__ = (\n",
    "        \"BAD_USER_INPUT\",\n",
    "        \"FORBIDDEN_ERROR\",\n",
    "        \"SERVER_ERROR\",\n",
    "        \"TOO_MANY_REQUESTS_ERROR\",\n",
    "    )"
   ]
  },
  {
   "cell_type": "code",
   "execution_count": null,
   "id": "d2384148",
   "metadata": {},
   "outputs": [],
   "source": [
    "# | export\n",
    "\n",
    "\n",
    "class AlertsNotificationChannelDeleteErrorType(sgqlc.types.Enum):\n",
    "    __schema__ = nerdgraph\n",
    "    __choices__ = (\n",
    "        \"BAD_USER_INPUT\",\n",
    "        \"FORBIDDEN_ERROR\",\n",
    "        \"NOT_FOUND_ERROR\",\n",
    "        \"SERVER_ERROR\",\n",
    "        \"TOO_MANY_REQUESTS_ERROR\",\n",
    "    )"
   ]
  },
  {
   "cell_type": "code",
   "execution_count": null,
   "id": "1fc2aabc",
   "metadata": {},
   "outputs": [],
   "source": [
    "# | export\n",
    "\n",
    "\n",
    "class AlertsNotificationChannelType(sgqlc.types.Enum):\n",
    "    __schema__ = nerdgraph\n",
    "    __choices__ = (\n",
    "        \"EMAIL\",\n",
    "        \"OPSGENIE\",\n",
    "        \"PAGERDUTY\",\n",
    "        \"SLACK\",\n",
    "        \"VICTOROPS\",\n",
    "        \"WEBHOOK\",\n",
    "        \"XMATTERS\",\n",
    "    )"
   ]
  },
  {
   "cell_type": "code",
   "execution_count": null,
   "id": "3cc8ba37",
   "metadata": {},
   "outputs": [],
   "source": [
    "# | export\n",
    "\n",
    "\n",
    "class AlertsNotificationChannelUpdateErrorType(sgqlc.types.Enum):\n",
    "    __schema__ = nerdgraph\n",
    "    __choices__ = (\n",
    "        \"BAD_USER_INPUT\",\n",
    "        \"FORBIDDEN_ERROR\",\n",
    "        \"NOT_FOUND_ERROR\",\n",
    "        \"SERVER_ERROR\",\n",
    "        \"TOO_MANY_REQUESTS_ERROR\",\n",
    "    )"
   ]
  },
  {
   "cell_type": "code",
   "execution_count": null,
   "id": "c0aa900b",
   "metadata": {},
   "outputs": [],
   "source": [
    "# | export\n",
    "\n",
    "\n",
    "class AlertsNotificationChannelsAddToPolicyErrorType(sgqlc.types.Enum):\n",
    "    __schema__ = nerdgraph\n",
    "    __choices__ = (\n",
    "        \"BAD_USER_INPUT\",\n",
    "        \"FORBIDDEN_ERROR\",\n",
    "        \"NOT_FOUND_ERROR\",\n",
    "        \"SERVER_ERROR\",\n",
    "        \"TOO_MANY_REQUESTS_ERROR\",\n",
    "    )"
   ]
  },
  {
   "cell_type": "code",
   "execution_count": null,
   "id": "9e0ace45",
   "metadata": {},
   "outputs": [],
   "source": [
    "# | export\n",
    "\n",
    "\n",
    "class AlertsNotificationChannelsRemoveFromPolicyErrorType(sgqlc.types.Enum):\n",
    "    __schema__ = nerdgraph\n",
    "    __choices__ = (\n",
    "        \"BAD_USER_INPUT\",\n",
    "        \"FORBIDDEN_ERROR\",\n",
    "        \"NOT_FOUND_ERROR\",\n",
    "        \"SERVER_ERROR\",\n",
    "        \"TOO_MANY_REQUESTS_ERROR\",\n",
    "    )"
   ]
  },
  {
   "cell_type": "code",
   "execution_count": null,
   "id": "90ad5a91",
   "metadata": {},
   "outputs": [],
   "source": [
    "# | export\n",
    "\n",
    "\n",
    "class AlertsNrqlBaselineDirection(sgqlc.types.Enum):\n",
    "    __schema__ = nerdgraph\n",
    "    __choices__ = (\"LOWER_ONLY\", \"UPPER_AND_LOWER\", \"UPPER_ONLY\")"
   ]
  },
  {
   "cell_type": "code",
   "execution_count": null,
   "id": "d7e47a47",
   "metadata": {},
   "outputs": [],
   "source": [
    "# | export\n",
    "\n",
    "\n",
    "class AlertsNrqlConditionPriority(sgqlc.types.Enum):\n",
    "    __schema__ = nerdgraph\n",
    "    __choices__ = (\"CRITICAL\", \"WARNING\")"
   ]
  },
  {
   "cell_type": "code",
   "execution_count": null,
   "id": "4d949a2b",
   "metadata": {},
   "outputs": [],
   "source": [
    "# | export\n",
    "\n",
    "\n",
    "class AlertsNrqlConditionTermsOperator(sgqlc.types.Enum):\n",
    "    __schema__ = nerdgraph\n",
    "    __choices__ = (\n",
    "        \"ABOVE\",\n",
    "        \"ABOVE_OR_EQUALS\",\n",
    "        \"BELOW\",\n",
    "        \"BELOW_OR_EQUALS\",\n",
    "        \"EQUALS\",\n",
    "        \"NOT_EQUALS\",\n",
    "    )"
   ]
  },
  {
   "cell_type": "code",
   "execution_count": null,
   "id": "7f3086e7",
   "metadata": {},
   "outputs": [],
   "source": [
    "# | export\n",
    "\n",
    "\n",
    "class AlertsNrqlConditionThresholdOccurrences(sgqlc.types.Enum):\n",
    "    __schema__ = nerdgraph\n",
    "    __choices__ = (\"ALL\", \"AT_LEAST_ONCE\")"
   ]
  },
  {
   "cell_type": "code",
   "execution_count": null,
   "id": "3110257e",
   "metadata": {},
   "outputs": [],
   "source": [
    "# | export\n",
    "\n",
    "\n",
    "class AlertsNrqlConditionType(sgqlc.types.Enum):\n",
    "    __schema__ = nerdgraph\n",
    "    __choices__ = (\"BASELINE\", \"OUTLIER\", \"STATIC\")"
   ]
  },
  {
   "cell_type": "code",
   "execution_count": null,
   "id": "607fd808",
   "metadata": {},
   "outputs": [],
   "source": [
    "# | export\n",
    "\n",
    "\n",
    "class AlertsNrqlDynamicConditionTermsOperator(sgqlc.types.Enum):\n",
    "    __schema__ = nerdgraph\n",
    "    __choices__ = (\"ABOVE\",)"
   ]
  },
  {
   "cell_type": "code",
   "execution_count": null,
   "id": "2db87806",
   "metadata": {},
   "outputs": [],
   "source": [
    "# | export\n",
    "\n",
    "\n",
    "class AlertsNrqlStaticConditionValueFunction(sgqlc.types.Enum):\n",
    "    __schema__ = nerdgraph\n",
    "    __choices__ = ()"
   ]
  },
  {
   "cell_type": "code",
   "execution_count": null,
   "id": "d181f927",
   "metadata": {},
   "outputs": [],
   "source": [
    "# | export\n",
    "\n",
    "\n",
    "class AlertsOpsGenieDataCenterRegion(sgqlc.types.Enum):\n",
    "    __schema__ = nerdgraph\n",
    "    __choices__ = (\"EU\", \"US\")"
   ]
  },
  {
   "cell_type": "code",
   "execution_count": null,
   "id": "b5069c2b",
   "metadata": {},
   "outputs": [],
   "source": [
    "# | export\n",
    "\n",
    "\n",
    "class AlertsSignalAggregationMethod(sgqlc.types.Enum):\n",
    "    __schema__ = nerdgraph\n",
    "    __choices__ = (\"CADENCE\", \"EVENT_FLOW\", \"EVENT_TIMER\")"
   ]
  },
  {
   "cell_type": "code",
   "execution_count": null,
   "id": "57fd4b39",
   "metadata": {},
   "outputs": [],
   "source": [
    "# | export\n",
    "\n",
    "\n",
    "class AlertsViolationTimeLimit(sgqlc.types.Enum):\n",
    "    __schema__ = nerdgraph\n",
    "    __choices__ = (\n",
    "        \"EIGHT_HOURS\",\n",
    "        \"FOUR_HOURS\",\n",
    "        \"NON_MATCHABLE_LIMIT_VALUE\",\n",
    "        \"ONE_HOUR\",\n",
    "        \"THIRTY_DAYS\",\n",
    "        \"TWELVE_HOURS\",\n",
    "        \"TWENTY_FOUR_HOURS\",\n",
    "        \"TWO_HOURS\",\n",
    "    )"
   ]
  },
  {
   "cell_type": "code",
   "execution_count": null,
   "id": "951802db",
   "metadata": {},
   "outputs": [],
   "source": [
    "# | export\n",
    "\n",
    "\n",
    "class AlertsWebhookCustomPayloadType(sgqlc.types.Enum):\n",
    "    __schema__ = nerdgraph\n",
    "    __choices__ = (\"FORM\", \"JSON\")"
   ]
  },
  {
   "cell_type": "code",
   "execution_count": null,
   "id": "6ff4c344",
   "metadata": {},
   "outputs": [],
   "source": [
    "# | export\n",
    "\n",
    "\n",
    "class ApiAccessIngestKeyErrorType(sgqlc.types.Enum):\n",
    "    __schema__ = nerdgraph\n",
    "    __choices__ = (\"FORBIDDEN\", \"INVALID\", \"NOT_FOUND\")"
   ]
  },
  {
   "cell_type": "code",
   "execution_count": null,
   "id": "53a04312",
   "metadata": {},
   "outputs": [],
   "source": [
    "# | export\n",
    "\n",
    "\n",
    "class ApiAccessIngestKeyType(sgqlc.types.Enum):\n",
    "    __schema__ = nerdgraph\n",
    "    __choices__ = (\"BROWSER\", \"LICENSE\")"
   ]
  },
  {
   "cell_type": "code",
   "execution_count": null,
   "id": "719fbbfb",
   "metadata": {},
   "outputs": [],
   "source": [
    "# | export\n",
    "\n",
    "\n",
    "class ApiAccessKeyType(sgqlc.types.Enum):\n",
    "    __schema__ = nerdgraph\n",
    "    __choices__ = (\"INGEST\", \"USER\")"
   ]
  },
  {
   "cell_type": "code",
   "execution_count": null,
   "id": "1038dc5d",
   "metadata": {},
   "outputs": [],
   "source": [
    "# | export\n",
    "\n",
    "\n",
    "class ApiAccessUserKeyErrorType(sgqlc.types.Enum):\n",
    "    __schema__ = nerdgraph\n",
    "    __choices__ = (\"FORBIDDEN\", \"INVALID\", \"NOT_FOUND\")"
   ]
  },
  {
   "cell_type": "code",
   "execution_count": null,
   "id": "b035c8ad",
   "metadata": {},
   "outputs": [],
   "source": [
    "# | export\n",
    "\n",
    "\n",
    "class BrowserAgentInstallType(sgqlc.types.Enum):\n",
    "    __schema__ = nerdgraph\n",
    "    __choices__ = (\"LITE\", \"PRO\", \"PRO_SPA\")"
   ]
  },
  {
   "cell_type": "code",
   "execution_count": null,
   "id": "3d66a55a",
   "metadata": {},
   "outputs": [],
   "source": [
    "# | export\n",
    "\n",
    "\n",
    "class ChangeTrackingDeploymentType(sgqlc.types.Enum):\n",
    "    __schema__ = nerdgraph\n",
    "    __choices__ = (\"BASIC\", \"BLUE_GREEN\", \"CANARY\", \"OTHER\", \"ROLLING\", \"SHADOW\")"
   ]
  },
  {
   "cell_type": "code",
   "execution_count": null,
   "id": "8bac4df2",
   "metadata": {},
   "outputs": [],
   "source": [
    "# | export\n",
    "\n",
    "\n",
    "class ChangeTrackingValidationFlag(sgqlc.types.Enum):\n",
    "    __schema__ = nerdgraph\n",
    "    __choices__ = (\"FAIL_ON_FIELD_LENGTH\", \"FAIL_ON_REST_API_FAILURES\")"
   ]
  },
  {
   "cell_type": "code",
   "execution_count": null,
   "id": "5ac37ec1",
   "metadata": {},
   "outputs": [],
   "source": [
    "# | export\n",
    "\n",
    "\n",
    "class ChartFormatType(sgqlc.types.Enum):\n",
    "    __schema__ = nerdgraph\n",
    "    __choices__ = (\"PDF\", \"PNG\")"
   ]
  },
  {
   "cell_type": "code",
   "execution_count": null,
   "id": "fae7c63a",
   "metadata": {},
   "outputs": [],
   "source": [
    "# | export\n",
    "\n",
    "\n",
    "class ChartImageType(sgqlc.types.Enum):\n",
    "    __schema__ = nerdgraph\n",
    "    __choices__ = (\n",
    "        \"APDEX\",\n",
    "        \"AREA\",\n",
    "        \"BAR\",\n",
    "        \"BASELINE\",\n",
    "        \"BILLBOARD\",\n",
    "        \"BULLET\",\n",
    "        \"EVENT_FEED\",\n",
    "        \"FUNNEL\",\n",
    "        \"HEATMAP\",\n",
    "        \"HISTOGRAM\",\n",
    "        \"LINE\",\n",
    "        \"PIE\",\n",
    "        \"SCATTER\",\n",
    "        \"STACKED_HORIZONTAL_BAR\",\n",
    "        \"TABLE\",\n",
    "        \"VERTICAL_BAR\",\n",
    "    )"
   ]
  },
  {
   "cell_type": "code",
   "execution_count": null,
   "id": "f0250b22",
   "metadata": {},
   "outputs": [],
   "source": [
    "# | export\n",
    "\n",
    "\n",
    "class CloudMetricCollectionMode(sgqlc.types.Enum):\n",
    "    __schema__ = nerdgraph\n",
    "    __choices__ = (\"PULL\", \"PUSH\")"
   ]
  },
  {
   "cell_type": "code",
   "execution_count": null,
   "id": "ee7c35b8",
   "metadata": {},
   "outputs": [],
   "source": [
    "# | export\n",
    "\n",
    "\n",
    "class DashboardAddWidgetsToPageErrorType(sgqlc.types.Enum):\n",
    "    __schema__ = nerdgraph\n",
    "    __choices__ = (\"FORBIDDEN_OPERATION\", \"INVALID_INPUT\", \"PAGE_NOT_FOUND\")"
   ]
  },
  {
   "cell_type": "code",
   "execution_count": null,
   "id": "d0b12ea6",
   "metadata": {},
   "outputs": [],
   "source": [
    "# | export\n",
    "\n",
    "\n",
    "class DashboardAlertSeverity(sgqlc.types.Enum):\n",
    "    __schema__ = nerdgraph\n",
    "    __choices__ = (\"CRITICAL\", \"NOT_ALERTING\", \"WARNING\")"
   ]
  },
  {
   "cell_type": "code",
   "execution_count": null,
   "id": "bfb42855",
   "metadata": {},
   "outputs": [],
   "source": [
    "# | export\n",
    "\n",
    "\n",
    "class DashboardCreateErrorType(sgqlc.types.Enum):\n",
    "    __schema__ = nerdgraph\n",
    "    __choices__ = (\"INVALID_INPUT\",)"
   ]
  },
  {
   "cell_type": "code",
   "execution_count": null,
   "id": "fdb547c2",
   "metadata": {},
   "outputs": [],
   "source": [
    "# | export\n",
    "\n",
    "\n",
    "class DashboardDeleteErrorType(sgqlc.types.Enum):\n",
    "    __schema__ = nerdgraph\n",
    "    __choices__ = (\"DASHBOARD_NOT_FOUND\", \"FORBIDDEN_OPERATION\")"
   ]
  },
  {
   "cell_type": "code",
   "execution_count": null,
   "id": "ee02127d",
   "metadata": {},
   "outputs": [],
   "source": [
    "# | export\n",
    "\n",
    "\n",
    "class DashboardDeleteResultStatus(sgqlc.types.Enum):\n",
    "    __schema__ = nerdgraph\n",
    "    __choices__ = (\"FAILURE\", \"SUCCESS\")"
   ]
  },
  {
   "cell_type": "code",
   "execution_count": null,
   "id": "76ae1b37",
   "metadata": {},
   "outputs": [],
   "source": [
    "# | export\n",
    "\n",
    "\n",
    "class DashboardEntityPermissions(sgqlc.types.Enum):\n",
    "    __schema__ = nerdgraph\n",
    "    __choices__ = (\"PRIVATE\", \"PUBLIC_READ_ONLY\", \"PUBLIC_READ_WRITE\")"
   ]
  },
  {
   "cell_type": "code",
   "execution_count": null,
   "id": "cd6fcb11",
   "metadata": {},
   "outputs": [],
   "source": [
    "# | export\n",
    "\n",
    "\n",
    "class DashboardLiveUrlErrorType(sgqlc.types.Enum):\n",
    "    __schema__ = nerdgraph\n",
    "    __choices__ = (\"OPERATION_FAILURE\", \"UNAUTHORIZED\", \"UNSUPPORTED\", \"URL_NOT_FOUND\")"
   ]
  },
  {
   "cell_type": "code",
   "execution_count": null,
   "id": "98d41db7",
   "metadata": {},
   "outputs": [],
   "source": [
    "# | export\n",
    "\n",
    "\n",
    "class DashboardLiveUrlType(sgqlc.types.Enum):\n",
    "    __schema__ = nerdgraph\n",
    "    __choices__ = (\"DASHBOARD\", \"WIDGET\")"
   ]
  },
  {
   "cell_type": "code",
   "execution_count": null,
   "id": "c6827547",
   "metadata": {},
   "outputs": [],
   "source": [
    "# | export\n",
    "\n",
    "\n",
    "class DashboardPermissions(sgqlc.types.Enum):\n",
    "    __schema__ = nerdgraph\n",
    "    __choices__ = (\"PRIVATE\", \"PUBLIC_READ_ONLY\", \"PUBLIC_READ_WRITE\")"
   ]
  },
  {
   "cell_type": "code",
   "execution_count": null,
   "id": "b0411cf4",
   "metadata": {},
   "outputs": [],
   "source": [
    "# | export\n",
    "\n",
    "\n",
    "class DashboardUndeleteErrorType(sgqlc.types.Enum):\n",
    "    __schema__ = nerdgraph\n",
    "    __choices__ = (\"DASHBOARD_NOT_FOUND\", \"FORBIDDEN_OPERATION\")"
   ]
  },
  {
   "cell_type": "code",
   "execution_count": null,
   "id": "29594ecb",
   "metadata": {},
   "outputs": [],
   "source": [
    "# | export\n",
    "\n",
    "\n",
    "class DashboardUpdateErrorType(sgqlc.types.Enum):\n",
    "    __schema__ = nerdgraph\n",
    "    __choices__ = (\"FORBIDDEN_OPERATION\", \"INVALID_INPUT\")"
   ]
  },
  {
   "cell_type": "code",
   "execution_count": null,
   "id": "91ebcbf7",
   "metadata": {},
   "outputs": [],
   "source": [
    "# | export\n",
    "\n",
    "\n",
    "class DashboardUpdatePageErrorType(sgqlc.types.Enum):\n",
    "    __schema__ = nerdgraph\n",
    "    __choices__ = (\"FORBIDDEN_OPERATION\", \"INVALID_INPUT\", \"PAGE_NOT_FOUND\")"
   ]
  },
  {
   "cell_type": "code",
   "execution_count": null,
   "id": "89ca043d",
   "metadata": {},
   "outputs": [],
   "source": [
    "# | export\n",
    "\n",
    "\n",
    "class DashboardUpdateWidgetsInPageErrorType(sgqlc.types.Enum):\n",
    "    __schema__ = nerdgraph\n",
    "    __choices__ = (\n",
    "        \"FORBIDDEN_OPERATION\",\n",
    "        \"INVALID_INPUT\",\n",
    "        \"PAGE_NOT_FOUND\",\n",
    "        \"WIDGET_NOT_FOUND\",\n",
    "    )"
   ]
  },
  {
   "cell_type": "code",
   "execution_count": null,
   "id": "7ba7da61",
   "metadata": {},
   "outputs": [],
   "source": [
    "# | export\n",
    "\n",
    "\n",
    "class DashboardVariableReplacementStrategy(sgqlc.types.Enum):\n",
    "    __schema__ = nerdgraph\n",
    "    __choices__ = (\"DEFAULT\", \"IDENTIFIER\", \"NUMBER\", \"STRING\")"
   ]
  },
  {
   "cell_type": "code",
   "execution_count": null,
   "id": "dae08cb4",
   "metadata": {},
   "outputs": [],
   "source": [
    "# | export\n",
    "\n",
    "\n",
    "class DashboardVariableType(sgqlc.types.Enum):\n",
    "    __schema__ = nerdgraph\n",
    "    __choices__ = (\"ENUM\", \"NRQL\", \"STRING\")"
   ]
  },
  {
   "cell_type": "code",
   "execution_count": null,
   "id": "3b3c0133",
   "metadata": {},
   "outputs": [],
   "source": [
    "# | export\n",
    "\n",
    "\n",
    "class DataDictionaryTextFormat(sgqlc.types.Enum):\n",
    "    __schema__ = nerdgraph\n",
    "    __choices__ = (\"HTML\", \"MARKDOWN\", \"PLAIN\")"
   ]
  },
  {
   "cell_type": "code",
   "execution_count": null,
   "id": "e38ba6c8",
   "metadata": {},
   "outputs": [],
   "source": [
    "# | export\n",
    "\n",
    "\n",
    "class DataManagementCategory(sgqlc.types.Enum):\n",
    "    __schema__ = nerdgraph\n",
    "    __choices__ = (\"ALERTING\", \"INGEST\", \"QUERY\")"
   ]
  },
  {
   "cell_type": "code",
   "execution_count": null,
   "id": "2234bb74",
   "metadata": {},
   "outputs": [],
   "source": [
    "# | export\n",
    "\n",
    "\n",
    "class DataManagementUnit(sgqlc.types.Enum):\n",
    "    __schema__ = nerdgraph\n",
    "    __choices__ = (\"BYTES\", \"COUNT\", \"GIGABYTES\")"
   ]
  },
  {
   "cell_type": "code",
   "execution_count": null,
   "id": "283ec131",
   "metadata": {},
   "outputs": [],
   "source": [
    "# | export\n",
    "\n",
    "\n",
    "class DistributedTracingSpanAnomalyType(sgqlc.types.Enum):\n",
    "    __schema__ = nerdgraph\n",
    "    __choices__ = (\"DURATION\",)"
   ]
  },
  {
   "cell_type": "code",
   "execution_count": null,
   "id": "247856ef",
   "metadata": {},
   "outputs": [],
   "source": [
    "# | export\n",
    "\n",
    "\n",
    "class DistributedTracingSpanClientType(sgqlc.types.Enum):\n",
    "    __schema__ = nerdgraph\n",
    "    __choices__ = (\"DATASTORE\", \"EXTERNAL\")"
   ]
  },
  {
   "cell_type": "code",
   "execution_count": null,
   "id": "85d60449",
   "metadata": {},
   "outputs": [],
   "source": [
    "# | export\n",
    "\n",
    "\n",
    "class DistributedTracingSpanProcessBoundary(sgqlc.types.Enum):\n",
    "    __schema__ = nerdgraph\n",
    "    __choices__ = (\"ENTRY\", \"EXIT\", \"IN_PROCESS\")"
   ]
  },
  {
   "cell_type": "code",
   "execution_count": null,
   "id": "2fda1eb5",
   "metadata": {},
   "outputs": [],
   "source": [
    "# | export\n",
    "\n",
    "\n",
    "class EdgeComplianceTypeCode(sgqlc.types.Enum):\n",
    "    __schema__ = nerdgraph\n",
    "    __choices__ = (\"FEDRAMP\",)"
   ]
  },
  {
   "cell_type": "code",
   "execution_count": null,
   "id": "831b18df",
   "metadata": {},
   "outputs": [],
   "source": [
    "# | export\n",
    "\n",
    "\n",
    "class EdgeCreateSpanAttributeRuleResponseErrorType(sgqlc.types.Enum):\n",
    "    __schema__ = nerdgraph\n",
    "    __choices__ = (\n",
    "        \"DUPLICATE_RULES\",\n",
    "        \"EXCEEDS_SPAN_ATTRIBUTE_RULE_LIMITS\",\n",
    "        \"INVALID_INPUT\",\n",
    "        \"NOT_FOUND\",\n",
    "        \"OPPOSING_RULES\",\n",
    "    )"
   ]
  },
  {
   "cell_type": "code",
   "execution_count": null,
   "id": "ef526c31",
   "metadata": {},
   "outputs": [],
   "source": [
    "# | export\n",
    "\n",
    "\n",
    "class EdgeCreateTraceObserverResponseErrorType(sgqlc.types.Enum):\n",
    "    __schema__ = nerdgraph\n",
    "    __choices__ = (\"ALREADY_EXISTS\", \"NO_AVAILABILITY_IN_REGION\")"
   ]
  },
  {
   "cell_type": "code",
   "execution_count": null,
   "id": "17b0320b",
   "metadata": {},
   "outputs": [],
   "source": [
    "# | export\n",
    "\n",
    "\n",
    "class EdgeDataSourceGroupUpdateType(sgqlc.types.Enum):\n",
    "    __schema__ = nerdgraph\n",
    "    __choices__ = (\"ADD\", \"REMOVE\", \"REPLACE\")"
   ]
  },
  {
   "cell_type": "code",
   "execution_count": null,
   "id": "6e3c796e",
   "metadata": {},
   "outputs": [],
   "source": [
    "# | export\n",
    "\n",
    "\n",
    "class EdgeDataSourceStatusType(sgqlc.types.Enum):\n",
    "    __schema__ = nerdgraph\n",
    "    __choices__ = (\"ACTIVE\", \"INACTIVE\")"
   ]
  },
  {
   "cell_type": "code",
   "execution_count": null,
   "id": "a25aa4f1",
   "metadata": {},
   "outputs": [],
   "source": [
    "# | export\n",
    "\n",
    "\n",
    "class EdgeDeleteSpanAttributeRuleResponseErrorType(sgqlc.types.Enum):\n",
    "    __schema__ = nerdgraph\n",
    "    __choices__ = (\"NOT_FOUND\",)"
   ]
  },
  {
   "cell_type": "code",
   "execution_count": null,
   "id": "29275011",
   "metadata": {},
   "outputs": [],
   "source": [
    "# | export\n",
    "\n",
    "\n",
    "class EdgeDeleteTraceObserverResponseErrorType(sgqlc.types.Enum):\n",
    "    __schema__ = nerdgraph\n",
    "    __choices__ = (\"ALREADY_DELETED\", \"NOT_FOUND\")"
   ]
  },
  {
   "cell_type": "code",
   "execution_count": null,
   "id": "5a902f58",
   "metadata": {},
   "outputs": [],
   "source": [
    "# | export\n",
    "\n",
    "\n",
    "class EdgeEndpointStatus(sgqlc.types.Enum):\n",
    "    __schema__ = nerdgraph\n",
    "    __choices__ = (\"CREATED\", \"DELETED\")"
   ]
  },
  {
   "cell_type": "code",
   "execution_count": null,
   "id": "4f7e7e42",
   "metadata": {},
   "outputs": [],
   "source": [
    "# | export\n",
    "\n",
    "\n",
    "class EdgeEndpointType(sgqlc.types.Enum):\n",
    "    __schema__ = nerdgraph\n",
    "    __choices__ = (\"PUBLIC\",)"
   ]
  },
  {
   "cell_type": "code",
   "execution_count": null,
   "id": "601531c6",
   "metadata": {},
   "outputs": [],
   "source": [
    "# | export\n",
    "\n",
    "\n",
    "class EdgeProviderRegion(sgqlc.types.Enum):\n",
    "    __schema__ = nerdgraph\n",
    "    __choices__ = (\n",
    "        \"AWS_AP_SOUTHEAST_1\",\n",
    "        \"AWS_AP_SOUTHEAST_2\",\n",
    "        \"AWS_EU_CENTRAL_1\",\n",
    "        \"AWS_EU_WEST_1\",\n",
    "        \"AWS_US_EAST_1\",\n",
    "        \"AWS_US_EAST_2\",\n",
    "        \"AWS_US_WEST_2\",\n",
    "    )"
   ]
  },
  {
   "cell_type": "code",
   "execution_count": null,
   "id": "0d3cd387",
   "metadata": {},
   "outputs": [],
   "source": [
    "# | export\n",
    "\n",
    "\n",
    "class EdgeSpanAttributeKeyOperator(sgqlc.types.Enum):\n",
    "    __schema__ = nerdgraph\n",
    "    __choices__ = (\"EQUALS\", \"LIKE\")"
   ]
  },
  {
   "cell_type": "code",
   "execution_count": null,
   "id": "6df2d43e",
   "metadata": {},
   "outputs": [],
   "source": [
    "# | export\n",
    "\n",
    "\n",
    "class EdgeSpanAttributeValueOperator(sgqlc.types.Enum):\n",
    "    __schema__ = nerdgraph\n",
    "    __choices__ = (\"EQUALS\", \"IS_NOT_NULL\", \"LIKE\")"
   ]
  },
  {
   "cell_type": "code",
   "execution_count": null,
   "id": "414ac8bd",
   "metadata": {},
   "outputs": [],
   "source": [
    "# | export\n",
    "\n",
    "\n",
    "class EdgeTraceFilterAction(sgqlc.types.Enum):\n",
    "    __schema__ = nerdgraph\n",
    "    __choices__ = (\"DISCARD\", \"KEEP\")"
   ]
  },
  {
   "cell_type": "code",
   "execution_count": null,
   "id": "e3441ce4",
   "metadata": {},
   "outputs": [],
   "source": [
    "# | export\n",
    "\n",
    "\n",
    "class EdgeTraceObserverStatus(sgqlc.types.Enum):\n",
    "    __schema__ = nerdgraph\n",
    "    __choices__ = (\"CREATED\", \"DELETED\")"
   ]
  },
  {
   "cell_type": "code",
   "execution_count": null,
   "id": "2e8c7ad6",
   "metadata": {},
   "outputs": [],
   "source": [
    "# | export\n",
    "\n",
    "\n",
    "class EdgeUpdateTraceObserverResponseErrorType(sgqlc.types.Enum):\n",
    "    __schema__ = nerdgraph\n",
    "    __choices__ = (\"INVALID_INPUT\", \"NOT_FOUND\")"
   ]
  },
  {
   "cell_type": "code",
   "execution_count": null,
   "id": "bf8462ec",
   "metadata": {},
   "outputs": [],
   "source": [
    "# | export\n",
    "\n",
    "\n",
    "class EmbeddedChartType(sgqlc.types.Enum):\n",
    "    __schema__ = nerdgraph\n",
    "    __choices__ = (\n",
    "        \"APDEX\",\n",
    "        \"AREA\",\n",
    "        \"BAR\",\n",
    "        \"BASELINE\",\n",
    "        \"BILLBOARD\",\n",
    "        \"BULLET\",\n",
    "        \"EMPTY\",\n",
    "        \"EVENT_FEED\",\n",
    "        \"FUNNEL\",\n",
    "        \"HEATMAP\",\n",
    "        \"HISTOGRAM\",\n",
    "        \"JSON\",\n",
    "        \"LINE\",\n",
    "        \"MARKDOWN\",\n",
    "        \"PIE\",\n",
    "        \"SCATTER\",\n",
    "        \"STACKED_HORIZONTAL_BAR\",\n",
    "        \"TABLE\",\n",
    "        \"TRAFFIC_LIGHT\",\n",
    "        \"VERTICAL_BAR\",\n",
    "    )"
   ]
  },
  {
   "cell_type": "code",
   "execution_count": null,
   "id": "d4bca2d0",
   "metadata": {},
   "outputs": [],
   "source": [
    "# | export\n",
    "\n",
    "\n",
    "class EntityAlertSeverity(sgqlc.types.Enum):\n",
    "    __schema__ = nerdgraph\n",
    "    __choices__ = (\"CRITICAL\", \"NOT_ALERTING\", \"NOT_CONFIGURED\", \"WARNING\")"
   ]
  },
  {
   "cell_type": "code",
   "execution_count": null,
   "id": "e07ef15c",
   "metadata": {},
   "outputs": [],
   "source": [
    "# | export\n",
    "\n",
    "\n",
    "class EntityCollectionType(sgqlc.types.Enum):\n",
    "    __schema__ = nerdgraph\n",
    "    __choices__ = (\"WORKLOAD\", \"WORKLOAD_STATUS_RULE_GROUP\")"
   ]
  },
  {
   "cell_type": "code",
   "execution_count": null,
   "id": "580a539d",
   "metadata": {},
   "outputs": [],
   "source": [
    "# | export\n",
    "\n",
    "\n",
    "class EntityDeleteErrorType(sgqlc.types.Enum):\n",
    "    __schema__ = nerdgraph\n",
    "    __choices__ = (\"FORBIDDEN\", \"INTERNAL_ERROR\", \"INVALID_INPUT\")"
   ]
  },
  {
   "cell_type": "code",
   "execution_count": null,
   "id": "2bbe9f21",
   "metadata": {},
   "outputs": [],
   "source": [
    "# | export\n",
    "\n",
    "\n",
    "class EntityGoldenEventObjectId(sgqlc.types.Enum):\n",
    "    __schema__ = nerdgraph\n",
    "    __choices__ = (\"DOMAIN_IDS\", \"ENTITY_GUIDS\")"
   ]
  },
  {
   "cell_type": "code",
   "execution_count": null,
   "id": "d145ffdd",
   "metadata": {},
   "outputs": [],
   "source": [
    "# | export\n",
    "\n",
    "\n",
    "class EntityGoldenGoldenMetricsErrorType(sgqlc.types.Enum):\n",
    "    __schema__ = nerdgraph\n",
    "    __choices__ = (\n",
    "        \"INVALID_CONTEXT\",\n",
    "        \"INVALID_DOMAIN_TYPE\",\n",
    "        \"INVALID_QUERY_PARAMS\",\n",
    "        \"LIMIT_EXCEEDED\",\n",
    "        \"NOT_AUTHORIZED\",\n",
    "    )"
   ]
  },
  {
   "cell_type": "code",
   "execution_count": null,
   "id": "e9bffeca",
   "metadata": {},
   "outputs": [],
   "source": [
    "# | export\n",
    "\n",
    "\n",
    "class EntityGoldenMetricUnit(sgqlc.types.Enum):\n",
    "    __schema__ = nerdgraph\n",
    "    __choices__ = (\n",
    "        \"APDEX\",\n",
    "        \"BITS\",\n",
    "        \"BITS_PER_SECOND\",\n",
    "        \"BYTES\",\n",
    "        \"BYTES_PER_SECOND\",\n",
    "        \"CELSIUS\",\n",
    "        \"COUNT\",\n",
    "        \"HERTZ\",\n",
    "        \"MESSAGES_PER_SECOND\",\n",
    "        \"MS\",\n",
    "        \"OPERATIONS_PER_SECOND\",\n",
    "        \"PAGES_PER_SECOND\",\n",
    "        \"PERCENTAGE\",\n",
    "        \"REQUESTS_PER_MINUTE\",\n",
    "        \"REQUESTS_PER_SECOND\",\n",
    "        \"SECONDS\",\n",
    "        \"TIMESTAMP\",\n",
    "    )"
   ]
  },
  {
   "cell_type": "code",
   "execution_count": null,
   "id": "35fe4f09",
   "metadata": {},
   "outputs": [],
   "source": [
    "# | export\n",
    "\n",
    "\n",
    "class EntityInfrastructureIntegrationType(sgqlc.types.Enum):\n",
    "    __schema__ = nerdgraph\n",
    "    __choices__ = (\n",
    "        \"APACHE_SERVER\",\n",
    "        \"AWSELASTICSEARCHNODE\",\n",
    "        \"AWS_ALB\",\n",
    "        \"AWS_ALB_LISTENER\",\n",
    "        \"AWS_ALB_LISTENER_RULE\",\n",
    "        \"AWS_ALB_TARGET_GROUP\",\n",
    "        \"AWS_API_GATEWAY_API\",\n",
    "        \"AWS_API_GATEWAY_RESOURCE\",\n",
    "        \"AWS_API_GATEWAY_RESOURCE_WITH_METRICS\",\n",
    "        \"AWS_API_GATEWAY_STAGE\",\n",
    "        \"AWS_AUTO_SCALING_GROUP\",\n",
    "        \"AWS_AUTO_SCALING_INSTANCE\",\n",
    "        \"AWS_AUTO_SCALING_LAUNCH_CONFIGURATION\",\n",
    "        \"AWS_AUTO_SCALING_POLICY\",\n",
    "        \"AWS_AUTO_SCALING_REGION_LIMIT\",\n",
    "        \"AWS_BILLING_ACCOUNT_COST\",\n",
    "        \"AWS_BILLING_ACCOUNT_SERVICE_COST\",\n",
    "        \"AWS_BILLING_BUDGET\",\n",
    "        \"AWS_BILLING_SERVICE_COST\",\n",
    "        \"AWS_CLOUD_FRONT_DISTRIBUTION\",\n",
    "        \"AWS_CLOUD_TRAIL\",\n",
    "        \"AWS_DYNAMO_DB_GLOBAL_SECONDARY_INDEX\",\n",
    "        \"AWS_DYNAMO_DB_REGION\",\n",
    "        \"AWS_DYNAMO_DB_TABLE\",\n",
    "        \"AWS_EBS_VOLUME\",\n",
    "        \"AWS_ECS_CLUSTER\",\n",
    "        \"AWS_ECS_SERVICE\",\n",
    "        \"AWS_EFS_FILE_SYSTEM\",\n",
    "        \"AWS_ELASTICSEARCH_CLUSTER\",\n",
    "        \"AWS_ELASTICSEARCH_INSTANCE\",\n",
    "        \"AWS_ELASTIC_BEANSTALK_ENVIRONMENT\",\n",
    "        \"AWS_ELASTIC_BEANSTALK_INSTANCE\",\n",
    "        \"AWS_ELASTIC_MAP_REDUCE_CLUSTER\",\n",
    "        \"AWS_ELASTIC_MAP_REDUCE_INSTANCE\",\n",
    "        \"AWS_ELASTIC_MAP_REDUCE_INSTANCE_FLEET\",\n",
    "        \"AWS_ELASTIC_MAP_REDUCE_INSTANCE_GROUP\",\n",
    "        \"AWS_ELASTI_CACHE_MEMCACHED_CLUSTER\",\n",
    "        \"AWS_ELASTI_CACHE_MEMCACHED_NODE\",\n",
    "        \"AWS_ELASTI_CACHE_REDIS_CLUSTER\",\n",
    "        \"AWS_ELASTI_CACHE_REDIS_NODE\",\n",
    "        \"AWS_ELB\",\n",
    "        \"AWS_HEALTH_ISSUE\",\n",
    "        \"AWS_HEALTH_NOTIFICATION\",\n",
    "        \"AWS_HEALTH_SCHEDULED_CHANGE\",\n",
    "        \"AWS_HEALTH_UNKNOWN\",\n",
    "        \"AWS_IAM\",\n",
    "        \"AWS_IAM_GROUP\",\n",
    "        \"AWS_IAM_OPEN_ID_PROVIDER\",\n",
    "        \"AWS_IAM_POLICY\",\n",
    "        \"AWS_IAM_ROLE\",\n",
    "        \"AWS_IAM_SAML_PROVIDER\",\n",
    "        \"AWS_IAM_SERVER_CERTIFICATE\",\n",
    "        \"AWS_IAM_USER\",\n",
    "        \"AWS_IAM_VIRTUAL_MFA_DEVICE\",\n",
    "        \"AWS_IOT_BROKER\",\n",
    "        \"AWS_IOT_RULE\",\n",
    "        \"AWS_IOT_RULE_ACTION\",\n",
    "        \"AWS_KINESIS_DELIVERY_STREAM\",\n",
    "        \"AWS_KINESIS_STREAM\",\n",
    "        \"AWS_KINESIS_STREAM_SHARD\",\n",
    "        \"AWS_LAMBDA_AGENT_TRANSACTION\",\n",
    "        \"AWS_LAMBDA_AGENT_TRANSACTION_ERROR\",\n",
    "        \"AWS_LAMBDA_EDGE_FUNCTION\",\n",
    "        \"AWS_LAMBDA_EVENT_SOURCE_MAPPING\",\n",
    "        \"AWS_LAMBDA_FUNCTION\",\n",
    "        \"AWS_LAMBDA_FUNCTION_ALIAS\",\n",
    "        \"AWS_LAMBDA_OPERATION\",\n",
    "        \"AWS_LAMBDA_REGION\",\n",
    "        \"AWS_LAMBDA_SPAN\",\n",
    "        \"AWS_LAMBDA_TRACE\",\n",
    "        \"AWS_RDS_DB_CLUSTER\",\n",
    "        \"AWS_RDS_DB_INSTANCE\",\n",
    "        \"AWS_REDSHIFT_CLUSTER\",\n",
    "        \"AWS_REDSHIFT_NODE\",\n",
    "        \"AWS_ROUTE53_HEALTH_CHECK\",\n",
    "        \"AWS_ROUTE53_ZONE\",\n",
    "        \"AWS_ROUTE53_ZONE_RECORD_SET\",\n",
    "        \"AWS_S3_BUCKET\",\n",
    "        \"AWS_S3_BUCKET_REQUESTS\",\n",
    "        \"AWS_SES_CONFIGURATION_SET\",\n",
    "        \"AWS_SES_EVENT_DESTINATION\",\n",
    "        \"AWS_SES_RECEIPT_FILTER\",\n",
    "        \"AWS_SES_RECEIPT_RULE\",\n",
    "        \"AWS_SES_RECEIPT_RULE_SET\",\n",
    "        \"AWS_SES_REGION\",\n",
    "        \"AWS_SNS_SUBSCRIPTION\",\n",
    "        \"AWS_SNS_TOPIC\",\n",
    "        \"AWS_SQS_QUEUE\",\n",
    "        \"AWS_VPC\",\n",
    "        \"AWS_VPC_ENDPOINT\",\n",
    "        \"AWS_VPC_INTERNET_GATEWAY\",\n",
    "        \"AWS_VPC_NAT_GATEWAY\",\n",
    "        \"AWS_VPC_NETWORK_ACL\",\n",
    "        \"AWS_VPC_NETWORK_INTERFACE\",\n",
    "        \"AWS_VPC_PEERING_CONNECTION\",\n",
    "        \"AWS_VPC_ROUTE_TABLE\",\n",
    "        \"AWS_VPC_SECURITY_GROUP\",\n",
    "        \"AWS_VPC_SUBNET\",\n",
    "        \"AWS_VPC_VPN_CONNECTION\",\n",
    "        \"AWS_VPC_VPN_TUNNEL\",\n",
    "        \"AZURE_APP_SERVICE_HOST_NAME\",\n",
    "        \"AZURE_APP_SERVICE_WEB_APP\",\n",
    "        \"AZURE_COSMOS_DB_ACCOUNT\",\n",
    "        \"AZURE_FUNCTIONS_APP\",\n",
    "        \"AZURE_LOAD_BALANCER\",\n",
    "        \"AZURE_LOAD_BALANCER_BACKEND\",\n",
    "        \"AZURE_LOAD_BALANCER_FRONTEND_IP\",\n",
    "        \"AZURE_LOAD_BALANCER_INBOUND_NAT_POOL\",\n",
    "        \"AZURE_LOAD_BALANCER_INBOUND_NAT_RULE\",\n",
    "        \"AZURE_LOAD_BALANCER_PROBE\",\n",
    "        \"AZURE_LOAD_BALANCER_RULE\",\n",
    "        \"AZURE_MARIADB_SERVER\",\n",
    "        \"AZURE_MYSQL_SERVER\",\n",
    "        \"AZURE_POSTGRESQL_SERVER\",\n",
    "        \"AZURE_REDIS_CACHE\",\n",
    "        \"AZURE_REDIS_CACHE_SHARD\",\n",
    "        \"AZURE_SERVICE_BUS_NAMESPACE\",\n",
    "        \"AZURE_SERVICE_BUS_QUEUE\",\n",
    "        \"AZURE_SERVICE_BUS_SUBSCRIPTION\",\n",
    "        \"AZURE_SERVICE_BUS_TOPIC\",\n",
    "        \"AZURE_SQL_DATABASE\",\n",
    "        \"AZURE_SQL_ELASTIC_POOL\",\n",
    "        \"AZURE_SQL_FIREWALL\",\n",
    "        \"AZURE_SQL_REPLICATION_LINK\",\n",
    "        \"AZURE_SQL_RESTORE_POINT\",\n",
    "        \"AZURE_SQL_SERVER\",\n",
    "        \"AZURE_STORAGE_ACCOUNT\",\n",
    "        \"AZURE_VIRTUAL_NETWORKS\",\n",
    "        \"AZURE_VIRTUAL_NETWORKS_IP_CONFIGURATION\",\n",
    "        \"AZURE_VIRTUAL_NETWORKS_NETWORK_INTERFACE\",\n",
    "        \"AZURE_VIRTUAL_NETWORKS_PEERING\",\n",
    "        \"AZURE_VIRTUAL_NETWORKS_PUBLIC_IP_ADDRESS\",\n",
    "        \"AZURE_VIRTUAL_NETWORKS_ROUTE\",\n",
    "        \"AZURE_VIRTUAL_NETWORKS_ROUTE_TABLE\",\n",
    "        \"AZURE_VIRTUAL_NETWORKS_SECURITY_GROUP\",\n",
    "        \"AZURE_VIRTUAL_NETWORKS_SECURITY_RULE\",\n",
    "        \"AZURE_VIRTUAL_NETWORKS_SUBNET\",\n",
    "        \"CASSANDRA_NODE\",\n",
    "        \"CONSUL_AGENT\",\n",
    "        \"COUCHBASE_BUCKET\",\n",
    "        \"COUCHBASE_CLUSTER\",\n",
    "        \"COUCHBASE_NODE\",\n",
    "        \"COUCHBASE_QUERY_ENGINE\",\n",
    "        \"ELASTICSEARCH_NODE\",\n",
    "        \"F5_NODE\",\n",
    "        \"F5_POOL\",\n",
    "        \"F5_POOL_MEMBER\",\n",
    "        \"F5_SYSTEM\",\n",
    "        \"F5_VIRTUAL_SERVER\",\n",
    "        \"GCP_APP_ENGINE_SERVICE\",\n",
    "        \"GCP_BIG_QUERY_DATA_SET\",\n",
    "        \"GCP_BIG_QUERY_PROJECT\",\n",
    "        \"GCP_BIG_QUERY_TABLE\",\n",
    "        \"GCP_CLOUD_FUNCTION\",\n",
    "        \"GCP_CLOUD_SQL\",\n",
    "        \"GCP_CLOUD_TASKS_QUEUE\",\n",
    "        \"GCP_HTTP_LOAD_BALANCER\",\n",
    "        \"GCP_INTERNAL_LOAD_BALANCER\",\n",
    "        \"GCP_KUBERNETES_CONTAINER\",\n",
    "        \"GCP_KUBERNETES_NODE\",\n",
    "        \"GCP_KUBERNETES_POD\",\n",
    "        \"GCP_PUB_SUB_SUBSCRIPTION\",\n",
    "        \"GCP_PUB_SUB_TOPIC\",\n",
    "        \"GCP_SPANNER_DATABASE\",\n",
    "        \"GCP_SPANNER_INSTANCE\",\n",
    "        \"GCP_STORAGE_BUCKET\",\n",
    "        \"GCP_TCP_SSL_PROXY_LOAD_BALANCER\",\n",
    "        \"GCP_VIRTUAL_MACHINE_DISK\",\n",
    "        \"KAFKA_BROKER\",\n",
    "        \"KAFKA_TOPIC\",\n",
    "        \"KUBERNETES_CLUSTER\",\n",
    "        \"MEMCACHED_INSTANCE\",\n",
    "        \"MSSQL_INSTANCE\",\n",
    "        \"MYSQL_NODE\",\n",
    "        \"NA\",\n",
    "        \"NGINX_SERVER\",\n",
    "        \"ORACLE_DB_INSTANCE\",\n",
    "        \"POSTGRE_SQL_INSTANCE\",\n",
    "        \"RABBIT_MQ_CLUSTER\",\n",
    "        \"RABBIT_MQ_EXCHANGE\",\n",
    "        \"RABBIT_MQ_NODE\",\n",
    "        \"RABBIT_MQ_QUEUE\",\n",
    "        \"REDIS_INSTANCE\",\n",
    "        \"VARNISH_INSTANCE\",\n",
    "    )"
   ]
  },
  {
   "cell_type": "code",
   "execution_count": null,
   "id": "4f9cb992",
   "metadata": {},
   "outputs": [],
   "source": [
    "# | export\n",
    "\n",
    "\n",
    "class EntityRelationshipEdgeDirection(sgqlc.types.Enum):\n",
    "    __schema__ = nerdgraph\n",
    "    __choices__ = (\"BOTH\", \"INBOUND\", \"OUTBOUND\")"
   ]
  },
  {
   "cell_type": "code",
   "execution_count": null,
   "id": "f4cd44ad",
   "metadata": {},
   "outputs": [],
   "source": [
    "# | export\n",
    "\n",
    "\n",
    "class EntityRelationshipEdgeType(sgqlc.types.Enum):\n",
    "    __schema__ = nerdgraph\n",
    "    __choices__ = (\n",
    "        \"BUILT_FROM\",\n",
    "        \"CALLS\",\n",
    "        \"CONNECTS_TO\",\n",
    "        \"CONSUMES\",\n",
    "        \"CONTAINS\",\n",
    "        \"HOSTS\",\n",
    "        \"IS\",\n",
    "        \"MANAGES\",\n",
    "        \"MEASURES\",\n",
    "        \"OPERATES_IN\",\n",
    "        \"OWNS\",\n",
    "        \"PRODUCES\",\n",
    "        \"SERVES\",\n",
    "    )"
   ]
  },
  {
   "cell_type": "code",
   "execution_count": null,
   "id": "b3a91141",
   "metadata": {},
   "outputs": [],
   "source": [
    "# | export\n",
    "\n",
    "\n",
    "class EntityRelationshipType(sgqlc.types.Enum):\n",
    "    __schema__ = nerdgraph\n",
    "    __choices__ = ()"
   ]
  },
  {
   "cell_type": "code",
   "execution_count": null,
   "id": "968099ca",
   "metadata": {},
   "outputs": [],
   "source": [
    "# | export\n",
    "\n",
    "\n",
    "class EntityRelationshipUserDefinedCreateOrReplaceErrorType(sgqlc.types.Enum):\n",
    "    __schema__ = nerdgraph\n",
    "    __choices__ = (\"LIMIT_EXCEEDED\", \"NOT_ALLOWED\", \"NOT_AUTHORIZED\")"
   ]
  },
  {
   "cell_type": "code",
   "execution_count": null,
   "id": "869b3406",
   "metadata": {},
   "outputs": [],
   "source": [
    "# | export\n",
    "\n",
    "\n",
    "class EntityRelationshipUserDefinedDeleteErrorType(sgqlc.types.Enum):\n",
    "    __schema__ = nerdgraph\n",
    "    __choices__ = (\"NOT_AUTHORIZED\",)"
   ]
  },
  {
   "cell_type": "code",
   "execution_count": null,
   "id": "33dca2c3",
   "metadata": {},
   "outputs": [],
   "source": [
    "# | export\n",
    "\n",
    "\n",
    "class EntitySearchCountsFacet(sgqlc.types.Enum):\n",
    "    __schema__ = nerdgraph\n",
    "    __choices__ = (\n",
    "        \"ACCOUNT_ID\",\n",
    "        \"ALERT_SEVERITY\",\n",
    "        \"DOMAIN\",\n",
    "        \"DOMAIN_TYPE\",\n",
    "        \"NAME\",\n",
    "        \"REPORTING\",\n",
    "        \"TYPE\",\n",
    "    )"
   ]
  },
  {
   "cell_type": "code",
   "execution_count": null,
   "id": "9d402127",
   "metadata": {},
   "outputs": [],
   "source": [
    "# | export\n",
    "\n",
    "\n",
    "class EntitySearchQueryBuilderDomain(sgqlc.types.Enum):\n",
    "    __schema__ = nerdgraph\n",
    "    __choices__ = (\"APM\", \"BROWSER\", \"EXT\", \"INFRA\", \"MOBILE\", \"SYNTH\")"
   ]
  },
  {
   "cell_type": "code",
   "execution_count": null,
   "id": "22d645d0",
   "metadata": {},
   "outputs": [],
   "source": [
    "# | export\n",
    "\n",
    "\n",
    "class EntitySearchQueryBuilderType(sgqlc.types.Enum):\n",
    "    __schema__ = nerdgraph\n",
    "    __choices__ = (\"APPLICATION\", \"DASHBOARD\", \"HOST\", \"MONITOR\", \"WORKLOAD\")"
   ]
  },
  {
   "cell_type": "code",
   "execution_count": null,
   "id": "c58b475c",
   "metadata": {},
   "outputs": [],
   "source": [
    "# | export\n",
    "\n",
    "\n",
    "class EntitySearchSortCriteria(sgqlc.types.Enum):\n",
    "    __schema__ = nerdgraph\n",
    "    __choices__ = (\n",
    "        \"ALERT_SEVERITY\",\n",
    "        \"DOMAIN\",\n",
    "        \"MOST_RELEVANT\",\n",
    "        \"NAME\",\n",
    "        \"REPORTING\",\n",
    "        \"TYPE\",\n",
    "    )"
   ]
  },
  {
   "cell_type": "code",
   "execution_count": null,
   "id": "b2c1da0e",
   "metadata": {},
   "outputs": [],
   "source": [
    "# | export\n",
    "\n",
    "\n",
    "class EntityType(sgqlc.types.Enum):\n",
    "    __schema__ = nerdgraph\n",
    "    __choices__ = (\n",
    "        \"APM_APPLICATION_ENTITY\",\n",
    "        \"APM_DATABASE_INSTANCE_ENTITY\",\n",
    "        \"APM_EXTERNAL_SERVICE_ENTITY\",\n",
    "        \"BROWSER_APPLICATION_ENTITY\",\n",
    "        \"DASHBOARD_ENTITY\",\n",
    "        \"EXTERNAL_ENTITY\",\n",
    "        \"GENERIC_ENTITY\",\n",
    "        \"GENERIC_INFRASTRUCTURE_ENTITY\",\n",
    "        \"INFRASTRUCTURE_AWS_LAMBDA_FUNCTION_ENTITY\",\n",
    "        \"INFRASTRUCTURE_HOST_ENTITY\",\n",
    "        \"KEY_TRANSACTION_ENTITY\",\n",
    "        \"MOBILE_APPLICATION_ENTITY\",\n",
    "        \"SECURE_CREDENTIAL_ENTITY\",\n",
    "        \"SYNTHETIC_MONITOR_ENTITY\",\n",
    "        \"TEAM_ENTITY\",\n",
    "        \"THIRD_PARTY_SERVICE_ENTITY\",\n",
    "        \"UNAVAILABLE_ENTITY\",\n",
    "        \"WORKLOAD_ENTITY\",\n",
    "    )"
   ]
  },
  {
   "cell_type": "code",
   "execution_count": null,
   "id": "a35c4bed",
   "metadata": {},
   "outputs": [],
   "source": [
    "# | export\n",
    "\n",
    "\n",
    "class ErrorsInboxAssignErrorGroupErrorType(sgqlc.types.Enum):\n",
    "    __schema__ = nerdgraph\n",
    "    __choices__ = (\"NOT_AUTHORIZED\",)"
   ]
  },
  {
   "cell_type": "code",
   "execution_count": null,
   "id": "4346ebb0",
   "metadata": {},
   "outputs": [],
   "source": [
    "# | export\n",
    "\n",
    "\n",
    "class ErrorsInboxDirection(sgqlc.types.Enum):\n",
    "    __schema__ = nerdgraph\n",
    "    __choices__ = (\"DESC\",)"
   ]
  },
  {
   "cell_type": "code",
   "execution_count": null,
   "id": "1b03bb26",
   "metadata": {},
   "outputs": [],
   "source": [
    "# | export\n",
    "\n",
    "\n",
    "class ErrorsInboxErrorGroupSortOrderField(sgqlc.types.Enum):\n",
    "    __schema__ = nerdgraph\n",
    "    __choices__ = (\"LAST_OCCURRENCE_IN_WINDOW\", \"OCCURRENCES\")"
   ]
  },
  {
   "cell_type": "code",
   "execution_count": null,
   "id": "8c311686",
   "metadata": {},
   "outputs": [],
   "source": [
    "# | export\n",
    "\n",
    "\n",
    "class ErrorsInboxErrorGroupState(sgqlc.types.Enum):\n",
    "    __schema__ = nerdgraph\n",
    "    __choices__ = (\"IGNORED\", \"RESOLVED\", \"UNRESOLVED\")"
   ]
  },
  {
   "cell_type": "code",
   "execution_count": null,
   "id": "b21148b5",
   "metadata": {},
   "outputs": [],
   "source": [
    "# | export\n",
    "\n",
    "\n",
    "class ErrorsInboxResourceType(sgqlc.types.Enum):\n",
    "    __schema__ = nerdgraph\n",
    "    __choices__ = (\"JIRA_ISSUE\",)"
   ]
  },
  {
   "cell_type": "code",
   "execution_count": null,
   "id": "7c8ebf6e",
   "metadata": {},
   "outputs": [],
   "source": [
    "# | export\n",
    "\n",
    "\n",
    "class ErrorsInboxUpdateErrorGroupStateErrorType(sgqlc.types.Enum):\n",
    "    __schema__ = nerdgraph\n",
    "    __choices__ = (\"NOT_AUTHORIZED\",)"
   ]
  },
  {
   "cell_type": "code",
   "execution_count": null,
   "id": "8f774696",
   "metadata": {},
   "outputs": [],
   "source": [
    "# | export\n",
    "\n",
    "\n",
    "class EventsToMetricsErrorReason(sgqlc.types.Enum):\n",
    "    __schema__ = nerdgraph\n",
    "    __choices__ = (\"GENERAL\", \"INVALID_INPUT\", \"USER_NOT_AUTHORIZED\")"
   ]
  },
  {
   "cell_type": "code",
   "execution_count": null,
   "id": "535f88f3",
   "metadata": {},
   "outputs": [],
   "source": [
    "# | export\n",
    "\n",
    "\n",
    "class HistoricalDataExportStatus(sgqlc.types.Enum):\n",
    "    __schema__ = nerdgraph\n",
    "    __choices__ = (\n",
    "        \"CANCELED\",\n",
    "        \"COMPLETE_FAILED\",\n",
    "        \"COMPLETE_SUCCESS\",\n",
    "        \"IN_PROGRESS\",\n",
    "        \"UNKNOWN\",\n",
    "        \"WAITING\",\n",
    "    )"
   ]
  },
  {
   "cell_type": "code",
   "execution_count": null,
   "id": "781d462f",
   "metadata": {},
   "outputs": [],
   "source": [
    "# | export\n",
    "\n",
    "\n",
    "class IncidentIntelligenceEnvironmentConsentAccountsResult(sgqlc.types.Enum):\n",
    "    __schema__ = nerdgraph\n",
    "    __choices__ = (\n",
    "        \"ALREADY_CONSENTED\",\n",
    "        \"CONSENTED\",\n",
    "        \"USER_NOT_AUTHORIZED_MISSING_CAPABILITY\",\n",
    "    )"
   ]
  },
  {
   "cell_type": "code",
   "execution_count": null,
   "id": "41aaac20",
   "metadata": {},
   "outputs": [],
   "source": [
    "# | export\n",
    "\n",
    "\n",
    "class IncidentIntelligenceEnvironmentCreateEnvironmentResult(sgqlc.types.Enum):\n",
    "    __schema__ = nerdgraph\n",
    "    __choices__ = (\n",
    "        \"ACCOUNTS_ALREADY_ASSOCIATED\",\n",
    "        \"ACCOUNT_NOT_CONSENTED\",\n",
    "        \"ACCOUNT_NOT_ENTITLED\",\n",
    "        \"ACTION_UNAUTHORIZED\",\n",
    "        \"ALREADY_EXISTS\",\n",
    "        \"ASSOCIATED_ACCOUNTS_NOT_AUTHORIZED\",\n",
    "        \"CREATED\",\n",
    "        \"USER_NOT_AUTHORIZED\",\n",
    "        \"USER_NOT_AUTHORIZED_MISSING_CAPABILITY\",\n",
    "    )"
   ]
  },
  {
   "cell_type": "code",
   "execution_count": null,
   "id": "e15e296b",
   "metadata": {},
   "outputs": [],
   "source": [
    "# | export\n",
    "\n",
    "\n",
    "class IncidentIntelligenceEnvironmentCurrentEnvironmentResultReason(sgqlc.types.Enum):\n",
    "    __schema__ = nerdgraph\n",
    "    __choices__ = (\n",
    "        \"CURRENT_ACCOUNT_NOT_ENTITLED\",\n",
    "        \"ENVIRONMENT_FOUND\",\n",
    "        \"MULTIPLE_ENVIRONMENTS\",\n",
    "        \"NO_ENVIRONMENT\",\n",
    "        \"USER_NOT_AUTHORIZED_FOR_ACCOUNT\",\n",
    "    )"
   ]
  },
  {
   "cell_type": "code",
   "execution_count": null,
   "id": "58c4bebe",
   "metadata": {},
   "outputs": [],
   "source": [
    "# | export\n",
    "\n",
    "\n",
    "class IncidentIntelligenceEnvironmentDeleteEnvironmentResult(sgqlc.types.Enum):\n",
    "    __schema__ = nerdgraph\n",
    "    __choices__ = (\n",
    "        \"ACCOUNT_NOT_ENTITLED\",\n",
    "        \"DELETED\",\n",
    "        \"DOES_NOT_EXIST\",\n",
    "        \"USER_NOT_AUTHORIZED\",\n",
    "        \"USER_NOT_AUTHORIZED_MISSING_CAPABILITY\",\n",
    "    )"
   ]
  },
  {
   "cell_type": "code",
   "execution_count": null,
   "id": "1a9bd864",
   "metadata": {},
   "outputs": [],
   "source": [
    "# | export\n",
    "\n",
    "\n",
    "class IncidentIntelligenceEnvironmentDissentAccountsResult(sgqlc.types.Enum):\n",
    "    __schema__ = nerdgraph\n",
    "    __choices__ = (\n",
    "        \"CONSENTED_ACCOUNTS_NOT_FOUND\",\n",
    "        \"DISSENTED\",\n",
    "        \"USER_NOT_AUTHORIZED_MISSING_CAPABILITY\",\n",
    "    )"
   ]
  },
  {
   "cell_type": "code",
   "execution_count": null,
   "id": "e7f5305d",
   "metadata": {},
   "outputs": [],
   "source": [
    "# | export\n",
    "\n",
    "\n",
    "class IncidentIntelligenceEnvironmentEnvironmentKind(sgqlc.types.Enum):\n",
    "    __schema__ = nerdgraph\n",
    "    __choices__ = (\"CROSS_ACCOUNT_ENVIRONMENT\", \"SINGLE_ACCOUNT_ENVIRONMENT\")"
   ]
  },
  {
   "cell_type": "code",
   "execution_count": null,
   "id": "25980882",
   "metadata": {},
   "outputs": [],
   "source": [
    "# | export\n",
    "\n",
    "\n",
    "class IncidentIntelligenceEnvironmentSupportedEnvironmentKind(sgqlc.types.Enum):\n",
    "    __schema__ = nerdgraph\n",
    "    __choices__ = (\"CROSS_ACCOUNT\", \"SINGLE_AND_CROSS_ACCOUNT\")"
   ]
  },
  {
   "cell_type": "code",
   "execution_count": null,
   "id": "e052f8d2",
   "metadata": {},
   "outputs": [],
   "source": [
    "# | export\n",
    "\n",
    "\n",
    "class InstallationInstallStateType(sgqlc.types.Enum):\n",
    "    __schema__ = nerdgraph\n",
    "    __choices__ = (\"COMPLETED\", \"STARTED\")"
   ]
  },
  {
   "cell_type": "code",
   "execution_count": null,
   "id": "d8d878cb",
   "metadata": {},
   "outputs": [],
   "source": [
    "# | export\n",
    "\n",
    "\n",
    "class InstallationRecipeStatusType(sgqlc.types.Enum):\n",
    "    __schema__ = nerdgraph\n",
    "    __choices__ = (\n",
    "        \"AVAILABLE\",\n",
    "        \"CANCELED\",\n",
    "        \"DETECTED\",\n",
    "        \"FAILED\",\n",
    "        \"INSTALLED\",\n",
    "        \"INSTALLING\",\n",
    "        \"RECOMMENDED\",\n",
    "        \"SKIPPED\",\n",
    "        \"UNSUPPORTED\",\n",
    "    )"
   ]
  },
  {
   "cell_type": "code",
   "execution_count": null,
   "id": "7c4da465",
   "metadata": {},
   "outputs": [],
   "source": [
    "# | export\n",
    "\n",
    "\n",
    "class LogConfigurationsCreateDataPartitionRuleErrorType(sgqlc.types.Enum):\n",
    "    __schema__ = nerdgraph\n",
    "    __choices__ = (\n",
    "        \"DUPLICATE_DATA_PARTITION_RULE_NAME\",\n",
    "        \"INVALID_DATA_PARTITION_INPUT\",\n",
    "        \"MAX_DATA_PARTITION_RULES\",\n",
    "    )"
   ]
  },
  {
   "cell_type": "code",
   "execution_count": null,
   "id": "ab0f3719",
   "metadata": {},
   "outputs": [],
   "source": [
    "# | export\n",
    "\n",
    "\n",
    "class LogConfigurationsDataPartitionRuleMatchingOperator(sgqlc.types.Enum):\n",
    "    __schema__ = nerdgraph\n",
    "    __choices__ = (\"EQUALS\", \"LIKE\")"
   ]
  },
  {
   "cell_type": "code",
   "execution_count": null,
   "id": "4cac1f3b",
   "metadata": {},
   "outputs": [],
   "source": [
    "# | export\n",
    "\n",
    "\n",
    "class LogConfigurationsDataPartitionRuleMutationErrorType(sgqlc.types.Enum):\n",
    "    __schema__ = nerdgraph\n",
    "    __choices__ = (\"INVALID_ID\", \"INVALID_RULE\", \"NOT_FOUND\")"
   ]
  },
  {
   "cell_type": "code",
   "execution_count": null,
   "id": "731928fe",
   "metadata": {},
   "outputs": [],
   "source": [
    "# | export\n",
    "\n",
    "\n",
    "class LogConfigurationsDataPartitionRuleRetentionPolicyType(sgqlc.types.Enum):\n",
    "    __schema__ = nerdgraph\n",
    "    __choices__ = (\"SECONDARY\", \"STANDARD\")"
   ]
  },
  {
   "cell_type": "code",
   "execution_count": null,
   "id": "ea2c05ae",
   "metadata": {},
   "outputs": [],
   "source": [
    "# | export\n",
    "\n",
    "\n",
    "class LogConfigurationsObfuscationMethod(sgqlc.types.Enum):\n",
    "    __schema__ = nerdgraph\n",
    "    __choices__ = (\"HASH_SHA256\", \"MASK\")"
   ]
  },
  {
   "cell_type": "code",
   "execution_count": null,
   "id": "b23e5b02",
   "metadata": {},
   "outputs": [],
   "source": [
    "# | export\n",
    "\n",
    "\n",
    "class LogConfigurationsParsingRuleMutationErrorType(sgqlc.types.Enum):\n",
    "    __schema__ = nerdgraph\n",
    "    __choices__ = (\"INVALID_GROK\", \"INVALID_ID\", \"INVALID_NRQL\", \"NOT_FOUND\")"
   ]
  },
  {
   "cell_type": "code",
   "execution_count": null,
   "id": "b932a595",
   "metadata": {},
   "outputs": [],
   "source": [
    "# | export\n",
    "\n",
    "\n",
    "class MetricNormalizationCustomerRuleAction(sgqlc.types.Enum):\n",
    "    __schema__ = nerdgraph\n",
    "    __choices__ = (\"DENY_NEW_METRICS\", \"IGNORE\", \"REPLACE\")"
   ]
  },
  {
   "cell_type": "code",
   "execution_count": null,
   "id": "17a68f67",
   "metadata": {},
   "outputs": [],
   "source": [
    "# | export\n",
    "\n",
    "\n",
    "class MetricNormalizationRuleAction(sgqlc.types.Enum):\n",
    "    __schema__ = nerdgraph\n",
    "    __choices__ = (\"DENY_NEW_METRICS\", \"IGNORE\", \"REPLACE\")"
   ]
  },
  {
   "cell_type": "code",
   "execution_count": null,
   "id": "449f4bb7",
   "metadata": {},
   "outputs": [],
   "source": [
    "# | export\n",
    "\n",
    "\n",
    "class MetricNormalizationRuleErrorType(sgqlc.types.Enum):\n",
    "    __schema__ = nerdgraph\n",
    "    __choices__ = (\n",
    "        \"CREATION_ERROR\",\n",
    "        \"EDITION_ERROR\",\n",
    "        \"RULE_NOT_FOUND\",\n",
    "        \"VALIDATION_ERROR\",\n",
    "    )"
   ]
  },
  {
   "cell_type": "code",
   "execution_count": null,
   "id": "bb31e550",
   "metadata": {},
   "outputs": [],
   "source": [
    "# | export\n",
    "\n",
    "\n",
    "class NerdStorageScope(sgqlc.types.Enum):\n",
    "    __schema__ = nerdgraph\n",
    "    __choices__ = (\"ACCOUNT\", \"ACTOR\", \"ENTITY\")"
   ]
  },
  {
   "cell_type": "code",
   "execution_count": null,
   "id": "3961ceeb",
   "metadata": {},
   "outputs": [],
   "source": [
    "# | export\n",
    "\n",
    "\n",
    "class NerdStorageVaultActorScope(sgqlc.types.Enum):\n",
    "    __schema__ = nerdgraph\n",
    "    __choices__ = (\"CURRENT_USER\",)"
   ]
  },
  {
   "cell_type": "code",
   "execution_count": null,
   "id": "a20a7e8f",
   "metadata": {},
   "outputs": [],
   "source": [
    "# | export\n",
    "\n",
    "\n",
    "class NerdStorageVaultErrorType(sgqlc.types.Enum):\n",
    "    __schema__ = nerdgraph\n",
    "    __choices__ = (\"ACCESS_DENIED\", \"BAD_INPUT\", \"NOT_FOUND\", \"VALIDATION_FAILED\")"
   ]
  },
  {
   "cell_type": "code",
   "execution_count": null,
   "id": "269c61a8",
   "metadata": {},
   "outputs": [],
   "source": [
    "# | export\n",
    "\n",
    "\n",
    "class NerdStorageVaultResultStatus(sgqlc.types.Enum):\n",
    "    __schema__ = nerdgraph\n",
    "    __choices__ = (\"FAILURE\", \"SUCCESS\")"
   ]
  },
  {
   "cell_type": "code",
   "execution_count": null,
   "id": "2579e085",
   "metadata": {},
   "outputs": [],
   "source": [
    "# | export\n",
    "\n",
    "\n",
    "class NerdpackMutationErrorType(sgqlc.types.Enum):\n",
    "    __schema__ = nerdgraph\n",
    "    __choices__ = (\n",
    "        \"CAPABILITY_NOT_GRANTED\",\n",
    "        \"DOWNSTREAM_ERROR\",\n",
    "        \"NOT_FOUND\",\n",
    "        \"TNC_NOT_ACCEPTED\",\n",
    "        \"UNAUTHORIZED_ACCOUNT\",\n",
    "    )"
   ]
  },
  {
   "cell_type": "code",
   "execution_count": null,
   "id": "8424b867",
   "metadata": {},
   "outputs": [],
   "source": [
    "# | export\n",
    "\n",
    "\n",
    "class NerdpackMutationResult(sgqlc.types.Enum):\n",
    "    __schema__ = nerdgraph\n",
    "    __choices__ = (\"ERROR\", \"OK\")"
   ]
  },
  {
   "cell_type": "code",
   "execution_count": null,
   "id": "57dfaf67",
   "metadata": {},
   "outputs": [],
   "source": [
    "# | export\n",
    "\n",
    "\n",
    "class NerdpackRemovedTagResponseType(sgqlc.types.Enum):\n",
    "    __schema__ = nerdgraph\n",
    "    __choices__ = (\"NOTHING_TO_REMOVE\", \"REMOVED\")"
   ]
  },
  {
   "cell_type": "code",
   "execution_count": null,
   "id": "1738fa06",
   "metadata": {},
   "outputs": [],
   "source": [
    "# | export\n",
    "\n",
    "\n",
    "class NerdpackSubscriptionAccessType(sgqlc.types.Enum):\n",
    "    __schema__ = nerdgraph\n",
    "    __choices__ = (\"DIRECT\", \"INHERITED\")"
   ]
  },
  {
   "cell_type": "code",
   "execution_count": null,
   "id": "fc165267",
   "metadata": {},
   "outputs": [],
   "source": [
    "# | export\n",
    "\n",
    "\n",
    "class NerdpackSubscriptionModel(sgqlc.types.Enum):\n",
    "    __schema__ = nerdgraph\n",
    "    __choices__ = (\"CORE\", \"GLOBAL\", \"OWNER_AND_ALLOWED\")"
   ]
  },
  {
   "cell_type": "code",
   "execution_count": null,
   "id": "4b52aebe",
   "metadata": {},
   "outputs": [],
   "source": [
    "# | export\n",
    "\n",
    "\n",
    "class NerdpackVersionFilterFallback(sgqlc.types.Enum):\n",
    "    __schema__ = nerdgraph\n",
    "    __choices__ = (\"LATEST_SEMVER\",)"
   ]
  },
  {
   "cell_type": "code",
   "execution_count": null,
   "id": "2d8082a1",
   "metadata": {},
   "outputs": [],
   "source": [
    "# | export\n",
    "\n",
    "\n",
    "class Nr1CatalogAlertConditionType(sgqlc.types.Enum):\n",
    "    __schema__ = nerdgraph\n",
    "    __choices__ = (\"BASELINE\", \"STATIC\")"
   ]
  },
  {
   "cell_type": "code",
   "execution_count": null,
   "id": "a5f93be1",
   "metadata": {},
   "outputs": [],
   "source": [
    "# | export\n",
    "\n",
    "\n",
    "class Nr1CatalogInstallPlanDestination(sgqlc.types.Enum):\n",
    "    __schema__ = nerdgraph\n",
    "    __choices__ = (\"APPLICATION\", \"CLOUD\", \"HOST\", \"KUBERNETES\", \"UNKNOWN\")"
   ]
  },
  {
   "cell_type": "code",
   "execution_count": null,
   "id": "d1719381",
   "metadata": {},
   "outputs": [],
   "source": [
    "# | export\n",
    "\n",
    "\n",
    "class Nr1CatalogInstallPlanDirectiveMode(sgqlc.types.Enum):\n",
    "    __schema__ = nerdgraph\n",
    "    __choices__ = (\"LINK\", \"NERDLET\", \"TARGETED\")"
   ]
  },
  {
   "cell_type": "code",
   "execution_count": null,
   "id": "c1208658",
   "metadata": {},
   "outputs": [],
   "source": [
    "# | export\n",
    "\n",
    "\n",
    "class Nr1CatalogInstallPlanOperatingSystem(sgqlc.types.Enum):\n",
    "    __schema__ = nerdgraph\n",
    "    __choices__ = (\"DARWIN\", \"LINUX\", \"WINDOWS\")"
   ]
  },
  {
   "cell_type": "code",
   "execution_count": null,
   "id": "92762b60",
   "metadata": {},
   "outputs": [],
   "source": [
    "# | export\n",
    "\n",
    "\n",
    "class Nr1CatalogInstallPlanTargetType(sgqlc.types.Enum):\n",
    "    __schema__ = nerdgraph\n",
    "    __choices__ = (\"AGENT\", \"INTEGRATION\", \"ON_HOST_INTEGRATION\", \"UNKNOWN\")"
   ]
  },
  {
   "cell_type": "code",
   "execution_count": null,
   "id": "a7c44c7b",
   "metadata": {},
   "outputs": [],
   "source": [
    "# | export\n",
    "\n",
    "\n",
    "class Nr1CatalogInstallerType(sgqlc.types.Enum):\n",
    "    __schema__ = nerdgraph\n",
    "    __choices__ = (\"INSTALL_PLAN\",)"
   ]
  },
  {
   "cell_type": "code",
   "execution_count": null,
   "id": "faef6eaa",
   "metadata": {},
   "outputs": [],
   "source": [
    "# | export\n",
    "\n",
    "\n",
    "class Nr1CatalogMutationResult(sgqlc.types.Enum):\n",
    "    __schema__ = nerdgraph\n",
    "    __choices__ = (\"ERROR\", \"OK\")"
   ]
  },
  {
   "cell_type": "code",
   "execution_count": null,
   "id": "978f3155",
   "metadata": {},
   "outputs": [],
   "source": [
    "# | export\n",
    "\n",
    "\n",
    "class Nr1CatalogNerdpackVisibility(sgqlc.types.Enum):\n",
    "    __schema__ = nerdgraph\n",
    "    __choices__ = (\"GLOBAL\", \"OWNER_AND_ALLOWED\")"
   ]
  },
  {
   "cell_type": "code",
   "execution_count": null,
   "id": "0775c1b3",
   "metadata": {},
   "outputs": [],
   "source": [
    "# | export\n",
    "\n",
    "\n",
    "class Nr1CatalogQuickstartAlertConditionType(sgqlc.types.Enum):\n",
    "    __schema__ = nerdgraph\n",
    "    __choices__ = (\"BASELINE\", \"STATIC\")"
   ]
  },
  {
   "cell_type": "code",
   "execution_count": null,
   "id": "a3e09058",
   "metadata": {},
   "outputs": [],
   "source": [
    "# | export\n",
    "\n",
    "\n",
    "class Nr1CatalogRenderFormat(sgqlc.types.Enum):\n",
    "    __schema__ = nerdgraph\n",
    "    __choices__ = (\"MARKDOWN\",)"
   ]
  },
  {
   "cell_type": "code",
   "execution_count": null,
   "id": "4dff487a",
   "metadata": {},
   "outputs": [],
   "source": [
    "# | export\n",
    "\n",
    "\n",
    "class Nr1CatalogSearchComponentType(sgqlc.types.Enum):\n",
    "    __schema__ = nerdgraph\n",
    "    __choices__ = (\"ALERTS\", \"APPS\", \"DASHBOARDS\", \"DATA_SOURCES\", \"VISUALIZATIONS\")"
   ]
  },
  {
   "cell_type": "code",
   "execution_count": null,
   "id": "7335da08",
   "metadata": {},
   "outputs": [],
   "source": [
    "# | export\n",
    "\n",
    "\n",
    "class Nr1CatalogSearchResultType(sgqlc.types.Enum):\n",
    "    __schema__ = nerdgraph\n",
    "    __choices__ = (\n",
    "        \"ALERT_POLICY_TEMPLATE\",\n",
    "        \"DASHBOARD_TEMPLATE\",\n",
    "        \"DATA_SOURCE\",\n",
    "        \"NERDPACK\",\n",
    "        \"QUICKSTART\",\n",
    "    )"
   ]
  },
  {
   "cell_type": "code",
   "execution_count": null,
   "id": "da36cb86",
   "metadata": {},
   "outputs": [],
   "source": [
    "# | export\n",
    "\n",
    "\n",
    "class Nr1CatalogSearchSortOption(sgqlc.types.Enum):\n",
    "    __schema__ = nerdgraph\n",
    "    __choices__ = (\"ALPHABETICAL\", \"POPULARITY\", \"RELEVANCE\", \"REVERSE_ALPHABETICAL\")"
   ]
  },
  {
   "cell_type": "code",
   "execution_count": null,
   "id": "b18b7d94",
   "metadata": {},
   "outputs": [],
   "source": [
    "# | export\n",
    "\n",
    "\n",
    "class Nr1CatalogSubmitMetadataErrorType(sgqlc.types.Enum):\n",
    "    __schema__ = nerdgraph\n",
    "    __choices__ = (\n",
    "        \"NERDPACK_NOT_FOUND\",\n",
    "        \"SERVER_ERROR\",\n",
    "        \"UNAUTHORIZED\",\n",
    "        \"UNSUPPORTED_TYPE\",\n",
    "        \"VALIDATION_FAILED\",\n",
    "    )"
   ]
  },
  {
   "cell_type": "code",
   "execution_count": null,
   "id": "f4eb2600",
   "metadata": {},
   "outputs": [],
   "source": [
    "# | export\n",
    "\n",
    "\n",
    "class Nr1CatalogSupportLevel(sgqlc.types.Enum):\n",
    "    __schema__ = nerdgraph\n",
    "    __choices__ = (\"COMMUNITY\", \"ENTERPRISE\", \"NEW_RELIC\", \"VERIFIED\")"
   ]
  },
  {
   "cell_type": "code",
   "execution_count": null,
   "id": "8b4ccc78",
   "metadata": {},
   "outputs": [],
   "source": [
    "# | export\n",
    "\n",
    "\n",
    "class Nr1CatalogSupportedEntityTypesMode(sgqlc.types.Enum):\n",
    "    __schema__ = nerdgraph\n",
    "    __choices__ = (\"ALL\", \"NONE\", \"SPECIFIC\")"
   ]
  },
  {
   "cell_type": "code",
   "execution_count": null,
   "id": "44655477",
   "metadata": {},
   "outputs": [],
   "source": [
    "# | export\n",
    "\n",
    "\n",
    "class NrqlDropRulesAction(sgqlc.types.Enum):\n",
    "    __schema__ = nerdgraph\n",
    "    __choices__ = (\n",
    "        \"DROP_ATTRIBUTES\",\n",
    "        \"DROP_ATTRIBUTES_FROM_METRIC_AGGREGATES\",\n",
    "        \"DROP_DATA\",\n",
    "    )"
   ]
  },
  {
   "cell_type": "code",
   "execution_count": null,
   "id": "2d87d75c",
   "metadata": {},
   "outputs": [],
   "source": [
    "# | export\n",
    "\n",
    "\n",
    "class NrqlDropRulesErrorReason(sgqlc.types.Enum):\n",
    "    __schema__ = nerdgraph\n",
    "    __choices__ = (\n",
    "        \"FEATURE_FLAG_DISABLED\",\n",
    "        \"GENERAL\",\n",
    "        \"INVALID_INPUT\",\n",
    "        \"INVALID_QUERY\",\n",
    "        \"RULE_NOT_FOUND\",\n",
    "        \"USER_NOT_AUTHORIZED\",\n",
    "    )"
   ]
  },
  {
   "cell_type": "code",
   "execution_count": null,
   "id": "30c7f74c",
   "metadata": {},
   "outputs": [],
   "source": [
    "# | export\n",
    "\n",
    "\n",
    "class OrganizationAuthenticationTypeEnum(sgqlc.types.Enum):\n",
    "    __schema__ = nerdgraph\n",
    "    __choices__ = (\"DISABLED\", \"PASSWORD\", \"SAML_SSO\")"
   ]
  },
  {
   "cell_type": "code",
   "execution_count": null,
   "id": "0f44ad9b",
   "metadata": {},
   "outputs": [],
   "source": [
    "# | export\n",
    "\n",
    "\n",
    "class OrganizationProvisioningTypeEnum(sgqlc.types.Enum):\n",
    "    __schema__ = nerdgraph\n",
    "    __choices__ = (\"DISABLED\", \"MANUAL\", \"SCIM\")"
   ]
  },
  {
   "cell_type": "code",
   "execution_count": null,
   "id": "96d2f13f",
   "metadata": {},
   "outputs": [],
   "source": [
    "# | export\n",
    "\n",
    "\n",
    "class OrganizationProvisioningUnit(sgqlc.types.Enum):\n",
    "    __schema__ = nerdgraph\n",
    "    __choices__ = (\n",
    "        \"ADDITIONAL_DAYS_OF_RETENTION\",\n",
    "        \"APPS\",\n",
    "        \"APP_TRANSACTIONS_IN_MILLIONS\",\n",
    "        \"CHECKS\",\n",
    "        \"COMPUTE_UNIT\",\n",
    "        \"DATA_RETENTION_IN_DAYS\",\n",
    "        \"DPM\",\n",
    "        \"EVENTS_IN_MILLIONS\",\n",
    "        \"GB_INGESTED\",\n",
    "        \"GB_PER_DAY\",\n",
    "        \"GRACE_PERIOD\",\n",
    "        \"HOSTS\",\n",
    "        \"INCIDENT_EVENTS\",\n",
    "        \"INGESTED_EVENTS\",\n",
    "        \"MONTHLY_ACTIVE_USERS\",\n",
    "        \"PAGE_VIEWS\",\n",
    "        \"PROVISIONED_USERS\",\n",
    "        \"SPANS_IN_MILLIONS\",\n",
    "        \"USERS\",\n",
    "    )"
   ]
  },
  {
   "cell_type": "code",
   "execution_count": null,
   "id": "3119a652",
   "metadata": {},
   "outputs": [],
   "source": [
    "# | export\n",
    "\n",
    "\n",
    "class OrganizationSortDirectionEnum(sgqlc.types.Enum):\n",
    "    __schema__ = nerdgraph\n",
    "    __choices__ = (\"ASCENDING\", \"DESCENDING\")"
   ]
  },
  {
   "cell_type": "code",
   "execution_count": null,
   "id": "2c660d9a",
   "metadata": {},
   "outputs": [],
   "source": [
    "# | export\n",
    "\n",
    "\n",
    "class OrganizationSortKeyEnum(sgqlc.types.Enum):\n",
    "    __schema__ = nerdgraph\n",
    "    __choices__ = (\"ID\", \"NAME\")"
   ]
  },
  {
   "cell_type": "code",
   "execution_count": null,
   "id": "b2cea204",
   "metadata": {},
   "outputs": [],
   "source": [
    "# | export\n",
    "\n",
    "\n",
    "class OrganizationUpdateErrorType(sgqlc.types.Enum):\n",
    "    __schema__ = nerdgraph\n",
    "    __choices__ = (\"INVALID_RECORD\", \"NOT_AUTHORIZED\")"
   ]
  },
  {
   "cell_type": "code",
   "execution_count": null,
   "id": "d1f6b901",
   "metadata": {},
   "outputs": [],
   "source": [
    "# | export\n",
    "\n",
    "\n",
    "class PixieLinkPixieProjectErrorType(sgqlc.types.Enum):\n",
    "    __schema__ = nerdgraph\n",
    "    __choices__ = (\n",
    "        \"ALREADY_LINKED\",\n",
    "        \"AUTO_CREATION_NOT_SUPPORTED\",\n",
    "        \"INVALID_NEWRELIC_ACCOUNT\",\n",
    "        \"INVALID_PIXIE_API_KEY\",\n",
    "        \"UNLINKING_NOT_SUPPORTED\",\n",
    "    )"
   ]
  },
  {
   "cell_type": "code",
   "execution_count": null,
   "id": "fce52c4a",
   "metadata": {},
   "outputs": [],
   "source": [
    "# | export\n",
    "\n",
    "\n",
    "class PixieRecordPixieTosAcceptanceErrorType(sgqlc.types.Enum):\n",
    "    __schema__ = nerdgraph\n",
    "    __choices__ = (\"MISSING_DATA\",)"
   ]
  },
  {
   "cell_type": "code",
   "execution_count": null,
   "id": "dd20880e",
   "metadata": {},
   "outputs": [],
   "source": [
    "# | export\n",
    "\n",
    "\n",
    "class ReferenceEntityCreateRepositoryErrorType(sgqlc.types.Enum):\n",
    "    __schema__ = nerdgraph\n",
    "    __choices__ = (\"FORBIDDEN\", \"INVALID_INPUT\")"
   ]
  },
  {
   "cell_type": "code",
   "execution_count": null,
   "id": "76c8a6f1",
   "metadata": {},
   "outputs": [],
   "source": [
    "# | export\n",
    "\n",
    "\n",
    "class RegionScope(sgqlc.types.Enum):\n",
    "    __schema__ = nerdgraph\n",
    "    __choices__ = (\"GLOBAL\", \"IN_REGION\")"
   ]
  },
  {
   "cell_type": "code",
   "execution_count": null,
   "id": "a9152e6b",
   "metadata": {},
   "outputs": [],
   "source": [
    "# | export\n",
    "\n",
    "\n",
    "class ServiceLevelEventsQuerySelectFunction(sgqlc.types.Enum):\n",
    "    __schema__ = nerdgraph\n",
    "    __choices__ = (\"COUNT\", \"GET_CDF_COUNT\", \"GET_FIELD\", \"SUM\")"
   ]
  },
  {
   "cell_type": "code",
   "execution_count": null,
   "id": "ee0f914c",
   "metadata": {},
   "outputs": [],
   "source": [
    "# | export\n",
    "\n",
    "\n",
    "class ServiceLevelObjectiveRollingTimeWindowUnit(sgqlc.types.Enum):\n",
    "    __schema__ = nerdgraph\n",
    "    __choices__ = (\"DAY\",)"
   ]
  },
  {
   "cell_type": "code",
   "execution_count": null,
   "id": "9db5e0b3",
   "metadata": {},
   "outputs": [],
   "source": [
    "# | export\n",
    "\n",
    "\n",
    "class SortBy(sgqlc.types.Enum):\n",
    "    __schema__ = nerdgraph\n",
    "    __choices__ = (\"ASC\", \"DESC\")"
   ]
  },
  {
   "cell_type": "code",
   "execution_count": null,
   "id": "7e34ddfe",
   "metadata": {},
   "outputs": [],
   "source": [
    "# | export\n",
    "\n",
    "\n",
    "class StreamingExportStatus(sgqlc.types.Enum):\n",
    "    __schema__ = nerdgraph\n",
    "    __choices__ = (\n",
    "        \"CREATION_FAILED\",\n",
    "        \"CREATION_IN_PROGRESS\",\n",
    "        \"DELETED\",\n",
    "        \"DISABLED\",\n",
    "        \"ENABLED\",\n",
    "    )"
   ]
  },
  {
   "cell_type": "code",
   "execution_count": null,
   "id": "29023692",
   "metadata": {},
   "outputs": [],
   "source": [
    "# | export\n",
    "\n",
    "\n",
    "class SyntheticMonitorStatus(sgqlc.types.Enum):\n",
    "    __schema__ = nerdgraph\n",
    "    __choices__ = (\"DELETED\", \"DISABLED\", \"ENABLED\", \"FAULTY\", \"MUTED\", \"PAUSED\")"
   ]
  },
  {
   "cell_type": "code",
   "execution_count": null,
   "id": "4d71dcae",
   "metadata": {},
   "outputs": [],
   "source": [
    "# | export\n",
    "\n",
    "\n",
    "class SyntheticMonitorType(sgqlc.types.Enum):\n",
    "    __schema__ = nerdgraph\n",
    "    __choices__ = (\n",
    "        \"BROKEN_LINKS\",\n",
    "        \"BROWSER\",\n",
    "        \"CERT_CHECK\",\n",
    "        \"SCRIPT_API\",\n",
    "        \"SCRIPT_BROWSER\",\n",
    "        \"SIMPLE\",\n",
    "        \"STEP_MONITOR\",\n",
    "    )"
   ]
  },
  {
   "cell_type": "code",
   "execution_count": null,
   "id": "be0158f5",
   "metadata": {},
   "outputs": [],
   "source": [
    "# | export\n",
    "\n",
    "\n",
    "class SyntheticsDeviceOrientation(sgqlc.types.Enum):\n",
    "    __schema__ = nerdgraph\n",
    "    __choices__ = (\"LANDSCAPE\", \"NONE\", \"PORTRAIT\")"
   ]
  },
  {
   "cell_type": "code",
   "execution_count": null,
   "id": "23e407db",
   "metadata": {},
   "outputs": [],
   "source": [
    "# | export\n",
    "\n",
    "\n",
    "class SyntheticsDeviceType(sgqlc.types.Enum):\n",
    "    __schema__ = nerdgraph\n",
    "    __choices__ = (\"MOBILE\", \"NONE\", \"TABLET\")"
   ]
  },
  {
   "cell_type": "code",
   "execution_count": null,
   "id": "cd110efb",
   "metadata": {},
   "outputs": [],
   "source": [
    "# | export\n",
    "\n",
    "\n",
    "class SyntheticsMonitorCreateErrorType(sgqlc.types.Enum):\n",
    "    __schema__ = nerdgraph\n",
    "    __choices__ = (\n",
    "        \"BAD_REQUEST\",\n",
    "        \"INTERNAL_SERVER_ERROR\",\n",
    "        \"NOT_FOUND\",\n",
    "        \"PAYMENT_REQUIRED\",\n",
    "        \"TAGGING_ERROR\",\n",
    "        \"UNAUTHORIZED\",\n",
    "        \"UNKNOWN_ERROR\",\n",
    "    )"
   ]
  },
  {
   "cell_type": "code",
   "execution_count": null,
   "id": "f583ddf7",
   "metadata": {},
   "outputs": [],
   "source": [
    "# | export\n",
    "\n",
    "\n",
    "class SyntheticsMonitorPeriod(sgqlc.types.Enum):\n",
    "    __schema__ = nerdgraph\n",
    "    __choices__ = (\n",
    "        \"EVERY_10_MINUTES\",\n",
    "        \"EVERY_12_HOURS\",\n",
    "        \"EVERY_15_MINUTES\",\n",
    "        \"EVERY_30_MINUTES\",\n",
    "        \"EVERY_5_MINUTES\",\n",
    "        \"EVERY_6_HOURS\",\n",
    "        \"EVERY_DAY\",\n",
    "        \"EVERY_HOUR\",\n",
    "        \"EVERY_MINUTE\",\n",
    "    )"
   ]
  },
  {
   "cell_type": "code",
   "execution_count": null,
   "id": "2e188280",
   "metadata": {},
   "outputs": [],
   "source": [
    "# | export\n",
    "\n",
    "\n",
    "class SyntheticsMonitorStatus(sgqlc.types.Enum):\n",
    "    __schema__ = nerdgraph\n",
    "    __choices__ = (\"DISABLED\", \"ENABLED\", \"MUTED\")"
   ]
  },
  {
   "cell_type": "code",
   "execution_count": null,
   "id": "c5c17b61",
   "metadata": {},
   "outputs": [],
   "source": [
    "# | export\n",
    "\n",
    "\n",
    "class SyntheticsMonitorUpdateErrorType(sgqlc.types.Enum):\n",
    "    __schema__ = nerdgraph\n",
    "    __choices__ = (\n",
    "        \"BAD_REQUEST\",\n",
    "        \"INTERNAL_SERVER_ERROR\",\n",
    "        \"NOT_FOUND\",\n",
    "        \"SCRIPT_ERROR\",\n",
    "        \"TAGGING_ERROR\",\n",
    "        \"UNAUTHORIZED\",\n",
    "        \"UNKNOWN_ERROR\",\n",
    "    )"
   ]
  },
  {
   "cell_type": "code",
   "execution_count": null,
   "id": "1a9f9b8f",
   "metadata": {},
   "outputs": [],
   "source": [
    "# | export\n",
    "\n",
    "\n",
    "class SyntheticsPrivateLocationMutationErrorType(sgqlc.types.Enum):\n",
    "    __schema__ = nerdgraph\n",
    "    __choices__ = (\"BAD_REQUEST\", \"INTERNAL_SERVER_ERROR\", \"NOT_FOUND\", \"UNAUTHORIZED\")"
   ]
  },
  {
   "cell_type": "code",
   "execution_count": null,
   "id": "5323a64e",
   "metadata": {},
   "outputs": [],
   "source": [
    "# | export\n",
    "\n",
    "\n",
    "class SyntheticsStepType(sgqlc.types.Enum):\n",
    "    __schema__ = nerdgraph\n",
    "    __choices__ = (\n",
    "        \"ASSERT_ELEMENT\",\n",
    "        \"ASSERT_MODAL\",\n",
    "        \"ASSERT_TEXT\",\n",
    "        \"ASSERT_TITLE\",\n",
    "        \"CLICK_ELEMENT\",\n",
    "        \"DISMISS_MODAL\",\n",
    "        \"DOUBLE_CLICK_ELEMENT\",\n",
    "        \"HOVER_ELEMENT\",\n",
    "        \"NAVIGATE\",\n",
    "        \"SECURE_TEXT_ENTRY\",\n",
    "        \"SELECT_ELEMENT\",\n",
    "        \"TEXT_ENTRY\",\n",
    "    )"
   ]
  },
  {
   "cell_type": "code",
   "execution_count": null,
   "id": "d4194561",
   "metadata": {},
   "outputs": [],
   "source": [
    "# | export\n",
    "\n",
    "\n",
    "class TaggingMutationErrorType(sgqlc.types.Enum):\n",
    "    __schema__ = nerdgraph\n",
    "    __choices__ = (\n",
    "        \"CONCURRENT_TASK_EXCEPTION\",\n",
    "        \"INVALID_DOMAIN_TYPE\",\n",
    "        \"INVALID_ENTITY_GUID\",\n",
    "        \"INVALID_KEY\",\n",
    "        \"INVALID_VALUE\",\n",
    "        \"NOT_FOUND\",\n",
    "        \"NOT_PERMITTED\",\n",
    "        \"TOO_MANY_CHARS_QUERY_FILTER\",\n",
    "        \"TOO_MANY_TAG_KEYS\",\n",
    "        \"TOO_MANY_TAG_VALUES\",\n",
    "        \"UPDATE_WILL_BE_DELAYED\",\n",
    "    )"
   ]
  },
  {
   "cell_type": "code",
   "execution_count": null,
   "id": "775e8d18",
   "metadata": {},
   "outputs": [],
   "source": [
    "# | export\n",
    "\n",
    "\n",
    "class UserManagementRequestedTierName(sgqlc.types.Enum):\n",
    "    __schema__ = nerdgraph\n",
    "    __choices__ = (\"BASIC_USER_TIER\", \"CORE_USER_TIER\", \"FULL_USER_TIER\")"
   ]
  },
  {
   "cell_type": "code",
   "execution_count": null,
   "id": "d97e05db",
   "metadata": {},
   "outputs": [],
   "source": [
    "# | export\n",
    "\n",
    "\n",
    "class UserManagementTypeEnum(sgqlc.types.Enum):\n",
    "    __schema__ = nerdgraph\n",
    "    __choices__ = (\"BASIC\", \"CORE\", \"FULL_PLATFORM\")"
   ]
  },
  {
   "cell_type": "code",
   "execution_count": null,
   "id": "11b38e4c",
   "metadata": {},
   "outputs": [],
   "source": [
    "# | export\n",
    "\n",
    "\n",
    "class WhatsNewContentType(sgqlc.types.Enum):\n",
    "    __schema__ = nerdgraph\n",
    "    __choices__ = (\"ANNOUNCEMENT\",)"
   ]
  },
  {
   "cell_type": "code",
   "execution_count": null,
   "id": "fcc49c49",
   "metadata": {},
   "outputs": [],
   "source": [
    "# | export\n",
    "\n",
    "\n",
    "class WorkloadGroupRemainingEntitiesRuleBy(sgqlc.types.Enum):\n",
    "    __schema__ = nerdgraph\n",
    "    __choices__ = (\"ENTITY_TYPE\", \"NONE\")"
   ]
  },
  {
   "cell_type": "code",
   "execution_count": null,
   "id": "ee458e32",
   "metadata": {},
   "outputs": [],
   "source": [
    "# | export\n",
    "\n",
    "\n",
    "class WorkloadResultingGroupType(sgqlc.types.Enum):\n",
    "    __schema__ = nerdgraph\n",
    "    __choices__ = (\"REGULAR_GROUP\", \"REMAINING_ENTITIES\")"
   ]
  },
  {
   "cell_type": "code",
   "execution_count": null,
   "id": "0927cb37",
   "metadata": {},
   "outputs": [],
   "source": [
    "# | export\n",
    "\n",
    "\n",
    "class WorkloadRollupStrategy(sgqlc.types.Enum):\n",
    "    __schema__ = nerdgraph\n",
    "    __choices__ = (\"BEST_STATUS_WINS\", \"WORST_STATUS_WINS\")"
   ]
  },
  {
   "cell_type": "code",
   "execution_count": null,
   "id": "b91e0b35",
   "metadata": {},
   "outputs": [],
   "source": [
    "# | export\n",
    "\n",
    "\n",
    "class WorkloadRuleThresholdType(sgqlc.types.Enum):\n",
    "    __schema__ = nerdgraph\n",
    "    __choices__ = (\"FIXED\", \"PERCENTAGE\")"
   ]
  },
  {
   "cell_type": "code",
   "execution_count": null,
   "id": "8cd3efa0",
   "metadata": {},
   "outputs": [],
   "source": [
    "# | export\n",
    "\n",
    "\n",
    "class WorkloadStatusSource(sgqlc.types.Enum):\n",
    "    __schema__ = nerdgraph\n",
    "    __choices__ = (\"ROLLUP_RULE\", \"STATIC\", \"UNKNOWN\", \"WORKLOAD\")"
   ]
  },
  {
   "cell_type": "code",
   "execution_count": null,
   "id": "87259213",
   "metadata": {},
   "outputs": [],
   "source": [
    "# | export\n",
    "\n",
    "\n",
    "class WorkloadStatusValue(sgqlc.types.Enum):\n",
    "    __schema__ = nerdgraph\n",
    "    __choices__ = (\"DEGRADED\", \"DISRUPTED\", \"OPERATIONAL\", \"UNKNOWN\")"
   ]
  },
  {
   "cell_type": "code",
   "execution_count": null,
   "id": "0630a193",
   "metadata": {},
   "outputs": [],
   "source": [
    "# | export\n",
    "\n",
    "\n",
    "class WorkloadStatusValueInput(sgqlc.types.Enum):\n",
    "    __schema__ = nerdgraph\n",
    "    __choices__ = (\"DEGRADED\", \"DISRUPTED\", \"OPERATIONAL\")"
   ]
  }
 ],
 "metadata": {
  "language_info": {
   "mimetype": "text/x-python",
   "name": "python"
  }
 },
 "nbformat": 4,
 "nbformat_minor": 5
}
