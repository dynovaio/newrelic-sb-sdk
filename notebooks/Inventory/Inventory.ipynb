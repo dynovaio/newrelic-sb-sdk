{
 "cells": [
  {
   "cell_type": "markdown",
   "id": "6987d72d-40d4-488d-983d-07e0bc3ba941",
   "metadata": {
    "tags": []
   },
   "source": [
    "# Inventory"
   ]
  },
  {
   "cell_type": "markdown",
   "id": "afc172da-d249-4cf4-9e4f-a5a4b9fe71b8",
   "metadata": {},
   "source": [
    "## Imports"
   ]
  },
  {
   "cell_type": "markdown",
   "id": "7bf79d56-1435-48cf-8966-73c2baa1f1de",
   "metadata": {},
   "source": [
    "Development modules"
   ]
  },
  {
   "cell_type": "code",
   "execution_count": null,
   "id": "ac2f609d-5887-4dd5-b42d-2abd2a62662d",
   "metadata": {},
   "outputs": [],
   "source": [
    "from importnb import Notebook\n",
    "from IPython.display import clear_output\n",
    "from dataclasses import dataclass"
   ]
  },
  {
   "cell_type": "code",
   "execution_count": null,
   "id": "cae050ac-1f8c-4a84-a032-320c02b887db",
   "metadata": {},
   "outputs": [],
   "source": [
    "widgets_module = Notebook.load(\"../Dashboards/Widgets.ipynb\", main=True)\n",
    "clear_output()\n",
    "\n",
    "Widget = widgets_module.Widget\n",
    "WidgetLayout = widgets_module.WidgetLayout\n",
    "WidgetVisualization = widgets_module.WidgetVisualization\n",
    "WidgetConfiguration = widgets_module.WidgetConfiguration"
   ]
  },
  {
   "cell_type": "code",
   "execution_count": null,
   "id": "32490a35-fbb1-4412-81fb-69e7078e0a81",
   "metadata": {},
   "outputs": [],
   "source": [
    "enums_module = Notebook.load(\"../Dashboards/Enums.ipynb\", main=True)\n",
    "clear_output()\n",
    "\n",
    "WidgetVisualizationId = enums_module.WidgetVisualizationId\n",
    "WidgetType = enums_module.WidgetType"
   ]
  },
  {
   "cell_type": "code",
   "execution_count": null,
   "id": "ac04148a-d372-4c1c-b3be-24e0e40eb5b8",
   "metadata": {},
   "outputs": [],
   "source": [
    "utils_module = Notebook.load(\"../Dashboards/Utils.ipynb\", main=True)\n",
    "clear_output()\n",
    "\n",
    "Threshold = utils_module.Threshold\n",
    "NRQLQuery = utils_module.NRQLQuery"
   ]
  }
 ],
 "metadata": {
  "kernelspec": {
   "display_name": "Python 3 (ipykernel)",
   "language": "python",
   "name": "python3"
  },
  "language_info": {
   "codemirror_mode": {
    "name": "ipython",
    "version": 3
   },
   "file_extension": ".py",
   "mimetype": "text/x-python",
   "name": "python",
   "nbconvert_exporter": "python",
   "pygments_lexer": "ipython3",
   "version": "3.10.3"
  }
 },
 "nbformat": 4,
 "nbformat_minor": 5
}
