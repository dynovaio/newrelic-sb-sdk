{
 "cells": [
  {
   "cell_type": "markdown",
   "id": "63d69a4b-cc35-4b50-b10b-ae2249ee3380",
   "metadata": {
    "tags": []
   },
   "source": [
    "# Widgets Inventory "
   ]
  },
  {
   "cell_type": "code",
   "execution_count": null,
   "id": "b2145437-9224-4217-8639-d0ba67b8a98b",
   "metadata": {},
   "outputs": [],
   "source": [
    "from importnb import Notebook\n",
    "from IPython.display import clear_output\n",
    "from dataclasses import dataclass"
   ]
  },
  {
   "cell_type": "code",
   "execution_count": null,
   "id": "132b1a6b-c3f1-472f-bd7f-bb644ed15798",
   "metadata": {
    "tags": []
   },
   "outputs": [],
   "source": [
    "widgets_module = Notebook.load(\"../Dashboards/Widgets.ipynb\", main=True)\n",
    "clear_output()\n",
    "\n",
    "Widget = widgets_module.Widget\n",
    "WidgetLayout = widgets_module.WidgetLayout\n",
    "WidgetVisualization = widgets_module.WidgetVisualization\n",
    "WidgetConfiguration = widgets_module.WidgetConfiguration"
   ]
  },
  {
   "cell_type": "code",
   "execution_count": null,
   "id": "4c6215a8-cabb-4e2e-b16c-a6eeb5e6bbfc",
   "metadata": {},
   "outputs": [],
   "source": [
    "enums_module = Notebook.load(\"../Dashboards/Enums.ipynb\", main=True)\n",
    "clear_output()\n",
    "\n",
    "WidgetVisualizationId = enums_module.WidgetVisualizationId\n",
    "WidgetType = enums_module.WidgetType"
   ]
  },
  {
   "cell_type": "code",
   "execution_count": null,
   "id": "d4e5ab2b-a6cb-441b-976a-a3dc89f3acbe",
   "metadata": {},
   "outputs": [],
   "source": [
    "type(WidgetVisualizationId.LINE)"
   ]
  },
  {
   "cell_type": "code",
   "execution_count": null,
   "id": "a7f5f7f4-7db9-4b57-b76c-ec0875f641b5",
   "metadata": {},
   "outputs": [],
   "source": [
    "utils_module = Notebook.load(\"../Dashboards/Utils.ipynb\", main=True)\n",
    "clear_output()\n",
    "\n",
    "Threshold = utils_module.Threshold\n",
    "NRQLQuery = utils_module.NRQLQuery"
   ]
  }
 ],
 "metadata": {
  "kernelspec": {
   "display_name": "Python 3 (ipykernel)",
   "language": "python",
   "name": "python3"
  },
  "language_info": {
   "codemirror_mode": {
    "name": "ipython",
    "version": 3
   },
   "file_extension": ".py",
   "mimetype": "text/x-python",
   "name": "python",
   "nbconvert_exporter": "python",
   "pygments_lexer": "ipython3",
   "version": "3.10.3"
  }
 },
 "nbformat": 4,
 "nbformat_minor": 5
}
