{
 "cells": [
  {
   "cell_type": "markdown",
   "id": "5981be2a-cc9c-49f6-8bd0-be34e3189eaf",
   "metadata": {
    "tags": []
   },
   "source": [
    "# Widgets Inventory "
   ]
  },
  {
   "cell_type": "code",
   "execution_count": null,
   "id": "a449627e-7049-4449-8df4-ce00957a8fd2",
   "metadata": {},
   "outputs": [],
   "source": [
    "from importnb import Notebook\n",
    "from IPython.display import clear_output\n",
    "from dataclasses import dataclass"
   ]
  },
  {
   "cell_type": "code",
   "execution_count": null,
   "id": "0a33c229-3ad2-45f3-974b-a2c953dbfc9f",
   "metadata": {},
   "outputs": [],
   "source": [
    "widgets_module = Notebook.load(\"../Dashboards/Widgets.ipynb\", main=True)\n",
    "clear_output()\n",
    "\n",
    "Widget = widgets_module.Widget\n",
    "WidgetLayout = widgets_module.WidgetLayout\n",
    "WidgetVisualization = widgets_module.WidgetVisualization\n",
    "WidgetConfiguration = widgets_module.WidgetConfiguration"
   ]
  },
  {
   "cell_type": "code",
   "execution_count": null,
   "id": "b452871f-6bfa-4cfd-9139-09a85f84272b",
   "metadata": {},
   "outputs": [],
   "source": [
    "enums_module = Notebook.load(\"../Dashboards/Enums.ipynb\", main=True)\n",
    "clear_output()\n",
    "\n",
    "WidgetVisualizationId = enums_module.WidgetVisualizationId\n",
    "WidgetType = enums_module.WidgetType"
   ]
  },
  {
   "cell_type": "code",
   "execution_count": null,
   "id": "d2796b3a-2d31-4eb7-8a7d-9c73dc21743c",
   "metadata": {},
   "outputs": [],
   "source": [
    "utils_module = Notebook.load(\"../Dashboards/Utils.ipynb\", main=True)\n",
    "clear_output()\n",
    "\n",
    "Threshold = utils_module.Threshold\n",
    "NRQLQuery = utils_module.NRQLQuery"
   ]
  }
 ],
 "metadata": {
  "kernelspec": {
   "display_name": "Python 3 (ipykernel)",
   "language": "python",
   "name": "python3"
  },
  "language_info": {
   "codemirror_mode": {
    "name": "ipython",
    "version": 3
   },
   "file_extension": ".py",
   "mimetype": "text/x-python",
   "name": "python",
   "nbconvert_exporter": "python",
   "pygments_lexer": "ipython3",
   "version": "3.10.3"
  }
 },
 "nbformat": 4,
 "nbformat_minor": 5
}
