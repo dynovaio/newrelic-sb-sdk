{
 "cells": [
  {
   "cell_type": "markdown",
   "id": "dc2ac0da-ea4e-4c3b-a933-0ef5cfb66e61",
   "metadata": {},
   "source": [
    "## Imports"
   ]
  },
  {
   "cell_type": "markdown",
   "id": "140aa7de-5b70-42b2-aa63-2062ff93558a",
   "metadata": {},
   "source": [
    "Development imports"
   ]
  },
  {
   "cell_type": "code",
   "execution_count": null,
   "id": "e9d06af7-3c27-45c1-aa6d-e530dfa74369",
   "metadata": {},
   "outputs": [],
   "source": [
    "from importnb import Notebook\n",
    "from IPython.display import clear_output\n",
    "from dataclasses import dataclass"
   ]
  },
  {
   "cell_type": "code",
   "execution_count": null,
   "id": "565cb934-46c8-4aac-9248-c8c595a7868a",
   "metadata": {
    "tags": []
   },
   "outputs": [],
   "source": [
    "widgets_module = Notebook.load(\"../Dashboards/Widgets.ipynb\", main=True)\n",
    "clear_output()\n",
    "\n",
    "Widget = widgets_module.Widget\n",
    "WidgetLayout = widgets_module.WidgetLayout\n",
    "WidgetVisualization = widgets_module.WidgetVisualization\n",
    "WidgetConfiguration = widgets_module.WidgetConfiguration"
   ]
  },
  {
   "cell_type": "code",
   "execution_count": null,
   "id": "0e21bf5b-c486-40dc-aa79-a28455f4cd3e",
   "metadata": {
    "tags": []
   },
   "outputs": [],
   "source": [
    "pages_module = Notebook.load(\"../Dashboards/Pages.ipynb\", main=True)\n",
    "clear_output()\n",
    "\n",
    "Page = pages_module.Page"
   ]
  },
  {
   "cell_type": "code",
   "execution_count": null,
   "id": "642f467b-e9e8-4bb1-b325-77503ec0ba85",
   "metadata": {
    "tags": []
   },
   "outputs": [],
   "source": [
    "dasboards_module = Notebook.load(\"../Dashboards/Dashboards.ipynb\", main=True)\n",
    "clear_output()\n",
    "\n",
    "Dashboard = dasboards_module.Dashboard"
   ]
  },
  {
   "cell_type": "code",
   "execution_count": null,
   "id": "6df1e22d-5500-4243-b6a1-48e67ebe8c0d",
   "metadata": {},
   "outputs": [],
   "source": [
    "enums_module = Notebook.load(\"../Dashboards/Enums.ipynb\", main=True)\n",
    "clear_output()\n",
    "\n",
    "WidgetVisualizationId = enums_module.WidgetVisualizationId\n",
    "WidgetType = enums_module.WidgetType"
   ]
  },
  {
   "cell_type": "code",
   "execution_count": null,
   "id": "03a9ab03-c932-4831-9553-697071a2c932",
   "metadata": {},
   "outputs": [],
   "source": [
    "DashboardPermission = enums_module.DashboardPermission"
   ]
  },
  {
   "cell_type": "code",
   "execution_count": null,
   "id": "0c0b1c09-58d5-4059-bf64-8a6ceafc8b8f",
   "metadata": {},
   "outputs": [],
   "source": [
    "utils_module = Notebook.load(\"../Dashboards/Utils.ipynb\", main=True)\n",
    "clear_output()\n",
    "\n",
    "Threshold = utils_module.Threshold\n",
    "NRQLQuery = utils_module.NRQLQuery"
   ]
  },
  {
   "cell_type": "code",
   "execution_count": null,
   "id": "2916baf5-faa1-4dfb-a779-6cbb4d54f6d9",
   "metadata": {},
   "outputs": [],
   "source": [
    "backend_pages_inventory_module = Notebook.load(\"./Pages - Backend.ipynb\")\n",
    "clear_output()\n",
    "\n",
    "microservices_performance_overview = (\n",
    "    backend_pages_inventory_module.microservices_performance_overview\n",
    ")"
   ]
  },
  {
   "cell_type": "markdown",
   "id": "40a4d161-79ce-4568-8811-cd295412bdb8",
   "metadata": {
    "tags": []
   },
   "source": [
    "## Definitions"
   ]
  },
  {
   "cell_type": "code",
   "execution_count": null,
   "id": "d787dfff-ed16-4bf4-8f9f-b43407f4a2e5",
   "metadata": {},
   "outputs": [],
   "source": [
    "def backend_performance_overview(*, dashboard_properties: dict, page_arguments: dict):\n",
    "    pages = [microservices_performance_overview]\n",
    "    return Dashboard(\n",
    "        guid=dashboard_properties.get(\"guid\", None),\n",
    "        name=dashboard_properties.get(\"name\", None),\n",
    "        description=dashboard_properties.get(\"description\", \"\"),\n",
    "        permissions=DashboardPermission.PUBLIC_READ_WRITE,\n",
    "        pages=[\n",
    "            page(**page_arguments.get(page.__name__, page_arguments.get(\"default\", {})))\n",
    "            for page in pages\n",
    "        ],\n",
    "    )"
   ]
  },
  {
   "cell_type": "code",
   "execution_count": null,
   "id": "1550c428-246b-49a3-8525-d93e84992c3d",
   "metadata": {},
   "outputs": [],
   "source": [
    "dashboard = backend_performance_overview(\n",
    "    dashboard_properties={\"name\": \"AVI Microservices Performance Overview\"},\n",
    "    page_arguments={\n",
    "        \"microservices_performance_overview\": {\n",
    "            \"page_properties\": {},\n",
    "            \"widget_arguments\": {\n",
    "                \"default\": {\n",
    "                    \"widget_properties\": {\n",
    "                        # \"layout\": WidgetLayout(column=1, height=4, row=1, width=4),\n",
    "                    },\n",
    "                    \"nrql_properties\": {\n",
    "                        \"account_id\": 3279646,\n",
    "                        \"cluster_names\": [\n",
    "                            \"akseu2c001aviprd001\",\n",
    "                        ],\n",
    "                        \"namespace_names\": [\n",
    "                            \"eu2-avi-prd-01\",\n",
    "                        ],\n",
    "                    },\n",
    "                }\n",
    "            },\n",
    "        }\n",
    "    },\n",
    ")"
   ]
  },
  {
   "cell_type": "code",
   "execution_count": null,
   "id": "258134dd-2aef-415a-8330-eac881980526",
   "metadata": {},
   "outputs": [],
   "source": [
    "dashboard"
   ]
  },
  {
   "cell_type": "code",
   "execution_count": null,
   "id": "36417185-cd47-4091-9692-d001c3a61c31",
   "metadata": {},
   "outputs": [],
   "source": []
  }
 ],
 "metadata": {
  "kernelspec": {
   "display_name": "Python 3 (ipykernel)",
   "language": "python",
   "name": "python3"
  },
  "language_info": {
   "codemirror_mode": {
    "name": "ipython",
    "version": 3
   },
   "file_extension": ".py",
   "mimetype": "text/x-python",
   "name": "python",
   "nbconvert_exporter": "python",
   "pygments_lexer": "ipython3",
   "version": "3.10.4"
  }
 },
 "nbformat": 4,
 "nbformat_minor": 5
}
