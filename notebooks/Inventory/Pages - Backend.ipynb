{
    "cells": [
        {
            "cell_type": "markdown",
            "id": "63d69a4b-cc35-4b50-b10b-ae2249ee3380",
            "metadata": {
                "tags": []
            },
            "source": [
                "# Widgets Inventory "
            ]
        },
        {
            "cell_type": "markdown",
            "id": "68434a7e-a478-4428-9637-27e382b4b0d0",
            "metadata": {},
            "source": [
                "## Imports"
            ]
        },
        {
            "cell_type": "markdown",
            "id": "568761d3-51e0-4993-b0ff-53435ad462d4",
            "metadata": {},
            "source": [
                "Development imports"
            ]
        },
        {
            "cell_type": "code",
            "execution_count": null,
            "id": "b2145437-9224-4217-8639-d0ba67b8a98b",
            "metadata": {},
            "outputs": [],
            "source": [
                "from IPython.display import clear_output\n",
                "from dataclasses import dataclass"
            ]
        },
        {
            "cell_type": "code",
            "execution_count": null,
            "id": "132b1a6b-c3f1-472f-bd7f-bb644ed15798",
            "metadata": {
                "tags": []
            },
            "outputs": [],
            "source": [
                "widgets_module = Notebook.load(\"../Dashboards/Widgets.ipynb\", main=True)\n",
                "clear_output()\n",
                "\n",
                "Widget = widgets_module.Widget\n",
                "WidgetLayout = widgets_module.WidgetLayout\n",
                "WidgetVisualization = widgets_module.WidgetVisualization\n",
                "WidgetConfiguration = widgets_module.WidgetConfiguration"
            ]
        },
        {
            "cell_type": "code",
            "execution_count": null,
            "id": "671a1abf-d800-46db-8d55-7e6799803edc",
            "metadata": {
                "tags": []
            },
            "outputs": [],
            "source": [
                "pages_module = Notebook.load(\"../Dashboards/Pages.ipynb\", main=True)\n",
                "clear_output()\n",
                "\n",
                "Page = pages_module.Page"
            ]
        },
        {
            "cell_type": "code",
            "execution_count": null,
            "id": "3f98e3bc-dc32-4cf8-9f86-5671ddf63b65",
            "metadata": {
                "tags": []
            },
            "outputs": [],
            "source": [
                "dasboards_module = Notebook.load(\"../Dashboards/Dashboards.ipynb\", main=True)\n",
                "clear_output()\n",
                "\n",
                "Dashboard = dasboards_module.Dashboard"
            ]
        },
        {
            "cell_type": "code",
            "execution_count": null,
            "id": "4c6215a8-cabb-4e2e-b16c-a6eeb5e6bbfc",
            "metadata": {},
            "outputs": [],
            "source": [
                "enums_module = Notebook.load(\"../Dashboards/Enums.ipynb\", main=True)\n",
                "clear_output()\n",
                "\n",
                "WidgetVisualizationId = enums_module.WidgetVisualizationId\n",
                "WidgetType = enums_module.WidgetType"
            ]
        },
        {
            "cell_type": "code",
            "execution_count": null,
            "id": "a7f5f7f4-7db9-4b57-b76c-ec0875f641b5",
            "metadata": {},
            "outputs": [],
            "source": [
                "utils_module = Notebook.load(\"../Dashboards/Utils.ipynb\", main=True)\n",
                "clear_output()\n",
                "\n",
                "Threshold = utils_module.Threshold\n",
                "NRQLQuery = utils_module.NRQLQuery"
            ]
        },
        {
            "cell_type": "code",
            "execution_count": null,
            "id": "c629c0b6-c4d9-43d7-98bf-73f51b19d8c5",
            "metadata": {},
            "outputs": [],
            "source": [
                "from newrelic_sb_sdk.inventory.widgets import (\n",
                "    weekly_availability_compared_with_previous_week,\n",
                "    microservices_availability,\n",
                ")"
            ]
        },
        {
            "cell_type": "markdown",
            "id": "c70c5c65-ae22-4f24-94e9-b872ae61d9cb",
            "metadata": {
                "tags": []
            },
            "source": [
                "## Definitions"
            ]
        },
        {
            "cell_type": "code",
            "execution_count": null,
            "id": "6939c9f6-ff19-477c-b70b-a70935906451",
            "metadata": {},
            "outputs": [],
            "source": [
                "def microservices_performance_overview(\n",
                "    *, page_properties: dict, widget_arguments: dict\n",
                "):\n",
                "    widgets = [\n",
                "        weekly_availability_compared_with_previous_week,\n",
                "        microservices_availability,\n",
                "    ]\n",
                "    return Page(\n",
                "        guid=page_properties.get(\"guid\", None),\n",
                "        name=\"Microservices Performance Overview\",\n",
                "        description=page_properties.get(\"description\", \"\"),\n",
                "        widgets=[\n",
                "            widget(\n",
                "                **widget_arguments.get(\n",
                "                    widget.__name__, widget_arguments.get(\"default\", {})\n",
                "                )\n",
                "            )\n",
                "            for widget in widgets\n",
                "        ],\n",
                "    )"
            ]
        },
        {
            "cell_type": "code",
            "execution_count": null,
            "id": "b9bb64a0-fc5f-4687-b68a-a87c0083d6ad",
            "metadata": {},
            "outputs": [],
            "source": []
        }
    ],
    "metadata": {
        "kernelspec": {
            "display_name": "Python 3 (ipykernel)",
            "language": "python",
            "name": "python3"
        },
        "language_info": {
            "codemirror_mode": {
                "name": "ipython",
                "version": 3
            },
            "file_extension": ".py",
            "mimetype": "text/x-python",
            "name": "python",
            "nbconvert_exporter": "python",
            "pygments_lexer": "ipython3",
            "version": "3.10.4"
        }
    },
    "nbformat": 4,
    "nbformat_minor": 5
}
