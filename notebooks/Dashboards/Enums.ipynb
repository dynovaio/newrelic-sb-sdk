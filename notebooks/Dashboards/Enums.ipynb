{
 "cells": [
  {
   "cell_type": "code",
   "execution_count": null,
   "id": "82974d33-5b7d-4947-8f4a-8eea7c31a852",
   "metadata": {
    "tags": [
     "remove-cell"
    ]
   },
   "outputs": [],
   "source": [
    "# | default_exp dashboards.enums"
   ]
  },
  {
   "cell_type": "markdown",
   "id": "5974de2c-9e5e-4578-a91f-cc056a1187b0",
   "metadata": {
    "tags": []
   },
   "source": [
    "# Enums"
   ]
  },
  {
   "cell_type": "markdown",
   "id": "27f9e57e-5250-4cb0-9341-3977ccf6d76c",
   "metadata": {
    "tags": []
   },
   "source": [
    "## Imports"
   ]
  },
  {
   "cell_type": "markdown",
   "id": "203b8982-0529-4be1-924b-d1d3f45b3fa4",
   "metadata": {},
   "source": [
    "`newrelic_sb_sdk` module"
   ]
  },
  {
   "cell_type": "code",
   "execution_count": null,
   "id": "db6e2f45-5d36-4b7c-b380-e056c3ef3020",
   "metadata": {
    "tags": []
   },
   "outputs": [],
   "source": [
    "# | export\n",
    "from newrelic_sb_sdk.core.base import BaseEnum"
   ]
  },
  {
   "cell_type": "markdown",
   "id": "788c7461-f868-47f4-b131-55d0e54ff40c",
   "metadata": {},
   "source": [
    "## Classes"
   ]
  },
  {
   "cell_type": "markdown",
   "id": "d9aed163-af23-4ef5-bf14-21701c45139a",
   "metadata": {},
   "source": [
    "### Enum properties"
   ]
  },
  {
   "cell_type": "code",
   "execution_count": null,
   "id": "08f8ea86-5e67-4bae-9544-0f1c4ae7fce3",
   "metadata": {
    "tags": []
   },
   "outputs": [],
   "source": [
    "# | export\n",
    "\n",
    "\n",
    "class AlertSeverity(BaseEnum):\n",
    "    CRITICAL = \"CRITICAL\"\n",
    "    NOT_ALERTING = \"NOT_ALERTING\"\n",
    "    WARNING = \"WARNING\""
   ]
  },
  {
   "cell_type": "code",
   "execution_count": null,
   "id": "659e82ab-fe74-415c-9ae6-a4fd4c65c80c",
   "metadata": {
    "tags": []
   },
   "outputs": [],
   "source": [
    "# | export\n",
    "\n",
    "\n",
    "class WidgetType(BaseEnum):\n",
    "    AREA = \"area\"\n",
    "    BAR = \"bar\"\n",
    "    BILLBOARD = \"billboard\"\n",
    "    LINE = \"line\"\n",
    "    MARKDOWN = \"markdown\"\n",
    "    PIE = \"pie\"\n",
    "    TABLE = \"table\""
   ]
  },
  {
   "cell_type": "code",
   "execution_count": null,
   "id": "df14f05e-ecb1-40e8-b88a-c48320a4f548",
   "metadata": {
    "tags": []
   },
   "outputs": [],
   "source": [
    "# | export\n",
    "\n",
    "\n",
    "class WidgetVisualizationId(BaseEnum):\n",
    "    # Visualizations\n",
    "    AREA = \"viz.area\"\n",
    "    BAR = \"viz.bar\"\n",
    "    BILLBOARD = \"viz.billboard\"\n",
    "    BULLET = \"viz.bullet\"\n",
    "    EVENT_FEED = \"viz.event-feed\"\n",
    "    FUNNEL = \"viz.funnel\"\n",
    "    HEATMAP = \"viz.heatmap\"\n",
    "    HISTOGRAM = \"viz.histogram\"\n",
    "    JSON = \"viz.json\"\n",
    "    LINE = \"viz.line\"\n",
    "    MARKDOWN = \"viz.markdown\"\n",
    "    PIE = \"viz.pie\"\n",
    "    TABLE = \"viz.table\"\n",
    "\n",
    "    # Infrastructure\n",
    "    INVENTORY = \"infra.inventory\"\n",
    "\n",
    "    # Topology\n",
    "    SERVICE_MAP = \"topology.service-map\""
   ]
  },
  {
   "cell_type": "code",
   "execution_count": null,
   "id": "25817fba-afe1-4e62-8031-31ca03c31c05",
   "metadata": {
    "tags": []
   },
   "outputs": [],
   "source": [
    "# | export\n",
    "\n",
    "\n",
    "class DashboardPermission(BaseEnum):\n",
    "    PRIVATE = \"PRIVATE\"\n",
    "    PUBLIC_READ_ONLY = \"PUBLIC_READ_ONLY\"\n",
    "    PUBLIC_READ_WRITE = \"PUBLIC_READ_WRITE\""
   ]
  },
  {
   "cell_type": "code",
   "execution_count": null,
   "id": "927a623b-5fa5-41a3-a2e6-32c767bc5e14",
   "metadata": {},
   "outputs": [],
   "source": []
  }
 ],
 "metadata": {
  "kernelspec": {
   "display_name": "Python 3 (ipykernel)",
   "language": "python",
   "name": "python3"
  },
  "language_info": {
   "codemirror_mode": {
    "name": "ipython",
    "version": 3
   },
   "file_extension": ".py",
   "mimetype": "text/x-python",
   "name": "python",
   "nbconvert_exporter": "python",
   "pygments_lexer": "ipython3",
   "version": "3.11.2"
  }
 },
 "nbformat": 4,
 "nbformat_minor": 5
}
