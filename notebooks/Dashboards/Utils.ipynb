{
    "cells": [
        {
            "cell_type": "code",
            "execution_count": null,
            "id": "82974d33-5b7d-4947-8f4a-8eea7c31a852",
            "metadata": {},
            "outputs": [],
            "source": [
                "# default_exp dashboards.utils"
            ]
        },
        {
            "cell_type": "markdown",
            "id": "5974de2c-9e5e-4578-a91f-cc056a1187b0",
            "metadata": {
                "tags": []
            },
            "source": [
                "# Utils"
            ]
        },
        {
            "cell_type": "markdown",
            "id": "27f9e57e-5250-4cb0-9341-3977ccf6d76c",
            "metadata": {
                "tags": []
            },
            "source": [
                "## Imports"
            ]
        },
        {
            "cell_type": "markdown",
            "id": "6c1e0010-efe5-4649-8f50-5ec8fa410436",
            "metadata": {},
            "source": [
                "Python Modules"
            ]
        },
        {
            "cell_type": "code",
            "execution_count": null,
            "id": "21f2c383-5c21-4cfc-ba39-1c955bbddd2a",
            "metadata": {},
            "outputs": [],
            "source": [
                "# export\n",
                "from dataclasses import dataclass"
            ]
        },
        {
            "cell_type": "markdown",
            "id": "d03fe9de-a742-44ef-88e5-1868628f4123",
            "metadata": {},
            "source": [
                "Third-party modules"
            ]
        },
        {
            "cell_type": "code",
            "execution_count": null,
            "id": "1229986e-9d58-41d8-aefd-33fea60f8c6d",
            "metadata": {},
            "outputs": [],
            "source": [
                "# export\n",
                "from enforce_typing import enforce_types"
            ]
        },
        {
            "cell_type": "markdown",
            "id": "83ec3d58-6c96-4f6c-b6e4-d5ea58cefe69",
            "metadata": {},
            "source": [
                "NR Automation Module"
            ]
        },
        {
            "cell_type": "code",
            "execution_count": null,
            "id": "8249fc1b-7215-45f6-aef9-d21058e0d348",
            "metadata": {},
            "outputs": [],
            "source": [
                "# export\n",
                "from newrelic_sb_sdk.core import (\n",
                "    BaseEntity,\n",
                ")\n",
                "from newrelic_sb_sdk.dashboards.enums import (\n",
                "    AlertSeverity,\n",
                ")"
            ]
        },
        {
            "cell_type": "markdown",
            "id": "db46a13a-5743-47da-8030-9ee847246de7",
            "metadata": {},
            "source": [
                "Development modules"
            ]
        },
        {
            "cell_type": "code",
            "execution_count": null,
            "id": "c9ae9996-5933-4ded-bd5f-0925016708a5",
            "metadata": {},
            "outputs": [],
            "source": [
                "# hide\n",
                "from importnb import Notebook\n",
                "from nbdev.showdoc import show_doc\n",
                "from IPython.display import clear_output"
            ]
        },
        {
            "cell_type": "markdown",
            "id": "788c7461-f868-47f4-b131-55d0e54ff40c",
            "metadata": {},
            "source": [
                "## Classes"
            ]
        },
        {
            "cell_type": "code",
            "execution_count": null,
            "id": "11e4dcf0-e53b-4f62-8eb7-f8543a9a7422",
            "metadata": {
                "tags": []
            },
            "outputs": [],
            "source": [
                "# export\n",
                "@enforce_types\n",
                "@dataclass(kw_only=True)\n",
                "class Threshold(BaseEntity):\n",
                "    alert_severity: AlertSeverity = AlertSeverity.CRITICAL\n",
                "    value: int | float = 0\n",
                "\n",
                "    property_processors = {\n",
                "        \"alert_severity\": AlertSeverity.from_json,\n",
                "    }"
            ]
        },
        {
            "cell_type": "code",
            "execution_count": null,
            "id": "baf23016-b0a0-40cc-ab6f-a83d5e425d8f",
            "metadata": {},
            "outputs": [],
            "source": [
                "# hide\n",
                "show_doc(Threshold)"
            ]
        },
        {
            "cell_type": "code",
            "execution_count": null,
            "id": "9939b375-26e8-4cf6-bd86-f36625bf6892",
            "metadata": {},
            "outputs": [],
            "source": [
                "# hide\n",
                "threshold = Threshold()\n",
                "print(threshold)"
            ]
        },
        {
            "cell_type": "code",
            "execution_count": null,
            "id": "d99fbc24-4bb8-4fe2-be77-308e83ecdfa3",
            "metadata": {},
            "outputs": [],
            "source": [
                "# hide\n",
                "threshold_json = threshold.to_json(indent=4)\n",
                "print(threshold_json)"
            ]
        },
        {
            "cell_type": "code",
            "execution_count": null,
            "id": "e2a464f0-be89-499d-9b90-475b1fea98f2",
            "metadata": {},
            "outputs": [],
            "source": [
                "# hide\n",
                "loaded_threshold = Threshold.from_json(threshold_json)\n",
                "print(loaded_threshold)"
            ]
        },
        {
            "cell_type": "code",
            "execution_count": null,
            "id": "12a4cd9f-6edb-4385-b67a-79cfc597f313",
            "metadata": {},
            "outputs": [],
            "source": [
                "# hide\n",
                "print(loaded_threshold == threshold)"
            ]
        },
        {
            "cell_type": "code",
            "execution_count": null,
            "id": "889ad9f8-0410-4407-8d11-773eef8c1a81",
            "metadata": {},
            "outputs": [],
            "source": [
                "# export\n",
                "@enforce_types\n",
                "@dataclass(kw_only=True)\n",
                "class NRQLQuery(BaseEntity):\n",
                "    account_id: int\n",
                "    query: str"
            ]
        },
        {
            "cell_type": "code",
            "execution_count": null,
            "id": "21e06d7d-28bb-48b5-99f0-2ef55bd544ea",
            "metadata": {},
            "outputs": [],
            "source": [
                "# hide\n",
                "show_doc(NRQLQuery)"
            ]
        },
        {
            "cell_type": "code",
            "execution_count": null,
            "id": "fcc3adfc-dce5-4a17-b50b-ae72e7039087",
            "metadata": {},
            "outputs": [],
            "source": [
                "# hide\n",
                "nrql_query = NRQLQuery(account_id=123654, query=\"FROM Transaction SELECT *\")\n",
                "print(nrql_query)"
            ]
        },
        {
            "cell_type": "code",
            "execution_count": null,
            "id": "01d85290-fe9c-42b9-afdd-6932f0e31baa",
            "metadata": {},
            "outputs": [],
            "source": [
                "# hide\n",
                "nrql_query_json = nrql_query.to_json(indent=4)\n",
                "print(nrql_query_json)"
            ]
        },
        {
            "cell_type": "code",
            "execution_count": null,
            "id": "8285d07b-40d5-4288-b997-ac4d5d05d1c4",
            "metadata": {},
            "outputs": [],
            "source": [
                "# hide\n",
                "loaded_nrql_query = NRQLQuery.from_json(nrql_query_json)\n",
                "print(loaded_nrql_query)"
            ]
        },
        {
            "cell_type": "code",
            "execution_count": null,
            "id": "c76aa5e6-b7f7-49f1-890a-1e79bfce63e5",
            "metadata": {},
            "outputs": [],
            "source": [
                "# hide\n",
                "print(nrql_query == loaded_nrql_query)"
            ]
        },
        {
            "cell_type": "code",
            "execution_count": null,
            "id": "18e86cb6-2faa-45d2-8424-d3c7e6cd6891",
            "metadata": {
                "tags": []
            },
            "outputs": [],
            "source": [
                "# export\n",
                "@enforce_types\n",
                "@dataclass(kw_only=True)\n",
                "class OwnerInfo(BaseEntity):\n",
                "    user_id: int\n",
                "    email: str"
            ]
        },
        {
            "cell_type": "code",
            "execution_count": null,
            "id": "962a405d-221a-4a20-b506-09ba81c5451d",
            "metadata": {},
            "outputs": [],
            "source": [
                "# hide\n",
                "show_doc(OwnerInfo)"
            ]
        },
        {
            "cell_type": "code",
            "execution_count": null,
            "id": "0c76a07d-e8be-4532-8bbc-c4365431e469",
            "metadata": {},
            "outputs": [],
            "source": [
                "# hide\n",
                "owner_info = OwnerInfo(user_id=12345678, email=\"zodiacfireworks@softbutterfly.io\")\n",
                "print(owner_info)"
            ]
        },
        {
            "cell_type": "code",
            "execution_count": null,
            "id": "b8f58b41-85af-4023-9f35-4e27938ae0c6",
            "metadata": {},
            "outputs": [],
            "source": [
                "# hide\n",
                "owner_info_json = owner_info.to_json(indent=4)\n",
                "print(owner_info_json)"
            ]
        },
        {
            "cell_type": "code",
            "execution_count": null,
            "id": "4e4f943c-0196-438e-bde4-341d9ae81d27",
            "metadata": {},
            "outputs": [],
            "source": [
                "# hide\n",
                "loaded_owner_info = OwnerInfo.from_json(owner_info_json)\n",
                "print(loaded_owner_info)"
            ]
        },
        {
            "cell_type": "code",
            "execution_count": null,
            "id": "95f29a4b-20f2-4766-8538-ef6755a759e1",
            "metadata": {},
            "outputs": [],
            "source": [
                "# hide\n",
                "print(owner_info == loaded_owner_info)"
            ]
        },
        {
            "cell_type": "code",
            "execution_count": null,
            "id": "8c98a2c6-33b0-4e34-9cb8-43b9ff0ada69",
            "metadata": {},
            "outputs": [],
            "source": []
        }
    ],
    "metadata": {
        "kernelspec": {
            "display_name": "Python 3 (ipykernel)",
            "language": "python",
            "name": "python3"
        },
        "language_info": {
            "codemirror_mode": {
                "name": "ipython",
                "version": 3
            },
            "file_extension": ".py",
            "mimetype": "text/x-python",
            "name": "python",
            "nbconvert_exporter": "python",
            "pygments_lexer": "ipython3",
            "version": "3.10.3"
        }
    },
    "nbformat": 4,
    "nbformat_minor": 5
}
