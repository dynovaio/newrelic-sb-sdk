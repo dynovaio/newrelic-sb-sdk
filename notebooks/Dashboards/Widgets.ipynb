{
 "cells": [
  {
   "cell_type": "code",
   "execution_count": null,
   "id": "82974d33-5b7d-4947-8f4a-8eea7c31a852",
   "metadata": {},
   "outputs": [],
   "source": [
    "# | default_exp dashboards.widgets"
   ]
  },
  {
   "cell_type": "markdown",
   "id": "5974de2c-9e5e-4578-a91f-cc056a1187b0",
   "metadata": {
    "tags": []
   },
   "source": [
    "# Widgets"
   ]
  },
  {
   "cell_type": "markdown",
   "id": "27f9e57e-5250-4cb0-9341-3977ccf6d76c",
   "metadata": {
    "tags": []
   },
   "source": [
    "## Imports"
   ]
  },
  {
   "cell_type": "markdown",
   "id": "6c1e0010-efe5-4649-8f50-5ec8fa410436",
   "metadata": {},
   "source": [
    "Python Modules"
   ]
  },
  {
   "cell_type": "code",
   "execution_count": null,
   "id": "21f2c383-5c21-4cfc-ba39-1c955bbddd2a",
   "metadata": {},
   "outputs": [],
   "source": [
    "# | export\n",
    "import json\n",
    "from dataclasses import dataclass\n",
    "from typing import List"
   ]
  },
  {
   "cell_type": "markdown",
   "id": "c74089d3-677b-4b1a-8b1f-4e78c7dde19b",
   "metadata": {},
   "source": [
    "`newrelic_sb_sdk` module"
   ]
  },
  {
   "cell_type": "code",
   "execution_count": null,
   "id": "3a995be6-4bf4-48e3-8b0b-0271e93b8cd8",
   "metadata": {
    "tags": []
   },
   "outputs": [],
   "source": [
    "# | export\n",
    "from newrelic_sb_sdk.core.base import BaseEntity\n",
    "from newrelic_sb_sdk.dashboards.enums import WidgetType, WidgetVisualizationId\n",
    "from newrelic_sb_sdk.dashboards.utils import NRQLQuery, Threshold"
   ]
  },
  {
   "cell_type": "markdown",
   "id": "72ea6921-de6a-4c19-97a0-c197d0c3b447",
   "metadata": {},
   "source": [
    "Development modules"
   ]
  },
  {
   "cell_type": "code",
   "execution_count": null,
   "id": "c9ae9996-5933-4ded-bd5f-0925016708a5",
   "metadata": {
    "tags": []
   },
   "outputs": [],
   "source": [
    "# | hide\n",
    "from importnb import Notebook\n",
    "from IPython.display import clear_output"
   ]
  },
  {
   "cell_type": "code",
   "execution_count": null,
   "id": "18e47252-b14f-4cdf-837c-224b9430ee10",
   "metadata": {
    "tags": []
   },
   "outputs": [],
   "source": [
    "# | hide\n",
    "utils_module = Notebook.load_file(\"./Utils.ipynb\", main=True)\n",
    "clear_output()\n",
    "\n",
    "nrql_query = utils_module.nrql_query\n",
    "threshold = utils_module.threshold"
   ]
  },
  {
   "cell_type": "markdown",
   "id": "788c7461-f868-47f4-b131-55d0e54ff40c",
   "metadata": {},
   "source": [
    "## Classes"
   ]
  },
  {
   "cell_type": "code",
   "execution_count": null,
   "id": "b2363749-a488-4e92-aaf8-26df8bc35c6a",
   "metadata": {
    "tags": []
   },
   "outputs": [],
   "source": [
    "# | export\n",
    "@dataclass(kw_only=True)\n",
    "class WidgetLayout(BaseEntity):\n",
    "    column: int = 1\n",
    "    height: int = 3\n",
    "    row: int = 1\n",
    "    width: int = 4"
   ]
  },
  {
   "cell_type": "code",
   "execution_count": null,
   "id": "e332e689-b729-4f20-9774-bad511434c77",
   "metadata": {},
   "outputs": [],
   "source": [
    "# | hide\n",
    "widget_layout = WidgetLayout()\n",
    "print(widget_layout)"
   ]
  },
  {
   "cell_type": "code",
   "execution_count": null,
   "id": "de757fea-8d4e-4c66-915f-d779cd62edd3",
   "metadata": {},
   "outputs": [],
   "source": [
    "# | hide\n",
    "widget_layout_json = widget_layout.to_json(indent=4)\n",
    "print(widget_layout_json)"
   ]
  },
  {
   "cell_type": "code",
   "execution_count": null,
   "id": "9eeb24d1-15a3-43a7-8d84-8e2d38e8baae",
   "metadata": {},
   "outputs": [],
   "source": [
    "# | hide\n",
    "loaded_widget_layout = WidgetLayout.from_json(widget_layout_json)\n",
    "print(loaded_widget_layout)"
   ]
  },
  {
   "cell_type": "code",
   "execution_count": null,
   "id": "59a19938-4bdc-4df0-954a-8172f8c4762d",
   "metadata": {},
   "outputs": [],
   "source": [
    "# | hide\n",
    "print(widget_layout == loaded_widget_layout)"
   ]
  },
  {
   "cell_type": "code",
   "execution_count": null,
   "id": "af07389e-d49d-4a91-bed9-63eb24391745",
   "metadata": {},
   "outputs": [],
   "source": [
    "# | export\n",
    "@dataclass(kw_only=True)\n",
    "class WidgetVisualization(BaseEntity):\n",
    "    id: WidgetVisualizationId | str\n",
    "\n",
    "    property_processors = {\n",
    "        \"id\": WidgetVisualizationId.from_json,\n",
    "    }"
   ]
  },
  {
   "cell_type": "code",
   "execution_count": null,
   "id": "c19eb655-9927-44e5-9c89-f5255550a954",
   "metadata": {},
   "outputs": [],
   "source": [
    "# | hide\n",
    "widget_visualization = WidgetVisualization(\n",
    "    id=WidgetVisualizationId.AREA,\n",
    ")\n",
    "print(widget_visualization)"
   ]
  },
  {
   "cell_type": "code",
   "execution_count": null,
   "id": "293f3a0d-ee1c-41e1-9ade-fdb7517184bc",
   "metadata": {},
   "outputs": [],
   "source": [
    "# | hide\n",
    "widget_visualization_json = widget_visualization.to_json(indent=4)\n",
    "print(widget_visualization_json)"
   ]
  },
  {
   "cell_type": "code",
   "execution_count": null,
   "id": "7a7868be-ae2c-4faf-98f1-7174b2379745",
   "metadata": {},
   "outputs": [],
   "source": [
    "# | hide\n",
    "loaded_widget_visualization = WidgetVisualization.from_json(widget_visualization_json)\n",
    "print(loaded_widget_visualization)"
   ]
  },
  {
   "cell_type": "code",
   "execution_count": null,
   "id": "57a5632d-9792-4986-864d-04970257be78",
   "metadata": {},
   "outputs": [],
   "source": [
    "# | hide\n",
    "widget_visualization == loaded_widget_visualization"
   ]
  },
  {
   "cell_type": "code",
   "execution_count": null,
   "id": "09d39e92-2353-4962-aeac-48b2aef66c08",
   "metadata": {},
   "outputs": [],
   "source": [
    "# | export\n",
    "@dataclass(kw_only=True)\n",
    "class BaseNRQLQueryWidgetConfiguration(BaseEntity):\n",
    "    nrql_queries: List[NRQLQuery] | None = None\n",
    "\n",
    "    property_processors = {\n",
    "        \"nrql_queries\": NRQLQuery.from_json,\n",
    "    }"
   ]
  },
  {
   "cell_type": "code",
   "execution_count": null,
   "id": "6da2d5fb-230e-49e5-81e6-b66ce998d12b",
   "metadata": {},
   "outputs": [],
   "source": [
    "# | export\n",
    "@dataclass(kw_only=True)\n",
    "class AreaWidgetConfiguration(BaseNRQLQueryWidgetConfiguration):\n",
    "    pass"
   ]
  },
  {
   "cell_type": "code",
   "execution_count": null,
   "id": "732b7745-5d70-4457-9ea1-139ff7de78a3",
   "metadata": {},
   "outputs": [],
   "source": [
    "# | hide\n",
    "area_widget_configuration = AreaWidgetConfiguration(nrql_queries=[nrql_query])\n",
    "print(area_widget_configuration)"
   ]
  },
  {
   "cell_type": "code",
   "execution_count": null,
   "id": "d6954543-8382-4892-847b-ceb18df1f4c6",
   "metadata": {},
   "outputs": [],
   "source": [
    "# | hide\n",
    "area_widget_configuration_json = area_widget_configuration.to_json(indent=4)\n",
    "print(area_widget_configuration_json)"
   ]
  },
  {
   "cell_type": "code",
   "execution_count": null,
   "id": "408a74f2-7b50-4339-b1b5-79638f1eecc9",
   "metadata": {
    "tags": []
   },
   "outputs": [],
   "source": [
    "# | hide\n",
    "loaded_area_widget_configuration = AreaWidgetConfiguration.from_json(\n",
    "    area_widget_configuration_json\n",
    ")\n",
    "print(loaded_area_widget_configuration)"
   ]
  },
  {
   "cell_type": "code",
   "execution_count": null,
   "id": "243ff58b-e944-4cf7-9d96-f64363d8f1fe",
   "metadata": {
    "tags": []
   },
   "outputs": [],
   "source": [
    "# | hide\n",
    "print(area_widget_configuration == loaded_area_widget_configuration)"
   ]
  },
  {
   "cell_type": "code",
   "execution_count": null,
   "id": "e0954df8-50e7-40c9-893e-d0710c4825e7",
   "metadata": {
    "tags": []
   },
   "outputs": [],
   "source": [
    "# | export\n",
    "@dataclass(kw_only=True)\n",
    "class BarWidgetConfiguration(BaseNRQLQueryWidgetConfiguration):\n",
    "    pass"
   ]
  },
  {
   "cell_type": "code",
   "execution_count": null,
   "id": "02e4d7e7-7317-4723-be97-31f18c4e5477",
   "metadata": {
    "tags": []
   },
   "outputs": [],
   "source": [
    "# | export\n",
    "@dataclass(kw_only=True)\n",
    "class BillboardWidgetConfiguration(BaseNRQLQueryWidgetConfiguration):\n",
    "    thresholds: List[NRQLQuery] | None = None\n",
    "\n",
    "    property_processors = {\n",
    "        \"nrql_queries\": NRQLQuery.from_json,\n",
    "        \"thresholds\": Threshold.from_json,\n",
    "    }"
   ]
  },
  {
   "cell_type": "code",
   "execution_count": null,
   "id": "af6e1892-b1c0-44d4-b636-c85592886cb3",
   "metadata": {
    "tags": []
   },
   "outputs": [],
   "source": [
    "# | hide\n",
    "billboard_widget_configuration = BillboardWidgetConfiguration(\n",
    "    nrql_queries=[nrql_query], thresholds=[threshold]\n",
    ")\n",
    "print(billboard_widget_configuration)"
   ]
  },
  {
   "cell_type": "code",
   "execution_count": null,
   "id": "2eb78c57-4bfa-4e00-85f0-a97cf45c04d2",
   "metadata": {
    "tags": []
   },
   "outputs": [],
   "source": [
    "# | hide\n",
    "billboard_widget_configuration_json = billboard_widget_configuration.to_json(indent=4)\n",
    "print(billboard_widget_configuration_json)"
   ]
  },
  {
   "cell_type": "code",
   "execution_count": null,
   "id": "a58b5109-6301-430e-a654-edd352a43287",
   "metadata": {
    "tags": []
   },
   "outputs": [],
   "source": [
    "# | hide\n",
    "loaded_billboard_widget_configuration = BillboardWidgetConfiguration.from_json(\n",
    "    billboard_widget_configuration_json\n",
    ")\n",
    "print(loaded_billboard_widget_configuration)"
   ]
  },
  {
   "cell_type": "code",
   "execution_count": null,
   "id": "749ec74c-4b1e-4862-9333-5e7416ea4bb6",
   "metadata": {
    "tags": []
   },
   "outputs": [],
   "source": [
    "# | hide\n",
    "print(billboard_widget_configuration == loaded_billboard_widget_configuration)"
   ]
  },
  {
   "cell_type": "code",
   "execution_count": null,
   "id": "8b105e9a-4e3b-4413-be14-20203013cadf",
   "metadata": {
    "tags": []
   },
   "outputs": [],
   "source": [
    "# | export\n",
    "@dataclass(kw_only=True)\n",
    "class LineWidgetConfiguration(BaseNRQLQueryWidgetConfiguration):\n",
    "    pass"
   ]
  },
  {
   "cell_type": "code",
   "execution_count": null,
   "id": "4348370e-4ff9-4cdc-89e9-e8a21f0d58bb",
   "metadata": {
    "tags": []
   },
   "outputs": [],
   "source": [
    "# | export\n",
    "@dataclass(kw_only=True)\n",
    "class MarkdownWidgetConfiguration(BaseEntity):\n",
    "    text: str = \"\""
   ]
  },
  {
   "cell_type": "code",
   "execution_count": null,
   "id": "5106683b-7ca0-4cc9-9bf2-55675955178f",
   "metadata": {
    "tags": []
   },
   "outputs": [],
   "source": [
    "# | export\n",
    "@dataclass(kw_only=True)\n",
    "class PieWidgetConfiguration(BaseNRQLQueryWidgetConfiguration):\n",
    "    pass"
   ]
  },
  {
   "cell_type": "code",
   "execution_count": null,
   "id": "f8dd3957-a894-4060-8479-61c429f136db",
   "metadata": {
    "tags": []
   },
   "outputs": [],
   "source": [
    "# | export\n",
    "@dataclass(kw_only=True)\n",
    "class TableWidgetConfiguration(BaseNRQLQueryWidgetConfiguration):\n",
    "    pass"
   ]
  },
  {
   "cell_type": "code",
   "execution_count": null,
   "id": "66e7bb49-b79f-4a3d-ad24-1fb32ee1566f",
   "metadata": {
    "tags": []
   },
   "outputs": [],
   "source": [
    "# | export\n",
    "@dataclass(kw_only=True)\n",
    "class WidgetConfiguration(BaseEntity):\n",
    "    area: AreaWidgetConfiguration | None = None\n",
    "    bar: BarWidgetConfiguration | None = None\n",
    "    billboard: BillboardWidgetConfiguration | None = None\n",
    "    line: LineWidgetConfiguration | None = None\n",
    "    markdown: MarkdownWidgetConfiguration | None = None\n",
    "    pie: PieWidgetConfiguration | None = None\n",
    "    table: TableWidgetConfiguration | None = None\n",
    "\n",
    "    property_processors = {\n",
    "        \"area\": AreaWidgetConfiguration.from_json,\n",
    "        \"bar\": BarWidgetConfiguration.from_json,\n",
    "        \"billboard\": BillboardWidgetConfiguration.from_json,\n",
    "        \"line\": LineWidgetConfiguration.from_json,\n",
    "        \"markdown\": MarkdownWidgetConfiguration.from_json,\n",
    "        \"pie\": PieWidgetConfiguration.from_json,\n",
    "        \"table\": TableWidgetConfiguration.from_json,\n",
    "    }"
   ]
  },
  {
   "cell_type": "code",
   "execution_count": null,
   "id": "fe32b70e-0e88-47c4-a270-4e61440dab0b",
   "metadata": {
    "tags": []
   },
   "outputs": [],
   "source": [
    "# | hide\n",
    "widget_configuration = WidgetConfiguration(\n",
    "    area=AreaWidgetConfiguration(nrql_queries=[nrql_query])\n",
    ")\n",
    "widget_configuration"
   ]
  },
  {
   "cell_type": "code",
   "execution_count": null,
   "id": "e3feeaf2-9fb1-4efb-a27d-2214c48346a2",
   "metadata": {
    "tags": []
   },
   "outputs": [],
   "source": [
    "# | hide\n",
    "widget_configuration_json = widget_configuration.to_json(indent=4)\n",
    "print(widget_configuration_json)"
   ]
  },
  {
   "cell_type": "code",
   "execution_count": null,
   "id": "07748ee4-2323-4f72-ac65-22d7650b0858",
   "metadata": {
    "tags": []
   },
   "outputs": [],
   "source": [
    "loaded_widget_configuration = WidgetConfiguration.from_json(widget_configuration_json)\n",
    "print(loaded_widget_configuration)"
   ]
  },
  {
   "cell_type": "code",
   "execution_count": null,
   "id": "e6d8693d-d923-4243-a71c-0be95a8cb3b1",
   "metadata": {
    "tags": []
   },
   "outputs": [],
   "source": [
    "print(widget_configuration == loaded_widget_configuration)"
   ]
  },
  {
   "cell_type": "code",
   "execution_count": null,
   "id": "b698e833-54ad-45ab-8f94-9da2afb09324",
   "metadata": {
    "tags": []
   },
   "outputs": [],
   "source": [
    "# | export\n",
    "@dataclass(kw_only=True)\n",
    "class Widget(BaseEntity):\n",
    "    id: str | int | None = None\n",
    "    title: str = \"\"\n",
    "    # linked_entity_guids must be a list[str]\n",
    "    # but we get an TypeError about parametrized generics\n",
    "    # due to enforce_types\n",
    "    linked_entity_guids: list | str | None = None\n",
    "    layout: WidgetLayout | None = None\n",
    "    visualization: WidgetVisualization | None = None\n",
    "    configuration: WidgetConfiguration | None = None\n",
    "    raw_configuration: dict | None = None\n",
    "\n",
    "    property_processors = {\n",
    "        \"layout\": WidgetLayout.from_json,\n",
    "        \"visualization\": WidgetVisualization.from_json,\n",
    "        \"configuration\": WidgetConfiguration.from_json,\n",
    "    }"
   ]
  },
  {
   "cell_type": "code",
   "execution_count": null,
   "id": "9d8f4cfe-2246-405d-aa82-9940c68fc9a5",
   "metadata": {
    "tags": []
   },
   "outputs": [],
   "source": [
    "widget = Widget(\n",
    "    title=\"Sample Widget\",\n",
    "    layout=widget_layout,\n",
    "    visualization=widget_visualization,\n",
    "    configuration=widget_configuration,\n",
    ")\n",
    "print(widget)"
   ]
  },
  {
   "cell_type": "code",
   "execution_count": null,
   "id": "fd3f4aa4-86f8-4499-913e-1cbb2f9e3c80",
   "metadata": {
    "tags": []
   },
   "outputs": [],
   "source": [
    "widget_json = widget.to_json(indent=4)\n",
    "print(widget_json)"
   ]
  },
  {
   "cell_type": "code",
   "execution_count": null,
   "id": "3ceeedc7-d83f-4ef1-8bbd-d78062fa2625",
   "metadata": {
    "tags": []
   },
   "outputs": [],
   "source": [
    "loaded_widget = Widget.from_json(widget_json)\n",
    "print(loaded_widget)"
   ]
  },
  {
   "cell_type": "code",
   "execution_count": null,
   "id": "a359337b-23e9-4164-b584-89dd5ec549f4",
   "metadata": {
    "tags": []
   },
   "outputs": [],
   "source": [
    "widget == loaded_widget"
   ]
  },
  {
   "cell_type": "code",
   "execution_count": null,
   "id": "336affe0-e644-4217-a701-46080fbca2e9",
   "metadata": {},
   "outputs": [],
   "source": []
  }
 ],
 "metadata": {
  "kernelspec": {
   "display_name": "Python 3 (ipykernel)",
   "language": "python",
   "name": "python3"
  },
  "language_info": {
   "codemirror_mode": {
    "name": "ipython",
    "version": 3
   },
   "file_extension": ".py",
   "mimetype": "text/x-python",
   "name": "python",
   "nbconvert_exporter": "python",
   "pygments_lexer": "ipython3",
   "version": "3.11.2"
  }
 },
 "nbformat": 4,
 "nbformat_minor": 5
}
