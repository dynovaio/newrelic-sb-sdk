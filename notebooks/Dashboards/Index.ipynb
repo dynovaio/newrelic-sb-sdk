{
 "cells": [
  {
   "cell_type": "markdown",
   "id": "4459b356-52b4-4813-9e74-79d17e90ee5d",
   "metadata": {},
   "source": [
    "# Dashboards"
   ]
  },
  {
   "cell_type": "markdown",
   "id": "71ede238-d925-4f6d-ad6b-3f87bd54eedb",
   "metadata": {},
   "source": [
    "> Dashboard related objects"
   ]
  },
  {
   "cell_type": "markdown",
   "id": "ff8da5a9-a75e-4531-ac21-a8731260b760",
   "metadata": {},
   "source": [
    "* [Enums](Enums.ipynb)\n",
    "* [Utils](Utils.ipynb)\n",
    "* [Widgets](Widgets.ipynb)\n",
    "* [Pages](Pages.ipynb)\n",
    "* [Dashboards](Dashboards.ipynb)"
   ]
  },
  {
   "cell_type": "code",
   "execution_count": null,
   "id": "832ce8a3-9726-4094-8656-8c7439b03d4c",
   "metadata": {},
   "outputs": [],
   "source": []
  }
 ],
 "metadata": {
  "kernelspec": {
   "display_name": "Python 3 (ipykernel)",
   "language": "python",
   "name": "python3"
  },
  "language_info": {
   "codemirror_mode": {
    "name": "ipython",
    "version": 3
   },
   "file_extension": ".py",
   "mimetype": "text/x-python",
   "name": "python",
   "nbconvert_exporter": "python",
   "pygments_lexer": "ipython3",
   "version": "3.11.2"
  }
 },
 "nbformat": 4,
 "nbformat_minor": 5
}
