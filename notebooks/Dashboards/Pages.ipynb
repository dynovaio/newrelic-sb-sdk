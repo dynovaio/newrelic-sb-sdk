{
 "cells": [
  {
   "cell_type": "code",
   "execution_count": null,
   "id": "82974d33-5b7d-4947-8f4a-8eea7c31a852",
   "metadata": {},
   "outputs": [],
   "source": [
    "# | default_exp dashboards.pages"
   ]
  },
  {
   "cell_type": "markdown",
   "id": "5974de2c-9e5e-4578-a91f-cc056a1187b0",
   "metadata": {
    "tags": []
   },
   "source": [
    "# Pages"
   ]
  },
  {
   "cell_type": "markdown",
   "id": "27f9e57e-5250-4cb0-9341-3977ccf6d76c",
   "metadata": {
    "tags": []
   },
   "source": [
    "## Imports"
   ]
  },
  {
   "cell_type": "markdown",
   "id": "6c1e0010-efe5-4649-8f50-5ec8fa410436",
   "metadata": {},
   "source": [
    "Python Modules"
   ]
  },
  {
   "cell_type": "code",
   "execution_count": null,
   "id": "21f2c383-5c21-4cfc-ba39-1c955bbddd2a",
   "metadata": {},
   "outputs": [],
   "source": [
    "# | export\n",
    "import json\n",
    "from dataclasses import dataclass\n",
    "from datetime import datetime, timezone\n",
    "from typing import List"
   ]
  },
  {
   "cell_type": "markdown",
   "id": "35aa810b-89a2-4d9d-89c9-4e25dc41ce67",
   "metadata": {},
   "source": [
    "`newrelic_sb_sdk` module"
   ]
  },
  {
   "cell_type": "code",
   "execution_count": null,
   "id": "a67f5eb7-c9dd-4ec5-8bce-30de24b3c236",
   "metadata": {},
   "outputs": [],
   "source": [
    "# | export\n",
    "from newrelic_sb_sdk.core.base import BaseEntity\n",
    "from newrelic_sb_sdk.dashboards.utils import OwnerInfo\n",
    "from newrelic_sb_sdk.dashboards.widgets import Widget"
   ]
  },
  {
   "cell_type": "markdown",
   "id": "649b3e74-e9c8-4ac1-8327-1ae67124b120",
   "metadata": {},
   "source": [
    "Development modules"
   ]
  },
  {
   "cell_type": "code",
   "execution_count": null,
   "id": "656e2e0c-3241-4504-8aa7-0242ce35e771",
   "metadata": {
    "tags": []
   },
   "outputs": [],
   "source": [
    "# | hide\n",
    "from importnb import Notebook\n",
    "from IPython.display import clear_output"
   ]
  },
  {
   "cell_type": "code",
   "execution_count": null,
   "id": "1c48f0c7-81c3-40d1-a074-23c159f12994",
   "metadata": {
    "tags": []
   },
   "outputs": [],
   "source": [
    "# | hide\n",
    "widgets_module = Notebook.load_file(\"./Widgets.ipynb\", main=True)\n",
    "clear_output()\n",
    "\n",
    "widget = widgets_module.widget"
   ]
  },
  {
   "cell_type": "markdown",
   "id": "788c7461-f868-47f4-b131-55d0e54ff40c",
   "metadata": {},
   "source": [
    "## Classes"
   ]
  },
  {
   "cell_type": "code",
   "execution_count": null,
   "id": "14065580-a754-4196-9f05-4b668fed5079",
   "metadata": {
    "tags": []
   },
   "outputs": [],
   "source": [
    "# | export\n",
    "@dataclass(kw_only=True)\n",
    "class Page(BaseEntity):\n",
    "    guid: str | None = None\n",
    "    name: str\n",
    "    description: str | None = None\n",
    "    widgets: List[Widget]\n",
    "    owner: OwnerInfo | None = None\n",
    "\n",
    "    created_at: datetime | None = None\n",
    "    updated_at: datetime | None = None\n",
    "\n",
    "    property_processors = {\n",
    "        \"owner\": OwnerInfo.from_json,\n",
    "        # \"created_at\": lambda json_str: datetime.strptime(\n",
    "        #     json.loads(json_str), \"%Y-%m-%dT%H:%M:%SZ\"\n",
    "        # ).replace(tzinfo=timezone.utc)\n",
    "        # if json.loads(json_str)\n",
    "        # else None,\n",
    "        # \"updated_at\": lambda json_str: datetime.strptime(\n",
    "        #     json.loads(json_str), \"%Y-%m-%dT%H:%M:%SZ\"\n",
    "        # ).replace(tzinfo=timezone.utc)\n",
    "        # if json.loads(json_str)\n",
    "        # else None,\n",
    "    }"
   ]
  },
  {
   "cell_type": "code",
   "execution_count": null,
   "id": "d07b715d-265b-4b91-b652-ded4ab76d509",
   "metadata": {},
   "outputs": [],
   "source": [
    "# | hide\n",
    "page = Page(\n",
    "    name=\"Sample Page\",\n",
    "    widgets=[widget],\n",
    "    owner=OwnerInfo(\n",
    "        email=\"admin@example.com\",\n",
    "        user_id=123456789,\n",
    "    ),\n",
    "    created_at=datetime.utcnow().replace(microsecond=0).astimezone(timezone.utc),\n",
    ")\n",
    "print(page)"
   ]
  },
  {
   "cell_type": "code",
   "execution_count": null,
   "id": "defc024b-68fd-4bc0-97c2-7c906dbcab30",
   "metadata": {},
   "outputs": [],
   "source": [
    "# | hide\n",
    "page_json = page.to_json(indent=4)\n",
    "print(page_json)"
   ]
  },
  {
   "cell_type": "code",
   "execution_count": null,
   "id": "e556e810-10ae-428f-8818-286a79e1ab44",
   "metadata": {},
   "outputs": [],
   "source": [
    "# | hide\n",
    "loaded_page = Page.from_json(page_json)\n",
    "print(loaded_page)"
   ]
  },
  {
   "cell_type": "code",
   "execution_count": null,
   "id": "469afe18-3633-4b02-b789-4de003c0079e",
   "metadata": {},
   "outputs": [],
   "source": [
    "# | hide\n",
    "print(page)"
   ]
  },
  {
   "cell_type": "code",
   "execution_count": null,
   "id": "b3325440-54aa-480e-bec0-313de56884f0",
   "metadata": {},
   "outputs": [],
   "source": [
    "# | hide\n",
    "print(page == loaded_page)"
   ]
  },
  {
   "cell_type": "code",
   "execution_count": null,
   "id": "5b9a60b3-0989-4775-950e-2f8e6f1733f2",
   "metadata": {},
   "outputs": [],
   "source": []
  }
 ],
 "metadata": {
  "kernelspec": {
   "display_name": "Python 3 (ipykernel)",
   "language": "python",
   "name": "python3"
  },
  "language_info": {
   "codemirror_mode": {
    "name": "ipython",
    "version": 3
   },
   "file_extension": ".py",
   "mimetype": "text/x-python",
   "name": "python",
   "nbconvert_exporter": "python",
   "pygments_lexer": "ipython3",
   "version": "3.11.2"
  }
 },
 "nbformat": 4,
 "nbformat_minor": 5
}
