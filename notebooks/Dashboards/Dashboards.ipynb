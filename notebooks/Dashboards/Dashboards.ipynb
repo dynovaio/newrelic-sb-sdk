{
    "cells": [
        {
            "cell_type": "code",
            "execution_count": null,
            "id": "82974d33-5b7d-4947-8f4a-8eea7c31a852",
            "metadata": {},
            "outputs": [],
            "source": [
                "# default_exp dashboards.__init__"
            ]
        },
        {
            "cell_type": "markdown",
            "id": "5974de2c-9e5e-4578-a91f-cc056a1187b0",
            "metadata": {
                "tags": []
            },
            "source": [
                "# Dashboard"
            ]
        },
        {
            "cell_type": "markdown",
            "id": "27f9e57e-5250-4cb0-9341-3977ccf6d76c",
            "metadata": {
                "tags": []
            },
            "source": [
                "## Imports"
            ]
        },
        {
            "cell_type": "markdown",
            "id": "6c1e0010-efe5-4649-8f50-5ec8fa410436",
            "metadata": {},
            "source": [
                "Python Modules"
            ]
        },
        {
            "cell_type": "code",
            "execution_count": null,
            "id": "21f2c383-5c21-4cfc-ba39-1c955bbddd2a",
            "metadata": {},
            "outputs": [],
            "source": [
                "# export\n",
                "import json\n",
                "import re\n",
                "from dataclasses import dataclass\n",
                "from datetime import datetime, timezone\n",
                "from enum import Enum\n",
                "from typing import Pattern, List"
            ]
        },
        {
            "cell_type": "markdown",
            "id": "d03fe9de-a742-44ef-88e5-1868628f4123",
            "metadata": {},
            "source": [
                "Third-party modules"
            ]
        },
        {
            "cell_type": "code",
            "execution_count": null,
            "id": "1229986e-9d58-41d8-aefd-33fea60f8c6d",
            "metadata": {},
            "outputs": [],
            "source": [
                "# export\n",
                "from enforce_typing import enforce_types"
            ]
        },
        {
            "cell_type": "markdown",
            "id": "e13c06e7-495d-464f-b15c-0ab67199e80e",
            "metadata": {},
            "source": [
                "NR Automation Module"
            ]
        },
        {
            "cell_type": "code",
            "execution_count": null,
            "id": "82be0ead-2bcf-439d-a6b3-2a3e350768f6",
            "metadata": {},
            "outputs": [],
            "source": [
                "# export\n",
                "from newrelic_sb_sdk.core import (\n",
                "    snakeize_keys,\n",
                "    camelize_keys,\n",
                "    BaseEntity,\n",
                ")\n",
                "from newrelic_sb_sdk.dashboards.utils import (\n",
                "    OwnerInfo,\n",
                ")\n",
                "from newrelic_sb_sdk.dashboards.pages import (\n",
                "    Page,\n",
                ")\n",
                "from newrelic_sb_sdk.dashboards.enums import (\n",
                "    DashboardPermission,\n",
                ")"
            ]
        },
        {
            "cell_type": "markdown",
            "id": "db46a13a-5743-47da-8030-9ee847246de7",
            "metadata": {},
            "source": [
                "Development modules"
            ]
        },
        {
            "cell_type": "code",
            "execution_count": null,
            "id": "c9ae9996-5933-4ded-bd5f-0925016708a5",
            "metadata": {},
            "outputs": [],
            "source": [
                "# hide\n",
                "from importnb import Notebook\n",
                "from nbdev.showdoc import show_doc\n",
                "from IPython.display import clear_output"
            ]
        },
        {
            "cell_type": "code",
            "execution_count": null,
            "id": "aac8207c-8344-412b-ba4b-5b31cf69c51e",
            "metadata": {},
            "outputs": [],
            "source": [
                "# hide\n",
                "pages_module = Notebook.load(\"../Dashboards/Pages.ipynb\", main=True)\n",
                "clear_output()\n",
                "\n",
                "page = pages_module.page"
            ]
        },
        {
            "cell_type": "markdown",
            "id": "788c7461-f868-47f4-b131-55d0e54ff40c",
            "metadata": {},
            "source": [
                "## Classes"
            ]
        },
        {
            "cell_type": "code",
            "execution_count": null,
            "id": "ca7c6bba-1507-4b5a-9e36-22576387c82b",
            "metadata": {},
            "outputs": [],
            "source": [
                "# export\n",
                "@enforce_types\n",
                "@dataclass(kw_only=True)\n",
                "class Dashboard(BaseEntity):\n",
                "    guid: str | None = None\n",
                "    account_id: int | None = None\n",
                "\n",
                "    name: str\n",
                "    description: str = \"\"\n",
                "    pages: list[Page]\n",
                "    permissions: DashboardPermission\n",
                "\n",
                "    owner: OwnerInfo | None = None\n",
                "\n",
                "    created_at: datetime | None = None\n",
                "    updated_at: datetime | None = None\n",
                "\n",
                "    property_processors = {\n",
                "        \"permissions\": DashboardPermission.from_json,\n",
                "        \"owner\": OwnerInfo.from_json,\n",
                "        \"created_at\": lambda json_str: datetime.strptime(\n",
                "            json.loads(json_str), \"%Y-%m-%dT%H:%M:%SZ\"\n",
                "        ).replace(tzinfo=timezone.utc)\n",
                "        if json.loads(json_str)\n",
                "        else None,\n",
                "        \"updated_at\": lambda json_str: datetime.strptime(\n",
                "            json.loads(json_str), \"%Y-%m-%dT%H:%M:%SZ\"\n",
                "        ).replace(tzinfo=timezone.utc)\n",
                "        if json.loads(json_str)\n",
                "        else None,\n",
                "    }"
            ]
        },
        {
            "cell_type": "code",
            "execution_count": null,
            "id": "628dd58d-684c-4396-82d4-4632a8ef22ba",
            "metadata": {},
            "outputs": [],
            "source": [
                "# hide\n",
                "show_doc(Dashboard)"
            ]
        },
        {
            "cell_type": "code",
            "execution_count": null,
            "id": "5118d2d2-a2d9-440f-86f9-2c8d8909cabe",
            "metadata": {},
            "outputs": [],
            "source": [
                "# hide\n",
                "dashboard = Dashboard(\n",
                "    name=\"Sample dashboard\",\n",
                "    pages=[page],\n",
                "    permissions=DashboardPermission.PUBLIC_READ_WRITE,\n",
                "    owner=OwnerInfo(\n",
                "        email=\"admin@example.com\",\n",
                "        user_id=123456789,\n",
                "    ),\n",
                "    created_at=datetime.utcnow().replace(microsecond=0).astimezone(timezone.utc),\n",
                ")\n",
                "\n",
                "print(dashboard)"
            ]
        },
        {
            "cell_type": "code",
            "execution_count": null,
            "id": "b21a43d3-04fd-41d7-8152-6673556b88ca",
            "metadata": {},
            "outputs": [],
            "source": [
                "# hide\n",
                "dashboard_json = dashboard.to_json(indent=4)\n",
                "print(dashboard_json)"
            ]
        },
        {
            "cell_type": "code",
            "execution_count": null,
            "id": "d3afadb9-dd28-4623-bf5f-bdca500cd456",
            "metadata": {},
            "outputs": [],
            "source": [
                "# hide\n",
                "loaded_dashboard = Dashboard.from_json(dashboard_json)\n",
                "print(loaded_dashboard)"
            ]
        },
        {
            "cell_type": "code",
            "execution_count": null,
            "id": "3fcbac68-b2a4-4063-9f0a-c73cf47be3c0",
            "metadata": {},
            "outputs": [],
            "source": [
                "# hide\n",
                "print(loaded_dashboard == dashboard)"
            ]
        },
        {
            "cell_type": "code",
            "execution_count": null,
            "id": "86dc991b-af49-47be-b6b3-d2e7537d2723",
            "metadata": {},
            "outputs": [],
            "source": []
        }
    ],
    "metadata": {
        "kernelspec": {
            "display_name": "Python 3 (ipykernel)",
            "language": "python",
            "name": "python3"
        },
        "language_info": {
            "codemirror_mode": {
                "name": "ipython",
                "version": 3
            },
            "file_extension": ".py",
            "mimetype": "text/x-python",
            "name": "python",
            "nbconvert_exporter": "python",
            "pygments_lexer": "ipython3",
            "version": "3.10.4"
        },
        "vscode": {
            "interpreter": {
                "hash": "31f2aee4e71d21fbe5cf8b01ff0e069b9275f58929596ceb00d14d90e3e16cd6"
            }
        }
    },
    "nbformat": 4,
    "nbformat_minor": 5
}
