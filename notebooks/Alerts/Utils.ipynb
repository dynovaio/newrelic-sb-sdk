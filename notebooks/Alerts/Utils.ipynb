{
 "cells": [
  {
   "cell_type": "code",
   "execution_count": null,
   "id": "82974d33-5b7d-4947-8f4a-8eea7c31a852",
   "metadata": {},
   "outputs": [],
   "source": [
    "# | default_exp alerts.utils"
   ]
  },
  {
   "cell_type": "markdown",
   "id": "5974de2c-9e5e-4578-a91f-cc056a1187b0",
   "metadata": {
    "tags": []
   },
   "source": [
    "# Utils"
   ]
  },
  {
   "cell_type": "markdown",
   "id": "27f9e57e-5250-4cb0-9341-3977ccf6d76c",
   "metadata": {
    "tags": []
   },
   "source": [
    "## Functions"
   ]
  },
  {
   "cell_type": "code",
   "execution_count": null,
   "id": "67ae7641-ae27-41d3-9bd1-383b7643bc80",
   "metadata": {},
   "outputs": [],
   "source": [
    "# | export\n",
    "def generate_nrql_query_string(function, event, clauses=None):\n",
    "    if clauses is None:\n",
    "        return f\"SELECT {function} FROM {event}\"\n",
    "\n",
    "    return f\"SELECT {function} FROM {event} {clauses}\""
   ]
  },
  {
   "cell_type": "code",
   "execution_count": null,
   "id": "b830e7a9-9f7b-407d-b901-26655fbc3c9b",
   "metadata": {},
   "outputs": [],
   "source": [
    "# | export\n",
    "def generate_clauses(condition_scope, apps_names):\n",
    "    if condition_scope == \"application\":\n",
    "        names = tuple([f\"'%{app}%'\" for app in apps_names])\n",
    "        names = \", WHERE appName LIKE \".join(names)\n",
    "        return f\"FACET CASES( WHERE appName LIKE {names} )\"\n",
    "    return \"\""
   ]
  },
  {
   "cell_type": "code",
   "execution_count": null,
   "id": "84daa094-b832-426b-a0ce-84bbb8777273",
   "metadata": {},
   "outputs": [],
   "source": [
    "# | export\n",
    "def get_function_by_metric(metric):\n",
    "    if metric == \"error_percentage\":\n",
    "        return \"percentage(count(*), WHERE error IS TRUE)\"\n",
    "    if metric == \"response_time_web\":\n",
    "        return \"apdex(duration, t: 0.5)\"\n",
    "    return \"count(*)\""
   ]
  }
 ],
 "metadata": {
  "kernelspec": {
   "display_name": "Python 3 (ipykernel)",
   "language": "python",
   "name": "python3"
  },
  "language_info": {
   "codemirror_mode": {
    "name": "ipython",
    "version": 3
   },
   "file_extension": ".py",
   "mimetype": "text/x-python",
   "name": "python",
   "nbconvert_exporter": "python",
   "pygments_lexer": "ipython3",
   "version": "3.11.2"
  }
 },
 "nbformat": 4,
 "nbformat_minor": 5
}
