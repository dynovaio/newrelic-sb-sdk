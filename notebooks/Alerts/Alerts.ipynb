{
 "cells": [
  {
   "cell_type": "code",
   "execution_count": null,
   "id": "82974d33-5b7d-4947-8f4a-8eea7c31a852",
   "metadata": {
    "tags": []
   },
   "outputs": [],
   "source": [
    "# | default_exp alerts.__init__"
   ]
  },
  {
   "cell_type": "markdown",
   "id": "5974de2c-9e5e-4578-a91f-cc056a1187b0",
   "metadata": {
    "tags": []
   },
   "source": [
    "# Alerts classes definition"
   ]
  },
  {
   "cell_type": "markdown",
   "id": "27f9e57e-5250-4cb0-9341-3977ccf6d76c",
   "metadata": {
    "tags": []
   },
   "source": [
    "## Imports"
   ]
  },
  {
   "cell_type": "markdown",
   "id": "6c1e0010-efe5-4649-8f50-5ec8fa410436",
   "metadata": {},
   "source": [
    "Python modules"
   ]
  },
  {
   "cell_type": "code",
   "execution_count": null,
   "id": "21f2c383-5c21-4cfc-ba39-1c955bbddd2a",
   "metadata": {
    "tags": []
   },
   "outputs": [],
   "source": [
    "# | export\n",
    "import json\n",
    "import re\n",
    "from dataclasses import dataclass\n",
    "from datetime import datetime, timezone"
   ]
  },
  {
   "cell_type": "markdown",
   "id": "db46a13a-5743-47da-8030-9ee847246de7",
   "metadata": {},
   "source": [
    "`newrelic_sb_sdk` module"
   ]
  },
  {
   "cell_type": "code",
   "execution_count": null,
   "id": "2ad88926-e2d6-4650-a7da-835459811d54",
   "metadata": {
    "tags": []
   },
   "outputs": [],
   "source": [
    "# | export\n",
    "from newrelic_sb_sdk.alerts.utils import (\n",
    "    generate_clauses,\n",
    "    generate_nrql_query_string,\n",
    "    get_function_by_metric,\n",
    ")\n",
    "from newrelic_sb_sdk.core.base import BaseEntity"
   ]
  },
  {
   "cell_type": "markdown",
   "id": "788c7461-f868-47f4-b131-55d0e54ff40c",
   "metadata": {},
   "source": [
    "## Classes"
   ]
  },
  {
   "cell_type": "code",
   "execution_count": null,
   "id": "9f8058f8-1e60-4983-b7e6-e882b711ed9e",
   "metadata": {
    "tags": []
   },
   "outputs": [],
   "source": [
    "# | export\n",
    "@dataclass(kw_only=True)\n",
    "class Term(BaseEntity):\n",
    "    operator: str\n",
    "    priority: str\n",
    "    threshold: int\n",
    "    duration: int\n",
    "    time_function: str"
   ]
  },
  {
   "cell_type": "code",
   "execution_count": null,
   "id": "4720528a-aa70-4446-8d58-9df71ec196fd",
   "metadata": {
    "tags": []
   },
   "outputs": [],
   "source": [
    "# | export\n",
    "@dataclass(kw_only=True)\n",
    "class Condition(BaseEntity):\n",
    "    terms: list[Term] | Term\n",
    "    enabled: bool\n",
    "    name: str"
   ]
  },
  {
   "cell_type": "code",
   "execution_count": null,
   "id": "44577df3-2729-4ae7-a7de-0c02a0e9c316",
   "metadata": {
    "tags": []
   },
   "outputs": [],
   "source": [
    "# | export\n",
    "@dataclass(kw_only=True)\n",
    "class AlertCondition(BaseEntity):\n",
    "    account_id: int | str\n",
    "    policy_id: int | str\n",
    "    condition: dict\n",
    "    query: str | None\n",
    "    query_kwargs: dict | None\n",
    "\n",
    "    def generate_nrql_query(self):\n",
    "        event = \"Transaction\"\n",
    "        function = get_function_by_metric(self.condition[\"metric\"])\n",
    "        clauses = generate_clauses(\n",
    "            self.condition[\"condition_scope\"], self.condition[\"apps_names\"]\n",
    "        )\n",
    "\n",
    "        return generate_nrql_query_string(function, event, clauses)\n",
    "\n",
    "    def generate_query(self):\n",
    "        query = \"\"\n",
    "        if len(self.condition[\"terms\"]) == 2:\n",
    "            query = \"\"\"\n",
    "                mutation {\n",
    "                  alertsNrqlConditionStaticCreate(\n",
    "                    accountId: %(account_id)d,\n",
    "                    policyId: %(policy_id)s,\n",
    "                    condition: {\n",
    "                        enabled: %(enabled)s,\n",
    "                        nrql: {\n",
    "                            query: \"%(nrql_query)s\",\n",
    "                        },\n",
    "                        name: \"%(name_incident)s\",\n",
    "                        terms: [\n",
    "                        {\n",
    "                          operator: %(term0_operator)s,\n",
    "                          priority: %(term0_priority)s,\n",
    "                          threshold: %(term0_threshold)d,\n",
    "                          thresholdDuration: %(term0_thresholdDuration)d,\n",
    "                          thresholdOccurrences: %(term0_thresholdOccurrences)s\n",
    "                        },\n",
    "                        {\n",
    "                          operator: %(term1_operator)s,\n",
    "                          priority: %(term1_priority)s,\n",
    "                          threshold: %(term1_threshold)d,\n",
    "                          thresholdDuration: %(term1_thresholdDuration)d,\n",
    "                          thresholdOccurrences: %(term1_thresholdOccurrences)s\n",
    "                        }]\n",
    "                    }\n",
    "                    ){\n",
    "                        enabled\n",
    "                        name\n",
    "                        id\n",
    "                        policyId\n",
    "                    }\n",
    "                }\n",
    "            \"\"\"\n",
    "        elif len(self.condition[\"terms\"]) == 1:\n",
    "            query = \"\"\"\n",
    "                mutation {\n",
    "                  alertsNrqlConditionStaticCreate(\n",
    "                    accountId: %(account_id)d,\n",
    "                    policyId: %(policy_id)s,\n",
    "                    conditions: {\n",
    "                        enabled: %(enabled)s,\n",
    "                        nrql: {\n",
    "                            query: \"%(nrql_query)s\"\n",
    "                        },\n",
    "                        name: \"%(name_incident)s\",\n",
    "                        terms: [\n",
    "                        {\n",
    "                          operator: %(term0_operator)s,\n",
    "                          priority: %(term0_priority)s,\n",
    "                          threshold: %(term0_threshold)d,\n",
    "                          thresholdDuration: %(term0_thresholdDuration)d,\n",
    "                          thresholdOccurrences: %(term0_thresholdOccurrences)s\n",
    "                        }]\n",
    "                    }\n",
    "                    ){\n",
    "                        id\n",
    "                        enabled\n",
    "                        name\n",
    "                        policyId\n",
    "                    }\n",
    "                }\n",
    "            \"\"\"\n",
    "        query_kwargs = {\n",
    "            \"account_id\": self.account_id,\n",
    "            \"policy_id\": self.policy_id,\n",
    "            \"enabled\": \"true\" if self.condition[\"enabled\"] else \"false\",\n",
    "            \"name_incident\": self.condition[\"name\"],\n",
    "            \"nrql_query\": self.generate_nrql_query(),\n",
    "        }\n",
    "\n",
    "        for i, term in enumerate(self.condition[\"terms\"]):\n",
    "            query_kwargs.update(\n",
    "                {\n",
    "                    f\"term{i}_operator\": term[\"operator\"].upper(),\n",
    "                    f\"term{i}_priority\": term[\"priority\"].upper(),\n",
    "                    f\"term{i}_threshold\": int(term[\"threshold\"]),\n",
    "                    f\"term{i}_thresholdDuration\": int(term[\"duration\"]) * 60,\n",
    "                    f\"term{i}_thresholdOccurrences\": term[\"time_function\"].upper(),\n",
    "                }\n",
    "            )\n",
    "\n",
    "        self.query = query\n",
    "        self.query_kwargs = query_kwargs\n",
    "\n",
    "        return query % query_kwargs\n",
    "\n",
    "    def create_alert(self, client):\n",
    "        response = client.execute(query=self.query, query_kwargs=self.query_kwargs)\n",
    "        response = response.json()\n",
    "        return response[\"data\"][\"alertsNrqlConditionStaticCreate\"]"
   ]
  },
  {
   "cell_type": "code",
   "execution_count": null,
   "id": "5ab68ba6-d230-4780-a26d-8159c4f72649",
   "metadata": {},
   "outputs": [],
   "source": []
  }
 ],
 "metadata": {
  "kernelspec": {
   "display_name": "Python 3 (ipykernel)",
   "language": "python",
   "name": "python3"
  },
  "language_info": {
   "codemirror_mode": {
    "name": "ipython",
    "version": 3
   },
   "file_extension": ".py",
   "mimetype": "text/x-python",
   "name": "python",
   "nbconvert_exporter": "python",
   "pygments_lexer": "ipython3",
   "version": "3.11.2"
  }
 },
 "nbformat": 4,
 "nbformat_minor": 5
}
