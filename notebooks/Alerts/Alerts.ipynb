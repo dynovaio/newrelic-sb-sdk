{
    "cells": [
        {
            "cell_type": "code",
            "execution_count": null,
            "id": "82974d33-5b7d-4947-8f4a-8eea7c31a852",
            "metadata": {},
            "outputs": [],
            "source": [
                "# default_exp alerts.__init__"
            ]
        },
        {
            "cell_type": "markdown",
            "id": "5974de2c-9e5e-4578-a91f-cc056a1187b0",
            "metadata": {
                "tags": []
            },
            "source": [
                "# Alerts classes definition"
            ]
        },
        {
            "cell_type": "markdown",
            "id": "27f9e57e-5250-4cb0-9341-3977ccf6d76c",
            "metadata": {
                "tags": []
            },
            "source": [
                "## Imports"
            ]
        },
        {
            "cell_type": "markdown",
            "id": "6c1e0010-efe5-4649-8f50-5ec8fa410436",
            "metadata": {},
            "source": [
                "Python Modules"
            ]
        },
        {
            "cell_type": "code",
            "execution_count": null,
            "id": "21f2c383-5c21-4cfc-ba39-1c955bbddd2a",
            "metadata": {},
            "outputs": [],
            "source": [
                "# export\n",
                "import json\n",
                "import re\n",
                "from dataclasses import dataclass\n",
                "from datetime import datetime, timezone"
            ]
        },
        {
            "cell_type": "markdown",
            "id": "d03fe9de-a742-44ef-88e5-1868628f4123",
            "metadata": {},
            "source": [
                "Third-party modules"
            ]
        },
        {
            "cell_type": "code",
            "execution_count": null,
            "id": "1229986e-9d58-41d8-aefd-33fea60f8c6d",
            "metadata": {},
            "outputs": [],
            "source": [
                "# export\n",
                "from enforce_typing import enforce_types"
            ]
        },
        {
            "cell_type": "markdown",
            "id": "db46a13a-5743-47da-8030-9ee847246de7",
            "metadata": {},
            "source": [
                "Development modules"
            ]
        },
        {
            "cell_type": "code",
            "execution_count": null,
            "id": "c9ae9996-5933-4ded-bd5f-0925016708a5",
            "metadata": {},
            "outputs": [],
            "source": [
                "# hide\n",
                "from importnb import Notebook\n",
                "from IPython.display import clear_output"
            ]
        },
        {
            "cell_type": "code",
            "execution_count": null,
            "id": "d0144441-4e54-4f4d-bacc-3e220faa8c4a",
            "metadata": {},
            "outputs": [],
            "source": [
                "# hide\n",
                "core_module = Notebook.load(\"../Core/Core.ipynb\", main=True)\n",
                "clear_output()\n",
                "\n",
                "BaseEntity = core_module.BaseEntity"
            ]
        },
        {
            "cell_type": "code",
            "execution_count": null,
            "id": "4a3d70d7-aa0b-4529-a6dd-c23f6ceda473",
            "metadata": {},
            "outputs": [],
            "source": [
                "# hide\n",
                "utils_module = Notebook.load(\"../Alerts/Utils.ipynb\", main=True)\n",
                "clear_output()\n",
                "\n",
                "generate_nrql_query_string = utils_module.generate_nrql_query_string\n",
                "generate_clauses = utils_module.generate_clauses\n",
                "get_function_by_metric = utils_module.get_function_by_metric"
            ]
        },
        {
            "cell_type": "code",
            "execution_count": null,
            "id": "2ad88926-e2d6-4650-a7da-835459811d54",
            "metadata": {},
            "outputs": [],
            "source": [
                "# export\n",
                "from newrelic_sb_sdk.core import (\n",
                "    BaseEntity,\n",
                ")\n",
                "from newrelic_sb_sdk.alerts.utils import (\n",
                "    generate_nrql_query_string,\n",
                "    generate_clauses,\n",
                ")"
            ]
        },
        {
            "cell_type": "markdown",
            "id": "788c7461-f868-47f4-b131-55d0e54ff40c",
            "metadata": {},
            "source": [
                "## Classes"
            ]
        },
        {
            "cell_type": "code",
            "execution_count": null,
            "id": "9f8058f8-1e60-4983-b7e6-e882b711ed9e",
            "metadata": {},
            "outputs": [],
            "source": [
                "# export\n",
                "@enforce_types\n",
                "@dataclass(kw_only=True)\n",
                "class Term(BaseEntity):\n",
                "    operator: str\n",
                "    priority: str\n",
                "    threshold: int\n",
                "    duration: int\n",
                "    time_function: str"
            ]
        },
        {
            "cell_type": "code",
            "execution_count": null,
            "id": "4720528a-aa70-4446-8d58-9df71ec196fd",
            "metadata": {},
            "outputs": [],
            "source": [
                "# export\n",
                "@enforce_types\n",
                "@dataclass(kw_only=True)\n",
                "class Condition(BaseEntity):\n",
                "    terms: list[Term] | Term\n",
                "    enabled: bool\n",
                "    name: str"
            ]
        },
        {
            "cell_type": "code",
            "execution_count": null,
            "id": "44577df3-2729-4ae7-a7de-0c02a0e9c316",
            "metadata": {},
            "outputs": [],
            "source": [
                "# export\n",
                "@enforce_types\n",
                "# @dataclass(kw_only=True)\n",
                "class AlertCondition(BaseEntity):\n",
                "    account_id: int | str\n",
                "    policy_id: int | str\n",
                "    condition: dict\n",
                "\n",
                "    def __init__(self, account_id, policy_id, condition):\n",
                "        self.account_id = account_id\n",
                "        self.policy_id = policy_id\n",
                "        self.condition = condition\n",
                "\n",
                "    def generate_nrql_query(self):\n",
                "        event = \"Transaction\"\n",
                "        function = get_function_by_metric(self.condition[\"metric\"])\n",
                "        clauses = generate_clauses(\n",
                "            self.condition[\"condition_scope\"], self.condition[\"apps_names\"]\n",
                "        )\n",
                "\n",
                "        return generate_nrql_query_string(function, event, clauses)\n",
                "\n",
                "    def generate_query(self):\n",
                "        query = \"\"\n",
                "        if len(self.condition[\"terms\"]) == 2:\n",
                "            query = \"\"\"\n",
                "                mutation {\n",
                "                  alertsNrqlConditionStaticCreate(\n",
                "                    accountId: %(account_id)d,\n",
                "                    policyId: %(policy_id)s,\n",
                "                    condition: {\n",
                "                        enabled: %(enabled)s,\n",
                "                        nrql: {\n",
                "                            query: \"%(nrql_query)s\",\n",
                "                        },\n",
                "                        name: \"%(name_incident)s\",\n",
                "                        terms: [\n",
                "                        {\n",
                "                          operator: %(term0_operator)s,\n",
                "                          priority: %(term0_priority)s,\n",
                "                          threshold: %(term0_threshold)d,\n",
                "                          thresholdDuration: %(term0_thresholdDuration)d,\n",
                "                          thresholdOccurrences: %(term0_thresholdOccurrences)s\n",
                "                        },\n",
                "                        {\n",
                "                          operator: %(term1_operator)s,\n",
                "                          priority: %(term1_priority)s,\n",
                "                          threshold: %(term1_threshold)d,\n",
                "                          thresholdDuration: %(term1_thresholdDuration)d,\n",
                "                          thresholdOccurrences: %(term1_thresholdOccurrences)s\n",
                "                        }]\n",
                "                    }\n",
                "                    ){\n",
                "                        enabled\n",
                "                        name\n",
                "                        id\n",
                "                        policyId\n",
                "                    }\n",
                "                }\n",
                "            \"\"\"\n",
                "        elif len(self.condition[\"terms\"]) == 1:\n",
                "            query = \"\"\"\n",
                "                mutation {\n",
                "                  alertsNrqlConditionStaticCreate(\n",
                "                    accountId: %(account_id)d,\n",
                "                    policyId: %(policy_id)s,\n",
                "                    conditions: {\n",
                "                        enabled: %(enabled)s,\n",
                "                        nrql: {\n",
                "                            query: \"%(nrql_query)s\"\n",
                "                        },\n",
                "                        name: \"%(name_incident)s\",\n",
                "                        terms: [\n",
                "                        {\n",
                "                          operator: %(term0_operator)s,\n",
                "                          priority: %(term0_priority)s,\n",
                "                          threshold: %(term0_threshold)d,\n",
                "                          thresholdDuration: %(term0_thresholdDuration)d,\n",
                "                          thresholdOccurrences: %(term0_thresholdOccurrences)s\n",
                "                        }]\n",
                "                    }\n",
                "                    ){\n",
                "                        id\n",
                "                        enabled\n",
                "                        name\n",
                "                        policyId\n",
                "                    }\n",
                "                }\n",
                "            \"\"\"\n",
                "        query_kwargs = {\n",
                "            \"account_id\": self.account_id,\n",
                "            \"policy_id\": self.policy_id,\n",
                "            \"enabled\": \"true\" if self.condition[\"enabled\"] else \"false\",\n",
                "            \"name_incident\": self.condition[\"name\"],\n",
                "            \"nrql_query\": self.generate_nrql_query(),\n",
                "        }\n",
                "\n",
                "        for i, term in enumerate(self.condition[\"terms\"]):\n",
                "            query_kwargs.update(\n",
                "                {\n",
                "                    f\"term{i}_operator\": term[\"operator\"].upper(),\n",
                "                    f\"term{i}_priority\": term[\"priority\"].upper(),\n",
                "                    f\"term{i}_threshold\": int(term[\"threshold\"]),\n",
                "                    f\"term{i}_thresholdDuration\": int(term[\"duration\"]) * 60,\n",
                "                    f\"term{i}_thresholdOccurrences\": term[\"time_function\"].upper(),\n",
                "                }\n",
                "            )\n",
                "\n",
                "        self.query = query\n",
                "        self.query_kwargs = query_kwargs\n",
                "\n",
                "        return query % query_kwargs\n",
                "\n",
                "    def create_alert(self, client):\n",
                "        response = client.execute(query=self.query, query_kwargs=self.query_kwargs)\n",
                "        response = response.json()\n",
                "        print(response)\n",
                "        return response[\"data\"][\"alertsNrqlConditionStaticCreate\"]"
            ]
        }
    ],
    "metadata": {
        "kernelspec": {
            "display_name": "Python 3 (ipykernel)",
            "language": "python",
            "name": "python3"
        },
        "language_info": {
            "codemirror_mode": {
                "name": "ipython",
                "version": 3
            },
            "file_extension": ".py",
            "mimetype": "text/x-python",
            "name": "python",
            "nbconvert_exporter": "python",
            "pygments_lexer": "ipython3",
            "version": "3.10.4"
        }
    },
    "nbformat": 4,
    "nbformat_minor": 5
}
