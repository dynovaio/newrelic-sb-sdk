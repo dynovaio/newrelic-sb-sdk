{
 "cells": [
  {
   "cell_type": "markdown",
   "id": "a41ead02-b74e-45f6-b43a-3c253856a3a7",
   "metadata": {
    "tags": []
   },
   "source": [
    "# Alers"
   ]
  },
  {
   "cell_type": "markdown",
   "id": "3a13759a-c4e5-4377-beeb-0a613bc17637",
   "metadata": {},
   "source": [
    "> Alerts related objects"
   ]
  },
  {
   "cell_type": "markdown",
   "id": "e856bec6-9ca5-48a2-8f06-6580aed057fc",
   "metadata": {},
   "source": [
    "* [Enums](Enums.ipynb)\n",
    "* [Utils](Utils.ipynb)\n",
    "* [Alerts](Alerts.ipynb)"
   ]
  },
  {
   "cell_type": "code",
   "execution_count": null,
   "id": "a2e29836-84ab-43cd-a560-ade864644b5a",
   "metadata": {},
   "outputs": [],
   "source": []
  }
 ],
 "metadata": {
  "kernelspec": {
   "display_name": "Python 3 (ipykernel)",
   "language": "python",
   "name": "python3"
  },
  "language_info": {
   "codemirror_mode": {
    "name": "ipython",
    "version": 3
   },
   "file_extension": ".py",
   "mimetype": "text/x-python",
   "name": "python",
   "nbconvert_exporter": "python",
   "pygments_lexer": "ipython3",
   "version": "3.11.2"
  }
 },
 "nbformat": 4,
 "nbformat_minor": 5
}
