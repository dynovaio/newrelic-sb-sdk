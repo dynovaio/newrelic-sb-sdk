{
    "cells": [
        {
            "cell_type": "code",
            "execution_count": null,
            "id": "82974d33-5b7d-4947-8f4a-8eea7c31a852",
            "metadata": {},
            "outputs": [],
            "source": [
                "# default_exp alerts.enums"
            ]
        },
        {
            "cell_type": "markdown",
            "id": "5974de2c-9e5e-4578-a91f-cc056a1187b0",
            "metadata": {
                "tags": []
            },
            "source": [
                "# Alerts enums definition"
            ]
        },
        {
            "cell_type": "markdown",
            "id": "27f9e57e-5250-4cb0-9341-3977ccf6d76c",
            "metadata": {
                "tags": []
            },
            "source": [
                "## Imports"
            ]
        },
        {
            "cell_type": "markdown",
            "id": "db46a13a-5743-47da-8030-9ee847246de7",
            "metadata": {},
            "source": [
                "Development modules"
            ]
        },
        {
            "cell_type": "code",
            "execution_count": null,
            "id": "c9ae9996-5933-4ded-bd5f-0925016708a5",
            "metadata": {},
            "outputs": [],
            "source": [
                "# hide\n",
                "from importnb import Notebook\n",
                "from nbdev.showdoc import show_doc\n",
                "from IPython.display import clear_output"
            ]
        },
        {
            "cell_type": "code",
            "execution_count": null,
            "id": "f33532c6-6fc5-42c9-aee4-16259d92d671",
            "metadata": {},
            "outputs": [],
            "source": [
                "# hide\n",
                "core_module = Notebook.load(\"../Core/Core.ipynb\", main=True)\n",
                "clear_output()\n",
                "\n",
                "SerializableEnum = core_module.SerializableEnum"
            ]
        },
        {
            "cell_type": "code",
            "execution_count": null,
            "id": "2ad88926-e2d6-4650-a7da-835459811d54",
            "metadata": {},
            "outputs": [],
            "source": [
                "# export\n",
                "from newrelic_sb_sdk.core import (\n",
                "    SerializableEnum,\n",
                ")"
            ]
        },
        {
            "cell_type": "markdown",
            "id": "788c7461-f868-47f4-b131-55d0e54ff40c",
            "metadata": {},
            "source": [
                "## Classes"
            ]
        },
        {
            "cell_type": "markdown",
            "id": "d9aed163-af23-4ef5-bf14-21701c45139a",
            "metadata": {},
            "source": [
                "### Enum properties"
            ]
        },
        {
            "cell_type": "code",
            "execution_count": null,
            "id": "08f8ea86-5e67-4bae-9544-0f1c4ae7fce3",
            "metadata": {},
            "outputs": [],
            "source": [
                "# export\n",
                "class AlertSeverity(SerializableEnum):\n",
                "    CRITICAL = \"CRITICAL\"\n",
                "    NOT_ALERTING = \"NOT_ALERTING\"\n",
                "    WARNING = \"WARNING\""
            ]
        },
        {
            "cell_type": "code",
            "execution_count": null,
            "id": "659e82ab-fe74-415c-9ae6-a4fd4c65c80c",
            "metadata": {},
            "outputs": [],
            "source": [
                "# export\n",
                "class AlertsIncidentPreference(SerializableEnum):\n",
                "    PER_CONDITION = \"PER_CONDITION\"\n",
                "    PER_CONDITION_AND_TARGET = \"PER_CONDITION_AND_TARGET\"\n",
                "    PER_POLICY = \"PER_POLICY\""
            ]
        },
        {
            "cell_type": "code",
            "execution_count": null,
            "id": "df14f05e-ecb1-40e8-b88a-c48320a4f548",
            "metadata": {},
            "outputs": [],
            "source": [
                "# export\n",
                "class AlertsNrqlConditionsType(SerializableEnum):\n",
                "    BASELINE = \"BASELINE\"\n",
                "    STATIC = \"STATIC\""
            ]
        },
        {
            "cell_type": "code",
            "execution_count": null,
            "id": "a5f9c416-d6d7-4160-8ad7-b94fdf504c46",
            "metadata": {},
            "outputs": [],
            "source": [
                "# export\n",
                "class EntityType(SerializableEnum):\n",
                "    APM_APPLICATION_ENTITY = \"APM_APPLICATION_ENTITY\"\n",
                "    APM_DATABASE_INSTANCE_ENTITY = \"APM_DATABASE_INSTANCE_ENTITY\"\n",
                "    APM_EXTERNAL_SERVICE_ENTITY = \"APM_EXTERNAL_SERVICE_ENTITY\"\n",
                "    BROWSER_APPLICATION_ENTITY = \"BROWSER_APPLICATION_ENTITY\"\n",
                "    DASHBOARD_ENTITY = \"DASHBOARD_ENTITY\"\n",
                "    EXTERNAL_ENTITY = \"EXTERNAL_ENTITY\"\n",
                "    GENERIC_ENTITY = \"GENERIC_ENTITY\"\n",
                "    GENERIC_INFRASTRUCTURE_ENTITY = \"GENERIC_INFRASTRUCTURE_ENTITY\"\n",
                "    INFRASTRUCTURE_AWS_LAMBDA_FUNCTION_ENTITY = (\n",
                "        \"INFRASTRUCTURE_AWS_LAMBDA_FUNCTION_ENTITY\"\n",
                "    )\n",
                "    INFRASTRUCTURE_HOST_ENTITY = \"INFRASTRUCTURE_HOST_ENTITY\"\n",
                "    KEY_TRANSACTION_ENTITY = \"KEY_TRANSACTION_ENTITY\"\n",
                "    MOBILE_APPLICATION_ENTITY = \"MOBILE_APPLICATION_ENTITY\"\n",
                "    SECURE_CREDENTIAL_ENTITY = \"SECURE_CREDENTIAL_ENTITY\"\n",
                "    SYNTHETIC_MONITOR_ENTITY = \"SYNTHETIC_MONITOR_ENTITY\"\n",
                "    THIRD_PARTY_SERVICE_ENTITY = \"THIRD_PARTY_SERVICE_ENTITY\"\n",
                "    UNAVAILABLE_ENTITY = \"UNAVAILABLE_ENTITY\"\n",
                "    WORKLOAD_ENTITY = \"WORKLOAD_ENTITY\""
            ]
        },
        {
            "cell_type": "code",
            "execution_count": null,
            "id": "3b8c5815-bd8a-4511-acef-a0f12b2984d6",
            "metadata": {},
            "outputs": [],
            "source": [
                "class EntityGoldenEventObjectId(SerializableEnum):\n",
                "    DOMAIN_IDS = \"DOMAIN_IDS\"\n",
                "    ENTITY_GUIDS = \"ENTITY_GUIDS\""
            ]
        },
        {
            "cell_type": "code",
            "execution_count": null,
            "id": "2a6725f7-dc1d-4974-97a8-8a7d2d2aa84b",
            "metadata": {},
            "outputs": [],
            "source": [
                "class EntityGoldenMetricUnit(SerializableEnum):\n",
                "    APDEX = \"APDEX\"\n",
                "    BITS = \"BITS\"\n",
                "    BITS_PER_SECOND = \"BITS_PER_SECOND\"\n",
                "    BYTES = \"BYTES\"\n",
                "    BYTES_PER_SECOND = \"BYTES_PER_SECOND\"\n",
                "    CELSIUS = \"CELSIUS\"\n",
                "    COUNT = \"COUNT\"\n",
                "    HERTZ = \"HERTZ\"\n",
                "    MESSAGES_PER_SECOND = \"MESSAGES_PER_SECOND\"\n",
                "    MS = \"MS\"\n",
                "    OPERATIONS_PER_SECOND = \"OPERATIONS_PER_SECOND\"\n",
                "    PAGES_PER_SECOND = \"PAGES_PER_SECOND\"\n",
                "    PERCENTAGE = \"PERCENTAGE\"\n",
                "    REQUESTS_PER_MINUTE = \"REQUESTS_PER_MINUTE\"\n",
                "    REQUESTS_PER_SECOND = \"REQUESTS_PER_SECOND\"\n",
                "    SECONDS = \"SECONDS\"\n",
                "    TIMESTAMP = \"TIMESTAMP\""
            ]
        },
        {
            "cell_type": "code",
            "execution_count": null,
            "id": "76b1c330-d65f-44b6-b1ff-ac55772d3675",
            "metadata": {},
            "outputs": [],
            "source": [
                "class AlertsSignalAggregationMethod(SerializableEnum):\n",
                "    CADENCE = \"CADENCE\"\n",
                "    EVENT_FLOW = \"EVENT_FLOW\"\n",
                "    EVENT_TIMER = \"EVENT_TIMER\""
            ]
        },
        {
            "cell_type": "code",
            "execution_count": null,
            "id": "262bf0e7-3413-432c-a7e7-da5d2349691b",
            "metadata": {},
            "outputs": [],
            "source": [
                "class AlertsFillOption(SerializableEnum):\n",
                "    LAST_VALUE = \"LAST_VALUE\"\n",
                "    NONE = \"NONE\"\n",
                "    STATIC = \"STATIC\""
            ]
        },
        {
            "cell_type": "code",
            "execution_count": null,
            "id": "8759451a-7d84-426d-a222-33c47e47b077",
            "metadata": {},
            "outputs": [],
            "source": [
                "class AlertsNrqlConditionTermsOperator(SerializableEnum):\n",
                "    ABOVE = \"ABOVE\"\n",
                "    ABOVE_OR_EQUALS = \"ABOVE_OR_EQUALS\"\n",
                "    BELOW = \"BELOW\"\n",
                "    BELOW_OR_EQUALS = \"BELOW_OR_EQUALS\"\n",
                "    EQUALS = \"EQUALS\"\n",
                "    NOT_EQUALS = \"NOT_EQUALS\""
            ]
        },
        {
            "cell_type": "code",
            "execution_count": null,
            "id": "6dd7bcdd-cb41-4b68-8a7f-32ef11848b88",
            "metadata": {},
            "outputs": [],
            "source": [
                "class AlertsNrqlConditionPriority(SerializableEnum):\n",
                "    CRITICAL = \"CRITICAL\"\n",
                "    WARNING = \"WARNING\""
            ]
        },
        {
            "cell_type": "code",
            "execution_count": null,
            "id": "ee95e0b0-d5a3-4574-8df0-f2af49ab010c",
            "metadata": {},
            "outputs": [],
            "source": [
                "class AlertsNrqlConditionThresholdOccurrences(SerializableEnum):\n",
                "    ALL = \"ALL\"\n",
                "    AT_LEAST_ONCE = \"AT_LEAST_ONCE\""
            ]
        },
        {
            "cell_type": "code",
            "execution_count": null,
            "id": "a13aafb0-bcf0-4bd1-9329-97e5bfe735db",
            "metadata": {},
            "outputs": [],
            "source": [
                "class AlertsNrqlConditionType(SerializableEnum):\n",
                "    BASELINE = \"BASELINE\"\n",
                "    OUTLIER = \"OUTLIER\"\n",
                "    STATIC = \"STATIC\""
            ]
        },
        {
            "cell_type": "code",
            "execution_count": null,
            "id": "3be0e490-7399-40fb-b475-2fb2c7b50576",
            "metadata": {},
            "outputs": [],
            "source": [
                "class AlertsNrqlStaticConditionValueFunction(SerializableEnum):\n",
                "    SINGLE_VALUE = \"SINGLE_VALUE\"\n",
                "    SUM = \"SUM\""
            ]
        },
        {
            "cell_type": "code",
            "execution_count": null,
            "id": "0e53f05a-e44e-484b-b767-d946160186c4",
            "metadata": {},
            "outputs": [],
            "source": [
                "class AlertsViolationTimeLimit(SerializableEnum):\n",
                "    EIGHT_HOURS = \"EIGHT_HOURS\"\n",
                "    FOUR_HOURS = \"FOUR_HOURS\"\n",
                "    NON_MATCHABLE_LIMIT_VALUE = \"NON_MATCHABLE_LIMIT_VALUE\"\n",
                "    ONE_HOUR = \"ONE_HOUR\"\n",
                "    THIRTY_DAYS = \"THIRTY_DAYS\"\n",
                "    TWELVE_HOURS = \"TWELVE_HOURS\"\n",
                "    TWENTY_FOUR_HOURS = \"TWENTY_FOUR_HOURS\"\n",
                "    TWO_HOURS = \"TWO_HOURS\""
            ]
        }
    ],
    "metadata": {
        "kernelspec": {
            "display_name": "Python 3 (ipykernel)",
            "language": "python",
            "name": "python3"
        },
        "language_info": {
            "codemirror_mode": {
                "name": "ipython",
                "version": 3
            },
            "file_extension": ".py",
            "mimetype": "text/x-python",
            "name": "python",
            "nbconvert_exporter": "python",
            "pygments_lexer": "ipython3",
            "version": "3.10.4"
        }
    },
    "nbformat": 4,
    "nbformat_minor": 5
}
