{
 "cells": [
  {
   "cell_type": "code",
   "execution_count": null,
   "id": "726ba456",
   "metadata": {},
   "outputs": [],
   "source": [
    "# | default_exp shortcuts.nrql"
   ]
  },
  {
   "cell_type": "markdown",
   "id": "4f6fd558-1605-48fd-bc10-1543df75f91e",
   "metadata": {},
   "source": [
    "# Accounts"
   ]
  },
  {
   "cell_type": "markdown",
   "id": "4964176c-57f1-463a-8e4a-555557f4a458",
   "metadata": {},
   "source": [
    "> Accounts related shortcut functions"
   ]
  },
  {
   "cell_type": "markdown",
   "id": "36e8fc4c",
   "metadata": {},
   "source": [
    "## Imports"
   ]
  },
  {
   "cell_type": "markdown",
   "id": "870a28a7",
   "metadata": {},
   "source": [
    "Python modules"
   ]
  },
  {
   "cell_type": "code",
   "execution_count": null,
   "id": "6edd758d",
   "metadata": {},
   "outputs": [],
   "source": [
    "# | export\n",
    "import logging\n",
    "import time\n",
    "import warnings\n",
    "from textwrap import dedent\n",
    "from typing import List, Union"
   ]
  },
  {
   "cell_type": "markdown",
   "id": "130afebd",
   "metadata": {},
   "source": [
    "Third-party modules"
   ]
  },
  {
   "cell_type": "code",
   "execution_count": null,
   "id": "1c4cd219",
   "metadata": {},
   "outputs": [],
   "source": [
    "# | export\n",
    "from sgqlc.operation import Operation\n",
    "from sgqlc.types import ID, Arg, Int, Variable, list_of, non_null"
   ]
  },
  {
   "cell_type": "markdown",
   "id": "7fb7c642",
   "metadata": {},
   "source": [
    "`newrelic_sb_sdk` module"
   ]
  },
  {
   "cell_type": "code",
   "execution_count": null,
   "id": "d2714daa",
   "metadata": {},
   "outputs": [],
   "source": [
    "# | export\n",
    "from newrelic_sb_sdk.client import NewRelicGqlClient\n",
    "from newrelic_sb_sdk.graphql.objects import (\n",
    "    Account,\n",
    "    CrossAccountNrdbResultContainer,\n",
    "    NrdbResult,\n",
    ")\n",
    "from newrelic_sb_sdk.graphql.scalars import Nrql\n",
    "from newrelic_sb_sdk.utils.exceptions import NewRelicError\n",
    "from newrelic_sb_sdk.utils.response import raise_response_errors"
   ]
  },
  {
   "cell_type": "markdown",
   "id": "de2d76a4",
   "metadata": {},
   "source": [
    "## Logger"
   ]
  },
  {
   "cell_type": "code",
   "execution_count": null,
   "id": "09319471",
   "metadata": {},
   "outputs": [],
   "source": [
    "# | export\n",
    "logger = logging.getLogger(\"newrelic_sb_sdk\")"
   ]
  },
  {
   "cell_type": "markdown",
   "id": "1b208670",
   "metadata": {},
   "source": [
    "## Functions"
   ]
  },
  {
   "cell_type": "code",
   "execution_count": null,
   "id": "0e2b38d8",
   "metadata": {},
   "outputs": [],
   "source": [
    "# | export\n",
    "\n",
    "\n",
    "def nrql(query: str) -> Nrql:\n",
    "    return Nrql(dedent(query.strip()))"
   ]
  },
  {
   "cell_type": "code",
   "execution_count": null,
   "id": "2740f0bf-39d9-4c45-87c3-dc73ac0e61d8",
   "metadata": {},
   "outputs": [],
   "source": [
    "# | export\n",
    "\n",
    "\n",
    "def _perform_nrql_query(\n",
    "    *,\n",
    "    client: NewRelicGqlClient,\n",
    "    account: Account,\n",
    "    nrql_query: Nrql,\n",
    "    timeout: int = 60,\n",
    "    async_: bool = False,\n",
    ") -> CrossAccountNrdbResultContainer:\n",
    "    # pylint: disable=redefined-outer-name\n",
    "\n",
    "    logger.debug(\n",
    "        \"%d - %s - Performing NRQL query: %s\",\n",
    "        account.id,\n",
    "        account.name,\n",
    "        nrql_query,\n",
    "    )\n",
    "\n",
    "    operation = Operation(\n",
    "        client.schema.query_type,\n",
    "        variables={\n",
    "            \"accounts\": Arg(non_null(list_of(non_null(Int)))),\n",
    "            \"nrqlQuery\": Arg(non_null(Nrql)),\n",
    "        },\n",
    "    )\n",
    "\n",
    "    nrql = operation.actor.nrql(\n",
    "        accounts=Variable(\"accounts\"),\n",
    "        query=Variable(\"nrqlQuery\"),\n",
    "        timeout=timeout,\n",
    "        async_=async_,\n",
    "    )\n",
    "\n",
    "    nrql.results()\n",
    "    nrql.query_progress.completed()\n",
    "    nrql.query_progress.query_id()\n",
    "    nrql.query_progress.result_expiration()\n",
    "    nrql.query_progress.retry_after()\n",
    "    nrql.query_progress.retry_deadline()\n",
    "\n",
    "    response = client.execute(\n",
    "        operation,\n",
    "        variables={\n",
    "            \"accounts\": [account.id],\n",
    "            \"nrqlQuery\": nrql_query,\n",
    "        },\n",
    "    )\n",
    "\n",
    "    raise_response_errors(\n",
    "        response=response,\n",
    "        account=account,\n",
    "    )\n",
    "\n",
    "    return (operation + response.json()).actor.nrql"
   ]
  },
  {
   "cell_type": "code",
   "execution_count": null,
   "id": "0afda8bf",
   "metadata": {},
   "outputs": [],
   "source": [
    "# | export\n",
    "\n",
    "\n",
    "def _check_nrql_query_progress(\n",
    "    *,\n",
    "    client: NewRelicGqlClient,\n",
    "    account: Account,\n",
    "    query_id: ID,\n",
    ") -> CrossAccountNrdbResultContainer:\n",
    "    logger.debug(\n",
    "        \"%d - %s - Checking NRQL query progress: %s\",\n",
    "        account.id,\n",
    "        account.name,\n",
    "        query_id,\n",
    "    )\n",
    "\n",
    "    operation = Operation(\n",
    "        client.schema.query_type,\n",
    "        variables={\n",
    "            \"accounts\": Arg(non_null(list_of(non_null(Int)))),\n",
    "            \"queryId\": Arg(non_null(ID)),\n",
    "        },\n",
    "    )\n",
    "\n",
    "    query_progress = operation.actor.nrql_query_progress(\n",
    "        accounts=Variable(\"accounts\"),\n",
    "        queryId=Variable(\"queryId\"),\n",
    "    )\n",
    "\n",
    "    query_progress.results()\n",
    "    query_progress.query_progress.completed()\n",
    "    query_progress.query_progress.query_id()\n",
    "    query_progress.query_progress.result_expiration()\n",
    "    query_progress.query_progress.retry_after()\n",
    "    query_progress.query_progress.retry_deadline()\n",
    "\n",
    "    response = client.execute(\n",
    "        operation,\n",
    "        variables={\n",
    "            \"accounts\": [account.id],\n",
    "            \"queryId\": query_id,\n",
    "        },\n",
    "    )\n",
    "\n",
    "    raise_response_errors(\n",
    "        response=response,\n",
    "        account=account,\n",
    "    )\n",
    "\n",
    "    return (operation + response.json()).actor.nrql_query_progress"
   ]
  },
  {
   "cell_type": "code",
   "execution_count": null,
   "id": "7b14a631",
   "metadata": {},
   "outputs": [],
   "source": [
    "# | export\n",
    "\n",
    "\n",
    "def perform_nrql_query(\n",
    "    *,\n",
    "    client: NewRelicGqlClient,\n",
    "    account: Account,\n",
    "    nrql_query: Nrql,\n",
    "    timeout: int = 60,\n",
    "    max_retry: Union[int, None] = None,\n",
    "    max_retries: int = 5,\n",
    "    retry_delay: int = 5,\n",
    ") -> List[NrdbResult]:\n",
    "    # pylint: disable=redefined-outer-name\n",
    "\n",
    "    if max_retry is not None:\n",
    "        warnings.warn(\n",
    "            f\"{account.id} - {account.name} - max_retry is deprecated and will \"\n",
    "            \"be removed in the future. Use max_retries instead.\",\n",
    "            DeprecationWarning,\n",
    "            stacklevel=2,\n",
    "        )\n",
    "        max_retries = max_retry\n",
    "\n",
    "    logger.debug(\n",
    "        \"%d - %s - Performing NRQL query: %s\",\n",
    "        account.id,\n",
    "        account.name,\n",
    "        nrql_query,\n",
    "    )\n",
    "\n",
    "    nrql: CrossAccountNrdbResultContainer = CrossAccountNrdbResultContainer(\n",
    "        json_data={},\n",
    "    )\n",
    "\n",
    "    for retry in range(max_retries):\n",
    "        try:\n",
    "            nrql = _perform_nrql_query(\n",
    "                client=client,\n",
    "                account=account,\n",
    "                nrql_query=nrql_query,\n",
    "                timeout=timeout,\n",
    "                async_=True,\n",
    "            )\n",
    "\n",
    "            logger.debug(\n",
    "                \"%d - %s - Created NRQL query with ID: %s\",\n",
    "                account.id,\n",
    "                account.name,\n",
    "                nrql.query_progress.query_id,\n",
    "            )\n",
    "\n",
    "            while not nrql.query_progress.completed:\n",
    "                logger.debug(\n",
    "                    \"%d - %s - NRQL query %s is not completed yet, \"\n",
    "                    \"waiting for %d seconds\",\n",
    "                    account.id,\n",
    "                    account.name,\n",
    "                    nrql.query_progress.query_id,\n",
    "                    nrql.query_progress.retry_after,\n",
    "                )\n",
    "\n",
    "                time.sleep(nrql.query_progress.retry_after)\n",
    "\n",
    "                nrql = _check_nrql_query_progress(\n",
    "                    client=client,\n",
    "                    account=account,\n",
    "                    query_id=nrql.query_progress.query_id,\n",
    "                )\n",
    "\n",
    "            break\n",
    "\n",
    "        except NewRelicError as e:\n",
    "            if retry == max_retries - 1:\n",
    "                raise e\n",
    "\n",
    "            logger.error(\n",
    "                \"%d - %s - Failed to perform NRQL with error: %s\",\n",
    "                account.id,\n",
    "                account.name,\n",
    "                str(e),\n",
    "            )\n",
    "            logger.error(\n",
    "                \"%d - %s - Retrying NRQL query with trial: %d\",\n",
    "                account.id,\n",
    "                account.name,\n",
    "                retry + 1,\n",
    "            )\n",
    "            logger.error(\n",
    "                \"%d - %s - Waiting for %d seconds before retrying\",\n",
    "                account.id,\n",
    "                account.name,\n",
    "                retry_delay,\n",
    "            )\n",
    "\n",
    "            time.sleep(retry_delay)\n",
    "\n",
    "    return nrql.results"
   ]
  },
  {
   "cell_type": "code",
   "execution_count": null,
   "id": "07bef4b3",
   "metadata": {},
   "outputs": [],
   "source": []
  }
 ],
 "metadata": {
  "kernelspec": {
   "display_name": ".venv",
   "language": "python",
   "name": "python3"
  },
  "language_info": {
   "codemirror_mode": {
    "name": "ipython",
    "version": 3
   },
   "file_extension": ".py",
   "mimetype": "text/x-python",
   "name": "python",
   "nbconvert_exporter": "python",
   "pygments_lexer": "ipython3",
   "version": "3.13.0"
  }
 },
 "nbformat": 4,
 "nbformat_minor": 5
}
