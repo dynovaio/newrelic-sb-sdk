{
 "cells": [
  {
   "cell_type": "markdown",
   "id": "4f6fd558-1605-48fd-bc10-1543df75f91e",
   "metadata": {},
   "source": [
    "# Shortcuts"
   ]
  },
  {
   "cell_type": "markdown",
   "id": "4964176c-57f1-463a-8e4a-555557f4a458",
   "metadata": {},
   "source": [
    "> Shortcuts are functions that allow you to perform a task with a single key or a combination of keys. They are very useful for increasing productivity and efficiency."
   ]
  },
  {
   "cell_type": "markdown",
   "id": "d20a7117-539f-48b7-b21e-a1bd695ec9ee",
   "metadata": {},
   "source": [
    "* [Accounts](./Accounts.ipynb)\n",
    "* [Credentials](./Credentials.ipynb)"
   ]
  }
 ],
 "metadata": {
  "kernelspec": {
   "display_name": "python3",
   "language": "python",
   "name": "python3"
  }
 },
 "nbformat": 4,
 "nbformat_minor": 5
}
