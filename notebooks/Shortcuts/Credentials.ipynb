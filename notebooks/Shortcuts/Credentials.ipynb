{
 "cells": [
  {
   "cell_type": "code",
   "execution_count": null,
   "id": "726ba456",
   "metadata": {},
   "outputs": [],
   "source": [
    "# | default_exp shortcuts.credentials"
   ]
  },
  {
   "cell_type": "markdown",
   "id": "4f6fd558-1605-48fd-bc10-1543df75f91e",
   "metadata": {},
   "source": [
    "# Credentials"
   ]
  },
  {
   "cell_type": "markdown",
   "id": "4964176c-57f1-463a-8e4a-555557f4a458",
   "metadata": {},
   "source": [
    "> Credentials related shortcut functions"
   ]
  },
  {
   "cell_type": "markdown",
   "id": "f5b0ac41",
   "metadata": {},
   "source": [
    "## Imports"
   ]
  },
  {
   "cell_type": "markdown",
   "id": "a2cf31b7",
   "metadata": {},
   "source": [
    "Python modules"
   ]
  },
  {
   "cell_type": "code",
   "execution_count": null,
   "id": "f3aa5cbf",
   "metadata": {},
   "outputs": [],
   "source": [
    "# | export\n",
    "from typing import Union"
   ]
  },
  {
   "cell_type": "markdown",
   "id": "d8c48bdb",
   "metadata": {},
   "source": [
    "Third-party modules"
   ]
  },
  {
   "cell_type": "code",
   "execution_count": null,
   "id": "3fcf4a72",
   "metadata": {},
   "outputs": [],
   "source": [
    "# | export\n",
    "from sgqlc.operation import Operation"
   ]
  },
  {
   "cell_type": "markdown",
   "id": "d9748b9a",
   "metadata": {},
   "source": [
    "`newrelic_sb_sdk` module"
   ]
  },
  {
   "cell_type": "code",
   "execution_count": null,
   "id": "4465c1b9",
   "metadata": {},
   "outputs": [],
   "source": [
    "# | export\n",
    "from newrelic_sb_sdk.client import NewRelicGqlClient\n",
    "from newrelic_sb_sdk.graphql.objects import Account, User\n",
    "from newrelic_sb_sdk.utils.response import raise_response_errors"
   ]
  },
  {
   "cell_type": "markdown",
   "id": "a8371344",
   "metadata": {},
   "source": [
    "## Functions"
   ]
  },
  {
   "cell_type": "code",
   "execution_count": null,
   "id": "2740f0bf-39d9-4c45-87c3-dc73ac0e61d8",
   "metadata": {},
   "outputs": [],
   "source": [
    "# | export\n",
    "\n",
    "\n",
    "def validate(\n",
    "    *, client: NewRelicGqlClient, account: Union[Account, None] = None\n",
    ") -> User:\n",
    "    operation = Operation(\n",
    "        client.schema.query_type,\n",
    "    )\n",
    "    operation.actor.user.__fields__(\n",
    "        \"id\",\n",
    "        \"email\",\n",
    "        \"name\",\n",
    "    )\n",
    "\n",
    "    response = client.execute(operation)\n",
    "\n",
    "    raise_response_errors(\n",
    "        response=response,\n",
    "        account=account,\n",
    "    )\n",
    "\n",
    "    data = operation + response.json()\n",
    "    data = data.actor.user\n",
    "\n",
    "    return data"
   ]
  }
 ],
 "metadata": {
  "kernelspec": {
   "display_name": ".venv",
   "language": "python",
   "name": "python3"
  },
  "language_info": {
   "codemirror_mode": {
    "name": "ipython",
    "version": 3
   },
   "file_extension": ".py",
   "mimetype": "text/x-python",
   "name": "python",
   "nbconvert_exporter": "python",
   "pygments_lexer": "ipython3",
   "version": "3.13.0"
  }
 },
 "nbformat": 4,
 "nbformat_minor": 5
}
