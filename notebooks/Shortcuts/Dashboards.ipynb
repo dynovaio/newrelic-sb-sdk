{
 "cells": [
  {
   "cell_type": "code",
   "execution_count": null,
   "id": "726ba456",
   "metadata": {},
   "outputs": [],
   "source": [
    "# | default_exp shortcuts.dashboards"
   ]
  },
  {
   "cell_type": "markdown",
   "id": "4f6fd558-1605-48fd-bc10-1543df75f91e",
   "metadata": {},
   "source": [
    "# Accounts"
   ]
  },
  {
   "cell_type": "markdown",
   "id": "4964176c-57f1-463a-8e4a-555557f4a458",
   "metadata": {},
   "source": [
    "> Accounts related shortcut functions"
   ]
  },
  {
   "cell_type": "markdown",
   "id": "36e8fc4c",
   "metadata": {},
   "source": [
    "## Imports"
   ]
  },
  {
   "cell_type": "markdown",
   "id": "870a28a7",
   "metadata": {},
   "source": [
    "Python modules"
   ]
  },
  {
   "cell_type": "code",
   "execution_count": null,
   "id": "6edd758d",
   "metadata": {},
   "outputs": [],
   "source": [
    "# | export\n",
    "import re\n",
    "from typing import List, Union"
   ]
  },
  {
   "cell_type": "markdown",
   "id": "130afebd",
   "metadata": {},
   "source": [
    "Third-party modules"
   ]
  },
  {
   "cell_type": "code",
   "execution_count": null,
   "id": "1c4cd219",
   "metadata": {},
   "outputs": [],
   "source": [
    "# | export\n",
    "from sgqlc.operation import Operation\n",
    "from sgqlc.types import Arg, Variable, non_null"
   ]
  },
  {
   "cell_type": "markdown",
   "id": "7fb7c642",
   "metadata": {},
   "source": [
    "`newrelic_sb_sdk` module"
   ]
  },
  {
   "cell_type": "code",
   "execution_count": null,
   "id": "d2714daa",
   "metadata": {},
   "outputs": [],
   "source": [
    "# | export\n",
    "from newrelic_sb_sdk.client import NewRelicGqlClient\n",
    "from newrelic_sb_sdk.graphql.enums import (\n",
    "    EntitySearchCountsFacet,\n",
    "    EntitySearchQueryBuilderType,\n",
    ")\n",
    "from newrelic_sb_sdk.graphql.input_objects import (\n",
    "    EntitySearchOptions,\n",
    "    EntitySearchQueryBuilder,\n",
    "    EntitySearchQueryBuilderTag,\n",
    ")\n",
    "from newrelic_sb_sdk.graphql.objects import DashboardEntity, DashboardEntityOutline\n",
    "from newrelic_sb_sdk.graphql.scalars import EntityGuid, String\n",
    "from newrelic_sb_sdk.utils.response import raise_response_errors"
   ]
  },
  {
   "cell_type": "markdown",
   "id": "641d4d31",
   "metadata": {},
   "source": [
    "## Constants"
   ]
  },
  {
   "cell_type": "code",
   "execution_count": null,
   "id": "f9b28c50",
   "metadata": {},
   "outputs": [],
   "source": [
    "# | export\n",
    "\n",
    "\n",
    "_RE_PARSE = re.compile(\n",
    "    r\"^(?P<Y>\\d{4})-?(?P<m>\\d{2})-?(?P<d>\\d{2})T\"\n",
    "    r\"(?P<H>\\d{2}):?(?P<M>\\d{2})(:?(?P<S>\\d{2})){0,1}(?P<MS>|[.]\\d+)\"\n",
    "    r\"(?P<TZ>|Z|(?P<TZH>[+-]\\d{2}):?(?P<TZM>\\d{2}))$\"\n",
    ")"
   ]
  },
  {
   "cell_type": "markdown",
   "id": "de2d76a4",
   "metadata": {},
   "source": [
    "## Functions"
   ]
  },
  {
   "cell_type": "code",
   "execution_count": null,
   "id": "6a410dbc",
   "metadata": {},
   "outputs": [],
   "source": [
    "# | export\n",
    "\n",
    "\n",
    "def _patch_datetime(datetimestr):\n",
    "    m = _RE_PARSE.match(datetimestr)\n",
    "\n",
    "    if m and m.group(\"S\") is None:\n",
    "        return datetimestr.replace(\"Z\", \":00Z\")\n",
    "\n",
    "    return datetimestr"
   ]
  },
  {
   "cell_type": "code",
   "execution_count": null,
   "id": "2740f0bf-39d9-4c45-87c3-dc73ac0e61d8",
   "metadata": {},
   "outputs": [],
   "source": [
    "# | export\n",
    "\n",
    "\n",
    "def get_all_dashboards(\n",
    "    *,\n",
    "    client: NewRelicGqlClient,\n",
    "    options: Union[EntitySearchOptions, None] = None,\n",
    ") -> List[DashboardEntityOutline]:\n",
    "    operation = Operation(\n",
    "        client.schema.query_type,\n",
    "        variables={\n",
    "            \"cursor\": Arg(String),\n",
    "            \"options\": Arg(EntitySearchOptions),\n",
    "        },\n",
    "    )\n",
    "\n",
    "    entity_search = operation.actor.entity_search(\n",
    "        query_builder=EntitySearchQueryBuilder(\n",
    "            type=EntitySearchQueryBuilderType(\"DASHBOARD\"),\n",
    "            tags=[\n",
    "                EntitySearchQueryBuilderTag(\n",
    "                    key=\"isDashboardPage\",\n",
    "                    value=\"false\",\n",
    "                )\n",
    "            ],\n",
    "        ),\n",
    "        options=Variable(\"options\"),\n",
    "    )\n",
    "\n",
    "    entity_search.count()\n",
    "    entity_search_counts = entity_search.counts(\n",
    "        facet=[EntitySearchCountsFacet(\"ACCOUNT_ID\")],\n",
    "    )\n",
    "\n",
    "    entity_search_counts.count()\n",
    "    entity_search_counts.facet()\n",
    "\n",
    "    entity_search_results = entity_search.results(\n",
    "        cursor=Variable(\"cursor\"),\n",
    "    )\n",
    "    entity_search_results.next_cursor()\n",
    "    entity_search_results_as_dashboards = entity_search_results.entities.__as__(\n",
    "        DashboardEntityOutline\n",
    "    )\n",
    "    entity_search_results_as_dashboards.guid()\n",
    "\n",
    "    entity_search_results_as_dashboards.guid()\n",
    "    entity_search_results_as_dashboards.name()\n",
    "    entity_search_results_as_dashboards.account.id()\n",
    "    entity_search_results_as_dashboards.account.name()\n",
    "    entity_search_results_as_dashboards.created_at()\n",
    "    entity_search_results_as_dashboards.dashboard_parent_guid()\n",
    "    entity_search_results_as_dashboards.entity_type()\n",
    "    entity_search_results_as_dashboards.first_indexed_at()\n",
    "    entity_search_results_as_dashboards.owner.email()\n",
    "    entity_search_results_as_dashboards.owner.user_id()\n",
    "    entity_search_results_as_dashboards.permissions()\n",
    "    entity_search_results_as_dashboards.tags.key()\n",
    "    entity_search_results_as_dashboards.tags.values()\n",
    "    entity_search_results_as_dashboards.type()\n",
    "    entity_search_results_as_dashboards.updated_at()\n",
    "\n",
    "    response = client.execute(\n",
    "        operation,\n",
    "        variables={\n",
    "            \"options\": options,\n",
    "            \"cursor\": None,\n",
    "        },\n",
    "    )\n",
    "\n",
    "    raise_response_errors(\n",
    "        response=response,\n",
    "    )\n",
    "\n",
    "    data = (operation + response.json()).actor.entity_search\n",
    "    cursor = data.results.next_cursor\n",
    "    dashboards = data.results.entities\n",
    "\n",
    "    while cursor is not None:\n",
    "        response = client.execute(\n",
    "            operation,\n",
    "            variables={\n",
    "                \"options\": options,\n",
    "                \"cursor\": cursor,\n",
    "            },\n",
    "        )\n",
    "\n",
    "        raise_response_errors(\n",
    "            response=response,\n",
    "        )\n",
    "\n",
    "        data = (operation + response.json()).actor.entity_search\n",
    "        cursor = data.results.next_cursor\n",
    "        dashboards += data.results.entities\n",
    "\n",
    "    return dashboards"
   ]
  },
  {
   "cell_type": "code",
   "execution_count": null,
   "id": "d79c2197",
   "metadata": {},
   "outputs": [],
   "source": [
    "# | export\n",
    "\n",
    "\n",
    "def get_dashboard(\n",
    "    *,\n",
    "    client: NewRelicGqlClient,\n",
    "    guid: EntityGuid,\n",
    ") -> DashboardEntity:\n",
    "\n",
    "    operation = Operation(\n",
    "        client.schema.query_type,\n",
    "        variables={\n",
    "            \"guid\": Arg(non_null(EntityGuid)),\n",
    "        },\n",
    "    )\n",
    "\n",
    "    dashboard = operation.actor.entity(\n",
    "        guid=Variable(\"guid\"),\n",
    "    ).__as__(\n",
    "        DashboardEntity,\n",
    "    )\n",
    "\n",
    "    dashboard.account.id()\n",
    "    dashboard.account.name()\n",
    "    dashboard.created_at()\n",
    "    dashboard.dashboard_parent_guid()\n",
    "    dashboard.description()\n",
    "    dashboard.domain()\n",
    "    dashboard.entity_type()\n",
    "    dashboard.first_indexed_at()\n",
    "    dashboard.guid()\n",
    "    dashboard.indexed_at()\n",
    "    dashboard.last_reporting_change_at()\n",
    "    dashboard.name()\n",
    "    dashboard.owner.email()\n",
    "    dashboard.owner.user_id()\n",
    "    dashboard.permalink()\n",
    "    dashboard.permissions()\n",
    "    dashboard.type()\n",
    "    dashboard.updated_at()\n",
    "    dashboard.pages.created_at()\n",
    "    dashboard.pages.description()\n",
    "    dashboard.pages.guid()\n",
    "    dashboard.pages.name()\n",
    "    dashboard.pages.owner.email()\n",
    "    dashboard.pages.owner.user_id()\n",
    "    dashboard.pages.updated_at()\n",
    "    dashboard.pages.widgets.id()\n",
    "    dashboard.pages.widgets.layout.column()\n",
    "    dashboard.pages.widgets.layout.height()\n",
    "    dashboard.pages.widgets.layout.row()\n",
    "    dashboard.pages.widgets.layout.width()\n",
    "    dashboard.pages.widgets.raw_configuration()\n",
    "    dashboard.pages.widgets.title()\n",
    "    dashboard.pages.widgets.visualization.id()\n",
    "\n",
    "    response = client.execute(\n",
    "        operation,\n",
    "        variables={\n",
    "            \"guid\": guid,\n",
    "        },\n",
    "    )\n",
    "\n",
    "    raise_response_errors(response=response)\n",
    "\n",
    "    response_json = response.json()\n",
    "\n",
    "    response_json[\"data\"][\"actor\"][\"entity\"][\"createdAt\"] = _patch_datetime(\n",
    "        response_json[\"data\"][\"actor\"][\"entity\"][\"createdAt\"]\n",
    "    )\n",
    "    response_json[\"data\"][\"actor\"][\"entity\"][\"updatedAt\"] = _patch_datetime(\n",
    "        response_json[\"data\"][\"actor\"][\"entity\"][\"updatedAt\"]\n",
    "    )\n",
    "\n",
    "    for p, page in enumerate(response_json[\"data\"][\"actor\"][\"entity\"][\"pages\"]):\n",
    "        page[\"createdAt\"] = _patch_datetime(\n",
    "            page[\"createdAt\"],\n",
    "        )\n",
    "        page[\"updatedAt\"] = _patch_datetime(\n",
    "            page[\"updatedAt\"],\n",
    "        )\n",
    "        response_json[\"data\"][\"actor\"][\"entity\"][\"pages\"][p] = page\n",
    "\n",
    "    return (operation + response_json).actor.entity"
   ]
  }
 ],
 "metadata": {
  "kernelspec": {
   "display_name": ".venv",
   "language": "python",
   "name": "python3"
  },
  "language_info": {
   "codemirror_mode": {
    "name": "ipython",
    "version": 3
   },
   "file_extension": ".py",
   "mimetype": "text/x-python",
   "name": "python",
   "nbconvert_exporter": "python",
   "pygments_lexer": "ipython3",
   "version": "3.13.0"
  }
 },
 "nbformat": 4,
 "nbformat_minor": 5
}
