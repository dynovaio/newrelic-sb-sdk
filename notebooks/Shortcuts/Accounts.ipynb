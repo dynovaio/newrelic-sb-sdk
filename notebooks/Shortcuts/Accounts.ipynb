{
 "cells": [
  {
   "cell_type": "code",
   "execution_count": null,
   "id": "726ba456",
   "metadata": {},
   "outputs": [],
   "source": [
    "# | default_exp shortcuts.accounts"
   ]
  },
  {
   "cell_type": "markdown",
   "id": "4f6fd558-1605-48fd-bc10-1543df75f91e",
   "metadata": {},
   "source": [
    "# Accounts"
   ]
  },
  {
   "cell_type": "markdown",
   "id": "4964176c-57f1-463a-8e4a-555557f4a458",
   "metadata": {},
   "source": [
    "> Accounts related shortcut functions"
   ]
  },
  {
   "cell_type": "markdown",
   "id": "36e8fc4c",
   "metadata": {},
   "source": [
    "## Imports"
   ]
  },
  {
   "cell_type": "markdown",
   "id": "870a28a7",
   "metadata": {},
   "source": [
    "Python modules"
   ]
  },
  {
   "cell_type": "code",
   "execution_count": null,
   "id": "6edd758d",
   "metadata": {},
   "outputs": [],
   "source": [
    "# | export\n",
    "from typing import List, Union"
   ]
  },
  {
   "cell_type": "markdown",
   "id": "130afebd",
   "metadata": {},
   "source": [
    "Third-party modules"
   ]
  },
  {
   "cell_type": "code",
   "execution_count": null,
   "id": "1c4cd219",
   "metadata": {},
   "outputs": [],
   "source": [
    "# | export\n",
    "from sgqlc.operation import Operation"
   ]
  },
  {
   "cell_type": "markdown",
   "id": "7fb7c642",
   "metadata": {},
   "source": [
    "`newrelic_sb_sdk` module"
   ]
  },
  {
   "cell_type": "code",
   "execution_count": null,
   "id": "d2714daa",
   "metadata": {},
   "outputs": [],
   "source": [
    "# | export\n",
    "from newrelic_sb_sdk.client import NewRelicGqlClient\n",
    "from newrelic_sb_sdk.graphql.input_objects import TimeWindowInput\n",
    "from newrelic_sb_sdk.graphql.objects import Account\n",
    "from newrelic_sb_sdk.utils.response import raise_response_errors"
   ]
  },
  {
   "cell_type": "markdown",
   "id": "de2d76a4",
   "metadata": {},
   "source": [
    "## Functions"
   ]
  },
  {
   "cell_type": "code",
   "execution_count": null,
   "id": "2740f0bf-39d9-4c45-87c3-dc73ac0e61d8",
   "metadata": {},
   "outputs": [],
   "source": [
    "# | export\n",
    "def get_all_accounts(\n",
    "    *,\n",
    "    client: NewRelicGqlClient,\n",
    "    include_event_types: bool = False,\n",
    "    time_window: Union[TimeWindowInput, None] = None,\n",
    ") -> List[Account]:\n",
    "    operation = Operation(client.schema.query_type)\n",
    "\n",
    "    operation.actor.accounts.id()\n",
    "    operation.actor.accounts.name()\n",
    "\n",
    "    if include_event_types:\n",
    "        if time_window:\n",
    "            operation.actor.accounts.reporting_event_types(time_window=time_window)\n",
    "        else:\n",
    "            operation.actor.accounts.reporting_event_types()\n",
    "\n",
    "    response = client.execute(operation)\n",
    "\n",
    "    raise_response_errors(response=response)\n",
    "\n",
    "    data = operation + response.json()\n",
    "    data = data.actor.accounts\n",
    "\n",
    "    return data"
   ]
  },
  {
   "cell_type": "code",
   "execution_count": null,
   "id": "d79c2197",
   "metadata": {},
   "outputs": [],
   "source": [
    "# | export\n",
    "def get_account(*, client: NewRelicGqlClient, account_id: int) -> Account:\n",
    "    operation = Operation(client.schema.query_type)\n",
    "\n",
    "    account = operation.actor.account(id=account_id)\n",
    "\n",
    "    account.id()\n",
    "    account.name()\n",
    "\n",
    "    response = client.execute(operation)\n",
    "\n",
    "    raise_response_errors(response=response)\n",
    "\n",
    "    data = operation + response.json()\n",
    "    data = data.actor.account\n",
    "\n",
    "    return data"
   ]
  }
 ],
 "metadata": {
  "kernelspec": {
   "display_name": "python3",
   "language": "python",
   "name": "python3"
  }
 },
 "nbformat": 4,
 "nbformat_minor": 5
}
