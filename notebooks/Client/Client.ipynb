{
 "cells": [
  {
   "cell_type": "code",
   "execution_count": null,
   "id": "408babb0-cbc3-4961-85f3-8669d2754fba",
   "metadata": {
    "tags": [
     "remove-cell"
    ]
   },
   "outputs": [],
   "source": [
    "# default_exp client.__init__"
   ]
  },
  {
   "cell_type": "markdown",
   "id": "3a15b89a-e3cd-4e2f-9eac-16d62a518663",
   "metadata": {},
   "source": [
    "# NerdGraph Client"
   ]
  },
  {
   "cell_type": "markdown",
   "id": "ebdab5d3-02e8-4113-ae0c-7da98154bd54",
   "metadata": {},
   "source": [
    "## Imports"
   ]
  },
  {
   "cell_type": "markdown",
   "id": "290e9370-62e3-4668-ad68-3a6aad74737e",
   "metadata": {},
   "source": [
    "Python modules"
   ]
  },
  {
   "cell_type": "code",
   "execution_count": null,
   "id": "a52ab5c6-5620-4e22-83d2-e2d51e806aa3",
   "metadata": {},
   "outputs": [],
   "source": [
    "# export\n",
    "import json\n",
    "import os\n",
    "import re\n",
    "import pathlib\n",
    "from textwrap import dedent"
   ]
  },
  {
   "cell_type": "markdown",
   "id": "6620ae2b-d725-4e3c-97a8-296337acf35d",
   "metadata": {},
   "source": [
    "Third-party modules"
   ]
  },
  {
   "cell_type": "code",
   "execution_count": null,
   "id": "71bfcc29-de70-4bc7-8282-d236431bb3d1",
   "metadata": {},
   "outputs": [],
   "source": [
    "# export\n",
    "import dotenv\n",
    "from requests import Session"
   ]
  },
  {
   "cell_type": "markdown",
   "id": "44a39648-832c-4c90-b2e6-e4e6f2cca96c",
   "metadata": {},
   "source": [
    "Development modules"
   ]
  },
  {
   "cell_type": "code",
   "execution_count": null,
   "id": "ca9161e0-7a26-480c-b26f-f89fdb45c644",
   "metadata": {},
   "outputs": [],
   "source": [
    "# hide\n",
    "from nbdev.showdoc import show_doc"
   ]
  },
  {
   "cell_type": "markdown",
   "id": "0686df48-eba4-49e2-b197-5b542b74dd99",
   "metadata": {
    "tags": []
   },
   "source": [
    "## Classes and functions"
   ]
  },
  {
   "cell_type": "code",
   "execution_count": null,
   "id": "9be25734-55b7-4e97-812a-522cebd438bc",
   "metadata": {},
   "outputs": [],
   "source": [
    "# export\n",
    "def get_new_relic_user_key_from_env() -> str:\n",
    "    env_file = pathlib.Path(\".env\")\n",
    "\n",
    "    if env_file.exists():\n",
    "        dotenv.load_dotenv(env_file)\n",
    "\n",
    "    new_relic_user_key = os.environ.get(\"NEW_RELIC_USER_KEY\", None)\n",
    "\n",
    "    if new_relic_user_key is None:\n",
    "        raise ValueError(\"Environment variable NEW_RELIC_USER_KEY is not set.\")\n",
    "\n",
    "    return new_relic_user_key"
   ]
  },
  {
   "cell_type": "code",
   "execution_count": null,
   "id": "58b50b92-ea00-41ad-9c94-d1389306b8b4",
   "metadata": {},
   "outputs": [],
   "source": [
    "show_doc(get_new_relic_user_key_from_env)"
   ]
  },
  {
   "cell_type": "code",
   "execution_count": null,
   "id": "04430d24-edd7-4792-aff1-91c3199b5101",
   "metadata": {},
   "outputs": [],
   "source": [
    "# export\n",
    "class NewRelicClient(Session):\n",
    "    url: str = \"https://api.newrelic.com/graphql\"\n",
    "\n",
    "    def __init__(self, *, new_relic_user_key: str):\n",
    "        super().__init__()\n",
    "\n",
    "        self.headers.update(\n",
    "            {\n",
    "                \"Content-Type\": \"application/json\",\n",
    "                \"API-Key\": new_relic_user_key,\n",
    "            }\n",
    "        )\n",
    "\n",
    "    def execute(\n",
    "        self, query=None, query_kwargs=None, **kwargs\n",
    "    ):  # pylint: disable=arguments-differ\n",
    "        data = self._build_query(query, **(query_kwargs or {}))\n",
    "        return self.post(self.url, data=data, **kwargs)\n",
    "\n",
    "    @staticmethod\n",
    "    def _build_query(query_string, **kwargs):\n",
    "        return json.dumps({\"query\": dedent(query_string.strip()) % kwargs})"
   ]
  },
  {
   "cell_type": "code",
   "execution_count": null,
   "id": "a7a39982-71e3-4dbe-a9a3-705e570261bc",
   "metadata": {},
   "outputs": [],
   "source": [
    "show_doc(NewRelicClient)"
   ]
  },
  {
   "cell_type": "code",
   "execution_count": null,
   "id": "438f7acd-bbfc-4608-8d36-9ccb740223dc",
   "metadata": {},
   "outputs": [],
   "source": [
    "# export\n",
    "class NewRelicApiClient(Session):\n",
    "    url: str = \"https://api.newrelic.com/v2/\"\n",
    "\n",
    "    def __init__(self, *, new_relic_user_key: str):\n",
    "        super().__init__()\n",
    "\n",
    "        self.headers.update(\n",
    "            {\n",
    "                \"Content-Type\": \"application/json\",\n",
    "                \"Api-Key\": new_relic_user_key,\n",
    "            }\n",
    "        )\n",
    "\n",
    "    def execute(self, parameters=None, apiFile: str | None = \"alerts_conditions.json\"):\n",
    "        response = self.get(self.url + apiFile, params=parameters)\n",
    "\n",
    "        if response.status_code == 200:\n",
    "            return response.json()\n",
    "\n",
    "        return None"
   ]
  }
 ],
 "metadata": {
  "kernelspec": {
   "display_name": "Python 3 (ipykernel)",
   "language": "python",
   "name": "python3"
  },
  "language_info": {
   "codemirror_mode": {
    "name": "ipython",
    "version": 3
   },
   "file_extension": ".py",
   "mimetype": "text/x-python",
   "name": "python",
   "nbconvert_exporter": "python",
   "pygments_lexer": "ipython3",
   "version": "3.10.3"
  }
 },
 "nbformat": 4,
 "nbformat_minor": 5
}
