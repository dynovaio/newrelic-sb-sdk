{
 "cells": [
  {
   "cell_type": "code",
   "execution_count": null,
   "id": "408babb0-cbc3-4961-85f3-8669d2754fba",
   "metadata": {
    "tags": [
     "remove-cell"
    ]
   },
   "outputs": [],
   "source": [
    "# | default_exp client.__init__"
   ]
  },
  {
   "cell_type": "markdown",
   "id": "3a15b89a-e3cd-4e2f-9eac-16d62a518663",
   "metadata": {},
   "source": [
    "# Client"
   ]
  },
  {
   "cell_type": "markdown",
   "id": "f6ad37da-0854-4fff-abc0-a85b033faea7",
   "metadata": {},
   "source": [
    "> Web client to make requests to New Relic API"
   ]
  },
  {
   "cell_type": "markdown",
   "id": "ebdab5d3-02e8-4113-ae0c-7da98154bd54",
   "metadata": {},
   "source": [
    "## Imports"
   ]
  },
  {
   "cell_type": "markdown",
   "id": "290e9370-62e3-4668-ad68-3a6aad74737e",
   "metadata": {},
   "source": [
    "Python modules"
   ]
  },
  {
   "cell_type": "code",
   "execution_count": null,
   "id": "a52ab5c6-5620-4e22-83d2-e2d51e806aa3",
   "metadata": {},
   "outputs": [],
   "source": [
    "# | export\n",
    "import json\n",
    "import os\n",
    "import pathlib\n",
    "import re\n",
    "from textwrap import dedent\n",
    "from typing import Any, Dict"
   ]
  },
  {
   "cell_type": "markdown",
   "id": "6620ae2b-d725-4e3c-97a8-296337acf35d",
   "metadata": {},
   "source": [
    "Third-party modules"
   ]
  },
  {
   "cell_type": "code",
   "execution_count": null,
   "id": "71bfcc29-de70-4bc7-8282-d236431bb3d1",
   "metadata": {},
   "outputs": [],
   "source": [
    "# | export\n",
    "import dotenv\n",
    "from requests import Response, Session"
   ]
  },
  {
   "cell_type": "markdown",
   "id": "b2714e3d-e338-4fbe-b5e0-e455ab580534",
   "metadata": {},
   "source": [
    "`newrelic_sb_sdk` module"
   ]
  },
  {
   "cell_type": "code",
   "execution_count": null,
   "id": "4c9a503e-118d-47e3-85d0-8e2264679446",
   "metadata": {},
   "outputs": [],
   "source": [
    "# | export\n",
    "from newrelic_sb_sdk.utils.query import build_query"
   ]
  },
  {
   "cell_type": "markdown",
   "id": "0686df48-eba4-49e2-b197-5b542b74dd99",
   "metadata": {
    "tags": []
   },
   "source": [
    "## Functions"
   ]
  },
  {
   "cell_type": "code",
   "execution_count": null,
   "id": "9be25734-55b7-4e97-812a-522cebd438bc",
   "metadata": {},
   "outputs": [],
   "source": [
    "# | export\n",
    "def get_new_relic_user_key_from_env(env_file_name: str | None = None) -> str:\n",
    "    \"\"\"Recovery new relic credentials from environmentn variables.\"\"\"\n",
    "\n",
    "    if env_file_name is not None:\n",
    "        env_file = pathlib.Path(env_file_name)\n",
    "\n",
    "        if env_file.exists():\n",
    "            dotenv.load_dotenv(env_file)\n",
    "\n",
    "    new_relic_user_key = os.environ.get(\"NEW_RELIC_USER_KEY\", None)\n",
    "\n",
    "    if new_relic_user_key is None:\n",
    "        raise ValueError(\"Environment variable NEW_RELIC_USER_KEY is not set.\")\n",
    "\n",
    "    return new_relic_user_key"
   ]
  },
  {
   "cell_type": "markdown",
   "id": "e3f35edd-b5f4-4c8a-9fc1-d09a3aaf6516",
   "metadata": {
    "tags": []
   },
   "source": [
    "## Classes"
   ]
  },
  {
   "cell_type": "code",
   "execution_count": null,
   "id": "04430d24-edd7-4792-aff1-91c3199b5101",
   "metadata": {},
   "outputs": [],
   "source": [
    "# | export\n",
    "class NewRelicGqlClient(Session):\n",
    "    \"\"\"Client for New Relic GraphQL API.\"\"\"\n",
    "\n",
    "    url: str = \"https://api.newrelic.com/graphql\"\n",
    "\n",
    "    def __init__(self, *, new_relic_user_key: str):\n",
    "        super().__init__()\n",
    "\n",
    "        self.headers.update(\n",
    "            {\n",
    "                \"Content-Type\": \"application/json\",\n",
    "                \"API-Key\": new_relic_user_key,\n",
    "            }\n",
    "        )\n",
    "\n",
    "    def execute(\n",
    "        self, query: str, variables: Dict[str, Any] | None = None, **kwargs\n",
    "    ) -> Response:\n",
    "        data = json.dumps(\n",
    "            {\n",
    "                \"query\": query,\n",
    "                \"variables\": variables,\n",
    "            },\n",
    "        )\n",
    "        return self.post(self.url, data=data, **kwargs)\n",
    "\n",
    "    @staticmethod\n",
    "    def build_query(query_string: str, query_params: Dict[str, Any]) -> str:\n",
    "        return build_query(query_string, query_params)"
   ]
  },
  {
   "cell_type": "code",
   "execution_count": null,
   "id": "438f7acd-bbfc-4608-8d36-9ccb740223dc",
   "metadata": {},
   "outputs": [],
   "source": [
    "# | export\n",
    "class NewRelicRestClient(Session):\n",
    "    \"\"\"Client for New Relic Rest API.\"\"\"\n",
    "\n",
    "    url: str = \"https://api.newrelic.com/v2/\"\n",
    "\n",
    "    def __init__(self, *, new_relic_user_key: str):\n",
    "        super().__init__()\n",
    "\n",
    "        self.headers.update(\n",
    "            {\n",
    "                \"Content-Type\": \"application/json\",\n",
    "                \"Api-Key\": new_relic_user_key,\n",
    "            }\n",
    "        )"
   ]
  }
 ],
 "metadata": {
  "kernelspec": {
   "display_name": "Python 3 (ipykernel)",
   "language": "python",
   "name": "python3"
  },
  "language_info": {
   "codemirror_mode": {
    "name": "ipython",
    "version": 3
   },
   "file_extension": ".py",
   "mimetype": "text/x-python",
   "name": "python",
   "nbconvert_exporter": "python",
   "pygments_lexer": "ipython3",
   "version": "3.11.2"
  }
 },
 "nbformat": 4,
 "nbformat_minor": 5
}
