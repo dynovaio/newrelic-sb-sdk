{
 "cells": [
  {
   "cell_type": "markdown",
   "id": "4f6fd558-1605-48fd-bc10-1543df75f91e",
   "metadata": {},
   "source": [
    "# Client"
   ]
  },
  {
   "cell_type": "markdown",
   "id": "4964176c-57f1-463a-8e4a-555557f4a458",
   "metadata": {},
   "source": [
    "> Clients to interact with New Relic APIs"
   ]
  },
  {
   "cell_type": "markdown",
   "id": "d20a7117-539f-48b7-b21e-a1bd695ec9ee",
   "metadata": {},
   "source": [
    "* [Client](./Client.ipynb)"
   ]
  },
  {
   "cell_type": "code",
   "execution_count": null,
   "id": "2740f0bf-39d9-4c45-87c3-dc73ac0e61d8",
   "metadata": {},
   "outputs": [],
   "source": []
  }
 ],
 "metadata": {
  "kernelspec": {
   "display_name": "Python 3 (ipykernel)",
   "language": "python",
   "name": "python3"
  },
  "language_info": {
   "codemirror_mode": {
    "name": "ipython",
    "version": 3
   },
   "file_extension": ".py",
   "mimetype": "text/x-python",
   "name": "python",
   "nbconvert_exporter": "python",
   "pygments_lexer": "ipython3",
   "version": "3.11.2"
  }
 },
 "nbformat": 4,
 "nbformat_minor": 5
}
