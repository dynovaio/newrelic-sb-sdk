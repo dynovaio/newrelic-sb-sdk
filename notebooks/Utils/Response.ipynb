{
 "cells": [
  {
   "cell_type": "code",
   "execution_count": null,
   "id": "652904c7-34cb-49b2-ae2a-6df4b4e08c85",
   "metadata": {},
   "outputs": [],
   "source": [
    "# | default_exp utils.response"
   ]
  },
  {
   "cell_type": "markdown",
   "id": "3c213a02-69a3-4f75-9534-9107e7e430e5",
   "metadata": {},
   "source": [
    "# Response utils"
   ]
  },
  {
   "cell_type": "markdown",
   "id": "fef0f467-9df6-422a-bbf3-aab31ee01cfe",
   "metadata": {},
   "source": [
    "> Utilitary functions to displat response"
   ]
  },
  {
   "cell_type": "markdown",
   "id": "01b9bcc5-05ef-4e6c-90b0-d54c904371e7",
   "metadata": {},
   "source": [
    "## Imports"
   ]
  },
  {
   "cell_type": "markdown",
   "id": "6dbf5db6-5c4a-4089-b74d-f4f72160d07c",
   "metadata": {},
   "source": [
    "Python modules"
   ]
  },
  {
   "cell_type": "code",
   "execution_count": null,
   "id": "7b0750ff-b089-4fc9-b826-a5f1256a6287",
   "metadata": {},
   "outputs": [],
   "source": [
    "# | export\n",
    "import json"
   ]
  },
  {
   "cell_type": "markdown",
   "id": "9a998696-bf76-4295-af06-13245c2a3ee5",
   "metadata": {},
   "source": [
    "## Functions"
   ]
  },
  {
   "cell_type": "code",
   "execution_count": null,
   "id": "ce88a7b0-6e5c-452b-a374-a0d0927318f2",
   "metadata": {},
   "outputs": [],
   "source": [
    "# | export\n",
    "\n",
    "\n",
    "def print_response(response, compact: bool = False):\n",
    "    \"\"\"Print response in json format.\"\"\"\n",
    "    print(\n",
    "        json.dumps(\n",
    "            response.json(),\n",
    "            indent=None if compact else 4,\n",
    "        )\n",
    "    )"
   ]
  },
  {
   "cell_type": "code",
   "execution_count": null,
   "id": "db395bbb-38f0-4111-8eda-36035ee54d45",
   "metadata": {},
   "outputs": [],
   "source": [
    "# | export\n",
    "\n",
    "\n",
    "def get_response_data(\n",
    "    response, key_path: str | None = None, action: str = \"actor\"\n",
    ") -> dict | None:\n",
    "    \"\"\"Get response body entries from a keypath.\"\"\"\n",
    "    data = response.json().get(\"data\").get(action)\n",
    "\n",
    "    if key_path is not None:\n",
    "        for key in key_path.split(\":\"):\n",
    "            if key.isdecimal() and isinstance(data, list):\n",
    "                data = data[int(key)]\n",
    "            else:\n",
    "                data = data.get(key)\n",
    "\n",
    "    return data"
   ]
  },
  {
   "cell_type": "code",
   "execution_count": null,
   "id": "fd0a5ff5-8e6c-476d-b658-a37126aec583",
   "metadata": {},
   "outputs": [],
   "source": []
  }
 ],
 "metadata": {
  "kernelspec": {
   "display_name": "python3",
   "language": "python",
   "name": "python3"
  }
 },
 "nbformat": 4,
 "nbformat_minor": 5
}
