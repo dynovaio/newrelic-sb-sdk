{
 "cells": [
  {
   "cell_type": "code",
   "execution_count": null,
   "id": "652904c7-34cb-49b2-ae2a-6df4b4e08c85",
   "metadata": {},
   "outputs": [],
   "source": [
    "# | default_exp utils.response"
   ]
  },
  {
   "attachments": {},
   "cell_type": "markdown",
   "id": "3c213a02-69a3-4f75-9534-9107e7e430e5",
   "metadata": {},
   "source": [
    "# Response utils"
   ]
  },
  {
   "attachments": {},
   "cell_type": "markdown",
   "id": "fef0f467-9df6-422a-bbf3-aab31ee01cfe",
   "metadata": {},
   "source": [
    "> Utilitary functions to displat response"
   ]
  },
  {
   "attachments": {},
   "cell_type": "markdown",
   "id": "01b9bcc5-05ef-4e6c-90b0-d54c904371e7",
   "metadata": {},
   "source": [
    "## Imports"
   ]
  },
  {
   "attachments": {},
   "cell_type": "markdown",
   "id": "6dbf5db6-5c4a-4089-b74d-f4f72160d07c",
   "metadata": {},
   "source": [
    "Python modules"
   ]
  },
  {
   "cell_type": "code",
   "execution_count": null,
   "id": "7b0750ff-b089-4fc9-b826-a5f1256a6287",
   "metadata": {},
   "outputs": [],
   "source": [
    "# | export\n",
    "import json\n",
    "from typing import Any, Dict, Union"
   ]
  },
  {
   "cell_type": "markdown",
   "id": "a58785a7",
   "metadata": {},
   "source": [
    "Third-party modules"
   ]
  },
  {
   "cell_type": "code",
   "execution_count": null,
   "id": "3daaa943",
   "metadata": {},
   "outputs": [],
   "source": [
    "# | export\n",
    "from requests import Response"
   ]
  },
  {
   "cell_type": "markdown",
   "id": "9a414ee6",
   "metadata": {},
   "source": [
    "`newrelic_sb_sdk` module"
   ]
  },
  {
   "cell_type": "code",
   "execution_count": null,
   "id": "29f20e86",
   "metadata": {},
   "outputs": [],
   "source": [
    "# | export\n",
    "from newrelic_sb_sdk.graphql.objects import Account\n",
    "from newrelic_sb_sdk.utils.exceptions import NewRelicError"
   ]
  },
  {
   "attachments": {},
   "cell_type": "markdown",
   "id": "9a998696-bf76-4295-af06-13245c2a3ee5",
   "metadata": {},
   "source": [
    "## Functions"
   ]
  },
  {
   "cell_type": "code",
   "execution_count": null,
   "id": "ce88a7b0-6e5c-452b-a374-a0d0927318f2",
   "metadata": {},
   "outputs": [],
   "source": [
    "# | export\n",
    "\n",
    "\n",
    "def print_response(response, compact: bool = False):\n",
    "    \"\"\"Print response in json format.\"\"\"\n",
    "    print(\n",
    "        json.dumps(\n",
    "            response.json(),\n",
    "            indent=None if compact else 4,\n",
    "        )\n",
    "    )"
   ]
  },
  {
   "cell_type": "code",
   "execution_count": null,
   "id": "db395bbb-38f0-4111-8eda-36035ee54d45",
   "metadata": {},
   "outputs": [],
   "source": [
    "# | export\n",
    "\n",
    "\n",
    "def get_response_data(\n",
    "    response, key_path: Union[str, None] = None, action: str = \"actor\"\n",
    ") -> Union[Dict[str, Any], None]:\n",
    "    \"\"\"Get response body entries from a keypath.\"\"\"\n",
    "    data = response.json().get(\"data\").get(action)\n",
    "\n",
    "    if key_path is not None:\n",
    "        for key in key_path.split(\":\"):\n",
    "            if key.isdecimal() and isinstance(data, list):\n",
    "                data = data[int(key)]\n",
    "            else:\n",
    "                data = data.get(key)\n",
    "\n",
    "    return data"
   ]
  },
  {
   "cell_type": "code",
   "execution_count": null,
   "id": "fd0a5ff5-8e6c-476d-b658-a37126aec583",
   "metadata": {},
   "outputs": [],
   "source": [
    "# | export\n",
    "\n",
    "\n",
    "def raise_response_errors(*, response: Response, account: Union[Account, None] = None):\n",
    "    response.raise_for_status()\n",
    "\n",
    "    response_json = response.json()\n",
    "\n",
    "    if errors := response_json.get(\"errors\", None):\n",
    "        for error in errors:\n",
    "            message = error[\"message\"]\n",
    "\n",
    "            if account:\n",
    "                message = f\"{account.id} - {account.name} - {message}\"\n",
    "\n",
    "            raise NewRelicError(message)"
   ]
  }
 ],
 "metadata": {
  "kernelspec": {
   "display_name": ".venv",
   "language": "python",
   "name": "python3"
  },
  "language_info": {
   "codemirror_mode": {
    "name": "ipython",
    "version": 3
   },
   "file_extension": ".py",
   "mimetype": "text/x-python",
   "name": "python",
   "nbconvert_exporter": "python",
   "pygments_lexer": "ipython3",
   "version": "3.13.0"
  }
 },
 "nbformat": 4,
 "nbformat_minor": 5
}
