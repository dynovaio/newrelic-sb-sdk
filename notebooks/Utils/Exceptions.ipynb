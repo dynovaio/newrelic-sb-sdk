{
 "cells": [
  {
   "cell_type": "code",
   "execution_count": null,
   "id": "f4064cf2-2b16-49cb-b21e-b3ae5678edd7",
   "metadata": {},
   "outputs": [],
   "source": [
    "# | default_exp utils.exceptions"
   ]
  },
  {
   "attachments": {},
   "cell_type": "markdown",
   "id": "0a87789a-cab3-4b6e-90b3-ca5e407476cd",
   "metadata": {},
   "source": [
    "# Exception utils"
   ]
  },
  {
   "attachments": {},
   "cell_type": "markdown",
   "id": "b5f9415e-933d-4080-8d28-d6608898ce53",
   "metadata": {},
   "source": [
    "> Utilities for exceptions"
   ]
  },
  {
   "attachments": {},
   "cell_type": "markdown",
   "id": "c0e52757-2ed9-4b92-a478-12f1e705b59b",
   "metadata": {},
   "source": [
    "## Classes"
   ]
  },
  {
   "cell_type": "code",
   "execution_count": null,
   "id": "2bd20f1e-86d2-489e-a891-059a48eae77d",
   "metadata": {},
   "outputs": [],
   "source": [
    "# | export\n",
    "\n",
    "\n",
    "class NewRelicError(Exception):\n",
    "    pass"
   ]
  },
  {
   "cell_type": "code",
   "execution_count": null,
   "id": "79cfdfa2-4a9b-4a1e-915c-a1608cb674a2",
   "metadata": {},
   "outputs": [],
   "source": []
  }
 ],
 "metadata": {
  "kernelspec": {
   "display_name": ".venv",
   "language": "python",
   "name": "python3"
  },
  "language_info": {
   "codemirror_mode": {
    "name": "ipython",
    "version": 3
   },
   "file_extension": ".py",
   "mimetype": "text/x-python",
   "name": "python",
   "nbconvert_exporter": "python",
   "pygments_lexer": "ipython3",
   "version": "3.13.0"
  }
 },
 "nbformat": 4,
 "nbformat_minor": 5
}
