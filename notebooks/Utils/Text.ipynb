{
 "cells": [
  {
   "cell_type": "code",
   "execution_count": null,
   "id": "4524d9b2-c92f-4c66-96fa-92ebaa702589",
   "metadata": {
    "tags": [
     "remove-cell"
    ]
   },
   "outputs": [],
   "source": [
    "# | default_exp utils.text"
   ]
  },
  {
   "cell_type": "markdown",
   "id": "e677b5ea-92ed-49d9-9451-bb4a64311fb5",
   "metadata": {},
   "source": [
    "# Text utils"
   ]
  },
  {
   "cell_type": "markdown",
   "id": "1e377f28-a5d3-4f2c-8d96-877ea230a720",
   "metadata": {
    "tags": []
   },
   "source": [
    "> Utilitary functions for text case conversion in  text and dict's keys"
   ]
  },
  {
   "cell_type": "markdown",
   "id": "358696cd-7a89-4f8f-a50a-c53580326fde",
   "metadata": {
    "tags": []
   },
   "source": [
    "## Imports"
   ]
  },
  {
   "cell_type": "markdown",
   "id": "39b645fc-4e48-4466-9984-ea0d7cb25e7c",
   "metadata": {
    "tags": []
   },
   "source": [
    "Python modules"
   ]
  },
  {
   "cell_type": "code",
   "execution_count": null,
   "id": "8a9aaecf-ee0c-4801-b4bf-1cbb85002414",
   "metadata": {
    "tags": []
   },
   "outputs": [],
   "source": [
    "# | export\n",
    "import re"
   ]
  },
  {
   "cell_type": "markdown",
   "id": "b592bc53-0470-4126-95d6-13079e5ec784",
   "metadata": {},
   "source": [
    "## Functions"
   ]
  },
  {
   "cell_type": "code",
   "execution_count": null,
   "id": "b9260367-05b4-4a7e-aea6-58752cc6b750",
   "metadata": {
    "tags": []
   },
   "outputs": [],
   "source": [
    "# | export\n",
    "\n",
    "\n",
    "def snake2camel(snake_string: str) -> str:\n",
    "    \"\"\"Convert snake case to camel case.\"\"\"\n",
    "    head, *tail = snake_string.split(\"_\")\n",
    "    camel_string = \"\".join(\n",
    "        [\n",
    "            head.lower(),\n",
    "            *[word.capitalize() for word in tail],\n",
    "        ]\n",
    "    )\n",
    "    return camel_string"
   ]
  },
  {
   "cell_type": "code",
   "execution_count": null,
   "id": "6630de87-6245-416f-ba34-aa15102c846b",
   "metadata": {
    "tags": []
   },
   "outputs": [],
   "source": [
    "# | export\n",
    "\n",
    "\n",
    "def camel2snake(camel_string: str) -> str:\n",
    "    \"\"\"Convert camel case to snake case.\"\"\"\n",
    "    return re.sub(r\"(([A-Z][a-z])|([0-9])+)\", r\"_\\1\", camel_string).lower().strip(\"_\")"
   ]
  },
  {
   "cell_type": "code",
   "execution_count": null,
   "id": "76e01593-a252-4746-abae-3dbfbd64e174",
   "metadata": {
    "tags": []
   },
   "outputs": [],
   "source": [
    "# | export\n",
    "\n",
    "\n",
    "def camelize_keys(obj: dict, convert_objects_inside_lists: bool = True) -> dict:\n",
    "    \"\"\"Convert dictionary keys to camel case.\"\"\"\n",
    "    camelized_obj = {}\n",
    "\n",
    "    for key, value in dict(obj).items():\n",
    "        key = snake2camel(key) if isinstance(key, str) else key\n",
    "\n",
    "        if isinstance(value, dict):\n",
    "            value = camelize_keys(value)\n",
    "        elif isinstance(value, list) and convert_objects_inside_lists:\n",
    "            value = [\n",
    "                camelize_keys(item) if isinstance(item, dict) else item\n",
    "                for item in value\n",
    "            ]\n",
    "\n",
    "        camelized_obj.update(\n",
    "            {\n",
    "                key: value,\n",
    "            },\n",
    "        )\n",
    "\n",
    "    return camelized_obj"
   ]
  },
  {
   "cell_type": "code",
   "execution_count": null,
   "id": "ce64594c-1b60-4834-a24c-7897a3d515a6",
   "metadata": {
    "tags": []
   },
   "outputs": [],
   "source": [
    "# | export\n",
    "\n",
    "\n",
    "def snakeize_keys(obj: dict, convert_objects_inside_lists: bool = True) -> dict:\n",
    "    \"\"\"Convert dictionary keys to snake case.\"\"\"\n",
    "    snakeized_obj = {}\n",
    "\n",
    "    for key, value in dict(obj).items():\n",
    "        key = camel2snake(key) if isinstance(key, str) else key\n",
    "\n",
    "        if isinstance(value, dict):\n",
    "            value = snakeize_keys(value)\n",
    "        elif isinstance(value, list) and convert_objects_inside_lists:\n",
    "            value = [\n",
    "                snakeize_keys(item) if isinstance(item, dict) else item\n",
    "                for item in value\n",
    "            ]\n",
    "\n",
    "        snakeized_obj.update(\n",
    "            {\n",
    "                key: value,\n",
    "            },\n",
    "        )\n",
    "\n",
    "    return snakeized_obj"
   ]
  },
  {
   "cell_type": "code",
   "execution_count": null,
   "id": "ae471d74-4558-46b6-abf7-63d1c34a49de",
   "metadata": {},
   "outputs": [],
   "source": []
  }
 ],
 "metadata": {
  "kernelspec": {
   "display_name": "Python 3 (ipykernel)",
   "language": "python",
   "name": "python3"
  },
  "language_info": {
   "codemirror_mode": {
    "name": "ipython",
    "version": 3
   },
   "file_extension": ".py",
   "mimetype": "text/x-python",
   "name": "python",
   "nbconvert_exporter": "python",
   "pygments_lexer": "ipython3",
   "version": "3.11.2"
  }
 },
 "nbformat": 4,
 "nbformat_minor": 5
}
