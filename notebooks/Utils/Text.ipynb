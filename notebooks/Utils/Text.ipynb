{
 "cells": [
  {
   "cell_type": "code",
   "execution_count": null,
   "id": "4524d9b2-c92f-4c66-96fa-92ebaa702589",
   "metadata": {
    "tags": [
     "remove-cell"
    ]
   },
   "outputs": [],
   "source": [
    "# | default_exp utils.text"
   ]
  },
  {
   "cell_type": "markdown",
   "id": "e677b5ea-92ed-49d9-9451-bb4a64311fb5",
   "metadata": {},
   "source": [
    "# Text utils"
   ]
  },
  {
   "cell_type": "markdown",
   "id": "1e377f28-a5d3-4f2c-8d96-877ea230a720",
   "metadata": {
    "tags": []
   },
   "source": [
    "> Utilitary functions for text case conversion in  text and dict's keys"
   ]
  },
  {
   "cell_type": "markdown",
   "id": "358696cd-7a89-4f8f-a50a-c53580326fde",
   "metadata": {
    "tags": []
   },
   "source": [
    "## Imports"
   ]
  },
  {
   "cell_type": "markdown",
   "id": "39b645fc-4e48-4466-9984-ea0d7cb25e7c",
   "metadata": {
    "tags": []
   },
   "source": [
    "Python modules"
   ]
  },
  {
   "cell_type": "code",
   "execution_count": null,
   "id": "8a9aaecf-ee0c-4801-b4bf-1cbb85002414",
   "metadata": {
    "tags": []
   },
   "outputs": [],
   "source": [
    "# | export\n",
    "import re"
   ]
  },
  {
   "cell_type": "markdown",
   "id": "b592bc53-0470-4126-95d6-13079e5ec784",
   "metadata": {},
   "source": [
    "## Functions"
   ]
  },
  {
   "cell_type": "code",
   "execution_count": null,
   "id": "b9260367-05b4-4a7e-aea6-58752cc6b750",
   "metadata": {
    "tags": []
   },
   "outputs": [],
   "source": [
    "# | export\n",
    "def snake2camel(snake_string: str) -> str:\n",
    "    \"\"\"Convert snake case to camel case.\"\"\"\n",
    "    head, *tail = snake_string.split(\"_\")\n",
    "    camel_string = \"\".join(\n",
    "        [\n",
    "            head.lower(),\n",
    "            *[word.capitalize() for word in tail],\n",
    "        ]\n",
    "    )\n",
    "    return camel_string"
   ]
  },
  {
   "cell_type": "code",
   "execution_count": null,
   "id": "6630de87-6245-416f-ba34-aa15102c846b",
   "metadata": {
    "tags": []
   },
   "outputs": [],
   "source": [
    "# | export\n",
    "def camel2snake(camel_string: str) -> str:\n",
    "    \"\"\"Convert camel case to snake case.\"\"\"\n",
    "    return re.sub(r\"(([A-Z][a-z])|([0-9])+)\", r\"_\\1\", camel_string).lower().strip(\"_\")"
   ]
  },
  {
   "cell_type": "code",
   "execution_count": null,
   "id": "76e01593-a252-4746-abae-3dbfbd64e174",
   "metadata": {
    "tags": []
   },
   "outputs": [],
   "source": [
    "# | export\n",
    "def camelize_keys(obj: dict, convert_objects_inside_lists: bool = True) -> dict:\n",
    "    \"\"\"Convert dictionary keys to camel case.\"\"\"\n",
    "    camelized_obj = {}\n",
    "\n",
    "    for key, value in dict(obj).items():\n",
    "        key = snake2camel(key) if isinstance(key, str) else key\n",
    "\n",
    "        if isinstance(value, dict):\n",
    "            value = camelize_keys(value)\n",
    "        elif isinstance(value, list) and convert_objects_inside_lists:\n",
    "            value = [\n",
    "                camelize_keys(item) if isinstance(item, dict) else item\n",
    "                for item in value\n",
    "            ]\n",
    "\n",
    "        camelized_obj.update(\n",
    "            {\n",
    "                key: value,\n",
    "            },\n",
    "        )\n",
    "\n",
    "    return camelized_obj"
   ]
  },
  {
   "cell_type": "code",
   "execution_count": null,
   "id": "ce64594c-1b60-4834-a24c-7897a3d515a6",
   "metadata": {
    "tags": []
   },
   "outputs": [],
   "source": [
    "# | export\n",
    "def snakeize_keys(obj: dict, convert_objects_inside_lists: bool = True) -> dict:\n",
    "    \"\"\"Convert dictionary keys to snake case.\"\"\"\n",
    "    snakeized_obj = {}\n",
    "\n",
    "    for key, value in dict(obj).items():\n",
    "        key = camel2snake(key) if isinstance(key, str) else key\n",
    "\n",
    "        if isinstance(value, dict):\n",
    "            value = snakeize_keys(value)\n",
    "        elif isinstance(value, list) and convert_objects_inside_lists:\n",
    "            value = [\n",
    "                snakeize_keys(item) if isinstance(item, dict) else item\n",
    "                for item in value\n",
    "            ]\n",
    "\n",
    "        snakeized_obj.update(\n",
    "            {\n",
    "                key: value,\n",
    "            },\n",
    "        )\n",
    "\n",
    "    return snakeized_obj"
   ]
  },
  {
   "cell_type": "markdown",
   "id": "aed62f9a-6e4d-4431-aec1-1065f60b26ac",
   "metadata": {
    "tags": []
   },
   "source": [
    "## Tests"
   ]
  },
  {
   "cell_type": "markdown",
   "id": "51dea084-19fb-43bf-9cdc-449b0e8943c3",
   "metadata": {},
   "source": [
    "### Imports"
   ]
  },
  {
   "cell_type": "code",
   "execution_count": null,
   "id": "5ab175df-3698-4337-81ea-36d2b387f161",
   "metadata": {
    "tags": []
   },
   "outputs": [],
   "source": [
    "# | hide\n",
    "import json  # noqa"
   ]
  },
  {
   "cell_type": "markdown",
   "id": "2cc36d10-7f73-4e55-b146-91487ba88b18",
   "metadata": {},
   "source": [
    "### Data for tests"
   ]
  },
  {
   "cell_type": "code",
   "execution_count": null,
   "id": "f52ac3b9-be85-4e6a-95a1-d0dc5c620c24",
   "metadata": {
    "tags": []
   },
   "outputs": [],
   "source": [
    "# | hide\n",
    "snake_string = \"sample_string_with_1_number\"\n",
    "camel_string = \"sampleStringWith1Number\""
   ]
  },
  {
   "cell_type": "code",
   "execution_count": null,
   "id": "8f61a51c-1d79-4dfa-a325-3343c001d882",
   "metadata": {
    "tags": []
   },
   "outputs": [],
   "source": [
    "# | hide\n",
    "snake_dictionary = {\n",
    "    \"sample_level_1_key_0\": \"value\",\n",
    "    \"sample_level_1_key_1\": {\n",
    "        \"sample_level_2_key_0\": [\n",
    "            0,\n",
    "        ],\n",
    "        \"sample_level_2_key_1\": {\n",
    "            \"sample_level_3_key_0\": [\n",
    "                \"values\",\n",
    "                {\n",
    "                    \"sample_level_3_key_0_value\": [\n",
    "                        \"values\",\n",
    "                    ],\n",
    "                },\n",
    "            ],\n",
    "        },\n",
    "    },\n",
    "}\n",
    "\n",
    "camel_dictionary = {\n",
    "    \"sampleLevel1Key0\": \"value\",\n",
    "    \"sampleLevel1Key1\": {\n",
    "        \"sampleLevel2Key0\": [\n",
    "            0,\n",
    "        ],\n",
    "        \"sampleLevel2Key1\": {\n",
    "            \"sampleLevel3Key0\": [\n",
    "                \"values\",\n",
    "                {\n",
    "                    \"sampleLevel3Key0Value\": [\n",
    "                        \"values\",\n",
    "                    ],\n",
    "                },\n",
    "            ],\n",
    "        },\n",
    "    },\n",
    "}"
   ]
  },
  {
   "cell_type": "markdown",
   "id": "81bde521-0974-4e4f-aeb5-fd0bcab75f02",
   "metadata": {},
   "source": [
    "### Test: Snake case to camel case"
   ]
  },
  {
   "cell_type": "code",
   "execution_count": null,
   "id": "65e05223-c83e-4e1f-90ff-7e31b6272f3f",
   "metadata": {
    "tags": []
   },
   "outputs": [],
   "source": [
    "# | hide\n",
    "print(snake2camel(snake_string))\n",
    "print(camel_string)\n",
    "\n",
    "assert snake2camel(snake_string) == camel_string  # nosec"
   ]
  },
  {
   "cell_type": "markdown",
   "id": "0a936d30-4b31-4911-931b-c6787e01ba9b",
   "metadata": {},
   "source": [
    "### Test: Camel case to snake case"
   ]
  },
  {
   "cell_type": "code",
   "execution_count": null,
   "id": "cb5b3939-d8e8-415d-913c-bc9dbe384874",
   "metadata": {
    "tags": []
   },
   "outputs": [],
   "source": [
    "# | hide\n",
    "print(camel2snake(camel_string))\n",
    "print(snake_string)\n",
    "\n",
    "assert camel2snake(camel_string) == snake_string  # nosec"
   ]
  },
  {
   "cell_type": "markdown",
   "id": "c023964f-1a49-42f7-be87-1f3bbf6d0d05",
   "metadata": {
    "tags": []
   },
   "source": [
    "### Test: Snake case to camel case nested dictionary"
   ]
  },
  {
   "cell_type": "code",
   "execution_count": null,
   "id": "886a94a8-a508-412b-b142-91eed8a6f120",
   "metadata": {
    "tags": []
   },
   "outputs": [],
   "source": [
    "# | hide\n",
    "print(json.dumps(camelize_keys(snake_dictionary)))\n",
    "print(json.dumps(camel_dictionary))\n",
    "\n",
    "assert json.dumps(camelize_keys(snake_dictionary)) == json.dumps(  # nosec\n",
    "    camel_dictionary\n",
    ")"
   ]
  },
  {
   "cell_type": "markdown",
   "id": "97115efd-2a44-4430-9fe6-be0ad5a6529e",
   "metadata": {
    "tags": []
   },
   "source": [
    "### Test: Camel case to snake case nested dictionary"
   ]
  },
  {
   "cell_type": "code",
   "execution_count": null,
   "id": "dd8ae53e-c585-4600-aa0e-c56c7b187cc4",
   "metadata": {
    "tags": []
   },
   "outputs": [],
   "source": [
    "# | hide\n",
    "print(json.dumps(snakeize_keys(camel_dictionary)))\n",
    "print(json.dumps(snake_dictionary))\n",
    "\n",
    "assert json.dumps(snakeize_keys(camel_dictionary)) == json.dumps(  # nosec\n",
    "    snake_dictionary\n",
    ")"
   ]
  },
  {
   "cell_type": "code",
   "execution_count": null,
   "id": "367ecfc6-cfaf-4b01-9a2c-335dab05c5f7",
   "metadata": {},
   "outputs": [],
   "source": []
  }
 ],
 "metadata": {
  "kernelspec": {
   "display_name": "Python 3 (ipykernel)",
   "language": "python",
   "name": "python3"
  },
  "language_info": {
   "codemirror_mode": {
    "name": "ipython",
    "version": 3
   },
   "file_extension": ".py",
   "mimetype": "text/x-python",
   "name": "python",
   "nbconvert_exporter": "python",
   "pygments_lexer": "ipython3",
   "version": "3.11.2"
  }
 },
 "nbformat": 4,
 "nbformat_minor": 5
}
