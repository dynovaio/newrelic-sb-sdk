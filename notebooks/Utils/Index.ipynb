{
 "cells": [
  {
   "cell_type": "markdown",
   "id": "076c9122-5d86-49e4-b1ed-4489e837e11f",
   "metadata": {},
   "source": [
    "# Utils"
   ]
  },
  {
   "cell_type": "markdown",
   "id": "497caa18-4707-4fcb-8acc-6887d74d93a1",
   "metadata": {},
   "source": [
    "> Complementary utilities for raw data manipulations and transforms"
   ]
  },
  {
   "cell_type": "markdown",
   "id": "cb29ace9-8d87-43e4-b466-0134ce35c869",
   "metadata": {},
   "source": [
    "* [Query](./Query.ipynb)\n",
    "* [Response](./Response.ipynb)\n",
    "* [Text](./Text.ipynb)"
   ]
  },
  {
   "cell_type": "code",
   "execution_count": null,
   "id": "b37dc2ab-f04b-47a8-a806-e1959519f0cf",
   "metadata": {},
   "outputs": [],
   "source": []
  }
 ],
 "metadata": {
  "kernelspec": {
   "display_name": "python3",
   "language": "python",
   "name": "python3"
  }
 },
 "nbformat": 4,
 "nbformat_minor": 5
}
