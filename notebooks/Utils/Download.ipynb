{
 "cells": [
  {
   "cell_type": "code",
   "execution_count": null,
   "id": "f4064cf2-2b16-49cb-b21e-b3ae5678edd7",
   "metadata": {},
   "outputs": [],
   "source": [
    "# | default_exp utils.download"
   ]
  },
  {
   "attachments": {},
   "cell_type": "markdown",
   "id": "0a87789a-cab3-4b6e-90b3-ca5e407476cd",
   "metadata": {},
   "source": [
    "# Download utils"
   ]
  },
  {
   "attachments": {},
   "cell_type": "markdown",
   "id": "b5f9415e-933d-4080-8d28-d6608898ce53",
   "metadata": {},
   "source": [
    "> Utilities for download files from the internet."
   ]
  },
  {
   "cell_type": "markdown",
   "id": "6b05b8a1",
   "metadata": {},
   "source": [
    "## Imports"
   ]
  },
  {
   "cell_type": "markdown",
   "id": "bb652111",
   "metadata": {},
   "source": [
    "Python modules"
   ]
  },
  {
   "cell_type": "code",
   "execution_count": null,
   "id": "e013d1e2",
   "metadata": {},
   "outputs": [],
   "source": [
    "# | export\n",
    "import logging\n",
    "import multiprocessing\n",
    "import urllib\n",
    "import warnings\n",
    "from collections import namedtuple\n",
    "from queue import Queue\n",
    "from threading import Thread\n",
    "from typing import List, Union"
   ]
  },
  {
   "cell_type": "markdown",
   "id": "cef3a978",
   "metadata": {},
   "source": [
    "Third-party modules"
   ]
  },
  {
   "cell_type": "code",
   "execution_count": null,
   "id": "8703da22",
   "metadata": {},
   "outputs": [],
   "source": [
    "# | export\n",
    "import requests"
   ]
  },
  {
   "cell_type": "markdown",
   "id": "c65715b8",
   "metadata": {},
   "source": [
    "## Logger"
   ]
  },
  {
   "cell_type": "code",
   "execution_count": null,
   "id": "6103a2fa",
   "metadata": {},
   "outputs": [],
   "source": [
    "# | export\n",
    "logger = logging.getLogger(\"newrelic_sb_sdk\")"
   ]
  },
  {
   "attachments": {},
   "cell_type": "markdown",
   "id": "c0e52757-2ed9-4b92-a478-12f1e705b59b",
   "metadata": {},
   "source": [
    "## Classes"
   ]
  },
  {
   "cell_type": "code",
   "execution_count": null,
   "id": "c56d18c4",
   "metadata": {},
   "outputs": [],
   "source": [
    "# | export\n",
    "\n",
    "\n",
    "DownloadFileArgs = namedtuple(\n",
    "    \"DownloadFileArgs\",\n",
    "    [\n",
    "        \"url\",\n",
    "        \"file_name\",\n",
    "    ],\n",
    ")"
   ]
  },
  {
   "cell_type": "code",
   "execution_count": null,
   "id": "2bd20f1e-86d2-489e-a891-059a48eae77d",
   "metadata": {},
   "outputs": [],
   "source": [
    "# | export\n",
    "\n",
    "\n",
    "class Downloader(Thread):\n",
    "    job: Union[int, None] = None\n",
    "\n",
    "    def __init__(self, *, queue: Queue, order: int):\n",
    "        Thread.__init__(self)\n",
    "        self.queue = queue\n",
    "        self.order = order\n",
    "\n",
    "    def run(self):\n",
    "        while True:\n",
    "            job, download_file_args = self.queue.get()\n",
    "\n",
    "            if job is None:\n",
    "                break\n",
    "\n",
    "            self.job = job\n",
    "\n",
    "            logger.debug(\n",
    "                \"Dowloader %d is downloading with parameters %r\",\n",
    "                self.order,\n",
    "                download_file_args,\n",
    "            )\n",
    "\n",
    "            download_file(**download_file_args._asdict())"
   ]
  },
  {
   "cell_type": "markdown",
   "id": "4cf916fd",
   "metadata": {},
   "source": [
    "## Functions"
   ]
  },
  {
   "cell_type": "code",
   "execution_count": null,
   "id": "79cfdfa2-4a9b-4a1e-915c-a1608cb674a2",
   "metadata": {},
   "outputs": [],
   "source": [
    "# | export\n",
    "\n",
    "\n",
    "def download_file(\n",
    "    *,\n",
    "    url: str,\n",
    "    file_name: str,\n",
    ") -> None:\n",
    "    chunk_size = 1024\n",
    "\n",
    "    response = requests.get(\n",
    "        url,\n",
    "        stream=True,\n",
    "        timeout=60,\n",
    "    )\n",
    "\n",
    "    response.raise_for_status()\n",
    "\n",
    "    file_size = int(response.headers.get(\"content-length\", 0))\n",
    "\n",
    "    if file_size == 0:\n",
    "        warnings.warn(\n",
    "            f\"Size of {file_name} file is 0B.\",\n",
    "            UserWarning,\n",
    "            stacklevel=2,\n",
    "        )\n",
    "\n",
    "    if not file_name:\n",
    "        file_name = urllib.parse.urlparse(url).path.split(\"/\")[-1]\n",
    "\n",
    "    with open(file_name, \"wb\") as file:\n",
    "        for chunk in response.iter_content(chunk_size):\n",
    "            file.write(chunk)"
   ]
  },
  {
   "cell_type": "code",
   "execution_count": null,
   "id": "4fc9e72a",
   "metadata": {},
   "outputs": [],
   "source": [
    "# | export\n",
    "\n",
    "\n",
    "def download_files(\n",
    "    *,\n",
    "    urls: List[str],\n",
    "    base_file_name: str,\n",
    "    file_extension: str,\n",
    ") -> None:\n",
    "    queue: Queue = Queue()\n",
    "\n",
    "    empy_job = (\n",
    "        None,\n",
    "        DownloadFileArgs(None, None),\n",
    "    )\n",
    "\n",
    "    workers = []\n",
    "    workers_count = multiprocessing.cpu_count()\n",
    "    zero_padding = max(len(str(len(urls))), 1)\n",
    "\n",
    "    jobs = [\n",
    "        (\n",
    "            order,\n",
    "            DownloadFileArgs(\n",
    "                url,\n",
    "                f\"{base_file_name}_{order:0>{zero_padding}d}.{file_extension}\",\n",
    "            ),\n",
    "        )\n",
    "        for order, url in enumerate(urls)\n",
    "    ]\n",
    "\n",
    "    for job in jobs:\n",
    "        queue.put(job)\n",
    "\n",
    "    for _ in range(workers_count):\n",
    "        queue.put(empy_job)\n",
    "\n",
    "    for order in range(workers_count):\n",
    "        worker = Downloader(\n",
    "            queue=queue,\n",
    "            order=order,\n",
    "        )\n",
    "        worker.start()\n",
    "        workers.append(worker)\n",
    "\n",
    "    for worker in workers:\n",
    "        worker.join()"
   ]
  },
  {
   "cell_type": "code",
   "execution_count": null,
   "id": "aa89afe3",
   "metadata": {},
   "outputs": [],
   "source": []
  }
 ],
 "metadata": {
  "kernelspec": {
   "display_name": ".venv",
   "language": "python",
   "name": "python3"
  },
  "language_info": {
   "codemirror_mode": {
    "name": "ipython",
    "version": 3
   },
   "file_extension": ".py",
   "mimetype": "text/x-python",
   "name": "python",
   "nbconvert_exporter": "python",
   "pygments_lexer": "ipython3",
   "version": "3.13.0"
  }
 },
 "nbformat": 4,
 "nbformat_minor": 5
}
