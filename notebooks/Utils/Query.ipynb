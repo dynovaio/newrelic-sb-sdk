{
 "cells": [
  {
   "cell_type": "code",
   "execution_count": null,
   "id": "f4064cf2-2b16-49cb-b21e-b3ae5678edd7",
   "metadata": {},
   "outputs": [],
   "source": [
    "# | default_exp utils.query"
   ]
  },
  {
   "cell_type": "markdown",
   "id": "0a87789a-cab3-4b6e-90b3-ca5e407476cd",
   "metadata": {},
   "source": [
    "# Query utils"
   ]
  },
  {
   "cell_type": "markdown",
   "id": "b5f9415e-933d-4080-8d28-d6608898ce53",
   "metadata": {},
   "source": [
    "> Utilities for query building"
   ]
  },
  {
   "cell_type": "markdown",
   "id": "b8593026-78b6-4bae-9ed7-e8095aa13694",
   "metadata": {},
   "source": [
    "## Imports"
   ]
  },
  {
   "cell_type": "markdown",
   "id": "d432fb49-30d4-4f19-8247-c47e63adb244",
   "metadata": {},
   "source": [
    "Python modules"
   ]
  },
  {
   "cell_type": "code",
   "execution_count": null,
   "id": "3205b9cc-a3a9-4807-aeb0-4b363993e403",
   "metadata": {},
   "outputs": [],
   "source": [
    "# | export\n",
    "import json\n",
    "from textwrap import dedent\n",
    "from typing import Any, Dict"
   ]
  },
  {
   "cell_type": "markdown",
   "id": "063aeb2c-645c-41e1-bfb6-f127a86355db",
   "metadata": {},
   "source": [
    "## Constants"
   ]
  },
  {
   "cell_type": "code",
   "execution_count": null,
   "id": "1e88169c-0f78-43b8-855b-4580db620492",
   "metadata": {},
   "outputs": [],
   "source": [
    "# | export\n",
    "NULL_CURSOR: str = json.dumps(None)"
   ]
  },
  {
   "cell_type": "markdown",
   "id": "c0e52757-2ed9-4b92-a478-12f1e705b59b",
   "metadata": {},
   "source": [
    "## Functions"
   ]
  },
  {
   "cell_type": "code",
   "execution_count": null,
   "id": "2bd20f1e-86d2-489e-a891-059a48eae77d",
   "metadata": {},
   "outputs": [],
   "source": [
    "# | export\n",
    "\n",
    "\n",
    "def build_query(query_string: str, query_params: Dict[str, Any]) -> str:\n",
    "    return dedent(query_string.strip()) % query_params"
   ]
  },
  {
   "cell_type": "code",
   "execution_count": null,
   "id": "79cfdfa2-4a9b-4a1e-915c-a1608cb674a2",
   "metadata": {},
   "outputs": [],
   "source": []
  }
 ],
 "metadata": {
  "kernelspec": {
   "display_name": "python3",
   "language": "python",
   "name": "python3"
  }
 },
 "nbformat": 4,
 "nbformat_minor": 5
}
