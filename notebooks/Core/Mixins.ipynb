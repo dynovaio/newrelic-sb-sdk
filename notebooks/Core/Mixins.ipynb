{
 "cells": [
  {
   "cell_type": "code",
   "execution_count": null,
   "id": "7245d914-825c-4236-b412-2556c71efe69",
   "metadata": {},
   "outputs": [],
   "source": [
    "# | default_exp core.mixins"
   ]
  },
  {
   "attachments": {},
   "cell_type": "markdown",
   "id": "40959a29-ce38-46e1-8c76-6b07524ce5ba",
   "metadata": {},
   "source": [
    "# Mixins"
   ]
  },
  {
   "attachments": {},
   "cell_type": "markdown",
   "id": "b103ec50-1fb7-4f72-863b-99193bd3d97e",
   "metadata": {},
   "source": [
    "> Base mixins to build base classes in this package"
   ]
  },
  {
   "attachments": {},
   "cell_type": "markdown",
   "id": "ee4d6f1f-6fb4-412c-bbc4-6a40f5a7d73d",
   "metadata": {},
   "source": [
    "## Imports"
   ]
  },
  {
   "attachments": {},
   "cell_type": "markdown",
   "id": "78007327-25c3-4f3b-b48a-901b750f14f1",
   "metadata": {},
   "source": [
    "Python modules"
   ]
  },
  {
   "cell_type": "code",
   "execution_count": null,
   "id": "2e4e01b7-ff71-4f61-af50-ab3034ba58d3",
   "metadata": {},
   "outputs": [],
   "source": [
    "# | export\n",
    "import json\n",
    "from typing import Any, Dict, Union"
   ]
  },
  {
   "attachments": {},
   "cell_type": "markdown",
   "id": "281adc9c-04fa-4518-a929-c2d6ae9e446e",
   "metadata": {},
   "source": [
    "`newrelic_sb_sdk` module"
   ]
  },
  {
   "cell_type": "code",
   "execution_count": null,
   "id": "5e93e2df-709c-4814-b145-ad49ceb15457",
   "metadata": {},
   "outputs": [],
   "source": [
    "# | export\n",
    "from newrelic_sb_sdk.core.encoders import EntityEncoder\n",
    "from newrelic_sb_sdk.utils.text import camelize_keys, snakeize_keys"
   ]
  },
  {
   "attachments": {},
   "cell_type": "markdown",
   "id": "a2ceec49-ddbc-4ee4-b485-dfd20a907770",
   "metadata": {},
   "source": [
    "## Classes"
   ]
  },
  {
   "cell_type": "code",
   "execution_count": null,
   "id": "af0f9e2e-44a4-4cf0-add4-12b7edcbaec8",
   "metadata": {},
   "outputs": [],
   "source": [
    "# | export\n",
    "\n",
    "\n",
    "class JSONMixin:\n",
    "    property_processors: Union[Dict[str, Any], None] = None\n",
    "\n",
    "    @classmethod\n",
    "    def _process_property(cls, property_name: str, json_str: str):\n",
    "        if cls.property_processors is None:\n",
    "            return json_str\n",
    "\n",
    "        processor = cls.property_processors.get(property_name, None)\n",
    "\n",
    "        if processor is None:\n",
    "            return json_str\n",
    "\n",
    "        return processor(json_str)\n",
    "\n",
    "    @classmethod\n",
    "    def _process_properties(cls, json_obj: dict):\n",
    "        for property_name, processor in (cls.property_processors or {}).items():\n",
    "            if property_name in json_obj:\n",
    "                property_obj = json_obj[property_name]\n",
    "\n",
    "                if isinstance(property_obj, list):\n",
    "                    json_obj[property_name] = [\n",
    "                        processor(json.dumps(item)) for item in property_obj\n",
    "                    ]\n",
    "                elif property_obj is not None:\n",
    "                    json_obj[property_name] = processor(json.dumps(property_obj))\n",
    "\n",
    "        return json_obj\n",
    "\n",
    "    @classmethod\n",
    "    def _load_json(cls, json_str: str) -> dict:\n",
    "        json_obj = json.loads(json_str)\n",
    "\n",
    "        if isinstance(json_obj, dict):\n",
    "            json_obj = snakeize_keys(json_obj)\n",
    "            json_obj = cls._process_properties(json_obj)\n",
    "\n",
    "        return json_obj\n",
    "\n",
    "    @staticmethod\n",
    "    def _dumps_json(obj: dict, **kwargs) -> str:\n",
    "        json_str = json.dumps(obj, cls=EntityEncoder)\n",
    "\n",
    "        json_obj = json.loads(json_str)\n",
    "        json_obj = camelize_keys(json_obj)\n",
    "\n",
    "        json_str = json.dumps(json_obj, **kwargs)\n",
    "\n",
    "        return json_str\n",
    "\n",
    "    @classmethod\n",
    "    def from_json(cls, json_str: str):\n",
    "        json_obj = cls._load_json(json_str)\n",
    "\n",
    "        if isinstance(json_obj, dict):\n",
    "            return cls(**json_obj)\n",
    "\n",
    "        return cls(json_obj)\n",
    "\n",
    "    def to_json(self, **kwargs) -> str:\n",
    "        return self._dumps_json(self.__dict__, **kwargs)"
   ]
  },
  {
   "cell_type": "code",
   "execution_count": null,
   "id": "b85a1da7-f883-4d27-997d-9b0570b556a4",
   "metadata": {},
   "outputs": [],
   "source": [
    "# | export\n",
    "\n",
    "\n",
    "class GQLMixin:\n",
    "    def get_gql_input(self):\n",
    "        pass\n",
    "\n",
    "    @property\n",
    "    def gql(self) -> str:\n",
    "        return \"\""
   ]
  },
  {
   "cell_type": "code",
   "execution_count": null,
   "id": "90c16cea-594e-4a89-a010-ebf8244d035b",
   "metadata": {},
   "outputs": [],
   "source": [
    "# | export\n",
    "\n",
    "\n",
    "class SerializableMixin(GQLMixin, JSONMixin):\n",
    "    pass"
   ]
  },
  {
   "cell_type": "code",
   "execution_count": null,
   "id": "55f2df7b-8058-4724-8b3e-1e12bf8ee22b",
   "metadata": {},
   "outputs": [],
   "source": []
  }
 ],
 "metadata": {
  "kernelspec": {
   "display_name": "Python 3 (ipykernel)",
   "language": "python",
   "name": "python3"
  },
  "language_info": {
   "codemirror_mode": {
    "name": "ipython",
    "version": 3
   },
   "file_extension": ".py",
   "mimetype": "text/x-python",
   "name": "python",
   "nbconvert_exporter": "python",
   "pygments_lexer": "ipython3",
   "version": "3.11.2"
  }
 },
 "nbformat": 4,
 "nbformat_minor": 5
}
