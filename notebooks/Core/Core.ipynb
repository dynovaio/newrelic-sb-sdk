{
 "cells": [
  {
   "cell_type": "code",
   "execution_count": null,
   "id": "408babb0-cbc3-4961-85f3-8669d2754fba",
   "metadata": {
    "tags": [
     "remove-cell"
    ]
   },
   "outputs": [],
   "source": [
    "# default_exp core.__init__"
   ]
  },
  {
   "cell_type": "markdown",
   "id": "3a15b89a-e3cd-4e2f-9eac-16d62a518663",
   "metadata": {
    "tags": []
   },
   "source": [
    "# Core components"
   ]
  },
  {
   "cell_type": "markdown",
   "id": "ebdab5d3-02e8-4113-ae0c-7da98154bd54",
   "metadata": {},
   "source": [
    "## Imports"
   ]
  },
  {
   "cell_type": "markdown",
   "id": "290e9370-62e3-4668-ad68-3a6aad74737e",
   "metadata": {},
   "source": [
    "Python modules"
   ]
  },
  {
   "cell_type": "code",
   "execution_count": null,
   "id": "a52ab5c6-5620-4e22-83d2-e2d51e806aa3",
   "metadata": {},
   "outputs": [],
   "source": [
    "# export\n",
    "import json\n",
    "import os\n",
    "import pathlib\n",
    "import re\n",
    "from dataclasses import dataclass\n",
    "from datetime import datetime, timezone\n",
    "from enum import Enum\n",
    "from textwrap import dedent\n",
    "from typing import Pattern, List"
   ]
  },
  {
   "cell_type": "markdown",
   "id": "6620ae2b-d725-4e3c-97a8-296337acf35d",
   "metadata": {},
   "source": [
    "Third-party modules"
   ]
  },
  {
   "cell_type": "code",
   "execution_count": null,
   "id": "71bfcc29-de70-4bc7-8282-d236431bb3d1",
   "metadata": {},
   "outputs": [],
   "source": [
    "# export\n",
    "import dotenv\n",
    "from requests import Session"
   ]
  },
  {
   "cell_type": "markdown",
   "id": "44a39648-832c-4c90-b2e6-e4e6f2cca96c",
   "metadata": {},
   "source": [
    "Development modules"
   ]
  },
  {
   "cell_type": "code",
   "execution_count": null,
   "id": "ca9161e0-7a26-480c-b26f-f89fdb45c644",
   "metadata": {},
   "outputs": [],
   "source": [
    "# hide\n",
    "from nbdev.showdoc import show_doc"
   ]
  },
  {
   "cell_type": "markdown",
   "id": "0686df48-eba4-49e2-b197-5b542b74dd99",
   "metadata": {
    "tags": []
   },
   "source": [
    "## Core functions"
   ]
  },
  {
   "cell_type": "code",
   "execution_count": null,
   "id": "f8f41eb3-01d5-4a11-9d44-ede5b74fd8b7",
   "metadata": {},
   "outputs": [],
   "source": [
    "# export\n",
    "NULL_CURSOR = json.dumps(None)"
   ]
  },
  {
   "cell_type": "code",
   "execution_count": null,
   "id": "a8234c24-7c2a-444b-9e60-bc54b9e03132",
   "metadata": {},
   "outputs": [],
   "source": [
    "# export\n",
    "def build_query(query_string: str, **kwargs) -> str:\n",
    "    return json.dumps({\"query\": dedent(query_string.strip()) % kwargs})"
   ]
  },
  {
   "cell_type": "code",
   "execution_count": null,
   "id": "bf061f50-1256-45dc-824c-83924633bbe0",
   "metadata": {},
   "outputs": [],
   "source": [
    "# export\n",
    "def print_response(response, compact: bool = False):\n",
    "    print(\n",
    "        json.dumps(\n",
    "            response.json(),\n",
    "            indent=None if compact else 4,\n",
    "        )\n",
    "    )"
   ]
  },
  {
   "cell_type": "code",
   "execution_count": null,
   "id": "6772bcd5-a42f-484d-b641-30f161ddc73d",
   "metadata": {},
   "outputs": [],
   "source": [
    "# export\n",
    "def get_response_data(\n",
    "    response, key_path: str | None = None, action: str = \"actor\"\n",
    ") -> dict | None:\n",
    "    data = response.json().get(\"data\").get(action)\n",
    "\n",
    "    if key_path is not None:\n",
    "        for key in key_path.split(\".\"):\n",
    "            if key.isdecimal() and isinstance(data, list):\n",
    "                data = data[int(key)]\n",
    "            else:\n",
    "                data = data.get(key)\n",
    "\n",
    "    return data"
   ]
  },
  {
   "cell_type": "code",
   "execution_count": null,
   "id": "3a3a0c50-e035-4e00-98e4-a623a9d7a911",
   "metadata": {},
   "outputs": [],
   "source": [
    "# export\n",
    "def snake2camel(snake_string: str) -> str:\n",
    "    head, *tail = snake_string.split(\"_\")\n",
    "    camel_string = \"\".join([head.lower(), *[word.capitalize() for word in tail]])\n",
    "    return camel_string"
   ]
  },
  {
   "cell_type": "code",
   "execution_count": null,
   "id": "c6b9a8d8-b6c0-4c55-a15d-26582651b000",
   "metadata": {},
   "outputs": [],
   "source": [
    "# export\n",
    "def camel2snake(camel_string: str) -> str:\n",
    "    return re.sub(r\"([A-Z][a-z]+)\", r\"_\\1\", camel_string).lower()"
   ]
  },
  {
   "cell_type": "code",
   "execution_count": null,
   "id": "b61b54d6-be63-46a7-994f-2891d84523aa",
   "metadata": {
    "tags": []
   },
   "outputs": [],
   "source": [
    "# export\n",
    "def camelize_keys(obj: dict) -> dict:\n",
    "    camelized_obj = {}\n",
    "\n",
    "    for key, value in dict(obj).items():\n",
    "        if isinstance(value, dict):\n",
    "            camelized_obj.update(\n",
    "                {\n",
    "                    snake2camel(key): camelize_keys(value),\n",
    "                },\n",
    "            )\n",
    "        elif isinstance(value, list) and len(value) > 0:\n",
    "            camelized_obj.update(\n",
    "                {\n",
    "                    snake2camel(key): [\n",
    "                        camelize_keys(item) if isinstance(item, dict) else item\n",
    "                        for item in value\n",
    "                    ],\n",
    "                },\n",
    "            )\n",
    "        else:\n",
    "            camelized_obj.update(\n",
    "                {\n",
    "                    snake2camel(key): value,\n",
    "                },\n",
    "            )\n",
    "\n",
    "    return camelized_obj"
   ]
  },
  {
   "cell_type": "code",
   "execution_count": null,
   "id": "bfdb97de-37ab-4db7-b4c1-be331dfe9c6f",
   "metadata": {},
   "outputs": [],
   "source": [
    "# export\n",
    "def snakeize_keys(obj: dict) -> dict:\n",
    "    snakeized_obj = {}\n",
    "\n",
    "    for key, value in dict(obj).items():\n",
    "        if isinstance(value, dict):\n",
    "            snakeized_obj.update(\n",
    "                {\n",
    "                    camel2snake(key): snakeize_keys(value),\n",
    "                },\n",
    "            )\n",
    "        elif isinstance(value, list) and len(value) > 0:\n",
    "            snakeized_obj.update(\n",
    "                {camel2snake(key): [snakeize_keys(item) for item in value]},\n",
    "            )\n",
    "        else:\n",
    "            snakeized_obj.update(\n",
    "                {\n",
    "                    camel2snake(key): value,\n",
    "                }\n",
    "            )\n",
    "\n",
    "    return snakeized_obj"
   ]
  },
  {
   "cell_type": "markdown",
   "id": "f9218702-9cf6-466b-b15a-1e00b30a1d2c",
   "metadata": {
    "tags": []
   },
   "source": [
    "## Core Classes"
   ]
  },
  {
   "cell_type": "markdown",
   "id": "0e7e0143-3787-4753-a951-fd221faaf5ba",
   "metadata": {},
   "source": [
    "### Utilitary classes "
   ]
  },
  {
   "cell_type": "code",
   "execution_count": null,
   "id": "43404c04-66e7-4224-82a6-7f9c3c6feb5e",
   "metadata": {},
   "outputs": [],
   "source": [
    "# export\n",
    "class EntityEncoder(json.JSONEncoder):\n",
    "    def default(self, o):\n",
    "        if isinstance(o, Enum):\n",
    "            return o.value\n",
    "\n",
    "        if isinstance(o, datetime):\n",
    "            # Accoirding to newrelic dates are handled in\n",
    "            # ISO8601 whithout microseconds and with Z as\n",
    "            # time zone but python datetime.isoformat\n",
    "            # doesn't workt in such way.\n",
    "            # return obj.isoformat()\n",
    "            # The user must be responsible for provide\n",
    "            # obj in UTC timezone\n",
    "            return o.strftime(\"%Y-%m-%dT%H:%M:%SZ\")\n",
    "\n",
    "        if hasattr(o, \"__dict__\"):\n",
    "            return o.__dict__\n",
    "\n",
    "        return super().default(o)"
   ]
  },
  {
   "cell_type": "code",
   "execution_count": null,
   "id": "efa4baa1-ed81-4cc5-bd3e-7866a7844ffd",
   "metadata": {},
   "outputs": [],
   "source": [
    "# hide\n",
    "show_doc(EntityEncoder)"
   ]
  },
  {
   "cell_type": "markdown",
   "id": "51da17e2-919e-4bfd-8c12-74c96bfc4e35",
   "metadata": {
    "tags": []
   },
   "source": [
    "### Core Mixins"
   ]
  },
  {
   "cell_type": "code",
   "execution_count": null,
   "id": "356238bc-2a18-449e-8629-f98d9d264607",
   "metadata": {
    "tags": []
   },
   "outputs": [],
   "source": [
    "# export\n",
    "class JSONMixin:\n",
    "    property_processors: dict | None = None\n",
    "\n",
    "    @classmethod\n",
    "    def _process_property(cls, property_name: str, json_str: str):\n",
    "        processor = cls.property_processors.get(property_name)\n",
    "        return processor(json_str)\n",
    "\n",
    "    @classmethod\n",
    "    def _process_properties(cls, json_obj: dict):\n",
    "        for property_name, processor in (cls.property_processors or {}).items():\n",
    "            if property_name in json_obj:\n",
    "                property_obj = json_obj[property_name]\n",
    "\n",
    "                if isinstance(property_obj, list):\n",
    "                    json_obj[property_name] = [\n",
    "                        processor(json.dumps(item)) for item in property_obj\n",
    "                    ]\n",
    "                elif property_obj is not None:\n",
    "                    json_obj[property_name] = processor(json.dumps(property_obj))\n",
    "\n",
    "        return json_obj\n",
    "\n",
    "    @classmethod\n",
    "    def _load_json(cls, json_str: str) -> dict:\n",
    "        json_obj = json.loads(json_str)\n",
    "\n",
    "        if isinstance(json_obj, dict):\n",
    "            json_obj = snakeize_keys(json_obj)\n",
    "            json_obj = cls._process_properties(json_obj)\n",
    "\n",
    "        return json_obj\n",
    "\n",
    "    @staticmethod\n",
    "    def _dumps_json(obj: dict, **kwargs) -> str:\n",
    "        json_str = json.dumps(obj, cls=EntityEncoder)\n",
    "\n",
    "        json_obj = json.loads(json_str)\n",
    "        json_obj = camelize_keys(json_obj)\n",
    "\n",
    "        json_str = json.dumps(json_obj, **kwargs)\n",
    "\n",
    "        return json_str\n",
    "\n",
    "    @classmethod\n",
    "    def from_json(cls, json_str: str):\n",
    "        json_obj = cls._load_json(json_str)\n",
    "\n",
    "        if isinstance(json_obj, dict):\n",
    "            return cls(**json_obj)\n",
    "\n",
    "        return cls(json_obj)\n",
    "\n",
    "    def to_json(self, **kwargs) -> str:\n",
    "        return self._dumps_json(self.__dict__, **kwargs)"
   ]
  },
  {
   "cell_type": "code",
   "execution_count": null,
   "id": "7ea7f2cf-fec9-4511-b615-b9adc007d556",
   "metadata": {},
   "outputs": [],
   "source": [
    "# hide\n",
    "show_doc(JSONMixin)"
   ]
  },
  {
   "cell_type": "code",
   "execution_count": null,
   "id": "bee8d36d-44ef-44a5-a966-65182bf6d507",
   "metadata": {},
   "outputs": [],
   "source": [
    "# export\n",
    "class GQLMixin:\n",
    "    JSON_KEY_REGEX: Pattern[str] = re.compile(r'\"([^ \"]+)\":')\n",
    "    INPUT_PROPERTIES: List[str] | None = None\n",
    "\n",
    "    def get_gql_input(self):\n",
    "        pass\n",
    "\n",
    "    @property\n",
    "    def gql(self) -> str:\n",
    "        gql_str = self.to_json()\n",
    "        gql_str = self.JSON_KEY_REGEX.sub(r\"\\1:\", gql_str)\n",
    "        # gql_str = gql_str.replace(\n",
    "        #     f'\"{DashboardPermission.PRIVATE.value}\"', DashboardPermission.PRIVATE.value\n",
    "        # )\n",
    "        # gql_str = gql_str.replace(\n",
    "        #     f'\"{DashboardPermission.PUBLIC_READ_ONLY.value}\"',\n",
    "        #     DashboardPermission.PUBLIC_READ_ONLY.value,\n",
    "        # )\n",
    "        # gql_str = gql_str.replace(\n",
    "        #     f'\"{DashboardPermission.PUBLIC_READ_WRITE.value}\"',\n",
    "        #     DashboardPermission.PUBLIC_READ_WRITE.value,\n",
    "        # )\n",
    "\n",
    "        return gql_str"
   ]
  },
  {
   "cell_type": "code",
   "execution_count": null,
   "id": "e03f06b6-ebcc-4f96-bec6-dd58c7fd38e0",
   "metadata": {},
   "outputs": [],
   "source": [
    "# export\n",
    "class SerializableMixin(GQLMixin, JSONMixin):\n",
    "    pass"
   ]
  },
  {
   "cell_type": "markdown",
   "id": "b190a775-eb8d-43d9-a238-4a69a7c3386d",
   "metadata": {},
   "source": [
    "### Base Classes"
   ]
  },
  {
   "cell_type": "code",
   "execution_count": null,
   "id": "615da9d5-84ae-46be-bae7-7c4db97dd53d",
   "metadata": {},
   "outputs": [],
   "source": [
    "# export\n",
    "class SerializableEnum(SerializableMixin, Enum):\n",
    "    def to_json(self, **kwargs) -> str:\n",
    "        return json.dumps(self.value, **kwargs)\n",
    "\n",
    "    def __repr__(self):\n",
    "        return f\"{self.__class__.__name__}.{self.name}\""
   ]
  },
  {
   "cell_type": "code",
   "execution_count": null,
   "id": "3c51febb-2a4f-4ffd-9dce-a54c2f49e1f0",
   "metadata": {},
   "outputs": [],
   "source": [
    "# export\n",
    "class BaseEntity(SerializableMixin):\n",
    "    pass"
   ]
  },
  {
   "cell_type": "code",
   "execution_count": null,
   "id": "ff43ba64-f901-4327-b907-a56d9ef8c206",
   "metadata": {},
   "outputs": [],
   "source": []
  }
 ],
 "metadata": {
  "kernelspec": {
   "display_name": "Python 3 (ipykernel)",
   "language": "python",
   "name": "python3"
  },
  "language_info": {
   "codemirror_mode": {
    "name": "ipython",
    "version": 3
   },
   "file_extension": ".py",
   "mimetype": "text/x-python",
   "name": "python",
   "nbconvert_exporter": "python",
   "pygments_lexer": "ipython3",
   "version": "3.10.3"
  }
 },
 "nbformat": 4,
 "nbformat_minor": 5
}
