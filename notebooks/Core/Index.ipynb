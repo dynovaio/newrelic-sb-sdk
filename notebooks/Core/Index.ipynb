{
 "cells": [
  {
   "cell_type": "markdown",
   "id": "18f30d92-5fcd-4adf-ba67-527e6b99f266",
   "metadata": {
    "tags": []
   },
   "source": [
    "# Core"
   ]
  },
  {
   "cell_type": "markdown",
   "id": "cd109976-a81f-4d0f-bd1d-b9271d07b0dc",
   "metadata": {},
   "source": [
    "> Core blocks to build other objects"
   ]
  },
  {
   "cell_type": "markdown",
   "id": "8f6d2a77-7ffe-4e0a-af66-ec3a45747884",
   "metadata": {},
   "source": [
    "* [Base](./Base.ipynb)\n",
    "* [Encoders](./Encoders.ipynb)\n",
    "* [Mixins](./Mixins.ipynb)"
   ]
  },
  {
   "cell_type": "code",
   "execution_count": null,
   "id": "e61b9085-d52b-480b-b5cc-5ceb79408a60",
   "metadata": {},
   "outputs": [],
   "source": []
  }
 ],
 "metadata": {
  "kernelspec": {
   "display_name": "Python 3 (ipykernel)",
   "language": "python",
   "name": "python3"
  },
  "language_info": {
   "codemirror_mode": {
    "name": "ipython",
    "version": 3
   },
   "file_extension": ".py",
   "mimetype": "text/x-python",
   "name": "python",
   "nbconvert_exporter": "python",
   "pygments_lexer": "ipython3",
   "version": "3.11.2"
  }
 },
 "nbformat": 4,
 "nbformat_minor": 5
}
