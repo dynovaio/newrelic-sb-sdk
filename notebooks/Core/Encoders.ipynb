{
 "cells": [
  {
   "cell_type": "code",
   "execution_count": null,
   "id": "81c8c12c-b624-4cc7-9235-88883734873b",
   "metadata": {},
   "outputs": [],
   "source": [
    "# | default_exp core.encoders"
   ]
  },
  {
   "cell_type": "markdown",
   "id": "4ed47930-de73-4d16-88b0-2d63359b1acb",
   "metadata": {},
   "source": [
    "# Encoders"
   ]
  },
  {
   "cell_type": "markdown",
   "id": "bbd81458-4937-451f-815f-4b83395e76f3",
   "metadata": {},
   "source": [
    "> Custom encoders to encode an decode entities"
   ]
  },
  {
   "cell_type": "markdown",
   "id": "10e03970-f554-4519-968f-4b1b7a9619bc",
   "metadata": {},
   "source": [
    "## Imports"
   ]
  },
  {
   "cell_type": "markdown",
   "id": "b69600f3-485f-415c-b3ef-d27e5e884bb6",
   "metadata": {},
   "source": [
    "Python modules"
   ]
  },
  {
   "cell_type": "code",
   "execution_count": null,
   "id": "e5c61cca-8a20-4198-b622-6b661d15f542",
   "metadata": {},
   "outputs": [],
   "source": [
    "# | export\n",
    "import json\n",
    "from datetime import datetime\n",
    "from enum import Enum"
   ]
  },
  {
   "cell_type": "markdown",
   "id": "a29a4e02-0f72-4498-83e3-722e8446f7e6",
   "metadata": {},
   "source": [
    "## Classes"
   ]
  },
  {
   "cell_type": "code",
   "execution_count": null,
   "id": "797dc3a6-f65d-4cc8-8099-442b0a2b0af4",
   "metadata": {},
   "outputs": [],
   "source": [
    "# | export\n",
    "\n",
    "\n",
    "class EntityEncoder(json.JSONEncoder):\n",
    "    def default(self, o):\n",
    "        if isinstance(o, Enum):\n",
    "            return o.value\n",
    "\n",
    "        if isinstance(o, datetime):\n",
    "            # Accoirding to newrelic dates are handled in\n",
    "            # ISO8601 whithout microseconds and with Z as\n",
    "            # time zone but python datetime.isoformat\n",
    "            # doesn't workt in such way.\n",
    "            # return obj.isoformat()\n",
    "            # The user must be responsible for provide\n",
    "            # obj in UTC timezone\n",
    "            return o.strftime(\"%Y-%m-%dT%H:%M:%SZ\")\n",
    "\n",
    "        if hasattr(o, \"__dict__\"):\n",
    "            return o.__dict__\n",
    "\n",
    "        return super().default(o)"
   ]
  },
  {
   "cell_type": "code",
   "execution_count": null,
   "id": "407372fc-d0a1-4f54-88cf-aadb249d1ef9",
   "metadata": {},
   "outputs": [],
   "source": []
  }
 ],
 "metadata": {
  "kernelspec": {
   "display_name": "Python 3 (ipykernel)",
   "language": "python",
   "name": "python3"
  },
  "language_info": {
   "codemirror_mode": {
    "name": "ipython",
    "version": 3
   },
   "file_extension": ".py",
   "mimetype": "text/x-python",
   "name": "python",
   "nbconvert_exporter": "python",
   "pygments_lexer": "ipython3",
   "version": "3.11.2"
  }
 },
 "nbformat": 4,
 "nbformat_minor": 5
}
