{
    "cells": [
        {
            "cell_type": "code",
            "execution_count": 1,
            "id": "2092fc41-9bbb-4632-841d-8f8d6ffead88",
            "metadata": {
                "tags": [
                    "remove-cell"
                ]
            },
            "outputs": [],
            "source": [
                "# | default_exp core.base"
            ]
        },
        {
            "cell_type": "markdown",
            "id": "7d55dfc8-9b21-4622-a8bd-2a8671351cd8",
            "metadata": {
                "tags": []
            },
            "source": [
                "# Base"
            ]
        },
        {
            "cell_type": "markdown",
            "id": "ba4a3f2c-cd90-4c28-a2e5-fb022ecb5377",
            "metadata": {},
            "source": [
                "> Base classes to define every other class in this package"
            ]
        },
        {
            "cell_type": "markdown",
            "id": "a9be9972-f333-48b3-b937-53767e92ceb2",
            "metadata": {},
            "source": [
                "## Imports"
            ]
        },
        {
            "cell_type": "markdown",
            "id": "568cd1c4-0389-4da8-b4c9-a6d9d65cdbc1",
            "metadata": {},
            "source": [
                "Python modules"
            ]
        },
        {
            "cell_type": "code",
            "execution_count": null,
            "id": "a909cb30-4724-4b9e-846b-7fe159ef36b1",
            "metadata": {},
            "outputs": [],
            "source": [
                "# | export\n",
                "import json\n",
                "from enum import Enum"
            ]
        },
        {
            "cell_type": "markdown",
            "id": "f1ecef84-3d86-4f77-817b-c4af8e91bf8d",
            "metadata": {},
            "source": [
                "`newrelic_sb_sdk` module"
            ]
        },
        {
            "cell_type": "code",
            "execution_count": null,
            "id": "a98a2312-bca8-4bb8-80ca-bd5f4d39f250",
            "metadata": {},
            "outputs": [],
            "source": [
                "# | export\n",
                "from newrelic_sb_sdk.core.mixins import SerializableMixin"
            ]
        },
        {
            "cell_type": "markdown",
            "id": "4b20b785-155e-4657-9c32-cdf648c483ed",
            "metadata": {
                "tags": []
            },
            "source": [
                "## Classes"
            ]
        },
        {
            "cell_type": "code",
            "execution_count": null,
            "id": "01bbafad-0b79-4faa-aefc-5dc4193d4420",
            "metadata": {},
            "outputs": [],
            "source": [
                "# | export\n",
                "class SerializableEnum(SerializableMixin, Enum):\n",
                "    def to_json(self, **kwargs) -> str:\n",
                "        return json.dumps(self.value, **kwargs)\n",
                "\n",
                "    def __repr__(self):\n",
                "        return f\"{self.__class__.__name__}.{self.name}\""
            ]
        },
        {
            "cell_type": "code",
            "execution_count": null,
            "id": "53323c89-b62c-469b-adf8-b36d3544541b",
            "metadata": {},
            "outputs": [],
            "source": [
                "# | export\n",
                "class BaseEntity(SerializableMixin):\n",
                "    pass"
            ]
        },
        {
            "cell_type": "code",
            "execution_count": null,
            "id": "76a2010f-d144-418c-82b5-eb2cfdd6a685",
            "metadata": {},
            "outputs": [],
            "source": []
        }
    ],
    "metadata": {
        "kernelspec": {
            "display_name": "Python 3 (ipykernel)",
            "language": "python",
            "name": "python3"
        },
        "language_info": {
            "codemirror_mode": {
                "name": "ipython",
                "version": 3
            },
            "file_extension": ".py",
            "mimetype": "text/x-python",
            "name": "python",
            "nbconvert_exporter": "python",
            "pygments_lexer": "ipython3",
            "version": "3.11.2"
        }
    },
    "nbformat": 4,
    "nbformat_minor": 5
}
