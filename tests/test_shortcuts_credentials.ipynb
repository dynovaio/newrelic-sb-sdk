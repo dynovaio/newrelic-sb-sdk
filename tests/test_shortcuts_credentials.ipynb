{
 "cells": [
  {
   "cell_type": "markdown",
   "id": "0564ef12-de8d-4f0c-bbc2-c05177f8b013",
   "metadata": {
    "tags": []
   },
   "source": [
    "# Tests for `newrelic_sb_sdk.shortcuts.credentials`"
   ]
  },
  {
   "cell_type": "markdown",
   "id": "d193382b-7c03-464a-a932-ce6853df717a",
   "metadata": {},
   "source": [
    "## Imports"
   ]
  },
  {
   "cell_type": "code",
   "execution_count": null,
   "id": "3b5f407d",
   "metadata": {},
   "outputs": [],
   "source": [
    "import dotenv\n",
    "import pytest"
   ]
  },
  {
   "cell_type": "code",
   "execution_count": null,
   "id": "22e161f3-84ab-48eb-b9b4-cd4509923be6",
   "metadata": {
    "tags": []
   },
   "outputs": [],
   "source": [
    "from newrelic_sb_sdk.client import NewRelicGqlClient, get_new_relic_user_key_from_env\n",
    "from newrelic_sb_sdk.graphql.objects import User\n",
    "from newrelic_sb_sdk.shortcuts.credentials import validate"
   ]
  },
  {
   "cell_type": "markdown",
   "id": "0fd9c6ff-fd26-4569-bbb7-bef1bb95fb10",
   "metadata": {},
   "source": [
    "## Tests"
   ]
  },
  {
   "cell_type": "code",
   "execution_count": null,
   "id": "92bc705a-fdc2-4744-bc17-c3d971813f90",
   "metadata": {
    "tags": []
   },
   "outputs": [],
   "source": [
    "class TestShortcutsCredentials:\n",
    "    env_file_name = \"./.env\"\n",
    "\n",
    "    @pytest.fixture()\n",
    "    def load_env_file(self):\n",
    "        dotenv.load_dotenv(self.env_file_name)\n",
    "\n",
    "    @pytest.fixture(scope=\"module\")\n",
    "    def vcr_config(self):\n",
    "        return {\n",
    "            \"filter_headers\": [(\"API-Key\", \"new_relic_user_key\")],\n",
    "        }\n",
    "\n",
    "    @pytest.mark.vcr()\n",
    "    def test_validate(self):\n",
    "        new_relic_user_key = get_new_relic_user_key_from_env()\n",
    "\n",
    "        client = NewRelicGqlClient(\n",
    "            new_relic_user_key=new_relic_user_key,\n",
    "        )\n",
    "        data = validate(\n",
    "            client=client,\n",
    "        )\n",
    "        assert isinstance(data, User)  # nosec"
   ]
  },
  {
   "cell_type": "code",
   "execution_count": null,
   "id": "8ab01112",
   "metadata": {},
   "outputs": [],
   "source": []
  }
 ],
 "metadata": {
  "kernelspec": {
   "display_name": ".venv",
   "language": "python",
   "name": "python3"
  },
  "language_info": {
   "codemirror_mode": {
    "name": "ipython",
    "version": 3
   },
   "file_extension": ".py",
   "mimetype": "text/x-python",
   "name": "python",
   "nbconvert_exporter": "python",
   "pygments_lexer": "ipython3",
   "version": "3.13.0"
  }
 },
 "nbformat": 4,
 "nbformat_minor": 5
}
