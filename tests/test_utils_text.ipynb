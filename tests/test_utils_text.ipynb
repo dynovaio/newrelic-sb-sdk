{
 "cells": [
  {
   "cell_type": "markdown",
   "id": "0564ef12-de8d-4f0c-bbc2-c05177f8b013",
   "metadata": {
    "tags": []
   },
   "source": [
    "## Tests for `newrelic_sb_sdk.utils.text`"
   ]
  },
  {
   "cell_type": "markdown",
   "id": "d193382b-7c03-464a-a932-ce6853df717a",
   "metadata": {},
   "source": [
    "## Imports"
   ]
  },
  {
   "cell_type": "code",
   "execution_count": null,
   "id": "5b0a2f5c-767b-4a3c-80c0-04ef8d1beab5",
   "metadata": {
    "tags": []
   },
   "outputs": [],
   "source": [
    "import json"
   ]
  },
  {
   "cell_type": "code",
   "execution_count": null,
   "id": "22e161f3-84ab-48eb-b9b4-cd4509923be6",
   "metadata": {
    "tags": []
   },
   "outputs": [],
   "source": [
    "from newrelic_sb_sdk.utils.text import (\n",
    "    camel2snake,\n",
    "    camelize_keys,\n",
    "    snake2camel,\n",
    "    snakeize_keys,\n",
    ")"
   ]
  },
  {
   "cell_type": "markdown",
   "id": "0fd9c6ff-fd26-4569-bbb7-bef1bb95fb10",
   "metadata": {},
   "source": [
    "## Tests"
   ]
  },
  {
   "cell_type": "code",
   "execution_count": null,
   "id": "b75b9038-43ca-4147-83c6-fcb8c4db8c60",
   "metadata": {
    "tags": []
   },
   "outputs": [],
   "source": [
    "class TestUtilsText:\n",
    "    snake_string = \"sample_string_with_1_number\"\n",
    "    camel_string = \"sampleStringWith1Number\"\n",
    "\n",
    "    snake_dictionary = {\n",
    "        \"sample_level_1_key_0\": \"value\",\n",
    "        \"sample_level_1_key_1\": {\n",
    "            \"sample_level_2_key_0\": [\n",
    "                0,\n",
    "            ],\n",
    "            \"sample_level_2_key_1\": {\n",
    "                \"sample_level_3_key_0\": [\n",
    "                    \"values\",\n",
    "                    {\n",
    "                        \"sample_level_3_key_0_value\": [\n",
    "                            \"values\",\n",
    "                        ],\n",
    "                    },\n",
    "                ],\n",
    "            },\n",
    "        },\n",
    "    }\n",
    "\n",
    "    camel_dictionary = {\n",
    "        \"sampleLevel1Key0\": \"value\",\n",
    "        \"sampleLevel1Key1\": {\n",
    "            \"sampleLevel2Key0\": [\n",
    "                0,\n",
    "            ],\n",
    "            \"sampleLevel2Key1\": {\n",
    "                \"sampleLevel3Key0\": [\n",
    "                    \"values\",\n",
    "                    {\n",
    "                        \"sampleLevel3Key0Value\": [\n",
    "                            \"values\",\n",
    "                        ],\n",
    "                    },\n",
    "                ],\n",
    "            },\n",
    "        },\n",
    "    }\n",
    "\n",
    "    def test_snake_to_camel_case_conversion(self):\n",
    "        camelized_string = snake2camel(self.snake_string)\n",
    "\n",
    "        assert camelized_string == self.camel_string  # nosec\n",
    "\n",
    "    def test_camel_to_snake_case_conversion(self):\n",
    "        snakeized_string = camel2snake(self.camel_string)\n",
    "\n",
    "        assert snakeized_string == self.snake_string  # nosec\n",
    "\n",
    "    def test_snake_to_camel_case_dict_keys_conversion(self):\n",
    "        camelized_dict = camelize_keys(self.snake_dictionary)\n",
    "\n",
    "        assert json.dumps(camelized_dict) == json.dumps(self.camel_dictionary)  # nosec\n",
    "\n",
    "    def test_camel_to_snake_case_dict_keys_conversion(self):\n",
    "        snakeized_dict = snakeize_keys(self.camel_dictionary)\n",
    "\n",
    "        assert json.dumps(snakeized_dict) == json.dumps(self.snake_dictionary)  # nosec"
   ]
  },
  {
   "cell_type": "code",
   "execution_count": null,
   "id": "7f35fa4e-0d96-4fcd-9b96-4f8b004fc7a5",
   "metadata": {},
   "outputs": [],
   "source": []
  }
 ],
 "metadata": {
  "kernelspec": {
   "display_name": "Python 3 (ipykernel)",
   "language": "python",
   "name": "python3"
  },
  "language_info": {
   "codemirror_mode": {
    "name": "ipython",
    "version": 3
   },
   "file_extension": ".py",
   "mimetype": "text/x-python",
   "name": "python",
   "nbconvert_exporter": "python",
   "pygments_lexer": "ipython3",
   "version": "3.11.2"
  }
 },
 "nbformat": 4,
 "nbformat_minor": 5
}
