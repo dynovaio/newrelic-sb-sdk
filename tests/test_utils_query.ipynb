{
 "cells": [
  {
   "cell_type": "markdown",
   "id": "0564ef12-de8d-4f0c-bbc2-c05177f8b013",
   "metadata": {
    "tags": []
   },
   "source": [
    "# Tests for `newrelic_sb_sdk.utils.query`"
   ]
  },
  {
   "cell_type": "markdown",
   "id": "d193382b-7c03-464a-a932-ce6853df717a",
   "metadata": {},
   "source": [
    "## Imports"
   ]
  },
  {
   "cell_type": "code",
   "execution_count": null,
   "id": "5b0a2f5c-767b-4a3c-80c0-04ef8d1beab5",
   "metadata": {
    "tags": []
   },
   "outputs": [],
   "source": [
    "from textwrap import dedent"
   ]
  },
  {
   "cell_type": "code",
   "execution_count": null,
   "id": "22e161f3-84ab-48eb-b9b4-cd4509923be6",
   "metadata": {
    "tags": []
   },
   "outputs": [],
   "source": [
    "from newrelic_sb_sdk.utils.query import NULL_CURSOR, build_query"
   ]
  },
  {
   "cell_type": "markdown",
   "id": "0fd9c6ff-fd26-4569-bbb7-bef1bb95fb10",
   "metadata": {},
   "source": [
    "## Tests"
   ]
  },
  {
   "cell_type": "code",
   "execution_count": null,
   "id": "b75b9038-43ca-4147-83c6-fcb8c4db8c60",
   "metadata": {
    "tags": []
   },
   "outputs": [],
   "source": [
    "class TestUtilsQuery:\n",
    "    null_cursor_value = \"null\"\n",
    "\n",
    "    raw_query_template_simple = \"\"\"\n",
    "        {\n",
    "            actor {\n",
    "                user {\n",
    "                    name\n",
    "                }\n",
    "            }\n",
    "        }\n",
    "    \"\"\"\n",
    "\n",
    "    raw_query_template_parametrized = \"\"\"\n",
    "        {\n",
    "            actor {\n",
    "                account(id: %(account_id)d) {\n",
    "                    id\n",
    "                }\n",
    "            }\n",
    "        }\n",
    "    \"\"\"\n",
    "\n",
    "    raw_query_template_params = {\n",
    "        \"account_id\": 200,\n",
    "    }\n",
    "\n",
    "    raw_query_template_filled = \"\"\"\n",
    "        {\n",
    "            actor {\n",
    "                account(id: 200) {\n",
    "                    id\n",
    "                }\n",
    "            }\n",
    "        }\n",
    "    \"\"\"\n",
    "\n",
    "    def test_null_cursor(self):\n",
    "        assert NULL_CURSOR == self.null_cursor_value  # nosec\n",
    "\n",
    "    def test_build_query(self):\n",
    "        unindented_query = dedent(self.raw_query_template_simple.strip())\n",
    "        builded_query = build_query(self.raw_query_template_simple)\n",
    "\n",
    "        assert unindented_query == builded_query  # nosec\n",
    "\n",
    "    def test_build_query_with_arguments(self):\n",
    "        unindented_query = dedent(self.raw_query_template_filled.strip())\n",
    "        builded_query = build_query(\n",
    "            self.raw_query_template_parametrized,\n",
    "            params=self.raw_query_template_params,\n",
    "        )\n",
    "\n",
    "        assert unindented_query == builded_query  # nosec"
   ]
  },
  {
   "cell_type": "code",
   "execution_count": null,
   "id": "7f35fa4e-0d96-4fcd-9b96-4f8b004fc7a5",
   "metadata": {},
   "outputs": [],
   "source": []
  }
 ],
 "metadata": {
  "kernelspec": {
   "display_name": "Python 3 (ipykernel)",
   "language": "python",
   "name": "python3"
  },
  "language_info": {
   "codemirror_mode": {
    "name": "ipython",
    "version": 3
   },
   "file_extension": ".py",
   "mimetype": "text/x-python",
   "name": "python",
   "nbconvert_exporter": "python",
   "pygments_lexer": "ipython3",
   "version": "3.11.2"
  }
 },
 "nbformat": 4,
 "nbformat_minor": 5
}
