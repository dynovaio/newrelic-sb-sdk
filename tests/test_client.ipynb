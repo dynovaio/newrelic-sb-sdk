{
 "cells": [
  {
   "cell_type": "markdown",
   "id": "0564ef12-de8d-4f0c-bbc2-c05177f8b013",
   "metadata": {
    "tags": []
   },
   "source": [
    "# Tests for `newrelic_sb_sdk.client`"
   ]
  },
  {
   "cell_type": "markdown",
   "id": "d193382b-7c03-464a-a932-ce6853df717a",
   "metadata": {},
   "source": [
    "## Imports"
   ]
  },
  {
   "cell_type": "code",
   "execution_count": null,
   "id": "d05ae292",
   "metadata": {},
   "outputs": [],
   "source": [
    "import os"
   ]
  },
  {
   "cell_type": "code",
   "execution_count": null,
   "id": "384600d0",
   "metadata": {},
   "outputs": [],
   "source": [
    "import pytest"
   ]
  },
  {
   "cell_type": "code",
   "execution_count": null,
   "id": "22e161f3-84ab-48eb-b9b4-cd4509923be6",
   "metadata": {
    "tags": []
   },
   "outputs": [],
   "source": [
    "from newrelic_sb_sdk.client import (\n",
    "    NewRelicGqlClient,\n",
    "    NewRelicRestClient,\n",
    "    get_new_relic_user_key_from_env,\n",
    ")"
   ]
  },
  {
   "cell_type": "markdown",
   "id": "0fd9c6ff-fd26-4569-bbb7-bef1bb95fb10",
   "metadata": {},
   "source": [
    "## Tests"
   ]
  },
  {
   "cell_type": "code",
   "execution_count": null,
   "id": "92bc705a-fdc2-4744-bc17-c3d971813f90",
   "metadata": {
    "tags": []
   },
   "outputs": [],
   "source": [
    "class TestClient:\n",
    "    def test_get_new_relic_user_key_from_env_exception(self):\n",
    "        os.environ.pop(\"NEW_RELIC_USER_KEY\", None)\n",
    "\n",
    "        exception_message = \"Environment variable NEW_RELIC_USER_KEY is not set.\"\n",
    "\n",
    "        with pytest.raises(ValueError, match=exception_message):\n",
    "            get_new_relic_user_key_from_env()\n",
    "\n",
    "    def test_get_new_relic_user_key_from_env_with_wrong_file(self):\n",
    "        os.environ.pop(\"NEW_RELIC_USER_KEY\", None)\n",
    "\n",
    "        exception_message = \"Environment variable NEW_RELIC_USER_KEY is not set.\"\n",
    "\n",
    "        with pytest.raises(ValueError, match=exception_message):\n",
    "            get_new_relic_user_key_from_env(\"./.bad_dotenv\")\n",
    "\n",
    "    def test_newrelic_gql_client_init(self):\n",
    "        new_relic_user_key = get_new_relic_user_key_from_env(\n",
    "            env_file_name=\"./.env\",\n",
    "        )\n",
    "        client = NewRelicGqlClient(\n",
    "            new_relic_user_key=new_relic_user_key,\n",
    "        )\n",
    "        assert isinstance(client, NewRelicGqlClient)  # nosec\n",
    "\n",
    "    def test_newrelic_gql_client_build_query(self):\n",
    "        query_template = \"FROM %(event_type)s SELECT %(select)s\"\n",
    "        query_params = {\n",
    "            \"event_type\": \"Transaction\",\n",
    "            \"select\": \"count(*)\",\n",
    "        }\n",
    "        query = NewRelicGqlClient.build_query(\n",
    "            template=query_template,\n",
    "            params=query_params,\n",
    "        )\n",
    "        expected_query = \"FROM Transaction SELECT count(*)\"\n",
    "\n",
    "        assert query == expected_query  # nosec\n",
    "\n",
    "    def test_newrelic_rest_client_init(self):\n",
    "        new_relic_user_key = get_new_relic_user_key_from_env(\n",
    "            env_file_name=\"./.env\",\n",
    "        )\n",
    "        client = NewRelicRestClient(\n",
    "            new_relic_user_key=new_relic_user_key,\n",
    "        )\n",
    "        assert isinstance(client, NewRelicRestClient)  # nosec"
   ]
  },
  {
   "cell_type": "code",
   "execution_count": null,
   "id": "31c0ebfb",
   "metadata": {},
   "outputs": [],
   "source": []
  }
 ],
 "metadata": {
  "kernelspec": {
   "display_name": ".venv",
   "language": "python",
   "name": "python3"
  },
  "language_info": {
   "codemirror_mode": {
    "name": "ipython",
    "version": 3
   },
   "file_extension": ".py",
   "mimetype": "text/x-python",
   "name": "python",
   "nbconvert_exporter": "python",
   "pygments_lexer": "ipython3",
   "version": "3.13.0"
  }
 },
 "nbformat": 4,
 "nbformat_minor": 5
}
