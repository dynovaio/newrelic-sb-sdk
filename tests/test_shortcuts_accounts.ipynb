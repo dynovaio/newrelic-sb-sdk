{
 "cells": [
  {
   "cell_type": "markdown",
   "id": "0564ef12-de8d-4f0c-bbc2-c05177f8b013",
   "metadata": {
    "tags": []
   },
   "source": [
    "# Tests for `newrelic_sb_sdk.shortcuts.accounts`"
   ]
  },
  {
   "cell_type": "markdown",
   "id": "d193382b-7c03-464a-a932-ce6853df717a",
   "metadata": {},
   "source": [
    "## Imports"
   ]
  },
  {
   "cell_type": "code",
   "execution_count": null,
   "id": "dc0d7306",
   "metadata": {},
   "outputs": [],
   "source": [
    "import os\n",
    "from datetime import datetime, timedelta"
   ]
  },
  {
   "cell_type": "code",
   "execution_count": null,
   "id": "86b296a2-cbda-4e7c-88a3-47fd79e3ffa4",
   "metadata": {},
   "outputs": [],
   "source": [
    "import dotenv\n",
    "import pytest"
   ]
  },
  {
   "cell_type": "code",
   "execution_count": null,
   "id": "22e161f3-84ab-48eb-b9b4-cd4509923be6",
   "metadata": {
    "tags": []
   },
   "outputs": [],
   "source": [
    "from newrelic_sb_sdk.client import NewRelicGqlClient, get_new_relic_user_key_from_env\n",
    "from newrelic_sb_sdk.graphql.input_objects import TimeWindowInput\n",
    "from newrelic_sb_sdk.graphql.objects import Account, AccountOutline\n",
    "from newrelic_sb_sdk.shortcuts.accounts import get_account, get_all_accounts"
   ]
  },
  {
   "cell_type": "markdown",
   "id": "0fd9c6ff-fd26-4569-bbb7-bef1bb95fb10",
   "metadata": {},
   "source": [
    "## Tests"
   ]
  },
  {
   "cell_type": "code",
   "execution_count": null,
   "id": "92bc705a-fdc2-4744-bc17-c3d971813f90",
   "metadata": {
    "tags": []
   },
   "outputs": [],
   "source": [
    "class TestShortcutsCredentials:\n",
    "    env_file_name = \"./.env\"\n",
    "\n",
    "    @pytest.fixture()\n",
    "    def load_env_file(self):\n",
    "        dotenv.load_dotenv(self.env_file_name)\n",
    "\n",
    "    def test_get_account(self):\n",
    "        new_relic_user_key = get_new_relic_user_key_from_env()\n",
    "        client = NewRelicGqlClient(\n",
    "            new_relic_user_key=new_relic_user_key,\n",
    "        )\n",
    "        data = get_account(\n",
    "            client=client, account_id=int(os.environ.get(\"NEW_RELIC_ACCOUNT_ID\"))\n",
    "        )\n",
    "        assert isinstance(data, Account)  # nosec\n",
    "\n",
    "    def test_get_all_accounts(self):\n",
    "        new_relic_user_key = get_new_relic_user_key_from_env()\n",
    "        client = NewRelicGqlClient(\n",
    "            new_relic_user_key=new_relic_user_key,\n",
    "        )\n",
    "        data = get_all_accounts(\n",
    "            client=client,\n",
    "        )\n",
    "        assert all(isinstance(entry, AccountOutline) for entry in data)  # nosec\n",
    "\n",
    "    def test_get_all_accounts_with_event_types(self):\n",
    "        new_relic_user_key = get_new_relic_user_key_from_env()\n",
    "        client = NewRelicGqlClient(\n",
    "            new_relic_user_key=new_relic_user_key,\n",
    "        )\n",
    "        data = get_all_accounts(\n",
    "            client=client,\n",
    "            include_event_types=True,\n",
    "        )\n",
    "        assert all(isinstance(entry, AccountOutline) for entry in data)  # nosec\n",
    "\n",
    "    def test_get_all_accounts_with_event_types_and_time_window(self):\n",
    "        end_time = datetime.now()\n",
    "        start_time = end_time - timedelta(days=7)\n",
    "\n",
    "        time_window = TimeWindowInput(\n",
    "            start_time=int(start_time.timestamp()),\n",
    "            end_time=int(end_time.timestamp()),\n",
    "        )\n",
    "\n",
    "        new_relic_user_key = get_new_relic_user_key_from_env()\n",
    "\n",
    "        client = NewRelicGqlClient(\n",
    "            new_relic_user_key=new_relic_user_key,\n",
    "        )\n",
    "        data = get_all_accounts(\n",
    "            client=client,\n",
    "            include_event_types=True,\n",
    "            time_window=time_window,\n",
    "        )\n",
    "        assert all(isinstance(entry, AccountOutline) for entry in data)  # nosec"
   ]
  },
  {
   "cell_type": "code",
   "execution_count": null,
   "id": "ef75a5d5",
   "metadata": {},
   "outputs": [],
   "source": []
  }
 ],
 "metadata": {
  "kernelspec": {
   "display_name": ".venv",
   "language": "python",
   "name": "python3"
  },
  "language_info": {
   "codemirror_mode": {
    "name": "ipython",
    "version": 3
   },
   "file_extension": ".py",
   "mimetype": "text/x-python",
   "name": "python",
   "nbconvert_exporter": "python",
   "pygments_lexer": "ipython3",
   "version": "3.13.0"
  }
 },
 "nbformat": 4,
 "nbformat_minor": 5
}
