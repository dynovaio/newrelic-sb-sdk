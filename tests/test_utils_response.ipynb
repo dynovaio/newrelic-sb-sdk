{
 "cells": [
  {
   "cell_type": "markdown",
   "id": "0564ef12-de8d-4f0c-bbc2-c05177f8b013",
   "metadata": {
    "tags": []
   },
   "source": [
    "# Tests for `newrelic_sb_sdk.utils.response`"
   ]
  },
  {
   "cell_type": "markdown",
   "id": "d193382b-7c03-464a-a932-ce6853df717a",
   "metadata": {},
   "source": [
    "## Imports"
   ]
  },
  {
   "cell_type": "code",
   "execution_count": null,
   "id": "5b0a2f5c-767b-4a3c-80c0-04ef8d1beab5",
   "metadata": {
    "tags": []
   },
   "outputs": [],
   "source": [
    "import json\n",
    "from typing import Any, Dict, Union"
   ]
  },
  {
   "cell_type": "code",
   "execution_count": null,
   "id": "86b296a2-cbda-4e7c-88a3-47fd79e3ffa4",
   "metadata": {},
   "outputs": [],
   "source": [
    "from deepdiff import DeepDiff"
   ]
  },
  {
   "cell_type": "code",
   "execution_count": null,
   "id": "22e161f3-84ab-48eb-b9b4-cd4509923be6",
   "metadata": {
    "tags": []
   },
   "outputs": [],
   "source": [
    "from newrelic_sb_sdk.utils.response import get_response_data, print_response"
   ]
  },
  {
   "cell_type": "markdown",
   "id": "0fd9c6ff-fd26-4569-bbb7-bef1bb95fb10",
   "metadata": {},
   "source": [
    "## Tests"
   ]
  },
  {
   "cell_type": "code",
   "execution_count": null,
   "id": "8b229264-baa8-4871-b57a-16bc7944ebb0",
   "metadata": {
    "tags": []
   },
   "outputs": [],
   "source": [
    "class MockedResponse:\n",
    "    def __init__(\n",
    "        self, *, json_data: Union[Dict[str, Any], None] = None, status_code: int = 200\n",
    "    ):\n",
    "        self.json_data = json_data\n",
    "        self.status_code = status_code\n",
    "\n",
    "    def json(self) -> Union[Dict[str, Any], None]:\n",
    "        return self.json_data"
   ]
  },
  {
   "cell_type": "code",
   "execution_count": null,
   "id": "92bc705a-fdc2-4744-bc17-c3d971813f90",
   "metadata": {
    "tags": []
   },
   "outputs": [],
   "source": [
    "class TestUtilsResponse:\n",
    "    json_data = {\n",
    "        \"data\": {\n",
    "            \"actor\": {\n",
    "                \"user\": {\n",
    "                    \"email\": \"admin@example.com\",\n",
    "                },\n",
    "                \"accounts\": [\n",
    "                    {\n",
    "                        \"id\": 1234567,\n",
    "                        \"name\": \"Account 1234567\",\n",
    "                    },\n",
    "                ],\n",
    "            },\n",
    "            \"custom_action\": {\"results\": [\"item_0\", \"item_1\"]},\n",
    "        },\n",
    "    }\n",
    "\n",
    "    def test_print_response(self, capfd):\n",
    "        response = MockedResponse(json_data=self.json_data)\n",
    "        print_response(response)\n",
    "        out, _ = capfd.readouterr()\n",
    "\n",
    "        assert out.strip() == json.dumps(self.json_data, indent=4).strip()  # nosec\n",
    "\n",
    "    def test_print_response_compact(self, capfd):\n",
    "        response = MockedResponse(json_data=self.json_data)\n",
    "        print_response(response, compact=True)\n",
    "        out, _ = capfd.readouterr()\n",
    "\n",
    "        assert out.strip() == json.dumps(self.json_data, indent=None).strip()  # nosec\n",
    "\n",
    "    def test_get_response_data_without_key_path(self):\n",
    "        response = MockedResponse(json_data=self.json_data)\n",
    "        response_data = get_response_data(response)\n",
    "\n",
    "        assert not DeepDiff(self.json_data[\"data\"][\"actor\"], response_data)  # nosec\n",
    "\n",
    "    def test_get_response_data_with_key_path(self):\n",
    "        response = MockedResponse(json_data=self.json_data)\n",
    "        response_data = get_response_data(response, key_path=\"accounts:0:name\")\n",
    "\n",
    "        assert not (  # nosec\n",
    "            DeepDiff(\n",
    "                self.json_data[\"data\"][\"actor\"][\"accounts\"][0][\"name\"], response_data\n",
    "            )\n",
    "        )\n",
    "\n",
    "    def test_get_response_data_with_custom_action(self):\n",
    "        response = MockedResponse(json_data=self.json_data)\n",
    "        response_data = get_response_data(\n",
    "            response, key_path=\"results\", action=\"custom_action\"\n",
    "        )\n",
    "\n",
    "        assert not (  # nosec\n",
    "            DeepDiff(self.json_data[\"data\"][\"custom_action\"][\"results\"], response_data)\n",
    "        )"
   ]
  },
  {
   "cell_type": "code",
   "execution_count": null,
   "id": "7f61c49d-6d73-4914-b278-245edb00d2cc",
   "metadata": {},
   "outputs": [],
   "source": []
  }
 ],
 "metadata": {
  "kernelspec": {
   "display_name": "Python 3 (ipykernel)",
   "language": "python",
   "name": "python3"
  },
  "language_info": {
   "codemirror_mode": {
    "name": "ipython",
    "version": 3
   },
   "file_extension": ".py",
   "mimetype": "text/x-python",
   "name": "python",
   "nbconvert_exporter": "python",
   "pygments_lexer": "ipython3",
   "version": "3.11.2"
  }
 },
 "nbformat": 4,
 "nbformat_minor": 5
}
